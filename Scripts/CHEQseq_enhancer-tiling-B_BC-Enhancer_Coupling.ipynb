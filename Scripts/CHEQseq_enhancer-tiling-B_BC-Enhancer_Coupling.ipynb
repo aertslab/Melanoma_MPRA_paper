{
 "cells": [
  {
   "cell_type": "markdown",
   "metadata": {},
   "source": [
    "# CHEQ-seq OLS David Tile B BC-Enhancer Coupling"
   ]
  },
  {
   "cell_type": "code",
   "execution_count": 1,
   "metadata": {},
   "outputs": [],
   "source": [
    "# Based on Liesbeth's E-BC-coupling_Novaseq_20190405 python notebook\n",
    "# Done on Genius"
   ]
  },
  {
   "cell_type": "code",
   "execution_count": 1,
   "metadata": {},
   "outputs": [],
   "source": [
    "cd /staging/leuven/stg_00002/lcb/dwmax/documents/aertslab/CH1/CHEQ-seq_OLS_DavidTileB"
   ]
  },
  {
   "cell_type": "code",
   "execution_count": 2,
   "metadata": {},
   "outputs": [
    {
     "name": "stdout",
     "output_type": "stream",
     "text": [
      "/ddn1/vol1/staging/leuven/stg_00002/lcb/dwmax/documents/aertslab/CH1/CHEQ-seq_OLS_DavidTileB\n"
     ]
    }
   ],
   "source": [
    "readlink -f ."
   ]
  },
  {
   "cell_type": "code",
   "execution_count": 4,
   "metadata": {},
   "outputs": [
    {
     "name": "stdout",
     "output_type": "stream",
     "text": [
      "CH1__4856bd__CheqSeq_OLS_Liesbeth_enhancer-barcode_S1_R1_001.fastq.gz\n",
      "CH1__4856bd__CheqSeq_OLS_Liesbeth_enhancer-barcode_S1_R2_001.fastq.gz\n",
      "CH1__5b4298__CheqSeq_OLS_Zeynep_enhancer-barcode_S4_R1_001.fastq.gz\n",
      "CH1__5b4298__CheqSeq_OLS_Zeynep_enhancer-barcode_S4_R2_001.fastq.gz\n",
      "CH1__8395e4__CheqSeq_OLS_Ibrahim_enhancer-barcode_S3_R1_001.fastq.gz\n",
      "CH1__8395e4__CheqSeq_OLS_Ibrahim_enhancer-barcode_S3_R2_001.fastq.gz\n",
      "CH1__b87bb6__CheqSeq_OLS_David_Pool_A_enhancer-barcode_S2_R1_001.fastq.gz\n",
      "CH1__b87bb6__CheqSeq_OLS_David_Pool_A_enhancer-barcode_S2_R2_001.fastq.gz\n",
      "CH1__fb10ad__CheqSeq_OLS_David_Pool_B_enhancer-barcode_S5_R1_001.fastq.gz\n",
      "CH1__fb10ad__CheqSeq_OLS_David_Pool_B_enhancer-barcode_S5_R2_001.fastq.gz\n",
      "NovaSeq6000_20190405.demultiplex.stats.tsv\n",
      "Reports\n",
      "Stats\n",
      "Undetermined_S0_R1_001.fastq.gz\n",
      "Undetermined_S0_R2_001.fastq.gz\n"
     ]
    }
   ],
   "source": [
    "ls /staging/leuven/stg_00002/lcb/ngs_runs/NovaSeq6000_20190405/Demultiplexed/"
   ]
  },
  {
   "cell_type": "code",
   "execution_count": 5,
   "metadata": {},
   "outputs": [],
   "source": [
    "DATA_DIR=\"/staging/leuven/stg_00002/lcb/ngs_runs/NovaSeq6000_20190405/Demultiplexed/\"\n",
    "SAMPLE_NAME=\"CH1__fb10ad__CheqSeq_OLS_David_Pool_B_enhancer-barcode_S5\"\n",
    "CHEQ_SEQ_LIBRARY_FASTA_FILE=\"/staging/leuven/stg_00002/lcb/dwmax/documents/resources/refs/cheq-seq_synthetic_libraries/david_tileB_final_dedup.fa\"\n",
    "CHEQ_SEQ_LIBRARY_FASTA_FILE_V2_WO_ADAPTERS=\"/staging/leuven/stg_00002/lcb/dwmax/documents/resources/refs/cheq-seq_synthetic_libraries/CSE_David_TileB/david_tileB_final_dedup_v2_woAdapters.fa\"\n",
    "FIVE_PRIME_ADAPTER_SEQ=\"TGCCCTAACTGGCCGGTACCTG\" # OLD: TGCCCTAACTGGCCGGTACC\n",
    "THREE_PRIME_ADAPTER_SEQ=\"TGAGCTCCCTAGGGTACTTATATAAGGGGGT\" # OLD: GAGCTCCCTAGGGTACTTATATAAGGGGGT"
   ]
  },
  {
   "cell_type": "code",
   "execution_count": 67,
   "metadata": {},
   "outputs": [],
   "source": [
    "# TGCCCTAACTGGCCGGTACCTG TTTTTTTTTTTTACATTTTTTTGAGTGTTGTAGAAAAAAAAATATGCGAAAAATTTACCAACTGATGCCTTAAGTCTCAAAGTATACATCCTTTTTCAAGTTGAAGGTCTTCCTTAGTTCTGCATCATCTGAGCTCCCTAGGGTACTTATATAAGGGGGT\n",
    "# TGCCCTAACTGGCCGGTACCTG CAAATGAGTCTTGAGTCAAATAGTTGCTCCAGGAGCAGTTTGAGGTGTGGGTTTGCAGGCCCACTAGTTGAGGTAATGGGCCAAAGTTACTCCATATTAGAAGAATAATACTTCATGTTTCTTCCCAAAGGTTTCCTTTTATCCTGGGAAGGTGCCTTTTAATAGTAAGGTTTGGTTGTGGTGGCTC     TGAGCTCCCTAGGGTACTTATATAAGGGGGT\n",
    "# TGCCCTAACTGGCCGGTACCTG TGGAGTGGGCTTGGAGCCTTTTGGAGGAGATGCTGCATCTGCACTGGTGTTCTGGGCCCTCCAGCTGGCCCCACTCTCACACCCATGGTGGACAGTGCCACCGAGGAGAGGTTCAGCCTATGTGCTAGAGGGACAAGGAGACAGGGTGGTACACATTCATCAGAAGCCAGGGTCCCCTCTCACTGGCCAG  TGAGCTCCCTAGGGTACTTATATAAGGGGGT\n",
    "# TGCCCTAACTGGCCGGTACCTG CAGCACCAGTTAGAGTGTTAGGGAGTTTAAAGAGAAAATGACCGGCCAGGGGCTGGCAGGGGAGAGGGGATACAGCAGGAGAGGAGGGGGAAGTCAGTCACAGAGCCAGGGTAAGGAAGGGCCCCTGGACAGGCTGTCCCAGAGCCACGATCTTAAATAAAAGGCAGTGGAGGGCCAGGCGCAGTGGCTCA TGAGCTCCCTAGGGTACTTATATAAGGGGGT\n",
    "# TGCCCTAACTGGCCGGTACCTG GGATTGGCTGCAGCTAACGGTCTGGGCTGCGGGGAGGGAGGGAAAGGCCTGTGGAAGGGAGGAAGTCTTTGAGTGTAACCAGATTTGGAAGGTGTGTAGTGCAGGGTGGGGGCGGGGAGGCACTCTAGTCTTGTGAGCAGAGACGCCAAGGGTGGGCTTGGAGTGGCAGGAGGCTGTCCTGCCCTCAGAG  TGAGCTCCCTAGGGTACTTATATAAGGGGGT\n",
    "# TGCCCTAACTGGCCGGTACCTG AGTGGCCATTCCTTTAAAACTTGTCATTGTGTGTTTAAAATCCTATCCACTGAGTTGGTTTCAACCTTACTGGAAAGGAATTTATAAATAAATATCAAAGCACATGGTAAGGTTACATTCCTAGGAATCTATTCTAAGGAAATCATCAGAGGTCTGCCCAAAGACACTGATATGGTTTGGCTCTGTG     TGAGCTCCCTAGGGTACTTATATAAGGGGGT"
   ]
  },
  {
   "cell_type": "code",
   "execution_count": 3,
   "metadata": {},
   "outputs": [],
   "source": [
    "# Create directories\n",
    "for DIR in \"00.raw\" \"01.fastqc\" \"02.clean\" \"03.fastqc\" \"10.mapping\" \"20.coupling\" \"30.counting\"\n",
    "do\n",
    "    mkdir -p $DIR\n",
    "done"
   ]
  },
  {
   "cell_type": "code",
   "execution_count": 8,
   "metadata": {},
   "outputs": [
    {
     "name": "stdout",
     "output_type": "stream",
     "text": [
      "119462326\n",
      "119462326\n"
     ]
    }
   ],
   "source": [
    "zcat ${DATA_DIR}/${SAMPLE_NAME}_R1_001.fastq.gz | grep \"^@\" | wc -l\n",
    "zcat ${DATA_DIR}/${SAMPLE_NAME}_R2_001.fastq.gz | grep \"^@\" | wc -l"
   ]
  },
  {
   "cell_type": "markdown",
   "metadata": {},
   "source": [
    "## FastQC"
   ]
  },
  {
   "cell_type": "code",
   "execution_count": 9,
   "metadata": {},
   "outputs": [
    {
     "name": "stdout",
     "output_type": "stream",
     "text": [
      "Started analysis of CH1__fb10ad__CheqSeq_OLS_David_Pool_B_enhancer-barcode_S5_R1_001.fastq.gz\n",
      "Started analysis of CH1__fb10ad__CheqSeq_OLS_David_Pool_B_enhancer-barcode_S5_R2_001.fastq.gz\n",
      "Approx 5% complete for CH1__fb10ad__CheqSeq_OLS_David_Pool_B_enhancer-barcode_S5_R2_001.fastq.gz\n",
      "Approx 10% complete for CH1__fb10ad__CheqSeq_OLS_David_Pool_B_enhancer-barcode_S5_R2_001.fastq.gz\n",
      "Approx 15% complete for CH1__fb10ad__CheqSeq_OLS_David_Pool_B_enhancer-barcode_S5_R2_001.fastq.gz\n",
      "Approx 20% complete for CH1__fb10ad__CheqSeq_OLS_David_Pool_B_enhancer-barcode_S5_R2_001.fastq.gz\n",
      "Approx 5% complete for CH1__fb10ad__CheqSeq_OLS_David_Pool_B_enhancer-barcode_S5_R1_001.fastq.gz\n",
      "Approx 25% complete for CH1__fb10ad__CheqSeq_OLS_David_Pool_B_enhancer-barcode_S5_R2_001.fastq.gz\n",
      "Approx 30% complete for CH1__fb10ad__CheqSeq_OLS_David_Pool_B_enhancer-barcode_S5_R2_001.fastq.gz\n",
      "Approx 35% complete for CH1__fb10ad__CheqSeq_OLS_David_Pool_B_enhancer-barcode_S5_R2_001.fastq.gz\n",
      "Approx 40% complete for CH1__fb10ad__CheqSeq_OLS_David_Pool_B_enhancer-barcode_S5_R2_001.fastq.gz\n",
      "Approx 10% complete for CH1__fb10ad__CheqSeq_OLS_David_Pool_B_enhancer-barcode_S5_R1_001.fastq.gz\n",
      "Approx 45% complete for CH1__fb10ad__CheqSeq_OLS_David_Pool_B_enhancer-barcode_S5_R2_001.fastq.gz\n",
      "Approx 50% complete for CH1__fb10ad__CheqSeq_OLS_David_Pool_B_enhancer-barcode_S5_R2_001.fastq.gz\n",
      "Approx 55% complete for CH1__fb10ad__CheqSeq_OLS_David_Pool_B_enhancer-barcode_S5_R2_001.fastq.gz\n",
      "Approx 60% complete for CH1__fb10ad__CheqSeq_OLS_David_Pool_B_enhancer-barcode_S5_R2_001.fastq.gz\n",
      "Approx 15% complete for CH1__fb10ad__CheqSeq_OLS_David_Pool_B_enhancer-barcode_S5_R1_001.fastq.gz\n",
      "Approx 65% complete for CH1__fb10ad__CheqSeq_OLS_David_Pool_B_enhancer-barcode_S5_R2_001.fastq.gz\n",
      "Approx 70% complete for CH1__fb10ad__CheqSeq_OLS_David_Pool_B_enhancer-barcode_S5_R2_001.fastq.gz\n",
      "Approx 75% complete for CH1__fb10ad__CheqSeq_OLS_David_Pool_B_enhancer-barcode_S5_R2_001.fastq.gz\n",
      "Approx 80% complete for CH1__fb10ad__CheqSeq_OLS_David_Pool_B_enhancer-barcode_S5_R2_001.fastq.gz\n",
      "Approx 85% complete for CH1__fb10ad__CheqSeq_OLS_David_Pool_B_enhancer-barcode_S5_R2_001.fastq.gz\n",
      "Approx 20% complete for CH1__fb10ad__CheqSeq_OLS_David_Pool_B_enhancer-barcode_S5_R1_001.fastq.gz\n",
      "Approx 90% complete for CH1__fb10ad__CheqSeq_OLS_David_Pool_B_enhancer-barcode_S5_R2_001.fastq.gz\n",
      "Approx 95% complete for CH1__fb10ad__CheqSeq_OLS_David_Pool_B_enhancer-barcode_S5_R2_001.fastq.gz\n",
      "Analysis complete for CH1__fb10ad__CheqSeq_OLS_David_Pool_B_enhancer-barcode_S5_R2_001.fastq.gz\n",
      "Approx 25% complete for CH1__fb10ad__CheqSeq_OLS_David_Pool_B_enhancer-barcode_S5_R1_001.fastq.gz\n",
      "Approx 30% complete for CH1__fb10ad__CheqSeq_OLS_David_Pool_B_enhancer-barcode_S5_R1_001.fastq.gz\n",
      "Approx 35% complete for CH1__fb10ad__CheqSeq_OLS_David_Pool_B_enhancer-barcode_S5_R1_001.fastq.gz\n",
      "Approx 40% complete for CH1__fb10ad__CheqSeq_OLS_David_Pool_B_enhancer-barcode_S5_R1_001.fastq.gz\n",
      "Approx 45% complete for CH1__fb10ad__CheqSeq_OLS_David_Pool_B_enhancer-barcode_S5_R1_001.fastq.gz\n",
      "Approx 50% complete for CH1__fb10ad__CheqSeq_OLS_David_Pool_B_enhancer-barcode_S5_R1_001.fastq.gz\n",
      "Approx 55% complete for CH1__fb10ad__CheqSeq_OLS_David_Pool_B_enhancer-barcode_S5_R1_001.fastq.gz\n",
      "Approx 60% complete for CH1__fb10ad__CheqSeq_OLS_David_Pool_B_enhancer-barcode_S5_R1_001.fastq.gz\n",
      "Approx 65% complete for CH1__fb10ad__CheqSeq_OLS_David_Pool_B_enhancer-barcode_S5_R1_001.fastq.gz\n",
      "Approx 70% complete for CH1__fb10ad__CheqSeq_OLS_David_Pool_B_enhancer-barcode_S5_R1_001.fastq.gz\n",
      "Approx 75% complete for CH1__fb10ad__CheqSeq_OLS_David_Pool_B_enhancer-barcode_S5_R1_001.fastq.gz\n",
      "Approx 80% complete for CH1__fb10ad__CheqSeq_OLS_David_Pool_B_enhancer-barcode_S5_R1_001.fastq.gz\n",
      "Approx 85% complete for CH1__fb10ad__CheqSeq_OLS_David_Pool_B_enhancer-barcode_S5_R1_001.fastq.gz\n",
      "Approx 90% complete for CH1__fb10ad__CheqSeq_OLS_David_Pool_B_enhancer-barcode_S5_R1_001.fastq.gz\n",
      "Approx 95% complete for CH1__fb10ad__CheqSeq_OLS_David_Pool_B_enhancer-barcode_S5_R1_001.fastq.gz\n",
      "Analysis complete for CH1__fb10ad__CheqSeq_OLS_David_Pool_B_enhancer-barcode_S5_R1_001.fastq.gz\n"
     ]
    }
   ],
   "source": [
    "module load FastQC/0.11.8-Java-1.8.0_162\n",
    "fastqc -t 2 ${DATA_DIR}/${SAMPLE_NAME}_R*_001.fastq.gz -o 01.fastqc"
   ]
  },
  {
   "cell_type": "markdown",
   "metadata": {},
   "source": [
    "## 1. Read 1 - Enhancer mapping"
   ]
  },
  {
   "cell_type": "markdown",
   "metadata": {},
   "source": [
    "### 1.1 Cleaning"
   ]
  },
  {
   "cell_type": "markdown",
   "metadata": {},
   "source": [
    "#### 1.1.1 Remove Nextera adapter + Trim low quality reads"
   ]
  },
  {
   "cell_type": "code",
   "execution_count": 4,
   "metadata": {},
   "outputs": [
    {
     "name": "stdout",
     "output_type": "stream",
     "text": [
      "Read1 before filtering:\n",
      "total reads: 119462326\n",
      "total bases: 29985043826\n",
      "Q20 bases: 28544968880(95.1974%)\n",
      "Q30 bases: 26946829083(89.8676%)\n",
      "\n",
      "Read1 after filtering:\n",
      "total reads: 111778363\n",
      "total bases: 25461997832\n",
      "Q20 bases: 24828293789(97.5112%)\n",
      "Q30 bases: 23701668675(93.0864%)\n",
      "\n",
      "Filtering result:\n",
      "reads passed filter: 111778363\n",
      "reads failed due to low quality: 7683237\n",
      "reads failed due to too many N: 663\n",
      "reads failed due to too short: 63\n",
      "reads with adapter trimmed: 27920876\n",
      "bases trimmed due to adapters: 1805002750\n",
      "\n",
      "Duplication rate (may be overestimated since this is SE data): 2.93758%\n",
      "\n",
      "JSON report: fastp.json\n",
      "HTML report: fastp.html\n",
      "\n",
      "/ddn1/vol1/staging/leuven/stg_00002/lcb/dwmax/software/fastp/0.20.0/fastp -w 6 -a CTGTCTCTTATA -q 20 -u 20 -i /staging/leuven/stg_00002/lcb/ngs_runs/NovaSeq6000_20190405/Demultiplexed//CH1__fb10ad__CheqSeq_OLS_David_Pool_B_enhancer-barcode_S5_R1_001.fastq.gz -o 02.clean/CH1__fb10ad__CheqSeq_OLS_David_Pool_B_enhancer-barcode_S5_R1_001_cleaned_1.1.1.fastq.gz \n",
      "fastp v0.20.0, time used: 932 seconds\n"
     ]
    }
   ],
   "source": [
    "/staging/leuven/stg_00002/lcb/dwmax/software/fastp/0.20.0/fastp \\\n",
    "   -w 6 \\\n",
    "   -a CTGTCTCTTATA \\\n",
    "   -q 20 -u 20 \\\n",
    "   -i ${DATA_DIR}/${SAMPLE_NAME}_R1_001.fastq.gz \\\n",
    "   -o 02.clean/${SAMPLE_NAME}_R1_001_cleaned_1.1.1.fastq.gz"
   ]
  },
  {
   "cell_type": "code",
   "execution_count": 5,
   "metadata": {},
   "outputs": [
    {
     "name": "stdout",
     "output_type": "stream",
     "text": [
      "111778363\n"
     ]
    }
   ],
   "source": [
    "zcat 02.clean/${SAMPLE_NAME}_R1_001_cleaned_1.1.1.fastq.gz | grep \"^@\" | wc -l"
   ]
  },
  {
   "cell_type": "code",
   "execution_count": 6,
   "metadata": {},
   "outputs": [
    {
     "name": "stdout",
     "output_type": "stream",
     "text": [
      "Started analysis of CH1__fb10ad__CheqSeq_OLS_David_Pool_B_enhancer-barcode_S5_R1_001_cleaned_1.1.1.fastq.gz\n",
      "Approx 5% complete for CH1__fb10ad__CheqSeq_OLS_David_Pool_B_enhancer-barcode_S5_R1_001_cleaned_1.1.1.fastq.gz\n",
      "Approx 10% complete for CH1__fb10ad__CheqSeq_OLS_David_Pool_B_enhancer-barcode_S5_R1_001_cleaned_1.1.1.fastq.gz\n",
      "Approx 15% complete for CH1__fb10ad__CheqSeq_OLS_David_Pool_B_enhancer-barcode_S5_R1_001_cleaned_1.1.1.fastq.gz\n",
      "Approx 20% complete for CH1__fb10ad__CheqSeq_OLS_David_Pool_B_enhancer-barcode_S5_R1_001_cleaned_1.1.1.fastq.gz\n",
      "Approx 25% complete for CH1__fb10ad__CheqSeq_OLS_David_Pool_B_enhancer-barcode_S5_R1_001_cleaned_1.1.1.fastq.gz\n",
      "Approx 30% complete for CH1__fb10ad__CheqSeq_OLS_David_Pool_B_enhancer-barcode_S5_R1_001_cleaned_1.1.1.fastq.gz\n",
      "Approx 35% complete for CH1__fb10ad__CheqSeq_OLS_David_Pool_B_enhancer-barcode_S5_R1_001_cleaned_1.1.1.fastq.gz\n",
      "Approx 40% complete for CH1__fb10ad__CheqSeq_OLS_David_Pool_B_enhancer-barcode_S5_R1_001_cleaned_1.1.1.fastq.gz\n",
      "Approx 45% complete for CH1__fb10ad__CheqSeq_OLS_David_Pool_B_enhancer-barcode_S5_R1_001_cleaned_1.1.1.fastq.gz\n",
      "Approx 50% complete for CH1__fb10ad__CheqSeq_OLS_David_Pool_B_enhancer-barcode_S5_R1_001_cleaned_1.1.1.fastq.gz\n",
      "Approx 55% complete for CH1__fb10ad__CheqSeq_OLS_David_Pool_B_enhancer-barcode_S5_R1_001_cleaned_1.1.1.fastq.gz\n",
      "Approx 60% complete for CH1__fb10ad__CheqSeq_OLS_David_Pool_B_enhancer-barcode_S5_R1_001_cleaned_1.1.1.fastq.gz\n",
      "Approx 65% complete for CH1__fb10ad__CheqSeq_OLS_David_Pool_B_enhancer-barcode_S5_R1_001_cleaned_1.1.1.fastq.gz\n",
      "Approx 70% complete for CH1__fb10ad__CheqSeq_OLS_David_Pool_B_enhancer-barcode_S5_R1_001_cleaned_1.1.1.fastq.gz\n",
      "Approx 75% complete for CH1__fb10ad__CheqSeq_OLS_David_Pool_B_enhancer-barcode_S5_R1_001_cleaned_1.1.1.fastq.gz\n",
      "Approx 80% complete for CH1__fb10ad__CheqSeq_OLS_David_Pool_B_enhancer-barcode_S5_R1_001_cleaned_1.1.1.fastq.gz\n",
      "Approx 85% complete for CH1__fb10ad__CheqSeq_OLS_David_Pool_B_enhancer-barcode_S5_R1_001_cleaned_1.1.1.fastq.gz\n",
      "Approx 90% complete for CH1__fb10ad__CheqSeq_OLS_David_Pool_B_enhancer-barcode_S5_R1_001_cleaned_1.1.1.fastq.gz\n",
      "Approx 95% complete for CH1__fb10ad__CheqSeq_OLS_David_Pool_B_enhancer-barcode_S5_R1_001_cleaned_1.1.1.fastq.gz\n",
      "Analysis complete for CH1__fb10ad__CheqSeq_OLS_David_Pool_B_enhancer-barcode_S5_R1_001_cleaned_1.1.1.fastq.gz\n"
     ]
    }
   ],
   "source": [
    "# QC\n",
    "module load FastQC/0.11.8-Java-1.8.0_162\n",
    "fastqc -o 03.fastqc/ 02.clean/${SAMPLE_NAME}_R1_001_cleaned_1.1.1.fastq.gz"
   ]
  },
  {
   "cell_type": "markdown",
   "metadata": {},
   "source": [
    "#### 1.1.2 Remove the 5' adaptor"
   ]
  },
  {
   "cell_type": "code",
   "execution_count": null,
   "metadata": {},
   "outputs": [
    {
     "name": "stdout",
     "output_type": "stream",
     "text": [
      "This is cutadapt 1.18 with Python 3.6.2\n",
      "Command line parameters: -j 6 -g TGCCCTAACTGGCCGGTACCTG --trimmed-only --output 02.clean/CH1__fb10ad__CheqSeq_OLS_David_Pool_B_enhancer-barcode_S5_R1_001_cleaned_1.1.2.fastq.gz 02.clean/CH1__fb10ad__CheqSeq_OLS_David_Pool_B_enhancer-barcode_S5_R1_001_cleaned_1.1.1.fastq.gz\n",
      "Processing reads on 6 cores in single-end mode ...\n"
     ]
    }
   ],
   "source": [
    "# cut 5' adaptor of read 1 using the 23bp enhancer (without staggers)\n",
    "# write only the reads that are trimmed, so that contained the adaptor\n",
    "# module load cutadapt/20180522-foss-2014a-Python-2.7.6 -> Not parallel\n",
    "cutadapt -j 6 -g ${FIVE_PRIME_ADAPTER_SEQ} --trimmed-only \\\n",
    "   --output 02.clean/${SAMPLE_NAME}_R1_001_cleaned_1.1.2.fastq.gz \\\n",
    "   02.clean/${SAMPLE_NAME}_R1_001_cleaned_1.1.1.fastq.gz"
   ]
  },
  {
   "cell_type": "code",
   "execution_count": 68,
   "metadata": {},
   "outputs": [
    {
     "name": "stdout",
     "output_type": "stream",
     "text": [
      "111753737\n"
     ]
    }
   ],
   "source": [
    "zcat 02.clean/${SAMPLE_NAME}_R1_001_cleaned_1.1.2.fastq.gz | grep \"^@\" | wc -l"
   ]
  },
  {
   "cell_type": "markdown",
   "metadata": {},
   "source": [
    "#### 1.1.3 Filter out empty vectors"
   ]
  },
  {
   "cell_type": "code",
   "execution_count": null,
   "metadata": {},
   "outputs": [],
   "source": [
    "# cutadapt multi-threading only supported for -o only \n",
    "# https://github.com/marcelm/cutadapt/blob/master/doc/guide.rst\n",
    "cutadapt -g CGTTCGTCCTCAGTCGCGAT...ACTCGAGCCGAGCAGGCGCG \\\n",
    "--overlap 5 \\\n",
    "--output 02.clean/${SAMPLE_NAME}_R1_001_cleaned_1.1.3_empty_vectors.fastq.gz \\\n",
    "--untrimmed-output 02.clean/${SAMPLE_NAME}_R1_001_cleaned_1.1.3.fastq.gz  \\\n",
    "02.clean/${SAMPLE_NAME}_R1_001_cleaned_1.1.2.fastq.gz"
   ]
  },
  {
   "cell_type": "code",
   "execution_count": 69,
   "metadata": {},
   "outputs": [
    {
     "name": "stdout",
     "output_type": "stream",
     "text": [
      "77461874\n",
      "34291863\n"
     ]
    }
   ],
   "source": [
    "zcat 02.clean/${SAMPLE_NAME}_R1_001_cleaned_1.1.3.fastq.gz | grep \"^@\" | wc -l\n",
    "zcat 02.clean/${SAMPLE_NAME}_R1_001_cleaned_1.1.3_empty_vectors.fastq.gz | grep \"^@\" | wc -l"
   ]
  },
  {
   "cell_type": "markdown",
   "metadata": {},
   "source": [
    "#### 1.1.4 Remove 3' adapter from filled vector"
   ]
  },
  {
   "cell_type": "code",
   "execution_count": 6,
   "metadata": {},
   "outputs": [
    {
     "name": "stdout",
     "output_type": "stream",
     "text": [
      "This is cutadapt 2.3 with Python 3.7.3\n",
      "Command line parameters: -j 6 -m 100 -a TGAGCTCCCTAGGGTACTTATATAAGGGGGT --trimmed-only --output 02.clean/CH1__fb10ad__CheqSeq_OLS_David_Pool_B_enhancer-barcode_S5_R1_001_cleaned_1.1.4.fastq.gz 02.clean/CH1__fb10ad__CheqSeq_OLS_David_Pool_B_enhancer-barcode_S5_R1_001_cleaned_1.1.3.fastq.gz\n",
      "Processing reads on 6 cores in single-end mode ...\n",
      "[          8=] 00:09:12    77,461,874 reads  @      7.1 µs/read;   8.42 M reads/minute\n",
      "Finished in 552.15 s (7 us/read; 8.42 M reads/minute).\n",
      "\n",
      "=== Summary ===\n",
      "\n",
      "Total reads processed:              77,461,874\n",
      "Reads with adapters:                75,894,982 (98.0%)\n",
      "Reads that were too short:              35,328 (0.0%)\n",
      "Reads written (passing filters):    75,867,818 (97.9%)\n",
      "\n",
      "Total basepairs processed: 17,689,376,698 bp\n",
      "Total written (filtered):  14,312,282,119 bp (80.9%)\n",
      "\n",
      "=== Adapter 1 ===\n",
      "\n",
      "Sequence: TGAGCTCCCTAGGGTACTTATATAAGGGGGT; Type: regular 3'; Length: 31; Trimmed: 75894982 times.\n",
      "\n",
      "No. of allowed errors:\n",
      "0-9 bp: 0; 10-19 bp: 1; 20-29 bp: 2; 30-31 bp: 3\n",
      "\n",
      "Bases preceding removed adapters:\n",
      "  A: 20.0%\n",
      "  C: 26.3%\n",
      "  G: 29.5%\n",
      "  T: 24.2%\n",
      "  none/other: 0.0%\n",
      "\n",
      "Overview of removed sequences\n",
      "length\tcount\texpect\tmax.err\terror counts\n",
      "3\t12382\t1210341.8\t0\t12382\n",
      "4\t628\t302585.4\t0\t628\n",
      "5\t403\t75646.4\t0\t403\n",
      "6\t200\t18911.6\t0\t200\n",
      "7\t261\t4727.9\t0\t261\n",
      "8\t204\t1182.0\t0\t204\n",
      "9\t248\t295.5\t0\t248\n",
      "10\t220\t73.9\t1\t164 56\n",
      "11\t201\t18.5\t1\t142 59\n",
      "12\t121\t4.6\t1\t106 15\n",
      "13\t155\t1.2\t1\t141 14\n",
      "14\t162\t0.3\t1\t143 19\n",
      "15\t160\t0.1\t1\t138 22\n",
      "16\t171\t0.0\t1\t148 23\n",
      "17\t321\t0.0\t1\t272 49\n",
      "18\t4826\t0.0\t1\t4015 311 500\n",
      "19\t6320\t0.0\t1\t5627 486 207\n",
      "20\t3243\t0.0\t2\t2701 307 235\n",
      "21\t1251\t0.0\t2\t959 135 157\n",
      "22\t930\t0.0\t2\t459 168 303\n",
      "23\t623\t0.0\t2\t338 109 176\n",
      "24\t2891\t0.0\t2\t546 882 1463\n",
      "25\t154632\t0.0\t2\t75923 44222 34487\n",
      "26\t4096\t0.0\t2\t219 1800 2077\n",
      "27\t571\t0.0\t2\t233 149 189\n",
      "28\t1103\t0.0\t2\t201 82 471 349\n",
      "29\t317\t0.0\t2\t242 44 27 4\n",
      "30\t411\t0.0\t3\t259 66 48 38\n",
      "31\t1052\t0.0\t3\t353 202 250 247\n",
      "32\t829\t0.0\t3\t445 181 111 92\n",
      "33\t1342\t0.0\t3\t627 287 248 180\n",
      "34\t4450\t0.0\t3\t2226 1015 703 506\n",
      "35\t1489\t0.0\t3\t24 468 538 459\n",
      "36\t2984\t0.0\t3\t189 977 961 857\n",
      "37\t818201\t0.0\t3\t650012 107124 41014 20051\n",
      "38\t20862387\t0.0\t3\t18203585 1848135 564724 245943\n",
      "39\t29725879\t0.0\t3\t25968470 2599320 795822 362267\n",
      "40\t13605163\t0.0\t3\t11643760 1359927 413447 188029\n",
      "41\t4448781\t0.0\t3\t3749393 478414 149377 71597\n",
      "42\t1522881\t0.0\t3\t1257669 180093 56590 28529\n",
      "43\t692952\t0.0\t3\t567146 82792 28560 14454\n",
      "44\t422586\t0.0\t3\t341427 53144 18689 9326\n",
      "45\t308578\t0.0\t3\t247771 40298 13812 6697\n",
      "46\t249284\t0.0\t3\t201205 32440 10570 5069\n",
      "47\t214345\t0.0\t3\t171953 28907 9244 4241\n",
      "48\t193498\t0.0\t3\t157911 24315 7665 3607\n",
      "49\t178222\t0.0\t3\t148237 20640 6360 2985\n",
      "50\t167900\t0.0\t3\t143035 17212 5211 2442\n",
      "51\t158030\t0.0\t3\t134809 16109 4870 2242\n",
      "52\t151337\t0.0\t3\t129317 15750 4371 1899\n",
      "53\t145193\t0.0\t3\t123933 14968 4441 1851\n",
      "54\t140317\t0.0\t3\t120935 13627 4053 1702\n",
      "55\t134879\t0.0\t3\t114715 14125 4255 1784\n",
      "56\t131502\t0.0\t3\t111676 13855 4172 1799\n",
      "57\t128597\t0.0\t3\t109329 13261 4191 1816\n",
      "58\t131429\t0.0\t3\t110620 14365 4475 1969\n",
      "59\t129923\t0.0\t3\t108980 14306 4719 1918\n",
      "60\t123734\t0.0\t3\t104876 13136 4062 1660\n",
      "61\t119102\t0.0\t3\t101480 12178 3852 1592\n",
      "62\t117126\t0.0\t3\t100467 11722 3473 1464\n",
      "63\t116308\t0.0\t3\t99905 11684 3437 1282\n",
      "64\t114406\t0.0\t3\t98548 11251 3260 1347\n",
      "65\t112875\t0.0\t3\t96882 11146 3413 1434\n",
      "66\t112054\t0.0\t3\t96066 11120 3414 1454\n",
      "67\t110569\t0.0\t3\t94707 11105 3263 1494\n",
      "68\t9216\t0.0\t3\t5843 1939 941 493\n",
      "69\t5686\t0.0\t3\t2787 1515 876 508\n",
      "70\t9408\t0.0\t3\t5680 2130 1033 565\n",
      "71\t4878\t0.0\t3\t2491 1257 718 412\n",
      "72\t4236\t0.0\t3\t1950 1122 734 430\n",
      "73\t1489\t0.0\t3\t489 409 337 254\n",
      "74\t1319\t0.0\t3\t335 344 277 363\n",
      "75\t2132\t0.0\t3\t837 606 442 247\n",
      "76\t1770\t0.0\t3\t587 544 407 232\n",
      "77\t1892\t0.0\t3\t599 568 450 275\n",
      "78\t1871\t0.0\t3\t651 538 410 272\n",
      "79\t2252\t0.0\t3\t918 664 418 252\n",
      "80\t1540\t0.0\t3\t443 417 466 214\n",
      "81\t1993\t0.0\t3\t808 546 399 240\n",
      "82\t1400\t0.0\t3\t448 358 391 203\n",
      "83\t956\t0.0\t3\t323 259 215 159\n",
      "84\t1031\t0.0\t3\t275 235 372 149\n",
      "85\t853\t0.0\t3\t243 250 218 142\n",
      "86\t858\t0.0\t3\t269 219 240 130\n",
      "87\t813\t0.0\t3\t237 205 236 135\n",
      "88\t927\t0.0\t3\t287 258 256 126\n",
      "89\t942\t0.0\t3\t323 230 255 134\n",
      "90\t901\t0.0\t3\t296 227 230 148\n",
      "91\t875\t0.0\t3\t251 209 257 158\n",
      "92\t849\t0.0\t3\t282 201 227 139\n",
      "93\t757\t0.0\t3\t281 201 169 106\n",
      "94\t677\t0.0\t3\t241 181 153 102\n",
      "95\t769\t0.0\t3\t215 182 286 86\n",
      "96\t686\t0.0\t3\t231 167 206 82\n",
      "97\t960\t0.0\t3\t234 172 464 90\n",
      "98\t759\t0.0\t3\t241 185 246 87\n",
      "99\t1432\t0.0\t3\t299 160 893 80\n",
      "100\t633\t0.0\t3\t207 155 210 61\n",
      "101\t752\t0.0\t3\t342 159 180 71\n",
      "102\t876\t0.0\t3\t196 135 485 60\n",
      "103\t1099\t0.0\t3\t215 143 678 63\n",
      "104\t1436\t0.0\t3\t268 103 1005 60\n",
      "105\t1280\t0.0\t3\t260 108 853 59\n",
      "106\t1301\t0.0\t3\t299 128 806 68\n",
      "107\t1081\t0.0\t3\t257 97 680 47\n",
      "108\t1079\t0.0\t3\t267 103 657 52\n",
      "109\t1140\t0.0\t3\t235 100 760 45\n",
      "110\t980\t0.0\t3\t230 107 599 44\n",
      "111\t907\t0.0\t3\t231 109 522 45\n",
      "112\t866\t0.0\t3\t216 94 503 53\n",
      "113\t811\t0.0\t3\t186 106 466 53\n",
      "114\t1795\t0.0\t3\t199 85 1461 50\n",
      "115\t732\t0.0\t3\t163 80 460 29\n",
      "116\t887\t0.0\t3\t360 72 428 27\n",
      "117\t529\t0.0\t3\t164 78 258 29\n",
      "118\t428\t0.0\t3\t149 73 170 36\n",
      "119\t1088\t0.0\t3\t127 71 853 37\n",
      "120\t703\t0.0\t3\t121 58 498 26\n",
      "121\t575\t0.0\t3\t201 63 289 22\n",
      "122\t416\t0.0\t3\t143 62 187 24\n",
      "123\t429\t0.0\t3\t112 47 249 21\n",
      "124\t474\t0.0\t3\t99 55 300 20\n",
      "125\t304\t0.0\t3\t121 78 74 31\n",
      "126\t316\t0.0\t3\t94 61 124 37\n",
      "127\t3718\t0.0\t3\t96 41 2564 1017\n",
      "128\t335\t0.0\t3\t104 68 120 43\n",
      "129\t2106\t0.0\t3\t902 638 384 182\n",
      "130\t243\t0.0\t3\t77 65 88 13\n",
      "131\t198\t0.0\t3\t75 42 66 15\n",
      "132\t147\t0.0\t3\t70 33 31 13\n",
      "133\t152\t0.0\t3\t60 47 34 11\n",
      "134\t57\t0.0\t3\t22 16 15 4\n",
      "135\t51\t0.0\t3\t27 15 7 2\n",
      "136\t53\t0.0\t3\t23 17 5 8\n",
      "137\t27\t0.0\t3\t18 5 3 1\n",
      "138\t36\t0.0\t3\t19 10 3 4\n",
      "139\t33\t0.0\t3\t18 11 2 2\n",
      "140\t31\t0.0\t3\t13 5 11 2\n",
      "141\t31\t0.0\t3\t16 8 3 4\n",
      "142\t26\t0.0\t3\t11 6 6 3\n",
      "143\t31\t0.0\t3\t11 9 8 3\n",
      "144\t23\t0.0\t3\t11 6 2 4\n",
      "145\t21\t0.0\t3\t11 4 4 2\n",
      "146\t14\t0.0\t3\t9 1 4\n",
      "147\t21\t0.0\t3\t10 4 5 2\n",
      "148\t20\t0.0\t3\t10 8 1 1\n",
      "149\t15\t0.0\t3\t6 5 4\n",
      "150\t13\t0.0\t3\t4 3 5 1\n",
      "151\t10\t0.0\t3\t7 3\n",
      "152\t11\t0.0\t3\t5 4 2\n",
      "153\t13\t0.0\t3\t9 2 1 1\n",
      "154\t8\t0.0\t3\t4 0 2 2\n",
      "155\t12\t0.0\t3\t5 3 1 3\n",
      "156\t9\t0.0\t3\t5 3 1\n",
      "157\t10\t0.0\t3\t6 2 2\n",
      "158\t7\t0.0\t3\t5 1 1\n",
      "159\t13\t0.0\t3\t2 7 3 1\n",
      "160\t7\t0.0\t3\t3 2 2\n",
      "161\t12\t0.0\t3\t4 2 6\n",
      "162\t1\t0.0\t3\t0 0 1\n",
      "163\t5\t0.0\t3\t4 1\n",
      "164\t5\t0.0\t3\t3 1 1\n",
      "165\t5\t0.0\t3\t1 0 4\n",
      "166\t8\t0.0\t3\t1 1 6\n",
      "167\t6\t0.0\t3\t2 0 4\n",
      "168\t7\t0.0\t3\t0 0 7\n",
      "169\t10\t0.0\t3\t2 0 8\n",
      "170\t9\t0.0\t3\t2 0 6 1\n",
      "171\t4\t0.0\t3\t1 0 3\n",
      "172\t9\t0.0\t3\t3 0 6\n",
      "173\t8\t0.0\t3\t2 1 5\n",
      "174\t6\t0.0\t3\t1 0 5\n",
      "175\t4\t0.0\t3\t0 0 4\n",
      "176\t13\t0.0\t3\t0 0 13\n",
      "177\t8\t0.0\t3\t1 1 6\n",
      "178\t4\t0.0\t3\t1 0 3\n",
      "179\t6\t0.0\t3\t0 0 6\n",
      "180\t3\t0.0\t3\t0 0 2 1\n",
      "181\t5\t0.0\t3\t1 0 4\n",
      "182\t9\t0.0\t3\t0 1 8\n",
      "183\t6\t0.0\t3\t0 0 6\n",
      "184\t2\t0.0\t3\t0 0 2\n",
      "185\t5\t0.0\t3\t0 0 5\n",
      "186\t6\t0.0\t3\t1 0 5\n",
      "187\t4\t0.0\t3\t0 0 4\n",
      "188\t2\t0.0\t3\t0 0 2\n",
      "189\t5\t0.0\t3\t1 0 4\n",
      "190\t5\t0.0\t3\t0 0 5\n",
      "191\t1\t0.0\t3\t0 0 0 1\n",
      "192\t2\t0.0\t3\t0 1 1\n",
      "194\t2\t0.0\t3\t0 0 2\n",
      "195\t13\t0.0\t3\t0 0 10 3\n",
      "196\t30\t0.0\t3\t0 0 25 5\n",
      "197\t40\t0.0\t3\t0 0 28 12\n",
      "198\t18\t0.0\t3\t0 0 14 4\n",
      "199\t7\t0.0\t3\t0 0 6 1\n",
      "209\t1\t0.0\t3\t0 0 1\n",
      "216\t1\t0.0\t3\t0 0 1\n",
      "217\t10\t0.0\t3\t0 0 9 1\n",
      "218\t26\t0.0\t3\t0 0 26\n",
      "219\t4\t0.0\t3\t0 0 4\n",
      "221\t1\t0.0\t3\t0 0 1\n",
      "228\t418\t0.0\t3\t0 0 408 10\n",
      "229\t440\t0.0\t3\t0 0 431 9\n",
      "230\t5\t0.0\t3\t0 0 5\n"
     ]
    }
   ],
   "source": [
    "cutadapt -j 6 \\\n",
    "   -m 100 \\\n",
    "   -a ${THREE_PRIME_ADAPTER_SEQ} \\\n",
    "   --trimmed-only \\\n",
    "   --output 02.clean/${SAMPLE_NAME}_R1_001_cleaned_1.1.4.fastq.gz \\\n",
    "   02.clean/${SAMPLE_NAME}_R1_001_cleaned_1.1.3.fastq.gz"
   ]
  },
  {
   "cell_type": "code",
   "execution_count": 6,
   "metadata": {},
   "outputs": [
    {
     "name": "stdout",
     "output_type": "stream",
     "text": [
      "75867818\n"
     ]
    }
   ],
   "source": [
    "zcat 02.clean/${SAMPLE_NAME}_R1_001_cleaned_1.1.4.fastq.gz | grep \"^@\" | wc -l"
   ]
  },
  {
   "cell_type": "code",
   "execution_count": 7,
   "metadata": {},
   "outputs": [
    {
     "name": "stdout",
     "output_type": "stream",
     "text": [
      "    237 100\n",
      "    251 101\n",
      "    263 102\n",
      "    263 103\n",
      "    296 104\n",
      "    229 105\n",
      "    247 106\n",
      "    258 107\n",
      "    275 108\n",
      "    270 109\n",
      "    327 110\n",
      "    307 111\n",
      "    284 112\n",
      "    297 113\n",
      "    292 114\n",
      "    353 115\n",
      "    362 116\n",
      "    368 117\n",
      "    347 118\n",
      "    358 119\n",
      "    364 120\n",
      "    365 121\n",
      "    372 122\n",
      "    442 123\n",
      "    418 124\n",
      "    454 125\n",
      "    509 126\n",
      "    528 127\n",
      "    560 128\n",
      "    508 129\n",
      "    668 130\n",
      "    575 131\n",
      "    610 132\n",
      "    642 133\n",
      "    646 134\n",
      "    669 135\n",
      "    737 136\n",
      "    772 137\n",
      "    884 138\n",
      "    800 139\n",
      "    843 140\n",
      "    817 141\n",
      "    763 142\n",
      "    775 143\n",
      "    826 144\n",
      "    842 145\n",
      "   1105 146\n",
      "   1587 147\n",
      "   1652 148\n",
      "   1826 149\n",
      "   2064 150\n",
      "   1803 151\n",
      "   1765 152\n",
      "   1865 153\n",
      "   1597 154\n",
      "   1380 155\n",
      "   2947 156\n",
      "   4433 157\n",
      "   7172 158\n",
      "   7524 159\n",
      "   8130 160\n",
      "  60151 161\n",
      " 109982 162\n",
      " 111866 163\n",
      " 114218 164\n",
      " 114417 165\n",
      " 117051 166\n",
      " 117595 167\n",
      " 120703 168\n",
      " 125718 169\n",
      " 134704 170\n",
      " 127378 171\n",
      " 130049 172\n",
      " 132333 173\n",
      " 138299 174\n",
      " 142434 175\n",
      " 148168 176\n",
      " 154201 177\n",
      " 162645 178\n",
      " 171982 179\n",
      " 185471 180\n",
      " 200251 181\n",
      " 229420 182\n",
      " 268392 183\n",
      " 349901 184\n",
      " 495507 185\n",
      " 899199 186\n",
      "2131832 187\n",
      "6644859 188\n",
      "20412446 189\n",
      "39872305 190\n",
      "1515501 191\n",
      " 101876 192\n",
      "  14696 193\n",
      "   7099 194\n",
      "   1623 195\n",
      "   1042 196\n",
      "    482 197\n",
      "    468 198\n",
      "    282 199\n",
      "    288 200\n",
      "    261 201\n",
      "    279 202\n",
      "    233 203\n",
      "    277 204\n",
      "    356 205\n",
      "    676 206\n",
      "   1297 207\n",
      "   2068 208\n",
      "   5017 209\n",
      "   8023 210\n",
      "   2513 211\n",
      "   6412 212\n",
      "    686 213\n",
      "    427 214\n",
      "    321 215\n",
      "    173 216\n",
      "    133 217\n",
      "    166 218\n",
      "    147 219\n",
      "    125 220\n",
      "    131 221\n",
      "    140 222\n",
      "    229 223\n",
      "    537 224\n",
      "    721 225\n",
      "    498 226\n",
      "     14 227\n",
      "      1 228\n"
     ]
    }
   ],
   "source": [
    "# Check length\n",
    "zcat 02.clean/${SAMPLE_NAME}_R1_001_cleaned_1.1.4.fastq.gz | sed -n '2~4p' | awk '{print length($0);}' | sort -k2,2 | uniq -c"
   ]
  },
  {
   "cell_type": "code",
   "execution_count": 8,
   "metadata": {},
   "outputs": [
    {
     "name": "stdout",
     "output_type": "stream",
     "text": [
      "Started analysis of CH1__fb10ad__CheqSeq_OLS_David_Pool_B_enhancer-barcode_S5_R1_001_cleaned_1.1.4.fastq.gz\n",
      "Approx 5% complete for CH1__fb10ad__CheqSeq_OLS_David_Pool_B_enhancer-barcode_S5_R1_001_cleaned_1.1.4.fastq.gz\n",
      "Approx 10% complete for CH1__fb10ad__CheqSeq_OLS_David_Pool_B_enhancer-barcode_S5_R1_001_cleaned_1.1.4.fastq.gz\n",
      "Approx 15% complete for CH1__fb10ad__CheqSeq_OLS_David_Pool_B_enhancer-barcode_S5_R1_001_cleaned_1.1.4.fastq.gz\n",
      "Approx 20% complete for CH1__fb10ad__CheqSeq_OLS_David_Pool_B_enhancer-barcode_S5_R1_001_cleaned_1.1.4.fastq.gz\n",
      "Approx 25% complete for CH1__fb10ad__CheqSeq_OLS_David_Pool_B_enhancer-barcode_S5_R1_001_cleaned_1.1.4.fastq.gz\n",
      "Approx 30% complete for CH1__fb10ad__CheqSeq_OLS_David_Pool_B_enhancer-barcode_S5_R1_001_cleaned_1.1.4.fastq.gz\n",
      "Approx 35% complete for CH1__fb10ad__CheqSeq_OLS_David_Pool_B_enhancer-barcode_S5_R1_001_cleaned_1.1.4.fastq.gz\n",
      "Approx 40% complete for CH1__fb10ad__CheqSeq_OLS_David_Pool_B_enhancer-barcode_S5_R1_001_cleaned_1.1.4.fastq.gz\n",
      "Approx 45% complete for CH1__fb10ad__CheqSeq_OLS_David_Pool_B_enhancer-barcode_S5_R1_001_cleaned_1.1.4.fastq.gz\n",
      "Approx 50% complete for CH1__fb10ad__CheqSeq_OLS_David_Pool_B_enhancer-barcode_S5_R1_001_cleaned_1.1.4.fastq.gz\n",
      "Approx 55% complete for CH1__fb10ad__CheqSeq_OLS_David_Pool_B_enhancer-barcode_S5_R1_001_cleaned_1.1.4.fastq.gz\n",
      "Approx 60% complete for CH1__fb10ad__CheqSeq_OLS_David_Pool_B_enhancer-barcode_S5_R1_001_cleaned_1.1.4.fastq.gz\n",
      "Approx 65% complete for CH1__fb10ad__CheqSeq_OLS_David_Pool_B_enhancer-barcode_S5_R1_001_cleaned_1.1.4.fastq.gz\n",
      "Approx 70% complete for CH1__fb10ad__CheqSeq_OLS_David_Pool_B_enhancer-barcode_S5_R1_001_cleaned_1.1.4.fastq.gz\n",
      "Approx 75% complete for CH1__fb10ad__CheqSeq_OLS_David_Pool_B_enhancer-barcode_S5_R1_001_cleaned_1.1.4.fastq.gz\n",
      "Approx 80% complete for CH1__fb10ad__CheqSeq_OLS_David_Pool_B_enhancer-barcode_S5_R1_001_cleaned_1.1.4.fastq.gz\n",
      "Approx 85% complete for CH1__fb10ad__CheqSeq_OLS_David_Pool_B_enhancer-barcode_S5_R1_001_cleaned_1.1.4.fastq.gz\n",
      "Approx 90% complete for CH1__fb10ad__CheqSeq_OLS_David_Pool_B_enhancer-barcode_S5_R1_001_cleaned_1.1.4.fastq.gz\n",
      "Approx 95% complete for CH1__fb10ad__CheqSeq_OLS_David_Pool_B_enhancer-barcode_S5_R1_001_cleaned_1.1.4.fastq.gz\n",
      "Analysis complete for CH1__fb10ad__CheqSeq_OLS_David_Pool_B_enhancer-barcode_S5_R1_001_cleaned_1.1.4.fastq.gz\n"
     ]
    }
   ],
   "source": [
    "# QC\n",
    "module load FastQC/0.11.8-Java-1.8.0_162\n",
    "fastqc -o 03.fastqc/ 02.clean/${SAMPLE_NAME}_R1_001_cleaned_1.1.4.fastq.gz"
   ]
  },
  {
   "cell_type": "markdown",
   "metadata": {},
   "source": [
    "### 1.2 Mapping (Minimap2 sr)"
   ]
  },
  {
   "cell_type": "code",
   "execution_count": 47,
   "metadata": {},
   "outputs": [
    {
     "name": "stdout",
     "output_type": "stream",
     "text": [
      "[M::mm_idx_gen::0.068*0.74] collected minimizers\n",
      "[M::mm_idx_gen::0.078*1.68] sorted minimizers\n",
      "[M::main::0.081*1.65] loaded/built the index for 7393 target sequence(s)\n",
      "[M::mm_mapopt_update::0.081*1.65] mid_occ = 1000\n",
      "[M::mm_idx_stat] kmer size: 21; skip: 11; is_hpc: 0; #seq: 7393\n",
      "[M::mm_idx_stat::0.084*1.63] distinct minimizers: 54802 (60.85% are singletons); average occurrences: 4.195; average spacing: 6.754\n",
      "[M::worker_pipeline::9.379*9.48] mapped 265014 sequences\n",
      "[M::worker_pipeline::14.255*9.76] mapped 264999 sequences\n",
      "[M::worker_pipeline::18.861*9.89] mapped 265020 sequences\n",
      "[M::worker_pipeline::23.536*9.98] mapped 265025 sequences\n",
      "[M::worker_pipeline::28.395*10.04] mapped 265020 sequences\n",
      "[M::worker_pipeline::33.073*10.09] mapped 265014 sequences\n",
      "[M::worker_pipeline::37.891*10.13] mapped 265000 sequences\n",
      "[M::worker_pipeline::42.568*10.16] mapped 265009 sequences\n",
      "[M::worker_pipeline::47.341*10.19] mapped 265027 sequences\n",
      "[M::worker_pipeline::52.169*10.21] mapped 265020 sequences\n",
      "[M::worker_pipeline::57.000*10.23] mapped 265021 sequences\n",
      "[M::worker_pipeline::61.715*10.25] mapped 265006 sequences\n",
      "[M::worker_pipeline::66.591*10.27] mapped 265011 sequences\n",
      "[M::worker_pipeline::71.377*10.28] mapped 265027 sequences\n",
      "[M::worker_pipeline::76.333*10.30] mapped 265029 sequences\n",
      "[M::worker_pipeline::80.990*10.30] mapped 265042 sequences\n",
      "[M::worker_pipeline::85.972*10.31] mapped 265041 sequences\n",
      "[M::worker_pipeline::90.616*10.32] mapped 265050 sequences\n",
      "[M::worker_pipeline::95.539*10.32] mapped 265037 sequences\n",
      "[M::worker_pipeline::100.480*10.33] mapped 265038 sequences\n",
      "[M::worker_pipeline::105.406*10.34] mapped 265068 sequences\n",
      "[M::worker_pipeline::110.106*10.34] mapped 265075 sequences\n",
      "[M::worker_pipeline::115.080*10.34] mapped 265059 sequences\n",
      "[M::worker_pipeline::119.788*10.35] mapped 265063 sequences\n",
      "[M::worker_pipeline::124.593*10.35] mapped 265130 sequences\n",
      "[M::worker_pipeline::129.593*10.35] mapped 265093 sequences\n",
      "[M::worker_pipeline::134.304*10.36] mapped 265099 sequences\n",
      "[M::worker_pipeline::138.926*10.36] mapped 265077 sequences\n",
      "[M::worker_pipeline::143.969*10.36] mapped 265187 sequences\n",
      "[M::worker_pipeline::148.787*10.36] mapped 265262 sequences\n",
      "[M::worker_pipeline::153.743*10.37] mapped 265363 sequences\n",
      "[M::worker_pipeline::158.543*10.37] mapped 265403 sequences\n",
      "[M::worker_pipeline::163.055*10.37] mapped 265217 sequences\n",
      "[M::worker_pipeline::167.415*10.37] mapped 265065 sequences\n",
      "[M::worker_pipeline::172.256*10.37] mapped 265037 sequences\n",
      "[M::worker_pipeline::176.905*10.38] mapped 265052 sequences\n",
      "[M::worker_pipeline::181.378*10.37] mapped 265054 sequences\n",
      "[M::worker_pipeline::186.517*10.37] mapped 265079 sequences\n",
      "[M::worker_pipeline::191.434*10.37] mapped 265049 sequences\n",
      "[M::worker_pipeline::196.440*10.37] mapped 265070 sequences\n",
      "[M::worker_pipeline::201.394*10.37] mapped 265069 sequences\n",
      "[M::worker_pipeline::206.241*10.37] mapped 265057 sequences\n",
      "[M::worker_pipeline::211.186*10.37] mapped 265031 sequences\n",
      "[M::worker_pipeline::216.212*10.37] mapped 265029 sequences\n",
      "[M::worker_pipeline::221.204*10.37] mapped 265048 sequences\n",
      "[M::worker_pipeline::226.122*10.37] mapped 265036 sequences\n",
      "[M::worker_pipeline::231.005*10.37] mapped 265021 sequences\n",
      "[M::worker_pipeline::235.916*10.37] mapped 265032 sequences\n",
      "[M::worker_pipeline::240.874*10.37] mapped 265028 sequences\n",
      "[M::worker_pipeline::245.960*10.37] mapped 265040 sequences\n",
      "[M::worker_pipeline::250.946*10.37] mapped 265026 sequences\n",
      "[M::worker_pipeline::255.894*10.37] mapped 265039 sequences\n",
      "[M::worker_pipeline::260.851*10.37] mapped 265049 sequences\n",
      "[M::worker_pipeline::265.726*10.36] mapped 265022 sequences\n",
      "[M::worker_pipeline::270.689*10.36] mapped 265019 sequences\n",
      "[M::worker_pipeline::275.698*10.36] mapped 265010 sequences\n",
      "[M::worker_pipeline::280.666*10.36] mapped 265018 sequences\n",
      "[M::worker_pipeline::285.642*10.36] mapped 265016 sequences\n",
      "[M::worker_pipeline::290.658*10.36] mapped 265031 sequences\n",
      "[M::worker_pipeline::295.561*10.36] mapped 265042 sequences\n",
      "[M::worker_pipeline::300.596*10.36] mapped 265029 sequences\n",
      "[M::worker_pipeline::305.500*10.36] mapped 265021 sequences\n",
      "[M::worker_pipeline::310.417*10.36] mapped 265024 sequences\n",
      "[M::worker_pipeline::315.361*10.36] mapped 265027 sequences\n",
      "[M::worker_pipeline::320.327*10.36] mapped 264990 sequences\n",
      "[M::worker_pipeline::325.318*10.36] mapped 265006 sequences\n",
      "[M::worker_pipeline::330.298*10.36] mapped 265020 sequences\n",
      "[M::worker_pipeline::335.226*10.36] mapped 265026 sequences\n",
      "[M::worker_pipeline::340.216*10.36] mapped 265041 sequences\n",
      "[M::worker_pipeline::345.136*10.36] mapped 265017 sequences\n",
      "[M::worker_pipeline::350.301*10.36] mapped 265023 sequences\n",
      "[M::worker_pipeline::355.397*10.36] mapped 265031 sequences\n",
      "[M::worker_pipeline::360.454*10.36] mapped 265016 sequences\n",
      "[M::worker_pipeline::365.894*10.36] mapped 265029 sequences\n",
      "[M::worker_pipeline::371.405*10.36] mapped 265010 sequences\n",
      "[M::worker_pipeline::377.182*10.36] mapped 265022 sequences\n",
      "[M::worker_pipeline::383.384*10.35] mapped 265026 sequences\n",
      "[M::worker_pipeline::390.561*10.32] mapped 265006 sequences\n",
      "[M::worker_pipeline::396.536*10.32] mapped 265023 sequences\n",
      "[M::worker_pipeline::402.399*10.31] mapped 265034 sequences\n",
      "[M::worker_pipeline::408.657*10.31] mapped 265019 sequences\n",
      "[M::worker_pipeline::415.445*10.28] mapped 265035 sequences\n",
      "[M::worker_pipeline::421.349*10.25] mapped 265025 sequences\n",
      "[M::worker_pipeline::427.447*10.24] mapped 265021 sequences\n",
      "[M::worker_pipeline::432.808*10.22] mapped 265030 sequences\n",
      "[M::worker_pipeline::438.453*10.21] mapped 265027 sequences\n",
      "[M::worker_pipeline::445.003*10.19] mapped 265025 sequences\n",
      "[M::worker_pipeline::450.965*10.17] mapped 265019 sequences\n",
      "[M::worker_pipeline::457.050*10.16] mapped 265039 sequences\n",
      "[M::worker_pipeline::463.002*10.14] mapped 265036 sequences\n",
      "[M::worker_pipeline::469.189*10.12] mapped 265079 sequences\n",
      "[M::worker_pipeline::475.045*10.10] mapped 265086 sequences\n",
      "[M::worker_pipeline::480.801*10.09] mapped 265093 sequences\n",
      "[M::worker_pipeline::486.874*10.08] mapped 265100 sequences\n",
      "[M::worker_pipeline::493.079*10.06] mapped 265094 sequences\n",
      "[M::worker_pipeline::499.329*10.04] mapped 265114 sequences\n",
      "[M::worker_pipeline::504.966*10.03] mapped 265164 sequences\n",
      "[M::worker_pipeline::510.349*10.02] mapped 265100 sequences\n",
      "[M::worker_pipeline::516.280*10.01] mapped 265126 sequences\n",
      "[M::worker_pipeline::522.327*10.01] mapped 265198 sequences\n",
      "[M::worker_pipeline::528.553*9.99] mapped 265297 sequences\n",
      "[M::worker_pipeline::534.672*9.98] mapped 265394 sequences\n",
      "[M::worker_pipeline::540.954*9.96] mapped 265215 sequences\n",
      "[M::worker_pipeline::546.889*9.95] mapped 265140 sequences\n",
      "[M::worker_pipeline::552.626*9.94] mapped 265099 sequences\n",
      "[M::worker_pipeline::558.247*9.93] mapped 265059 sequences\n",
      "[M::worker_pipeline::563.677*9.92] mapped 265049 sequences\n",
      "[M::worker_pipeline::569.742*9.92] mapped 265033 sequences\n",
      "[M::worker_pipeline::575.251*9.91] mapped 265051 sequences\n",
      "[M::worker_pipeline::581.122*9.91] mapped 265054 sequences\n",
      "[M::worker_pipeline::587.134*9.90] mapped 265020 sequences\n",
      "[M::worker_pipeline::592.954*9.89] mapped 265045 sequences\n",
      "[M::worker_pipeline::598.774*9.88] mapped 265035 sequences\n",
      "[M::worker_pipeline::604.595*9.87] mapped 265045 sequences\n",
      "[M::worker_pipeline::610.562*9.87] mapped 265018 sequences\n",
      "[M::worker_pipeline::616.516*9.85] mapped 265040 sequences\n",
      "[M::worker_pipeline::622.333*9.85] mapped 265034 sequences\n",
      "[M::worker_pipeline::627.958*9.84] mapped 265025 sequences\n",
      "[M::worker_pipeline::634.127*9.84] mapped 265016 sequences\n",
      "[M::worker_pipeline::640.189*9.83] mapped 265022 sequences\n",
      "[M::worker_pipeline::646.473*9.82] mapped 265034 sequences\n",
      "[M::worker_pipeline::652.478*9.81] mapped 265008 sequences\n",
      "[M::worker_pipeline::658.051*9.80] mapped 265037 sequences\n",
      "[M::worker_pipeline::663.090*9.81] mapped 265041 sequences\n",
      "[M::worker_pipeline::668.559*9.81] mapped 265026 sequences\n",
      "[M::worker_pipeline::674.682*9.81] mapped 265039 sequences\n",
      "[M::worker_pipeline::680.516*9.80] mapped 265047 sequences\n",
      "[M::worker_pipeline::686.250*9.79] mapped 265038 sequences\n",
      "[M::worker_pipeline::691.735*9.79] mapped 265015 sequences\n",
      "[M::worker_pipeline::697.538*9.78] mapped 265008 sequences\n",
      "[M::worker_pipeline::703.768*9.78] mapped 265026 sequences\n",
      "[M::worker_pipeline::709.663*9.77] mapped 265029 sequences\n",
      "[M::worker_pipeline::715.709*9.77] mapped 265035 sequences\n",
      "[M::worker_pipeline::721.512*9.77] mapped 265033 sequences\n",
      "[M::worker_pipeline::727.143*9.76] mapped 265027 sequences\n",
      "[M::worker_pipeline::733.242*9.76] mapped 265034 sequences\n",
      "[M::worker_pipeline::739.149*9.75] mapped 265045 sequences\n",
      "[M::worker_pipeline::745.031*9.75] mapped 265024 sequences\n",
      "[M::worker_pipeline::750.676*9.74] mapped 265035 sequences\n",
      "[M::worker_pipeline::756.774*9.74] mapped 265030 sequences\n",
      "[M::worker_pipeline::762.660*9.73] mapped 265043 sequences\n",
      "[M::worker_pipeline::768.630*9.73] mapped 265049 sequences\n",
      "[M::worker_pipeline::774.460*9.72] mapped 265024 sequences\n",
      "[M::worker_pipeline::780.267*9.72] mapped 265025 sequences\n",
      "[M::worker_pipeline::786.159*9.71] mapped 265031 sequences\n",
      "[M::worker_pipeline::792.464*9.71] mapped 265047 sequences\n",
      "[M::worker_pipeline::797.966*9.70] mapped 265034 sequences\n",
      "[M::worker_pipeline::803.875*9.70] mapped 265040 sequences\n",
      "[M::worker_pipeline::809.742*9.70] mapped 265010 sequences\n",
      "[M::worker_pipeline::815.627*9.69] mapped 265062 sequences\n",
      "[M::worker_pipeline::821.349*9.69] mapped 265018 sequences\n",
      "[M::worker_pipeline::826.480*9.69] mapped 265015 sequences\n",
      "[M::worker_pipeline::832.049*9.69] mapped 265051 sequences\n",
      "[M::worker_pipeline::837.626*9.68] mapped 265052 sequences\n",
      "[M::worker_pipeline::843.835*9.68] mapped 265038 sequences\n",
      "[M::worker_pipeline::849.705*9.68] mapped 265049 sequences\n",
      "[M::worker_pipeline::855.342*9.67] mapped 265046 sequences\n",
      "[M::worker_pipeline::861.269*9.67] mapped 265034 sequences\n",
      "[M::worker_pipeline::867.323*9.66] mapped 265046 sequences\n",
      "[M::worker_pipeline::873.174*9.66] mapped 265042 sequences\n",
      "[M::worker_pipeline::879.346*9.66] mapped 265068 sequences\n",
      "[M::worker_pipeline::885.276*9.65] mapped 265046 sequences\n",
      "[M::worker_pipeline::890.881*9.65] mapped 265030 sequences\n",
      "[M::worker_pipeline::896.701*9.65] mapped 265065 sequences\n",
      "[M::worker_pipeline::903.040*9.64] mapped 265058 sequences\n",
      "[M::worker_pipeline::908.718*9.64] mapped 265061 sequences\n",
      "[M::worker_pipeline::914.511*9.63] mapped 265061 sequences\n",
      "[M::worker_pipeline::920.317*9.63] mapped 265052 sequences\n",
      "[M::worker_pipeline::926.576*9.63] mapped 265067 sequences\n",
      "[M::worker_pipeline::932.260*9.62] mapped 265052 sequences\n",
      "[M::worker_pipeline::938.032*9.62] mapped 265065 sequences\n",
      "[M::worker_pipeline::943.742*9.62] mapped 265073 sequences\n",
      "[M::worker_pipeline::949.729*9.62] mapped 265066 sequences\n",
      "[M::worker_pipeline::955.677*9.61] mapped 265075 sequences\n",
      "[M::worker_pipeline::961.688*9.61] mapped 265065 sequences\n",
      "[M::worker_pipeline::967.596*9.60] mapped 265041 sequences\n",
      "[M::worker_pipeline::973.549*9.60] mapped 265097 sequences\n",
      "[M::worker_pipeline::979.514*9.60] mapped 265050 sequences\n",
      "[M::worker_pipeline::985.310*9.59] mapped 265059 sequences\n",
      "[M::worker_pipeline::991.095*9.59] mapped 265046 sequences\n",
      "[M::worker_pipeline::996.747*9.59] mapped 265056 sequences\n",
      "[M::worker_pipeline::1002.755*9.59] mapped 265065 sequences\n",
      "[M::worker_pipeline::1008.585*9.59] mapped 265044 sequences\n",
      "[M::worker_pipeline::1014.579*9.59] mapped 265071 sequences\n",
      "[M::worker_pipeline::1019.699*9.58] mapped 265034 sequences\n",
      "[M::worker_pipeline::1025.288*9.58] mapped 265058 sequences\n",
      "[M::worker_pipeline::1032.408*9.58] mapped 265044 sequences\n",
      "[M::worker_pipeline::1038.134*9.57] mapped 265061 sequences\n",
      "[M::worker_pipeline::1043.629*9.57] mapped 265043 sequences\n",
      "[M::worker_pipeline::1049.180*9.57] mapped 265059 sequences\n",
      "[M::worker_pipeline::1055.064*9.57] mapped 265066 sequences\n",
      "[M::worker_pipeline::1060.698*9.57] mapped 265052 sequences\n",
      "[M::worker_pipeline::1066.815*9.57] mapped 265040 sequences\n",
      "[M::worker_pipeline::1072.414*9.56] mapped 265034 sequences\n",
      "[M::worker_pipeline::1078.083*9.56] mapped 265047 sequences\n",
      "[M::worker_pipeline::1083.635*9.56] mapped 265045 sequences\n",
      "[M::worker_pipeline::1089.760*9.56] mapped 265045 sequences\n",
      "[M::worker_pipeline::1095.433*9.55] mapped 265048 sequences\n",
      "[M::worker_pipeline::1101.205*9.55] mapped 265034 sequences\n",
      "[M::worker_pipeline::1106.594*9.55] mapped 265023 sequences\n",
      "[M::worker_pipeline::1113.346*9.54] mapped 265032 sequences\n",
      "[M::worker_pipeline::1119.108*9.54] mapped 265037 sequences\n",
      "[M::worker_pipeline::1124.989*9.54] mapped 265042 sequences\n",
      "[M::worker_pipeline::1130.673*9.54] mapped 265044 sequences\n",
      "[M::worker_pipeline::1137.156*9.53] mapped 265041 sequences\n",
      "[M::worker_pipeline::1143.018*9.53] mapped 265017 sequences\n",
      "[M::worker_pipeline::1148.003*9.53] mapped 265014 sequences\n",
      "[M::worker_pipeline::1153.038*9.53] mapped 265033 sequences\n",
      "[M::worker_pipeline::1158.207*9.53] mapped 265036 sequences\n",
      "[M::worker_pipeline::1165.619*9.53] mapped 265022 sequences\n",
      "[M::worker_pipeline::1171.467*9.53] mapped 264998 sequences\n",
      "[M::worker_pipeline::1177.383*9.52] mapped 265034 sequences\n",
      "[M::worker_pipeline::1182.859*9.52] mapped 265029 sequences\n",
      "[M::worker_pipeline::1188.585*9.52] mapped 265026 sequences\n",
      "[M::worker_pipeline::1194.384*9.52] mapped 265023 sequences\n",
      "[M::worker_pipeline::1200.009*9.52] mapped 265002 sequences\n",
      "[M::worker_pipeline::1205.703*9.52] mapped 265014 sequences\n",
      "[M::worker_pipeline::1211.662*9.52] mapped 265022 sequences\n",
      "[M::worker_pipeline::1217.205*9.51] mapped 265032 sequences\n",
      "[M::worker_pipeline::1222.928*9.51] mapped 265029 sequences\n",
      "[M::worker_pipeline::1228.457*9.51] mapped 265028 sequences\n",
      "[M::worker_pipeline::1233.826*9.51] mapped 265006 sequences\n",
      "[M::worker_pipeline::1239.462*9.51] mapped 265025 sequences\n",
      "[M::worker_pipeline::1245.025*9.51] mapped 265035 sequences\n",
      "[M::worker_pipeline::1251.309*9.51] mapped 265010 sequences\n",
      "[M::worker_pipeline::1256.962*9.51] mapped 265034 sequences\n",
      "[M::worker_pipeline::1262.626*9.51] mapped 265027 sequences\n",
      "[M::worker_pipeline::1268.660*9.51] mapped 265025 sequences\n",
      "[M::worker_pipeline::1274.515*9.50] mapped 265024 sequences\n",
      "[M::worker_pipeline::1280.299*9.50] mapped 265025 sequences\n",
      "[M::worker_pipeline::1286.208*9.50] mapped 265007 sequences\n",
      "[M::worker_pipeline::1292.142*9.50] mapped 265018 sequences\n",
      "[M::worker_pipeline::1297.882*9.50] mapped 265030 sequences\n",
      "[M::worker_pipeline::1303.930*9.50] mapped 265016 sequences\n",
      "[M::worker_pipeline::1309.911*9.49] mapped 265015 sequences\n",
      "[M::worker_pipeline::1315.304*9.49] mapped 265025 sequences\n",
      "[M::worker_pipeline::1321.068*9.49] mapped 265031 sequences\n",
      "[M::worker_pipeline::1327.127*9.49] mapped 265032 sequences\n",
      "[M::worker_pipeline::1332.716*9.49] mapped 265027 sequences\n",
      "[M::worker_pipeline::1338.650*9.49] mapped 265020 sequences\n",
      "[M::worker_pipeline::1344.437*9.49] mapped 265034 sequences\n",
      "[M::worker_pipeline::1350.449*9.49] mapped 265018 sequences\n",
      "[M::worker_pipeline::1355.932*9.48] mapped 265041 sequences\n",
      "[M::worker_pipeline::1361.646*9.48] mapped 265032 sequences\n",
      "[M::worker_pipeline::1367.115*9.48] mapped 264999 sequences\n",
      "[M::worker_pipeline::1372.915*9.48] mapped 265025 sequences\n",
      "[M::worker_pipeline::1378.711*9.48] mapped 265027 sequences\n",
      "[M::worker_pipeline::1384.573*9.48] mapped 265058 sequences\n",
      "[M::worker_pipeline::1390.083*9.48] mapped 265031 sequences\n",
      "[M::worker_pipeline::1395.901*9.48] mapped 265029 sequences\n",
      "[M::worker_pipeline::1401.746*9.48] mapped 265020 sequences\n",
      "[M::worker_pipeline::1407.564*9.48] mapped 265026 sequences\n",
      "[M::worker_pipeline::1413.364*9.48] mapped 265019 sequences\n",
      "[M::worker_pipeline::1419.161*9.47] mapped 265027 sequences\n",
      "[M::worker_pipeline::1425.236*9.47] mapped 265042 sequences\n",
      "[M::worker_pipeline::1431.085*9.47] mapped 265015 sequences\n",
      "[M::worker_pipeline::1436.917*9.47] mapped 265029 sequences\n",
      "[M::worker_pipeline::1442.352*9.47] mapped 265010 sequences\n",
      "[M::worker_pipeline::1448.507*9.47] mapped 265014 sequences\n",
      "[M::worker_pipeline::1454.116*9.47] mapped 265039 sequences\n",
      "[M::worker_pipeline::1460.482*9.47] mapped 265017 sequences\n",
      "[M::worker_pipeline::1466.075*9.46] mapped 265035 sequences\n",
      "[M::worker_pipeline::1471.818*9.46] mapped 265026 sequences\n",
      "[M::worker_pipeline::1477.059*9.46] mapped 265018 sequences\n",
      "[M::worker_pipeline::1481.991*9.46] mapped 265038 sequences\n",
      "[M::worker_pipeline::1487.509*9.47] mapped 265025 sequences\n",
      "[M::worker_pipeline::1493.945*9.47] mapped 265021 sequences\n",
      "[M::worker_pipeline::1499.356*9.47] mapped 265016 sequences\n",
      "[M::worker_pipeline::1504.836*9.47] mapped 265009 sequences\n",
      "[M::worker_pipeline::1510.784*9.47] mapped 265016 sequences\n",
      "[M::worker_pipeline::1516.950*9.47] mapped 265025 sequences\n",
      "[M::worker_pipeline::1522.497*9.46] mapped 265048 sequences\n",
      "[M::worker_pipeline::1528.658*9.46] mapped 265033 sequences\n",
      "[M::worker_pipeline::1534.077*9.46] mapped 265022 sequences\n",
      "[M::worker_pipeline::1540.215*9.46] mapped 265032 sequences\n",
      "[M::worker_pipeline::1545.948*9.46] mapped 265023 sequences\n",
      "[M::worker_pipeline::1551.519*9.46] mapped 265036 sequences\n",
      "[M::worker_pipeline::1557.177*9.46] mapped 265017 sequences\n",
      "[M::worker_pipeline::1562.932*9.46] mapped 265030 sequences\n",
      "[M::worker_pipeline::1568.737*9.46] mapped 265008 sequences\n",
      "[M::worker_pipeline::1574.505*9.46] mapped 265031 sequences\n",
      "[M::worker_pipeline::1580.082*9.46] mapped 265032 sequences\n",
      "[M::worker_pipeline::1585.823*9.46] mapped 265022 sequences\n",
      "[M::worker_pipeline::1591.972*9.46] mapped 265019 sequences\n",
      "[M::worker_pipeline::1596.865*9.44] mapped 265012 sequences\n",
      "[M::worker_pipeline::1601.555*9.41] mapped 265027 sequences\n",
      "[M::worker_pipeline::1602.801*9.40] mapped 64968 sequences\n",
      "[M::main] Version: 2.12-r827\n",
      "[M::main] CMD: minimap2 -ax sr -t 10 /ddn1/vol1/staging/leuven/stg_00002/lcb/dwmax/documents/resources/refs/cheq-seq_synthetic_libraries/CSE_David_TileB/david_tileB_final_dedup_v2_woAdapters.fa 02.clean/CH1__fb10ad__CheqSeq_OLS_David_Pool_B_enhancer-barcode_S5_R1_001_cleaned_1.1.4.fastq.gz\n",
      "[M::main] Real time: 1602.821 sec; CPU: 15069.983 sec\n"
     ]
    }
   ],
   "source": [
    "# sr = Short single-end reads without splicing\n",
    "module load minimap2/2.12-foss-2018a\n",
    "minimap2 \\\n",
    "   -ax sr ${CHEQ_SEQ_LIBRARY_FASTA_FILE_V2_WO_ADAPTERS} \\\n",
    "   -t 10 \\\n",
    "   02.clean/${SAMPLE_NAME}_R1_001_cleaned_1.1.4.fastq.gz \\\n",
    "   | samtools view -bS -o 10.mapping/${SAMPLE_NAME}_R1_001_cleaned_Minimap2-sr.bam -"
   ]
  },
  {
   "cell_type": "code",
   "execution_count": 10,
   "metadata": {},
   "outputs": [
    {
     "name": "stdout",
     "output_type": "stream",
     "text": [
      "75915313 + 0 in total (QC-passed reads + QC-failed reads)\n",
      "0 + 0 secondary\n",
      "47495 + 0 supplementary\n",
      "0 + 0 duplicates\n",
      "75912851 + 0 mapped (100.00% : N/A)\n",
      "0 + 0 paired in sequencing\n",
      "0 + 0 read1\n",
      "0 + 0 read2\n",
      "0 + 0 properly paired (N/A : N/A)\n",
      "0 + 0 with itself and mate mapped\n",
      "0 + 0 singletons (N/A : N/A)\n",
      "0 + 0 with mate mapped to a different chr\n",
      "0 + 0 with mate mapped to a different chr (mapQ>=5)\n"
     ]
    }
   ],
   "source": [
    "samtools flagstat 10.mapping/${SAMPLE_NAME}_R1_001_cleaned_Minimap2-sr.bam \\\n",
    "   > 10.mapping/${SAMPLE_NAME}_R1_001_cleaned_Minimap2-sr.bam.flagstat\n",
    "cat 10.mapping/${SAMPLE_NAME}_R1_001_cleaned_Minimap2-sr.bam.flagstat"
   ]
  },
  {
   "cell_type": "code",
   "execution_count": 48,
   "metadata": {},
   "outputs": [],
   "source": [
    "samtools view 10.mapping/${SAMPLE_NAME}_R1_001_cleaned_Minimap2-sr.bam \\\n",
    "   | cut -f5 \\\n",
    "   | sort -k1 -T $DWMAX/tmp \\\n",
    "   | uniq -c \\\n",
    "   | sort -nk2 \\\n",
    "   > 10.mapping/${SAMPLE_NAME}_R1_001_cleaned_Minimap2-sr.bam.mapQstats"
   ]
  },
  {
   "cell_type": "code",
   "execution_count": 49,
   "metadata": {},
   "outputs": [
    {
     "name": "stdout",
     "output_type": "stream",
     "text": [
      " 845222 0\n",
      "1097769 1\n",
      "  74239 2\n",
      " 183890 3\n",
      " 159549 4\n",
      " 157910 5\n",
      " 253835 6\n",
      " 113144 7\n",
      " 224347 8\n",
      " 101394 9\n",
      " 203031 10\n",
      " 129336 11\n",
      " 171907 12\n",
      " 153512 13\n",
      " 169296 14\n",
      " 241857 15\n",
      " 340724 16\n",
      " 832837 17\n",
      " 385204 18\n",
      " 731983 19\n",
      " 285400 20\n",
      " 381438 21\n",
      " 280476 22\n",
      " 454929 23\n",
      " 310179 24\n",
      " 426476 25\n",
      " 317741 26\n",
      " 436593 27\n",
      " 374128 28\n",
      " 610303 29\n",
      " 540619 30\n",
      " 504975 31\n",
      " 410159 32\n",
      " 513821 33\n",
      " 430424 34\n",
      " 564717 35\n",
      " 506303 36\n",
      " 741749 37\n",
      " 762138 38\n",
      " 771107 39\n",
      " 755106 40\n",
      " 918071 41\n",
      " 965430 42\n",
      " 983650 43\n",
      " 900863 44\n",
      " 984889 45\n",
      " 988908 46\n",
      " 858226 47\n",
      " 858121 48\n",
      " 976176 49\n",
      " 823438 50\n",
      " 839667 51\n",
      " 873687 52\n",
      " 799878 53\n",
      " 709920 54\n",
      " 628264 55\n",
      " 683185 56\n",
      " 509358 57\n",
      " 698349 58\n",
      " 677728 59\n",
      "43287738 60\n"
     ]
    }
   ],
   "source": [
    "cat 10.mapping/${SAMPLE_NAME}_R1_001_cleaned_Minimap2-sr.bam.mapQstats"
   ]
  },
  {
   "cell_type": "code",
   "execution_count": 9,
   "metadata": {},
   "outputs": [],
   "source": [
    "# Calculate the frequency of sequence read length + alignment score\n",
    "samtools view 10.mapping/${SAMPLE_NAME}_R1_001_cleaned_Minimap2-sr.bam \\\n",
    "   | cut -f10,14 \\\n",
    "   | awk -F'\\t' '{print length($1), substr($2,6);}' OFS='\\t' \\\n",
    "   | awk '{ !seen[$1 FS $2]++ } END { for (key in seen) { print key, seen[key] } }' OFS='\\t' \\\n",
    "   | sort -nk3 \\\n",
    "   > 10.mapping/${SAMPLE_NAME}_R1_001_cleaned_Minimap2-sr.bam.ASstats"
   ]
  },
  {
   "cell_type": "markdown",
   "metadata": {},
   "source": [
    "#### 1.2.3 Filter"
   ]
  },
  {
   "cell_type": "markdown",
   "metadata": {},
   "source": [
    "##### 1.2.3.1 Unique"
   ]
  },
  {
   "cell_type": "code",
   "execution_count": 50,
   "metadata": {},
   "outputs": [],
   "source": [
    "# -q30 \\\n",
    "samtools view -h \\\n",
    "   -F 0x904 \\\n",
    "   -@ 4 \\\n",
    "   -bS -o 10.mapping/${SAMPLE_NAME}_R1_001_cleaned_Minimap2-sr_unique.bam \\\n",
    "   10.mapping/${SAMPLE_NAME}_R1_001_cleaned_Minimap2-sr.bam"
   ]
  },
  {
   "cell_type": "code",
   "execution_count": 51,
   "metadata": {},
   "outputs": [
    {
     "name": "stdout",
     "output_type": "stream",
     "text": [
      "75865356 + 0 in total (QC-passed reads + QC-failed reads)\n",
      "0 + 0 secondary\n",
      "0 + 0 supplementary\n",
      "0 + 0 duplicates\n",
      "75865356 + 0 mapped (100.00% : N/A)\n",
      "0 + 0 paired in sequencing\n",
      "0 + 0 read1\n",
      "0 + 0 read2\n",
      "0 + 0 properly paired (N/A : N/A)\n",
      "0 + 0 with itself and mate mapped\n",
      "0 + 0 singletons (N/A : N/A)\n",
      "0 + 0 with mate mapped to a different chr\n",
      "0 + 0 with mate mapped to a different chr (mapQ>=5)\n"
     ]
    }
   ],
   "source": [
    "samtools flagstat 10.mapping/${SAMPLE_NAME}_R1_001_cleaned_Minimap2-sr_unique.bam \\\n",
    "   > 10.mapping/${SAMPLE_NAME}_R1_001_cleaned_Minimap2-sr_unique.bam.flagstat\n",
    "cat 10.mapping/${SAMPLE_NAME}_R1_001_cleaned_Minimap2-sr_unique.bam.flagstat"
   ]
  },
  {
   "cell_type": "markdown",
   "metadata": {},
   "source": [
    "##### 1.2.3.2 Unique + perfect match (based AS tag)"
   ]
  },
  {
   "cell_type": "code",
   "execution_count": 52,
   "metadata": {},
   "outputs": [],
   "source": [
    "samtools view -h 10.mapping/${SAMPLE_NAME}_R1_001_cleaned_Minimap2-sr_unique.bam \\\n",
    "   | awk '$14 ~ /^AS:i:380$/ || $1 ~ /^@/' \\\n",
    "   | samtools view -bS -o 10.mapping/${SAMPLE_NAME}_R1_001_cleaned_Minimap2-sr_unique_perfectMatchByAS.bam -"
   ]
  },
  {
   "cell_type": "code",
   "execution_count": 53,
   "metadata": {},
   "outputs": [
    {
     "name": "stdout",
     "output_type": "stream",
     "text": [
      "30471112\n"
     ]
    }
   ],
   "source": [
    "samtools view 10.mapping/${SAMPLE_NAME}_R1_001_cleaned_Minimap2-sr_unique_perfectMatchByAS.bam | wc -l"
   ]
  },
  {
   "cell_type": "code",
   "execution_count": 11,
   "metadata": {},
   "outputs": [
    {
     "name": "stdout",
     "output_type": "stream",
     "text": [
      "7344\n"
     ]
    }
   ],
   "source": [
    "samtools view 10.mapping/${SAMPLE_NAME}_R1_001_cleaned_Minimap2-sr_unique_perfectMatchByAS.bam \\\n",
    "   | cut -f3 \\\n",
    "   | sort -k1,1 \\\n",
    "   | uniq \\\n",
    "   | wc -l"
   ]
  },
  {
   "cell_type": "markdown",
   "metadata": {},
   "source": [
    "## 2. Read 2 - Barcode"
   ]
  },
  {
   "cell_type": "markdown",
   "metadata": {},
   "source": [
    "### 2.1. Cleaning"
   ]
  },
  {
   "cell_type": "markdown",
   "metadata": {},
   "source": [
    "#### 2.1.1 Filter for sequencing quality"
   ]
  },
  {
   "cell_type": "code",
   "execution_count": 11,
   "metadata": {},
   "outputs": [
    {
     "name": "stdout",
     "output_type": "stream",
     "text": [
      "Read1 before filtering:\n",
      "total reads: 119462326\n",
      "total bases: 5973116300\n",
      "Q20 bases: 5713273218(95.6498%)\n",
      "Q30 bases: 5342330187(89.4396%)\n",
      "\n",
      "Read1 after filtering:\n",
      "total reads: 113953554\n",
      "total bases: 5697208025\n",
      "Q20 bases: 5522160871(96.9275%)\n",
      "Q30 bases: 5190685129(91.1093%)\n",
      "\n",
      "Filtering result:\n",
      "reads passed filter: 113953554\n",
      "reads failed due to low quality: 5489578\n",
      "reads failed due to too many N: 280\n",
      "reads failed due to too short: 18914\n",
      "\n",
      "Duplication rate (may be overestimated since this is SE data): 5.28175%\n",
      "\n",
      "JSON report: fastp.json\n",
      "HTML report: fastp.html\n",
      "\n",
      "/ddn1/vol1/staging/leuven/stg_00002/lcb/dwmax/software/fastp/0.20.0/fastp -w 6 --disable_adapter_trimming -q 20 -u 20 -i /staging/leuven/stg_00002/lcb/ngs_runs/NovaSeq6000_20190405/Demultiplexed//CH1__fb10ad__CheqSeq_OLS_David_Pool_B_enhancer-barcode_S5_R2_001.fastq.gz -o 02.clean/CH1__fb10ad__CheqSeq_OLS_David_Pool_B_enhancer-barcode_S5_R2_001_cleaned_2.1.1.fastq.gz \n",
      "fastp v0.20.0, time used: 266 seconds\n"
     ]
    }
   ],
   "source": [
    "/staging/leuven/stg_00002/lcb/dwmax/software/fastp/0.20.0/fastp \\\n",
    "   -w 6 \\\n",
    "   --disable_adapter_trimming -q 20 -u 20 \\\n",
    "   -i ${DATA_DIR}/${SAMPLE_NAME}_R2_001.fastq.gz \\\n",
    "   -o 02.clean/${SAMPLE_NAME}_R2_001_cleaned_2.1.1.fastq.gz"
   ]
  },
  {
   "cell_type": "code",
   "execution_count": 12,
   "metadata": {},
   "outputs": [
    {
     "name": "stdout",
     "output_type": "stream",
     "text": [
      "113953554\n"
     ]
    }
   ],
   "source": [
    "zcat 02.clean/${SAMPLE_NAME}_R2_001_cleaned_2.1.1.fastq.gz | grep \"^@\" | wc -l "
   ]
  },
  {
   "cell_type": "markdown",
   "metadata": {},
   "source": [
    "#### 2.1.2 Cut 5' adapter"
   ]
  },
  {
   "cell_type": "code",
   "execution_count": 13,
   "metadata": {},
   "outputs": [
    {
     "name": "stdout",
     "output_type": "stream",
     "text": [
      "This is cutadapt 1.18 with Python 3.6.2\n",
      "Command line parameters: -j 6 -g CGAATTAATTCGGGCCCCGGTCC --trimmed-only --output 02.clean/CH1__fb10ad__CheqSeq_OLS_David_Pool_B_enhancer-barcode_S5_R2_001_cleaned_2.1.2.fastq.gz 02.clean/CH1__fb10ad__CheqSeq_OLS_David_Pool_B_enhancer-barcode_S5_R2_001_cleaned_2.1.1.fastq.gz\n",
      "Processing reads on 6 cores in single-end mode ...\n",
      "Finished in 162.14 s (1 us/read; 42.17 M reads/minute).\n",
      "\n",
      "=== Summary ===\n",
      "\n",
      "Total reads processed:             113,953,554\n",
      "Reads with adapters:               113,894,702 (99.9%)\n",
      "Reads written (passing filters):   113,894,702 (99.9%)\n",
      "\n",
      "Total basepairs processed: 5,697,208,025 bp\n",
      "Total written (filtered):  3,075,168,629 bp (54.0%)\n",
      "\n",
      "=== Adapter 1 ===\n",
      "\n",
      "Sequence: CGAATTAATTCGGGCCCCGGTCC; Type: regular 5'; Length: 23; Trimmed: 113894702 times.\n",
      "\n",
      "No. of allowed errors:\n",
      "0-9 bp: 0; 10-19 bp: 1; 20-23 bp: 2\n",
      "\n",
      "Overview of removed sequences\n",
      "length\tcount\texpect\tmax.err\terror counts\n",
      "3\t1\t1780524.3\t0\t1\n",
      "10\t1\t108.7\t1\t1\n",
      "11\t3\t27.2\t1\t3\n",
      "12\t5\t6.8\t1\t2 3\n",
      "13\t15\t1.7\t1\t15\n",
      "14\t15\t0.4\t1\t7 8\n",
      "15\t11\t0.1\t1\t6 5\n",
      "16\t29\t0.0\t1\t13 16\n",
      "17\t71\t0.0\t1\t26 45\n",
      "18\t111\t0.0\t1\t32 79\n",
      "19\t168\t0.0\t1\t49 118 1\n",
      "20\t589\t0.0\t2\t85 205 299\n",
      "21\t17200\t0.0\t2\t435 547 16218\n",
      "22\t492575\t0.0\t2\t2797 470760 19018\n",
      "23\t113159132\t0.0\t2\t112262884 851869 44379\n",
      "24\t189820\t0.0\t2\t27690 144881 17249\n",
      "25\t34278\t0.0\t2\t73 71 34134\n",
      "26\t62\t0.0\t2\t35 16 11\n",
      "27\t93\t0.0\t2\t61 20 12\n",
      "28\t24\t0.0\t2\t18 5 1\n",
      "29\t45\t0.0\t2\t38 6 1\n",
      "30\t37\t0.0\t2\t27 8 2\n",
      "31\t33\t0.0\t2\t25 4 4\n",
      "32\t27\t0.0\t2\t20 5 2\n",
      "33\t33\t0.0\t2\t32 0 1\n",
      "34\t27\t0.0\t2\t24 1 2\n",
      "35\t23\t0.0\t2\t19 4\n",
      "36\t8\t0.0\t2\t5 2 1\n",
      "37\t22\t0.0\t2\t18 2 2\n",
      "38\t17\t0.0\t2\t12 0 5\n",
      "39\t13\t0.0\t2\t11 2\n",
      "40\t17\t0.0\t2\t17\n",
      "41\t10\t0.0\t2\t6 4\n",
      "42\t15\t0.0\t2\t12 2 1\n",
      "43\t16\t0.0\t2\t13 3\n",
      "44\t22\t0.0\t2\t22\n",
      "45\t15\t0.0\t2\t14 1\n",
      "46\t15\t0.0\t2\t13 1 1\n",
      "47\t11\t0.0\t2\t9 2\n",
      "48\t25\t0.0\t2\t24 1\n",
      "49\t23\t0.0\t2\t18 5\n",
      "50\t45\t0.0\t2\t11 26 8\n",
      "\n"
     ]
    }
   ],
   "source": [
    "cutadapt \\\n",
    "   -j 6 \\\n",
    "   -g CGAATTAATTCGGGCCCCGGTCC --trimmed-only \\\n",
    "   --output 02.clean/${SAMPLE_NAME}_R2_001_cleaned_2.1.2.fastq.gz \\\n",
    "   02.clean/${SAMPLE_NAME}_R2_001_cleaned_2.1.1.fastq.gz"
   ]
  },
  {
   "cell_type": "code",
   "execution_count": 14,
   "metadata": {},
   "outputs": [
    {
     "name": "stdout",
     "output_type": "stream",
     "text": [
      "113894702\n"
     ]
    }
   ],
   "source": [
    "zcat 02.clean/${SAMPLE_NAME}_R2_001_cleaned_2.1.2.fastq.gz | grep \"^@\" | wc -l "
   ]
  },
  {
   "cell_type": "markdown",
   "metadata": {},
   "source": [
    "#### 2.1.3 Cut 3' adapter + force BC to have 17 bp long"
   ]
  },
  {
   "cell_type": "code",
   "execution_count": 15,
   "metadata": {},
   "outputs": [
    {
     "name": "stdout",
     "output_type": "stream",
     "text": [
      "This is cutadapt 1.18 with Python 3.6.2\n",
      "Command line parameters: -j 6 -a GATCGGCGCG --trimmed-only -m 17 -M 17 --output 02.clean/CH1__fb10ad__CheqSeq_OLS_David_Pool_B_enhancer-barcode_S5_R2_001_cleaned_2.1.3.fastq.gz 02.clean/CH1__fb10ad__CheqSeq_OLS_David_Pool_B_enhancer-barcode_S5_R2_001_cleaned_2.1.2.fastq.gz\n",
      "Processing reads on 6 cores in single-end mode ...\n",
      "Finished in 184.46 s (2 us/read; 37.05 M reads/minute).\n",
      "\n",
      "=== Summary ===\n",
      "\n",
      "Total reads processed:             113,894,702\n",
      "Reads with adapters:               113,209,243 (99.4%)\n",
      "Reads that were too short:             913,072 (0.8%)\n",
      "Reads that were too long:            1,265,185 (1.1%)\n",
      "Reads written (passing filters):   111,711,670 (98.1%)\n",
      "\n",
      "Total basepairs processed: 3,075,168,629 bp\n",
      "Total written (filtered):  1,899,098,390 bp (61.8%)\n",
      "\n",
      "=== Adapter 1 ===\n",
      "\n",
      "Sequence: GATCGGCGCG; Type: regular 3'; Length: 10; Trimmed: 113209243 times.\n",
      "\n",
      "No. of allowed errors:\n",
      "0-9 bp: 0; 10 bp: 1\n",
      "\n",
      "Bases preceding removed adapters:\n",
      "  A: 34.6%\n",
      "  C: 25.3%\n",
      "  G: 17.2%\n",
      "  T: 22.9%\n",
      "  none/other: 0.0%\n",
      "\n",
      "Overview of removed sequences\n",
      "length\tcount\texpect\tmax.err\terror counts\n",
      "3\t14270\t1779604.7\t0\t14270\n",
      "4\t10316\t444901.2\t0\t10316\n",
      "5\t12754\t111225.3\t0\t12754\n",
      "6\t9829\t27806.3\t0\t9829\n",
      "7\t19086\t6951.6\t0\t19086\n",
      "8\t32802\t1737.9\t0\t32802\n",
      "9\t553190\t434.5\t0\t547372 5818\n",
      "10\t111280794\t108.6\t1\t110019585 1261209\n",
      "11\t1120439\t108.6\t1\t899619 220820\n",
      "12\t58260\t108.6\t1\t50110 8150\n",
      "13\t21313\t108.6\t1\t18342 2971\n",
      "14\t15177\t108.6\t1\t12384 2793\n",
      "15\t11595\t108.6\t1\t8532 3063\n",
      "16\t8050\t108.6\t1\t6283 1767\n",
      "17\t7189\t108.6\t1\t5516 1673\n",
      "18\t5477\t108.6\t1\t3990 1487\n",
      "19\t4738\t108.6\t1\t3321 1417\n",
      "20\t4070\t108.6\t1\t2696 1374\n",
      "21\t3871\t108.6\t1\t2233 1638\n",
      "22\t3635\t108.6\t1\t1804 1831\n",
      "23\t3248\t108.6\t1\t1566 1682\n",
      "24\t2804\t108.6\t1\t1273 1531\n",
      "25\t2363\t108.6\t1\t974 1389\n",
      "26\t1810\t108.6\t1\t719 1091\n",
      "27\t1726\t108.6\t1\t499 1227\n",
      "28\t304\t108.6\t1\t291 13\n",
      "29\t132\t108.6\t1\t119 13\n",
      "32\t1\t108.6\t1\t1\n",
      "\n"
     ]
    }
   ],
   "source": [
    "cutadapt -j 6 \\\n",
    "   -a GATCGGCGCG \\\n",
    "   --trimmed-only \\\n",
    "   -m 17 -M 17 \\\n",
    "   --output 02.clean/${SAMPLE_NAME}_R2_001_cleaned_2.1.3.fastq.gz \\\n",
    "   02.clean/${SAMPLE_NAME}_R2_001_cleaned_2.1.2.fastq.gz"
   ]
  },
  {
   "cell_type": "code",
   "execution_count": 16,
   "metadata": {},
   "outputs": [
    {
     "name": "stdout",
     "output_type": "stream",
     "text": [
      "111711670\n"
     ]
    }
   ],
   "source": [
    "zcat 02.clean/${SAMPLE_NAME}_R2_001_cleaned_2.1.3.fastq.gz | grep \"^@\" | wc -l "
   ]
  },
  {
   "cell_type": "markdown",
   "metadata": {},
   "source": [
    "#### 2.1.4 Filter more for sequencing quality"
   ]
  },
  {
   "cell_type": "code",
   "execution_count": 17,
   "metadata": {},
   "outputs": [
    {
     "name": "stdout",
     "output_type": "stream",
     "text": [
      "Read1 before filtering:\n",
      "total reads: 111711670\n",
      "total bases: 1899098390\n",
      "Q20 bases: 1855772313(97.7186%)\n",
      "Q30 bases: 1785814522(94.0349%)\n",
      "\n",
      "Read1 after filtering:\n",
      "total reads: 89775019\n",
      "total bases: 1526175323\n",
      "Q20 bases: 1522591640(99.7652%)\n",
      "Q30 bases: 1504359389(98.5705%)\n",
      "\n",
      "Filtering result:\n",
      "reads passed filter: 89775019\n",
      "reads failed due to low quality: 21936481\n",
      "reads failed due to too many N: 0\n",
      "reads failed due to too short: 170\n",
      "\n",
      "Duplication rate (may be overestimated since this is SE data): 0%\n",
      "\n",
      "JSON report: fastp.json\n",
      "HTML report: fastp.html\n",
      "\n",
      "/ddn1/vol1/staging/leuven/stg_00002/lcb/dwmax/software/fastp/0.20.0/fastp -w 6 --disable_adapter_trimming -q 30 -u 10 -i 02.clean/CH1__fb10ad__CheqSeq_OLS_David_Pool_B_enhancer-barcode_S5_R2_001_cleaned_2.1.3.fastq.gz -o 02.clean/CH1__fb10ad__CheqSeq_OLS_David_Pool_B_enhancer-barcode_S5_R2_001_cleaned_2.1.4.fastq.gz \n",
      "fastp v0.20.0, time used: 240 seconds\n"
     ]
    }
   ],
   "source": [
    "# at least 90% of the NT (-u 10) must have a quality higher then 30 \n",
    "/staging/leuven/stg_00002/lcb/dwmax/software/fastp/0.20.0/fastp \\\n",
    "   -w 6 \\\n",
    "   --disable_adapter_trimming -q 30 -u 10 \\\n",
    "   -i 02.clean/${SAMPLE_NAME}_R2_001_cleaned_2.1.3.fastq.gz \\\n",
    "   -o 02.clean/${SAMPLE_NAME}_R2_001_cleaned_2.1.4.fastq.gz"
   ]
  },
  {
   "cell_type": "code",
   "execution_count": 18,
   "metadata": {},
   "outputs": [
    {
     "name": "stdout",
     "output_type": "stream",
     "text": [
      "89775019\n"
     ]
    }
   ],
   "source": [
    "zcat 02.clean/${SAMPLE_NAME}_R2_001_cleaned_2.1.4.fastq.gz | grep \"^@\" | wc -l "
   ]
  },
  {
   "cell_type": "code",
   "execution_count": 19,
   "metadata": {},
   "outputs": [
    {
     "name": "stdout",
     "output_type": "stream",
     "text": [
      "89775019 17\n"
     ]
    }
   ],
   "source": [
    "# QC\n",
    "# checked if all reads are still 17 bp\n",
    "zcat 02.clean/${SAMPLE_NAME}_R2_001_cleaned_2.1.4.fastq.gz \\\n",
    "   | sed -n '2~4p' | awk '{print length($0);}' | uniq -c"
   ]
  },
  {
   "cell_type": "code",
   "execution_count": 20,
   "metadata": {},
   "outputs": [],
   "source": [
    "# to check the distribution of the number of BCs\n",
    "zcat 02.clean/${SAMPLE_NAME}_R2_001_cleaned_2.1.4.fastq.gz \\\n",
    "   | sed -n '2~4p' \\\n",
    "   | sort -k1nr | uniq -c \\\n",
    "   | sort -k1nr \\\n",
    "   | awk '{print $1 \"\\t\" $2}' \\\n",
    "   | gzip -c > BC-distribution.tsv.gz"
   ]
  },
  {
   "cell_type": "markdown",
   "metadata": {},
   "source": [
    "## 3. Coupling Enhancer-BC"
   ]
  },
  {
   "cell_type": "code",
   "execution_count": 21,
   "metadata": {},
   "outputs": [
    {
     "name": "stdout",
     "output_type": "stream",
     "text": [
      "CH1__fb10ad__CheqSeq_OLS_David_Pool_B_enhancer-barcode_S5_R1_001_cleaned_BWA.bam\n",
      "CH1__fb10ad__CheqSeq_OLS_David_Pool_B_enhancer-barcode_S5_R1_001_cleaned_BWA_unique.bam\n",
      "CH1__fb10ad__CheqSeq_OLS_David_Pool_B_enhancer-barcode_S5_R1_001_cleaned_BWA_unique_perfectMatchByAS.bam\n",
      "CH1__fb10ad__CheqSeq_OLS_David_Pool_B_enhancer-barcode_S5_R1_001_cleaned_BWA_unique_perfectMatchByAS_synthetic_seq_distribution.tsv\n"
     ]
    }
   ],
   "source": [
    "ls 10.mapping"
   ]
  },
  {
   "cell_type": "code",
   "execution_count": 22,
   "metadata": {},
   "outputs": [],
   "source": [
    "ls 20.coupling"
   ]
  },
  {
   "cell_type": "code",
   "execution_count": 69,
   "metadata": {},
   "outputs": [],
   "source": [
    "ALIGNMENT_TOOL_SETTINGS=\"Minimap2-sr\""
   ]
  },
  {
   "cell_type": "markdown",
   "metadata": {},
   "source": [
    "### 3.1. Merge enhancer-BC"
   ]
  },
  {
   "cell_type": "code",
   "execution_count": 71,
   "metadata": {},
   "outputs": [],
   "source": [
    "paste \\\n",
    "   <( zcat 02.clean/${SAMPLE_NAME}_R2_001_cleaned_2.1.4.fastq.gz | sed -n '1~4p' | awk '{print $1}' | sed 's/^@//' ) \\\n",
    "   <( zcat 02.clean/${SAMPLE_NAME}_R2_001_cleaned_2.1.4.fastq.gz | sed -n '2~4p' ) \\\n",
    "   | sort -k1 -T $DWMAX/tmp \\\n",
    "   | gzip -c \\\n",
    "   > 20.coupling/${SAMPLE_NAME}_R2_001_cleaned_barcode.sortedByReadID.tsv.gz"
   ]
  },
  {
   "cell_type": "markdown",
   "metadata": {},
   "source": [
    "#### 3.1.1 Unique + Perfect Match By AS"
   ]
  },
  {
   "cell_type": "code",
   "execution_count": 89,
   "metadata": {},
   "outputs": [],
   "source": [
    "samtools view 10.mapping/${SAMPLE_NAME}_R1_001_cleaned_${ALIGNMENT_TOOL_SETTINGS}_unique_perfectMatchByAS.bam \\\n",
    "   | awk '{print $1 \"\\t\" $3 \"\\t\" $10}' \\\n",
    "   | sort -k1 -T $DWMAX/tmp \\\n",
    "   | gzip -c \\\n",
    "   > 20.coupling/${SAMPLE_NAME}_R1_001_cleaned_${ALIGNMENT_TOOL_SETTINGS}_unique_perfectMatchByAS_enhancers.sortedByReadID.tsv.gz"
   ]
  },
  {
   "cell_type": "code",
   "execution_count": 90,
   "metadata": {},
   "outputs": [
    {
     "name": "stdout",
     "output_type": "stream",
     "text": [
      "30471112\n"
     ]
    }
   ],
   "source": [
    "zcat 20.coupling/${SAMPLE_NAME}_R1_001_cleaned_${ALIGNMENT_TOOL_SETTINGS}_unique_perfectMatchByAS_enhancers.sortedByReadID.tsv.gz | wc -l"
   ]
  },
  {
   "cell_type": "code",
   "execution_count": 91,
   "metadata": {},
   "outputs": [],
   "source": [
    "awk -F '\\t' -v OFS='\\t' 'FNR==NR{a[$1]=$2 FS $3;next}{ print $0, a[$1]}' \\\n",
    "   <( zcat 20.coupling/${SAMPLE_NAME}_R1_001_cleaned_${ALIGNMENT_TOOL_SETTINGS}_unique_perfectMatchByAS_enhancers.sortedByReadID.tsv.gz ) \\\n",
    "   <( zcat 20.coupling/${SAMPLE_NAME}_R2_001_cleaned_barcode.sortedByReadID.tsv.gz ) \\\n",
    "   | awk  '$3!=\"\"' \\\n",
    "   | cut -f1-3 \\\n",
    "   | gzip -c \\\n",
    "   > 20.coupling/${SAMPLE_NAME}_enhancer_barcode_coupled.tsv.gz"
   ]
  },
  {
   "cell_type": "code",
   "execution_count": 92,
   "metadata": {},
   "outputs": [
    {
     "name": "stdout",
     "output_type": "stream",
     "text": [
      "25448168\n",
      "7344\n",
      "22821186\n"
     ]
    }
   ],
   "source": [
    "# Number of reads with enhancer-barcode coupling\n",
    "zcat 20.coupling/${SAMPLE_NAME}_enhancer_barcode_coupled.tsv.gz | wc -l\n",
    "# Number of unique enhancer\n",
    "zcat 20.coupling/${SAMPLE_NAME}_enhancer_barcode_coupled.tsv.gz | cut -f3 | sort | uniq | wc -l\n",
    "# Number of unique barcodes\n",
    "zcat 20.coupling/${SAMPLE_NAME}_enhancer_barcode_coupled.tsv.gz | cut -f2 | sort | uniq | wc -l"
   ]
  },
  {
   "cell_type": "markdown",
   "metadata": {},
   "source": [
    "### 3.2 Remove BC-empty vectors"
   ]
  },
  {
   "cell_type": "code",
   "execution_count": 95,
   "metadata": {},
   "outputs": [],
   "source": [
    "paste \\\n",
    "   <( zcat 02.clean/${SAMPLE_NAME}_R1_001_cleaned_1.1.3_empty_vectors.fastq.gz | sed -n '1~4p' | awk '{print $1}' | sed 's/^@//' ) \\\n",
    "   <( zcat 02.clean/${SAMPLE_NAME}_R1_001_cleaned_1.1.3_empty_vectors.fastq.gz | sed -n '2~4p' ) \\\n",
    "   | sort -k1 \\\n",
    "   | gzip -c \\\n",
    "   > 20.coupling/${SAMPLE_NAME}_R1_001_cleaned_1.1.3_empty_vectors_seq.tsv.gz"
   ]
  },
  {
   "cell_type": "code",
   "execution_count": 96,
   "metadata": {},
   "outputs": [],
   "source": [
    "awk -F '\\t' -v OFS='\\t' 'FNR==NR{a[$1]=$2; next}{ print $0, a[$1]}' \\\n",
    "   <( zcat 20.coupling/${SAMPLE_NAME}_R1_001_cleaned_1.1.3_empty_vectors_seq.tsv.gz ) \\\n",
    "   <( zcat 20.coupling/${SAMPLE_NAME}_R2_001_cleaned_barcode.sortedByReadID.tsv.gz ) \\\n",
    "   | awk  '$3!=\"\"' \\\n",
    "   | cut -f1-3 \\\n",
    "   | gzip -c \\\n",
    "   > 20.coupling/${SAMPLE_NAME}_empty_vector_barcode_coupled.tsv.gz"
   ]
  },
  {
   "cell_type": "markdown",
   "metadata": {},
   "source": [
    "#### 3.2.1 Unique + Perfect Match By AS"
   ]
  },
  {
   "cell_type": "code",
   "execution_count": 97,
   "metadata": {},
   "outputs": [],
   "source": [
    "grep -vF -f \\\n",
    "   <(zcat 20.coupling/${SAMPLE_NAME}_empty_vector_barcode_coupled.tsv.gz | cut -f2) \\\n",
    "   <(zcat 20.coupling/${SAMPLE_NAME}_enhancer_barcode_coupled.tsv.gz) \\\n",
    "   | gzip -c \\\n",
    "   > 20.coupling/${SAMPLE_NAME}_enhancer_barcode_coupled_wo_empty_vectors.tsv.gz"
   ]
  },
  {
   "cell_type": "code",
   "execution_count": 98,
   "metadata": {},
   "outputs": [
    {
     "name": "stdout",
     "output_type": "stream",
     "text": [
      "24737976\n",
      "7344\n",
      "22188801\n"
     ]
    }
   ],
   "source": [
    "# Number of reads with enhancer-barcode coupling\n",
    "zcat 20.coupling/${SAMPLE_NAME}_enhancer_barcode_coupled_wo_empty_vectors.tsv.gz | wc -l\n",
    "# Number of unique enhancer\n",
    "zcat 20.coupling/${SAMPLE_NAME}_enhancer_barcode_coupled_wo_empty_vectors.tsv.gz | cut -f3 | sort | uniq | wc -l\n",
    "# Number of unique barcodes\n",
    "zcat 20.coupling/${SAMPLE_NAME}_enhancer_barcode_coupled_wo_empty_vectors.tsv.gz | cut -f2 | sort | uniq | wc -l"
   ]
  },
  {
   "cell_type": "markdown",
   "metadata": {},
   "source": [
    "### 3.3 Reverse complement BC"
   ]
  },
  {
   "cell_type": "markdown",
   "metadata": {},
   "source": [
    "#### 3.3.1 Unique + Perfect Match By AS"
   ]
  },
  {
   "cell_type": "code",
   "execution_count": 101,
   "metadata": {},
   "outputs": [],
   "source": [
    "paste \\\n",
    "   <( zcat 20.coupling/${SAMPLE_NAME}_enhancer_barcode_coupled_wo_empty_vectors.tsv.gz | cut -f1,3) \\\n",
    "   <( zcat 20.coupling/${SAMPLE_NAME}_enhancer_barcode_coupled_wo_empty_vectors.tsv.gz | awk '{print $2}' | rev | tr \"ATGC\" \"TACG\" ) \\\n",
    "   | gzip -c \\\n",
    "   > 20.coupling/${SAMPLE_NAME}_enhancer_barcode_coupled_wo_empty_vectors_bc_rc.tsv.gz"
   ]
  },
  {
   "cell_type": "code",
   "execution_count": 102,
   "metadata": {},
   "outputs": [
    {
     "name": "stdout",
     "output_type": "stream",
     "text": [
      "A00305:46:H7J7JDRXX:1:2101:10004:12179\tchr7:128470557-128470747@@FLNC_3==wt\tTGCCAGGAAGTGACTGG\n",
      "A00305:46:H7J7JDRXX:1:2101:10004:13745\tchr9:137554837-137555027@@COL5A1_8==wt\tGTAAATAGTCAGAGTTT\n",
      "A00305:46:H7J7JDRXX:1:2101:10004:14434\tchr22:38382341-38382531@@SOX10_2==wt\tATATTTACTGCTAGAGT\n",
      "A00305:46:H7J7JDRXX:1:2101:10004:15342\tchr6:395955-396145@@IRF4_1==wt\tAGGTTACTGTTCTCTAA\n",
      "A00305:46:H7J7JDRXX:1:2101:10004:18411\tchr17:62676830-62677020@@SMURF2_1==wt\tCGCTGGGTTTTAATTCA\n",
      "A00305:46:H7J7JDRXX:1:2101:10004:18474\tchr3:124704592-124704782@@HEG1_1==wt\tCGACATAGAGATTTTAC\n",
      "A00305:46:H7J7JDRXX:1:2101:10004:20541\tchr5:155902903-155903093@@SGCD_2==mut___transfac_pro__M01859\tTAGCTTCTTTACATCAA\n",
      "A00305:46:H7J7JDRXX:1:2101:10004:20635\tchr8:11372047-11372237@@BLK_5==wt\tCCGACGCTCGCGCATCT\n",
      "A00305:46:H7J7JDRXX:1:2101:10004:23891\tchr9:137554577-137554767@@COL5A1_8==wt\tTTGAGTCGTACGTTCTT\n",
      "A00305:46:H7J7JDRXX:1:2101:10004:25175\tchr22:38382441-38382631@@SOX10_2==mut___cisbp__M5907\tGAACGCTTTACGTACGT\n",
      "\n",
      "gzip: stdout: Broken pipe\n"
     ]
    }
   ],
   "source": [
    "zcat 20.coupling/${SAMPLE_NAME}_enhancer_barcode_coupled_wo_empty_vectors_bc_rc.tsv.gz| head"
   ]
  },
  {
   "cell_type": "code",
   "execution_count": 103,
   "metadata": {},
   "outputs": [],
   "source": [
    "zcat 20.coupling/${SAMPLE_NAME}_enhancer_barcode_coupled_wo_empty_vectors_bc_rc.tsv.gz \\\n",
    "   | awk '{print $2}' \\\n",
    "   | sort \\\n",
    "   | uniq -c \\\n",
    "   > 20.coupling/${SAMPLE_NAME}_enhancer_barcode_coupled_wo_empty_vectors_bc_rc_synthetic_seq_distribution.tsv"
   ]
  },
  {
   "cell_type": "markdown",
   "metadata": {},
   "source": [
    "#### 3.3.2 Unique"
   ]
  },
  {
   "cell_type": "code",
   "execution_count": 66,
   "metadata": {},
   "outputs": [],
   "source": [
    "paste \\\n",
    "   <( zcat 20.coupling/${SAMPLE_NAME}_enhancer_barcode_coupled_v2_wo_empty_vectors.tsv.gz | cut -f1,3) \\\n",
    "   <( zcat 20.coupling/${SAMPLE_NAME}_enhancer_barcode_coupled_v2_wo_empty_vectors.tsv.gz | awk '{print $2}' | rev | tr \"ATGC\" \"TACG\" ) \\\n",
    "   | gzip -c \\\n",
    "   > 20.coupling/${SAMPLE_NAME}_enhancer_barcode_coupled_v2_wo_empty_vectors_bc_rc.tsv.gz"
   ]
  },
  {
   "cell_type": "code",
   "execution_count": 67,
   "metadata": {},
   "outputs": [
    {
     "name": "stdout",
     "output_type": "stream",
     "text": [
      "A00305:46:H7J7JDRXX:1:2101:10004:13432\tchr3:124703972-124704162@@HEG1_1==wt__shuffled\tAAGGTGTTTCAAACGTC\n",
      "A00305:46:H7J7JDRXX:1:2101:10004:1344\tchr2:28498909-28499099@@FOSL2_1==wt\tACAGCTTGGAGTTGAGC\n",
      "A00305:46:H7J7JDRXX:1:2101:10004:20541\tchr5:155902903-155903093@@SGCD_2==mut___transfac_pro__M01859\tTAGCTTCTTTACATCAA\n",
      "A00305:46:H7J7JDRXX:1:2101:10004:25488\tchr7:128467540-128467730@@FLNC_1==mut___homer__NATGASTCABNN_Fosl2\tTAAGGTGGTAGACTGTA\n",
      "A00305:46:H7J7JDRXX:1:2101:10004:31093\tchr2:28498289-28498479@@FOSL2_1==mut___transfac_pro__M01859\tATCGTGGCTTAGCGACC\n",
      "A00305:46:H7J7JDRXX:1:2101:10004:31187\tchr5:156017794-156017984@@SGCD_3==wt__shuffled\tTCTGATCACACGCTGTT\n",
      "A00305:46:H7J7JDRXX:1:2101:10004:32503\tchr2:28498169-28498359@@FOSL2_1==wt__shuffled\tTACTTAATCCCGCACGA\n",
      "A00305:46:H7J7JDRXX:1:2101:10004:5729\tchr7:128472257-128472447@@FLNC_3==wt__shuffled\tCGCTCACAAGGTTCGTG\n",
      "A00305:46:H7J7JDRXX:1:2101:10004:5822\tchr2:28497789-28497979@@FOSL2_1==wt\tATAAATTTGCCTCGACA\n",
      "A00305:46:H7J7JDRXX:1:2101:10004:7200\tchr17:43396966-43397156@@MAP3K14_1==wt\tATTGCCTCTAACATAAC\n",
      "\n",
      "gzip: stdout: Broken pipe\n"
     ]
    }
   ],
   "source": [
    "zcat 20.coupling/${SAMPLE_NAME}_enhancer_barcode_coupled_v2_wo_empty_vectors_bc_rc.tsv.gz| head"
   ]
  },
  {
   "cell_type": "code",
   "execution_count": 68,
   "metadata": {},
   "outputs": [],
   "source": [
    "zcat 20.coupling/${SAMPLE_NAME}_enhancer_barcode_coupled_v2_wo_empty_vectors_bc_rc.tsv.gz \\\n",
    "   | awk '{print $2}' \\\n",
    "   | sort \\\n",
    "   | uniq -c \\\n",
    "   > 20.coupling/${SAMPLE_NAME}_enhancer_barcode_coupled_v2_wo_empty_vectors_bc_rc_synthetic_seq_distribution.tsv"
   ]
  },
  {
   "cell_type": "markdown",
   "metadata": {},
   "source": [
    "## 4. Statistics"
   ]
  },
  {
   "cell_type": "markdown",
   "metadata": {},
   "source": [
    "### 4.1 Distribution of BC: so how many times each BC is appearing"
   ]
  },
  {
   "cell_type": "code",
   "execution_count": 104,
   "metadata": {},
   "outputs": [
    {
     "name": "stdout",
     "output_type": "stream",
     "text": [
      "19926860 1\n",
      "2009038 2\n",
      " 222885 3\n",
      "  26272 4\n",
      "   3254 5\n",
      "    424 6\n",
      "     62 7\n",
      "      5 8\n",
      "      1 9\n"
     ]
    }
   ],
   "source": [
    "zcat 20.coupling/${SAMPLE_NAME}_enhancer_barcode_coupled_wo_empty_vectors_bc_rc.tsv.gz \\\n",
    "   | awk '{print $3}' \\\n",
    "   | sort -k1nr \\\n",
    "   | uniq -c \\\n",
    "   | sort \\\n",
    "   | awk '{print $1}' \\\n",
    "   | uniq -c"
   ]
  },
  {
   "cell_type": "markdown",
   "metadata": {},
   "source": [
    "### 4.2 Number of unique designed regions found back"
   ]
  },
  {
   "cell_type": "code",
   "execution_count": 105,
   "metadata": {},
   "outputs": [
    {
     "name": "stdout",
     "output_type": "stream",
     "text": [
      "7344\n"
     ]
    }
   ],
   "source": [
    "zcat 20.coupling/${SAMPLE_NAME}_enhancer_barcode_coupled_wo_empty_vectors_bc_rc.tsv.gz | awk '{print $2}' | sort | uniq | wc -l"
   ]
  },
  {
   "cell_type": "code",
   "execution_count": 106,
   "metadata": {},
   "outputs": [
    {
     "name": "stdout",
     "output_type": "stream",
     "text": [
      "22188801\n"
     ]
    }
   ],
   "source": [
    "zcat 20.coupling/${SAMPLE_NAME}_enhancer_barcode_coupled_wo_empty_vectors_bc_rc.tsv.gz | cut -f3 | sort | uniq | wc -l"
   ]
  }
 ],
 "metadata": {
  "kernelspec": {
   "display_name": "Bash 4.2.46",
   "language": "bash",
   "name": "bash4246"
  },
  "language_info": {
   "codemirror_mode": "shell",
   "file_extension": ".sh",
   "mimetype": "text/x-sh",
   "name": "bash"
  }
 },
 "nbformat": 4,
 "nbformat_minor": 4
}

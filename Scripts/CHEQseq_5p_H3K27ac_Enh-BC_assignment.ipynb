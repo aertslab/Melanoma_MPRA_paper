{
 "cells": [
  {
   "cell_type": "markdown",
   "metadata": {},
   "source": [
    "# PacBio run: Enhancer - BC coupling of CHEQ-seq 5' library\n",
    "- PacBio run on CHEQ-seq 5' Invasive and proliferative library\n",
    "- Do enhancer=BC coupling specfically for this one\n",
    "- Read structure: FW-primer + Enhancer + SCP (without the intron) + Barcode + REV-Primer"
   ]
  },
  {
   "cell_type": "code",
   "execution_count": 1,
   "metadata": {},
   "outputs": [
    {
     "name": "stdout",
     "output_type": "stream",
     "text": [
      "/apps/leuven/skylake/2018a/software/Java/1.8.0_192:/apps/leuven/skylake/2018a/software/Java/1.8.0_192/bin:/apps/leuven/skylake/2018a/software/git/2.16.1-foss-2018a/bin:/apps/leuven/bin:/usr/local/bin:/usr/lpp/mmfs/bin:.:/usr/bin:/usr/sbin:/ddn1/vol1/staging/leuven/stg_00002/lcb/dwmax/software/genius/anaconda3/2019.03/bin:/ddn1/vol1/staging/leuven/stg_00002/lcb/dwmax/software/genius/git-flow/0.4.1/bin:/ddn1/vol1/staging/leuven/stg_00002/lcb/dwmax/software/genius/tree/1.8.0/bin:/ddn1/vol1/staging/leuven/stg_00002/lcb/dwmax/software/genius/nextflow/latest/bin:/staging/leuven/stg_00002/lcb/dwmax/software/genius/usr/bin:/apps/leuven/skylake/2018a/software/Perl/5.26.1-foss-2018a/bin:/apps/leuven/skylake/2018a/software/gettext/0.19.8.1-GCCcore-6.4.0-libxml2-2.9.7/bin:/apps/leuven/skylake/2018a/software/ncurses/6.0-GCCcore-6.4.0/bin:/apps/leuven/skylake/2018a/software/libxml2/2.9.7-GCCcore-6.4.0/bin:/apps/leuven/skylake/2018a/software/XZ/5.2.3-GCCcore-6.4.0/bin:/apps/leuven/skylake/2018a/software/expat/2.2.5-GCCcore-6.4.0/bin:/apps/leuven/skylake/2018a/software/cURL/7.58.0-GCCcore-6.4.0/bin:/apps/leuven/skylake/2018a/software/FFTW/3.3.7-gompi-2018a/bin:/apps/leuven/skylake/2018a/software/OpenBLAS/0.2.20-GCC-6.4.0-2.28/bin:/apps/leuven/skylake/2018a/software/OpenMPI/2.1.2-GCC-6.4.0-2.28/bin:/apps/leuven/skylake/2018a/software/hwloc/1.11.8-GCCcore-6.4.0/sbin:/apps/leuven/skylake/2018a/software/hwloc/1.11.8-GCCcore-6.4.0/bin:/apps/leuven/skylake/2018a/software/numactl/2.0.11-GCCcore-6.4.0/bin:/apps/leuven/skylake/2018a/software/binutils/2.28-GCCcore-6.4.0/bin:/apps/leuven/skylake/2018a/software/GCCcore/6.4.0/bin:/usr/lib64/qt-3.3/bin:/usr/local/sbin:/opt/ibutils/bin:/opt/puppetlabs/bin\n"
     ]
    }
   ],
   "source": [
    "echo $PATH"
   ]
  },
  {
   "cell_type": "code",
   "execution_count": 3,
   "metadata": {},
   "outputs": [],
   "source": [
    "cd data/2917_DMauduit_PacBio"
   ]
  },
  {
   "cell_type": "code",
   "execution_count": 6,
   "metadata": {},
   "outputs": [],
   "source": [
    "SAMPLE_NAME=\"5prime_plasmid\""
   ]
  },
  {
   "cell_type": "markdown",
   "metadata": {},
   "source": [
    "## 5' Plasmid"
   ]
  },
  {
   "cell_type": "markdown",
   "metadata": {},
   "source": [
    "### Separate forward from reverse reads"
   ]
  },
  {
   "cell_type": "code",
   "execution_count": 105,
   "metadata": {},
   "outputs": [],
   "source": [
    "# cutadapt \\\n",
    "#    -g forward=$SCP_seq \\\n",
    "#    -a reverse=$rev_comp_SCP_seq \\\n",
    "#    --no-trim \\\n",
    "#    -o 03.demux/pacbio_3passes_5prime_plasmid_{name}.fastq.gz \\\n",
    "#    03.demux/pacbio_3passes_5prime_plasmid.fastq.gz"
   ]
  },
  {
   "cell_type": "code",
   "execution_count": 106,
   "metadata": {},
   "outputs": [],
   "source": [
    "# # Number of forward reads\n",
    "# _3passes_nb_5primeP_forward_reads=$((`zcat 03.demux/pacbio_3passes_5prime_plasmid_forward.fastq.gz | wc -l`/4))\n",
    "# echo $_3passes_nb_5primeP_forward_reads\n",
    "# # Number of reads for Intron Plasmid\n",
    "# _3passes_nb_5primeP_reverse_reads=$((`zcat 03.demux/pacbio_3passes_5prime_plasmid_reverse.fastq.gz | wc -l`/4))\n",
    "# echo $_3passes_nb_5primeP_reverse_reads"
   ]
  },
  {
   "cell_type": "markdown",
   "metadata": {},
   "source": [
    "### Check for double SCP"
   ]
  },
  {
   "cell_type": "code",
   "execution_count": 107,
   "metadata": {},
   "outputs": [],
   "source": [
    "# # Forward reads\n",
    "# cutadapt \\\n",
    "#    -b $rev_comp_SCP_seq \\\n",
    "#    --discard-trimmed \\\n",
    "#    -o 03.demux/pacbio_3passes_5prime_plasmid_forward_cleaned.fastq.gz \\\n",
    "#    03.demux/pacbio_3passes_5prime_plasmid_forward.fastq.gz"
   ]
  },
  {
   "cell_type": "code",
   "execution_count": 109,
   "metadata": {},
   "outputs": [],
   "source": [
    "# # Reverse reads\n",
    "# cutadapt \\\n",
    "#    -b $SCP_seq \\\n",
    "#    --discard-trimmed \\\n",
    "#    -o 03.demux/pacbio_3passes_5prime_plasmid_reverse_cleaned.fastq.gz \\\n",
    "#    03.demux/pacbio_3passes_5prime_plasmid_reverse.fastq.gz"
   ]
  },
  {
   "cell_type": "markdown",
   "metadata": {},
   "source": [
    "### Combine forward and reverse reads"
   ]
  },
  {
   "cell_type": "code",
   "execution_count": 110,
   "metadata": {},
   "outputs": [],
   "source": [
    "# # Reverse complement correct reverse reads\n",
    "# ## For quality coding: It assumes Illumina (ASCII offset 64), but you have Sanger (offset 33), hence -Q33\n",
    "# # seqtk has by default has 33 encoding (-Q33)\n",
    "# module load seqtk/2015-03-25-foss-2014a\n",
    "# cat 03.demux/pacbio_3passes_5prime_plasmid_forward_cleaned.fastq.gz \\\n",
    "#    <(seqtk seq -r 03.demux/pacbio_3passes_5prime_plasmid_reverse_cleaned.fastq.gz | gzip) \\\n",
    "#    > 03.demux/pacbio_3passes_5prime_plasmid_forward_cleaned_combined.fastq.gz"
   ]
  },
  {
   "cell_type": "code",
   "execution_count": 111,
   "metadata": {},
   "outputs": [],
   "source": [
    "# # Number of combined reads\n",
    "# echo $((`zcat 03.demux/pacbio_3passes_5prime_plasmid_forward_cleaned_combined.fastq.gz | wc -l`/4))"
   ]
  },
  {
   "cell_type": "markdown",
   "metadata": {},
   "source": [
    "### Filter empty vector [NEW - March 2020]"
   ]
  },
  {
   "cell_type": "markdown",
   "metadata": {},
   "source": [
    "Pour le 5' c’est la sequence au milieu de laquelle l’enhancer est inséré:\n",
    "\n",
    "w/o enhancer: CAGGTGCCAGAACATTTCTCTGGCCTAACTGGCCGgtacCTGag\n",
    "w enhancer: \n",
    "- 5': CAGGTGCCAGAACATTTCTCT\n",
    "- 3': CCTAACTGGCCGgtacCTGag"
   ]
  },
  {
   "cell_type": "code",
   "execution_count": 22,
   "metadata": {
    "collapsed": true,
    "jupyter": {
     "outputs_hidden": true
    }
   },
   "outputs": [
    {
     "name": "stdout",
     "output_type": "stream",
     "text": [
      "This is cutadapt 1.18 with Python 3.6.8\n",
      "Command line parameters: --action=none -a CAGGTGCCAGAACATTTCTCTGGCCTAACTGGCCGgtacCTGag --output 031.demux/5prime_plasmid_cleaned_combined_empty_vectors.fastq.gz --untrimmed-output 031.demux/5prime_plasmid_cleaned_combined_filled_vectors.fastq.gz 03.demux/pacbio_3passes_5prime_plasmid_forward_cleaned_combined.fastq.gz\n",
      "Processing reads on 1 core in single-end mode ...\n",
      "Finished in 26.99 s (421 us/read; 0.14 M reads/minute).\n",
      "\n",
      "=== Summary ===\n",
      "\n",
      "Total reads processed:                  64,147\n",
      "Reads with adapters:                       438 (0.7%)\n",
      "Reads written (passing filters):           438 (0.7%)\n",
      "\n",
      "Total basepairs processed:   148,167,903 bp\n",
      "Total written (filtered):      1,019,836 bp (0.7%)\n",
      "\n",
      "=== Adapter 1 ===\n",
      "\n",
      "Sequence: CAGGTGCCAGAACATTTCTCTGGCCTAACTGGCCGGTACCTGAG; Type: regular 3'; Length: 44; Trimmed: 438 times.\n",
      "\n",
      "No. of allowed errors:\n",
      "0-9 bp: 0; 10-19 bp: 1; 20-29 bp: 2; 30-39 bp: 3; 40-44 bp: 4\n",
      "\n",
      "Bases preceding removed adapters:\n",
      "  A: 7.8%\n",
      "  C: 2.7%\n",
      "  G: 87.9%\n",
      "  T: 1.6%\n",
      "  none/other: 0.0%\n",
      "WARNING:\n",
      "    The adapter is preceded by \"G\" extremely often.\n",
      "    The provided adapter sequence could be incomplete at its 3' end.\n",
      "\n",
      "Overview of removed sequences\n",
      "length\tcount\texpect\tmax.err\terror counts\n",
      "3\t50\t1002.3\t0\t50\n",
      "4\t22\t250.6\t0\t22\n",
      "5\t10\t62.6\t0\t10\n",
      "92\t1\t0.0\t4\t1\n",
      "130\t1\t0.0\t4\t0 1\n",
      "150\t1\t0.0\t4\t1\n",
      "181\t1\t0.0\t4\t1\n",
      "223\t1\t0.0\t4\t1\n",
      "259\t1\t0.0\t4\t1\n",
      "285\t1\t0.0\t4\t0 0 1\n",
      "330\t1\t0.0\t4\t1\n",
      "379\t1\t0.0\t4\t1\n",
      "499\t1\t0.0\t4\t1\n",
      "500\t1\t0.0\t4\t0 1\n",
      "501\t1\t0.0\t4\t1\n",
      "502\t1\t0.0\t4\t1\n",
      "503\t4\t0.0\t4\t4\n",
      "504\t5\t0.0\t4\t4 1\n",
      "505\t18\t0.0\t4\t17 1\n",
      "506\t36\t0.0\t4\t36\n",
      "507\t7\t0.0\t4\t7\n",
      "508\t4\t0.0\t4\t4\n",
      "509\t6\t0.0\t4\t4 2\n",
      "510\t2\t0.0\t4\t0 1 1\n",
      "511\t1\t0.0\t4\t1\n",
      "512\t4\t0.0\t4\t4\n",
      "513\t4\t0.0\t4\t3 1\n",
      "515\t1\t0.0\t4\t1\n",
      "530\t1\t0.0\t4\t0 0 1\n",
      "532\t1\t0.0\t4\t1\n",
      "552\t1\t0.0\t4\t1\n",
      "553\t6\t0.0\t4\t6\n",
      "554\t2\t0.0\t4\t1 1\n",
      "555\t1\t0.0\t4\t1\n",
      "557\t1\t0.0\t4\t0 1\n",
      "559\t1\t0.0\t4\t0 1\n",
      "565\t2\t0.0\t4\t1 1\n",
      "571\t1\t0.0\t4\t1\n",
      "572\t1\t0.0\t4\t1\n",
      "573\t2\t0.0\t4\t1 1\n",
      "574\t1\t0.0\t4\t1\n",
      "575\t1\t0.0\t4\t0 1\n",
      "577\t2\t0.0\t4\t2\n",
      "578\t5\t0.0\t4\t5\n",
      "579\t12\t0.0\t4\t12\n",
      "580\t1\t0.0\t4\t0 1\n",
      "581\t1\t0.0\t4\t0 1\n",
      "583\t1\t0.0\t4\t1\n",
      "587\t1\t0.0\t4\t0 1\n",
      "649\t1\t0.0\t4\t1\n",
      "667\t1\t0.0\t4\t1\n",
      "910\t1\t0.0\t4\t1\n",
      "978\t1\t0.0\t4\t1\n",
      "1186\t1\t0.0\t4\t1\n",
      "1471\t1\t0.0\t4\t1\n",
      "1498\t1\t0.0\t4\t1\n",
      "1597\t1\t0.0\t4\t1\n",
      "1598\t1\t0.0\t4\t1\n",
      "1599\t1\t0.0\t4\t1\n",
      "1737\t1\t0.0\t4\t1\n",
      "1746\t1\t0.0\t4\t1\n",
      "1748\t1\t0.0\t4\t1\n",
      "1770\t1\t0.0\t4\t1\n",
      "1787\t1\t0.0\t4\t1\n",
      "1822\t1\t0.0\t4\t0 1\n",
      "1827\t1\t0.0\t4\t1\n",
      "1828\t1\t0.0\t4\t0 0 1\n",
      "1831\t3\t0.0\t4\t2 1\n",
      "1832\t2\t0.0\t4\t2\n",
      "1833\t4\t0.0\t4\t4\n",
      "1834\t4\t0.0\t4\t3 1\n",
      "1835\t8\t0.0\t4\t8\n",
      "1836\t8\t0.0\t4\t8\n",
      "1837\t15\t0.0\t4\t15\n",
      "1838\t5\t0.0\t4\t5\n",
      "1839\t3\t0.0\t4\t2 1\n",
      "1847\t2\t0.0\t4\t0 1 1\n",
      "1849\t1\t0.0\t4\t0 0 1\n",
      "1853\t2\t0.0\t4\t2\n",
      "1857\t1\t0.0\t4\t1\n",
      "1860\t1\t0.0\t4\t0 0 1\n",
      "1864\t1\t0.0\t4\t0 1\n",
      "1878\t1\t0.0\t4\t0 0 1\n",
      "1939\t1\t0.0\t4\t1\n",
      "1950\t1\t0.0\t4\t1\n",
      "1970\t1\t0.0\t4\t1\n",
      "1992\t1\t0.0\t4\t1\n",
      "2004\t1\t0.0\t4\t0 0 1\n",
      "2031\t1\t0.0\t4\t1\n",
      "2121\t1\t0.0\t4\t1\n",
      "2122\t1\t0.0\t4\t1\n",
      "2179\t1\t0.0\t4\t1\n",
      "2214\t1\t0.0\t4\t0 1\n",
      "2247\t1\t0.0\t4\t1\n",
      "2267\t1\t0.0\t4\t1\n",
      "2269\t1\t0.0\t4\t1\n",
      "2282\t1\t0.0\t4\t0 1\n",
      "2322\t1\t0.0\t4\t1\n",
      "2325\t1\t0.0\t4\t0 0 1\n",
      "2329\t1\t0.0\t4\t1\n",
      "2332\t2\t0.0\t4\t2\n",
      "2345\t1\t0.0\t4\t1\n",
      "2349\t1\t0.0\t4\t0 1\n",
      "2387\t1\t0.0\t4\t1\n",
      "2414\t1\t0.0\t4\t1\n",
      "2459\t1\t0.0\t4\t1\n",
      "2486\t2\t0.0\t4\t2\n",
      "2561\t1\t0.0\t4\t1\n",
      "2643\t1\t0.0\t4\t1\n",
      "2722\t1\t0.0\t4\t1\n",
      "2723\t1\t0.0\t4\t0 1\n",
      "2725\t1\t0.0\t4\t0 0 0 0 1\n",
      "2732\t1\t0.0\t4\t1\n",
      "2735\t3\t0.0\t4\t3\n",
      "2736\t1\t0.0\t4\t0 1\n",
      "2738\t2\t0.0\t4\t2\n",
      "2739\t2\t0.0\t4\t2\n",
      "2740\t3\t0.0\t4\t3\n",
      "2741\t3\t0.0\t4\t2 1\n",
      "2742\t1\t0.0\t4\t1\n",
      "2744\t1\t0.0\t4\t0 1\n",
      "2746\t1\t0.0\t4\t0 1\n",
      "2750\t1\t0.0\t4\t1\n",
      "2752\t1\t0.0\t4\t0 0 0 0 1\n",
      "2754\t1\t0.0\t4\t0 1\n",
      "2759\t1\t0.0\t4\t0 1\n",
      "2761\t1\t0.0\t4\t0 1\n",
      "2778\t1\t0.0\t4\t0 1\n",
      "2781\t2\t0.0\t4\t2\n",
      "2782\t1\t0.0\t4\t1\n",
      "2783\t1\t0.0\t4\t1\n",
      "2784\t2\t0.0\t4\t2\n",
      "2786\t1\t0.0\t4\t1\n",
      "2787\t4\t0.0\t4\t3 1\n",
      "2789\t4\t0.0\t4\t2 2\n",
      "2790\t5\t0.0\t4\t5\n",
      "2791\t5\t0.0\t4\t4 1\n",
      "2792\t4\t0.0\t4\t4\n",
      "2793\t3\t0.0\t4\t3\n",
      "2794\t7\t0.0\t4\t6 1\n",
      "2795\t5\t0.0\t4\t5\n",
      "2796\t3\t0.0\t4\t3\n",
      "2797\t2\t0.0\t4\t1 1\n",
      "2798\t1\t0.0\t4\t1\n",
      "2799\t1\t0.0\t4\t1\n",
      "2800\t1\t0.0\t4\t1\n",
      "2801\t2\t0.0\t4\t2\n",
      "2802\t1\t0.0\t4\t1\n",
      "2803\t3\t0.0\t4\t3\n",
      "2807\t3\t0.0\t4\t3\n",
      "2808\t1\t0.0\t4\t0 1\n",
      "2835\t1\t0.0\t4\t1\n",
      "2846\t1\t0.0\t4\t0 0 1\n",
      "2851\t1\t0.0\t4\t0 0 0 1\n",
      "2861\t1\t0.0\t4\t1\n",
      "2939\t1\t0.0\t4\t1\n",
      "2981\t1\t0.0\t4\t1\n",
      "3167\t1\t0.0\t4\t1\n",
      "3391\t1\t0.0\t4\t1\n",
      "4346\t1\t0.0\t4\t1\n",
      "4973\t1\t0.0\t4\t1\n",
      "\n",
      "WARNING:\n",
      "    One or more of your adapter sequences may be incomplete.\n",
      "    Please see the detailed output above.\n"
     ]
    }
   ],
   "source": [
    "# cutadapt multi-threading only supported for -o only \n",
    "# https://github.com/marcelm/cutadapt/blob/master/doc/guide.rst\n",
    "#    --action=none \\\n",
    "cutadapt \\\n",
    "   --action=none \\\n",
    "   -a CAGGTGCCAGAACATTTCTCTGGCCTAACTGGCCGgtacCTGag \\\n",
    "   --output 031.demux/${SAMPLE_NAME}_cleaned_combined_empty_vectors.fastq.gz \\\n",
    "   --untrimmed-output 031.demux/${SAMPLE_NAME}_cleaned_combined_filled_vectors.fastq.gz \\\n",
    "   03.demux/pacbio_3passes_5prime_plasmid_forward_cleaned_combined.fastq.gz"
   ]
  },
  {
   "cell_type": "code",
   "execution_count": 23,
   "metadata": {},
   "outputs": [
    {
     "name": "stdout",
     "output_type": "stream",
     "text": [
      "64028\n",
      "440\n"
     ]
    }
   ],
   "source": [
    "zcat 031.demux/${SAMPLE_NAME}_cleaned_combined_filled_vectors.fastq.gz | grep \"^@\" | wc -l\n",
    "zcat 031.demux/${SAMPLE_NAME}_cleaned_combined_empty_vectors.fastq.gz | grep \"^@\" | wc -l"
   ]
  },
  {
   "cell_type": "code",
   "execution_count": 25,
   "metadata": {
    "collapsed": true,
    "jupyter": {
     "outputs_hidden": true
    }
   },
   "outputs": [
    {
     "name": "stdout",
     "output_type": "stream",
     "text": [
      "This is cutadapt 1.18 with Python 3.6.8\n",
      "Command line parameters: -g GAACACTCGAGCCGAGCAGGCGCGCCGATC -a GGACCGGGGCCCGAATTAATTCGCTGTCTG -n 5 -m17 -M17 --trimmed-only -o 031.demux/5prime_plasmid_cleaned_combined_empty_vectors_barcodes.fastq.gz 031.demux/5prime_plasmid_cleaned_combined_empty_vectors.fastq.gz\n",
      "Processing reads on 1 core in single-end mode ...\n",
      "Finished in 0.11 s (241 us/read; 0.25 M reads/minute).\n",
      "\n",
      "=== Summary ===\n",
      "\n",
      "Total reads processed:                     438\n",
      "Reads with adapters:                       406 (92.7%)\n",
      "Reads that were too short:                  31 (7.1%)\n",
      "Reads that were too long:                  133 (30.4%)\n",
      "Reads written (passing filters):           274 (62.6%)\n",
      "\n",
      "Total basepairs processed:     1,019,836 bp\n",
      "Total written (filtered):          4,658 bp (0.5%)\n",
      "\n",
      "=== Adapter 1 ===\n",
      "\n",
      "Sequence: GGACCGGGGCCCGAATTAATTCGCTGTCTG; Type: regular 3'; Length: 30; Trimmed: 402 times.\n",
      "\n",
      "No. of allowed errors:\n",
      "0-9 bp: 0; 10-19 bp: 1; 20-29 bp: 2; 30 bp: 3\n",
      "\n",
      "Bases preceding removed adapters:\n",
      "  A: 22.4%\n",
      "  C: 16.4%\n",
      "  G: 33.1%\n",
      "  T: 28.1%\n",
      "  none/other: 0.0%\n",
      "\n",
      "Overview of removed sequences\n",
      "length\tcount\texpect\tmax.err\terror counts\n",
      "3\t4\t6.8\t0\t4\n",
      "5\t1\t0.4\t0\t1\n",
      "24\t1\t0.0\t2\t0 1\n",
      "40\t3\t0.0\t3\t3\n",
      "93\t1\t0.0\t3\t1\n",
      "113\t1\t0.0\t3\t1\n",
      "133\t1\t0.0\t3\t1\n",
      "177\t1\t0.0\t3\t1\n",
      "202\t1\t0.0\t3\t1\n",
      "215\t1\t0.0\t3\t1\n",
      "216\t2\t0.0\t3\t2\n",
      "217\t1\t0.0\t3\t1\n",
      "218\t2\t0.0\t3\t2\n",
      "233\t1\t0.0\t3\t1\n",
      "278\t3\t0.0\t3\t2 1\n",
      "279\t1\t0.0\t3\t1\n",
      "280\t3\t0.0\t3\t3\n",
      "291\t1\t0.0\t3\t1\n",
      "292\t1\t0.0\t3\t1\n",
      "294\t3\t0.0\t3\t3\n",
      "304\t3\t0.0\t3\t3\n",
      "305\t2\t0.0\t3\t2\n",
      "306\t2\t0.0\t3\t2\n",
      "308\t1\t0.0\t3\t0 1\n",
      "315\t2\t0.0\t3\t1 1\n",
      "333\t1\t0.0\t3\t1\n",
      "349\t1\t0.0\t3\t1\n",
      "352\t1\t0.0\t3\t0 1\n",
      "354\t2\t0.0\t3\t1 1\n",
      "355\t4\t0.0\t3\t3 1\n",
      "356\t8\t0.0\t3\t7 1\n",
      "357\t13\t0.0\t3\t10 3\n",
      "358\t32\t0.0\t3\t27 4 1\n",
      "359\t51\t0.0\t3\t47 3 0 1\n",
      "360\t142\t0.0\t3\t138 4\n",
      "361\t15\t0.0\t3\t12 3\n",
      "362\t9\t0.0\t3\t8 1\n",
      "363\t6\t0.0\t3\t5 1\n",
      "364\t2\t0.0\t3\t0 1 1\n",
      "365\t7\t0.0\t3\t3 4\n",
      "366\t1\t0.0\t3\t1\n",
      "367\t1\t0.0\t3\t0 0 1\n",
      "368\t1\t0.0\t3\t1\n",
      "369\t2\t0.0\t3\t2\n",
      "381\t1\t0.0\t3\t1\n",
      "382\t2\t0.0\t3\t2\n",
      "383\t1\t0.0\t3\t1\n",
      "384\t2\t0.0\t3\t2\n",
      "385\t4\t0.0\t3\t4\n",
      "403\t1\t0.0\t3\t0 1\n",
      "521\t1\t0.0\t3\t1\n",
      "522\t1\t0.0\t3\t1\n",
      "655\t1\t0.0\t3\t1\n",
      "656\t2\t0.0\t3\t2\n",
      "657\t2\t0.0\t3\t2\n",
      "677\t1\t0.0\t3\t1\n",
      "689\t1\t0.0\t3\t1\n",
      "703\t1\t0.0\t3\t1\n",
      "719\t1\t0.0\t3\t1\n",
      "841\t1\t0.0\t3\t1\n",
      "850\t1\t0.0\t3\t1\n",
      "915\t1\t0.0\t3\t1\n",
      "1058\t1\t0.0\t3\t1\n",
      "1063\t1\t0.0\t3\t1\n",
      "1343\t1\t0.0\t3\t1\n",
      "1370\t1\t0.0\t3\t1\n",
      "1591\t1\t0.0\t3\t1\n",
      "1618\t1\t0.0\t3\t0 1\n",
      "1620\t1\t0.0\t3\t1\n",
      "1639\t1\t0.0\t3\t1\n",
      "1690\t1\t0.0\t3\t1\n",
      "1791\t1\t0.0\t3\t1\n",
      "1811\t1\t0.0\t3\t1\n",
      "1821\t1\t0.0\t3\t1\n",
      "1842\t1\t0.0\t3\t0 1\n",
      "2088\t1\t0.0\t3\t1\n",
      "2121\t1\t0.0\t3\t1\n",
      "2149\t1\t0.0\t3\t0 1\n",
      "2177\t1\t0.0\t3\t1\n",
      "2183\t1\t0.0\t3\t1\n",
      "2186\t2\t0.0\t3\t2\n",
      "2200\t1\t0.0\t3\t1\n",
      "2217\t1\t0.0\t3\t0 1\n",
      "2415\t1\t0.0\t3\t1\n",
      "2702\t1\t0.0\t3\t1\n",
      "2752\t1\t0.0\t3\t1\n",
      "2793\t1\t0.0\t3\t1\n",
      "2973\t1\t0.0\t3\t1\n",
      "3021\t1\t0.0\t3\t1\n",
      "3263\t1\t0.0\t3\t1\n",
      "3295\t1\t0.0\t3\t1\n",
      "3312\t1\t0.0\t3\t1\n",
      "4135\t1\t0.0\t3\t0 0 1\n",
      "4217\t1\t0.0\t3\t1\n",
      "4827\t1\t0.0\t3\t1\n",
      "5051\t1\t0.0\t3\t1\n",
      "\n",
      "=== Adapter 2 ===\n",
      "\n",
      "Sequence: GAACACTCGAGCCGAGCAGGCGCGCCGATC; Type: regular 5'; Length: 30; Trimmed: 383 times.\n",
      "\n",
      "No. of allowed errors:\n",
      "0-9 bp: 0; 10-19 bp: 1; 20-29 bp: 2; 30 bp: 3\n",
      "\n",
      "Overview of removed sequences\n",
      "length\tcount\texpect\tmax.err\terror counts\n",
      "3\t3\t6.8\t0\t3\n",
      "4\t1\t1.7\t0\t1\n",
      "59\t1\t0.0\t3\t1\n",
      "72\t1\t0.0\t3\t1\n",
      "75\t1\t0.0\t3\t1\n",
      "136\t1\t0.0\t3\t1\n",
      "144\t1\t0.0\t3\t1\n",
      "145\t2\t0.0\t3\t2\n",
      "146\t7\t0.0\t3\t7\n",
      "147\t30\t0.0\t3\t30\n",
      "148\t5\t0.0\t3\t2 1 1 1\n",
      "150\t3\t0.0\t3\t2 0 0 1\n",
      "194\t5\t0.0\t3\t5\n",
      "195\t1\t0.0\t3\t1\n",
      "234\t1\t0.0\t3\t1\n",
      "278\t1\t0.0\t3\t0 0 1\n",
      "304\t1\t0.0\t3\t1\n",
      "340\t1\t0.0\t3\t1\n",
      "405\t1\t0.0\t3\t1\n",
      "465\t1\t0.0\t3\t1\n",
      "543\t1\t0.0\t3\t1\n",
      "545\t1\t0.0\t3\t1\n",
      "630\t1\t0.0\t3\t1\n",
      "699\t1\t0.0\t3\t0 0 1\n",
      "796\t1\t0.0\t3\t0 0 1\n",
      "880\t1\t0.0\t3\t1\n",
      "973\t1\t0.0\t3\t0 0 1\n",
      "1091\t1\t0.0\t3\t1\n",
      "1093\t2\t0.0\t3\t2\n",
      "1139\t1\t0.0\t3\t0 0 0 1\n",
      "1153\t1\t0.0\t3\t0 0 1\n",
      "1201\t1\t0.0\t3\t0 0 1\n",
      "1282\t1\t0.0\t3\t1\n",
      "1332\t1\t0.0\t3\t1\n",
      "1350\t1\t0.0\t3\t1\n",
      "1353\t1\t0.0\t3\t0 1\n",
      "1361\t1\t0.0\t3\t1\n",
      "1366\t1\t0.0\t3\t1\n",
      "1384\t1\t0.0\t3\t1\n",
      "1422\t1\t0.0\t3\t1\n",
      "1430\t1\t0.0\t3\t1\n",
      "1461\t1\t0.0\t3\t1\n",
      "1466\t1\t0.0\t3\t1\n",
      "1471\t1\t0.0\t3\t1\n",
      "1472\t3\t0.0\t3\t2 1\n",
      "1473\t2\t0.0\t3\t2\n",
      "1474\t3\t0.0\t3\t3\n",
      "1475\t3\t0.0\t3\t3\n",
      "1476\t13\t0.0\t3\t13\n",
      "1477\t8\t0.0\t3\t7 0 1\n",
      "1478\t16\t0.0\t3\t16\n",
      "1479\t4\t0.0\t3\t3 1\n",
      "1482\t1\t0.0\t3\t1\n",
      "1484\t1\t0.0\t3\t0 1\n",
      "1485\t1\t0.0\t3\t1\n",
      "1490\t1\t0.0\t3\t1\n",
      "1491\t3\t0.0\t3\t2 1\n",
      "1493\t1\t0.0\t3\t0 0 1\n",
      "1498\t1\t0.0\t3\t1\n",
      "1501\t1\t0.0\t3\t1\n",
      "1519\t1\t0.0\t3\t0 0 1\n",
      "1563\t1\t0.0\t3\t0 0 1\n",
      "1573\t2\t0.0\t3\t2\n",
      "1644\t1\t0.0\t3\t1\n",
      "1649\t1\t0.0\t3\t1\n",
      "1657\t1\t0.0\t3\t0 0 0 1\n",
      "1690\t1\t0.0\t3\t1\n",
      "1702\t1\t0.0\t3\t0 0 1\n",
      "1714\t1\t0.0\t3\t1\n",
      "1761\t1\t0.0\t3\t1\n",
      "1763\t1\t0.0\t3\t1\n",
      "1822\t2\t0.0\t3\t2\n",
      "1840\t2\t0.0\t3\t2\n",
      "1869\t1\t0.0\t3\t1\n",
      "1876\t1\t0.0\t3\t1\n",
      "1877\t1\t0.0\t3\t1\n",
      "1878\t1\t0.0\t3\t1\n",
      "1879\t2\t0.0\t3\t2\n",
      "1880\t4\t0.0\t3\t4\n",
      "1881\t1\t0.0\t3\t1\n",
      "1882\t2\t0.0\t3\t2\n",
      "1883\t1\t0.0\t3\t1\n",
      "1884\t2\t0.0\t3\t2\n",
      "1885\t1\t0.0\t3\t1\n",
      "1886\t1\t0.0\t3\t1\n",
      "1887\t1\t0.0\t3\t1\n",
      "1888\t1\t0.0\t3\t1\n",
      "1890\t3\t0.0\t3\t3\n",
      "1891\t2\t0.0\t3\t2\n",
      "1892\t1\t0.0\t3\t1\n",
      "1893\t1\t0.0\t3\t1\n",
      "1894\t2\t0.0\t3\t2\n",
      "1895\t1\t0.0\t3\t0 1\n",
      "1896\t2\t0.0\t3\t2\n",
      "1897\t5\t0.0\t3\t5\n",
      "1898\t1\t0.0\t3\t1\n",
      "1899\t1\t0.0\t3\t0 1\n",
      "1907\t1\t0.0\t3\t1\n",
      "1910\t1\t0.0\t3\t1\n",
      "1919\t1\t0.0\t3\t0 1\n",
      "1924\t1\t0.0\t3\t0 1\n",
      "1928\t1\t0.0\t3\t1\n",
      "1943\t1\t0.0\t3\t1\n",
      "1946\t1\t0.0\t3\t0 0 0 1\n",
      "1950\t1\t0.0\t3\t1\n",
      "1952\t2\t0.0\t3\t2\n",
      "1953\t2\t0.0\t3\t2\n",
      "1958\t2\t0.0\t3\t2\n",
      "1959\t1\t0.0\t3\t1\n",
      "1967\t1\t0.0\t3\t1\n",
      "1969\t1\t0.0\t3\t0 1\n",
      "2029\t1\t0.0\t3\t1\n",
      "2032\t1\t0.0\t3\t1\n",
      "2045\t1\t0.0\t3\t1\n",
      "2047\t1\t0.0\t3\t1\n",
      "2060\t1\t0.0\t3\t1\n",
      "2098\t1\t0.0\t3\t1\n",
      "2123\t1\t0.0\t3\t1\n",
      "2127\t2\t0.0\t3\t1 1\n",
      "2128\t1\t0.0\t3\t1\n",
      "2202\t1\t0.0\t3\t1\n",
      "2212\t1\t0.0\t3\t1\n",
      "2214\t1\t0.0\t3\t1\n",
      "2234\t1\t0.0\t3\t1\n",
      "2247\t1\t0.0\t3\t1\n",
      "2277\t1\t0.0\t3\t1\n",
      "2284\t1\t0.0\t3\t0 1\n",
      "2286\t1\t0.0\t3\t1\n",
      "2291\t1\t0.0\t3\t1\n",
      "2293\t1\t0.0\t3\t0 1\n",
      "2295\t1\t0.0\t3\t1\n",
      "2296\t1\t0.0\t3\t1\n",
      "2299\t1\t0.0\t3\t0 1\n",
      "2315\t1\t0.0\t3\t1\n",
      "2317\t1\t0.0\t3\t1\n",
      "2326\t1\t0.0\t3\t0 0 1\n",
      "2362\t2\t0.0\t3\t2\n",
      "2364\t1\t0.0\t3\t0 1\n",
      "2371\t1\t0.0\t3\t0 0 0 1\n",
      "2373\t1\t0.0\t3\t1\n",
      "2376\t1\t0.0\t3\t1\n",
      "2377\t4\t0.0\t3\t3 0 1\n",
      "2378\t1\t0.0\t3\t0 1\n",
      "2379\t1\t0.0\t3\t1\n",
      "2380\t3\t0.0\t3\t3\n",
      "2381\t1\t0.0\t3\t1\n",
      "2382\t1\t0.0\t3\t1\n",
      "2383\t4\t0.0\t3\t4\n",
      "2387\t1\t0.0\t3\t1\n",
      "2389\t1\t0.0\t3\t1\n",
      "2390\t1\t0.0\t3\t0 1\n",
      "2405\t1\t0.0\t3\t0 1\n",
      "2407\t1\t0.0\t3\t1\n",
      "2408\t1\t0.0\t3\t0 1\n",
      "2418\t1\t0.0\t3\t1\n",
      "2419\t1\t0.0\t3\t1\n",
      "2422\t2\t0.0\t3\t2\n",
      "2425\t1\t0.0\t3\t1\n",
      "2426\t2\t0.0\t3\t1 1\n",
      "2427\t2\t0.0\t3\t2\n",
      "2428\t2\t0.0\t3\t2\n",
      "2430\t3\t0.0\t3\t2 0 1\n",
      "2431\t6\t0.0\t3\t6\n",
      "2432\t4\t0.0\t3\t3 1\n",
      "2433\t6\t0.0\t3\t4 0 1 1\n",
      "2434\t5\t0.0\t3\t5\n",
      "2435\t6\t0.0\t3\t6\n",
      "2436\t4\t0.0\t3\t3 0 1\n",
      "2437\t4\t0.0\t3\t3 0 1\n",
      "2438\t1\t0.0\t3\t1\n",
      "2439\t2\t0.0\t3\t2\n",
      "2440\t1\t0.0\t3\t1\n",
      "2441\t1\t0.0\t3\t1\n",
      "2443\t1\t0.0\t3\t0 0 0 1\n",
      "2444\t1\t0.0\t3\t1\n",
      "2445\t2\t0.0\t3\t1 1\n",
      "2446\t1\t0.0\t3\t1\n",
      "2447\t1\t0.0\t3\t0 1\n",
      "2449\t1\t0.0\t3\t0 0 0 1\n",
      "2450\t1\t0.0\t3\t1\n",
      "2468\t1\t0.0\t3\t1\n",
      "2486\t1\t0.0\t3\t1\n",
      "2497\t1\t0.0\t3\t1\n",
      "2509\t1\t0.0\t3\t0 1\n",
      "2555\t1\t0.0\t3\t1\n",
      "2592\t1\t0.0\t3\t1\n",
      "2598\t1\t0.0\t3\t1\n",
      "2605\t1\t0.0\t3\t0 0 1\n",
      "2608\t2\t0.0\t3\t2\n",
      "2609\t5\t0.0\t3\t0 0 5\n",
      "2610\t2\t0.0\t3\t1 0 1\n",
      "2611\t6\t0.0\t3\t1 0 5\n",
      "2612\t5\t0.0\t3\t2 0 2 1\n",
      "2613\t1\t0.0\t3\t0 0 1\n",
      "2614\t1\t0.0\t3\t0 0 0 1\n",
      "2617\t2\t0.0\t3\t0 0 1 1\n",
      "2627\t1\t0.0\t3\t1\n",
      "2631\t1\t0.0\t3\t1\n",
      "2641\t1\t0.0\t3\t0 0 0 1\n",
      "2644\t1\t0.0\t3\t0 0 1\n",
      "2652\t1\t0.0\t3\t1\n",
      "2666\t1\t0.0\t3\t1\n",
      "2896\t1\t0.0\t3\t1\n",
      "3222\t1\t0.0\t3\t1\n",
      "3570\t1\t0.0\t3\t0 1\n",
      "\n"
     ]
    }
   ],
   "source": [
    "# Length of the barcode is 17 base pairs in 5' plasmid (double-checked with David 26/06/2018)\n",
    "cutadapt \\\n",
    "   -g GAACACTCGAGCCGAGCAGGCGCGCCGATC \\\n",
    "   -a GGACCGGGGCCCGAATTAATTCGCTGTCTG \\\n",
    "   -n 5 -m17 -M17 --trimmed-only \\\n",
    "   -o 031.demux/${SAMPLE_NAME}_cleaned_combined_empty_vectors_barcodes.fastq.gz \\\n",
    "   031.demux/${SAMPLE_NAME}_cleaned_combined_empty_vectors.fastq.gz"
   ]
  },
  {
   "cell_type": "code",
   "execution_count": 26,
   "metadata": {},
   "outputs": [],
   "source": [
    "zcat 031.demux/${SAMPLE_NAME}_cleaned_combined_empty_vectors_barcodes.fastq.gz \\\n",
    "   | paste - - - - \\\n",
    "   | cut -f2 \\\n",
    "   > 031.demux/${SAMPLE_NAME}_cleaned_combined_empty_vectors_barcodes.txt"
   ]
  },
  {
   "cell_type": "code",
   "execution_count": 58,
   "metadata": {},
   "outputs": [],
   "source": [
    "# Need to remove @\n",
    "zcat 031.demux/${SAMPLE_NAME}_cleaned_combined_empty_vectors_barcodes.fastq.gz \\\n",
    "   | paste - - - - \\\n",
    "   | awk '{ print $1,\"NEG_CTRL\",$2 }' OFS='\\t' \\\n",
    "   | sed 's/^.//' \\\n",
    "   > 031.demux/${SAMPLE_NAME}_cleaned_combined_empty_vectors_barcodes_table.tsv"
   ]
  },
  {
   "cell_type": "markdown",
   "metadata": {},
   "source": [
    "### Separate barcode from enhancers"
   ]
  },
  {
   "cell_type": "code",
   "execution_count": 59,
   "metadata": {},
   "outputs": [],
   "source": [
    "# # Extract barcodes and enhancers based on SCP sequence\n",
    "# cutadapt \\\n",
    "#    -a $SCP_seq --trimmed-only --minimum-length=1 \\\n",
    "#    -o 03.demux/pacbio_3passes_5prime_plasmid_forward_cleaned_combined_clipped_enhancers.fastq.gz \\\n",
    "#    -r 03.demux/pacbio_3passes_5prime_plasmid_forward_cleaned_combined_clipped_reporter_and_barcode.fastq.gz \\\n",
    "#    03.demux/pacbio_3passes_5prime_plasmid_forward_cleaned_combined.fastq.gz\n",
    "   \n",
    "# # Empty reads if -m option not set\n",
    "# # These reads were detected when filtering out all reads not in final barcode list\n",
    "# #[subseq] m54094_180531_134158/55968432/ccs: 0 >= 0\n",
    "# #[subseq] m54094_180531_134158/23921340/ccs: 0 >= 0\n",
    "# #[subseq] m54094_180531_134158/21955394/ccs: 0 >= 0"
   ]
  },
  {
   "cell_type": "code",
   "execution_count": 60,
   "metadata": {},
   "outputs": [],
   "source": [
    "# echo $((`zcat 03.demux/pacbio_3passes_5prime_plasmid_forward_cleaned_combined_clipped_enhancers.fastq.gz | wc -l`/4))\n",
    "# echo $((`zcat 03.demux/pacbio_3passes_5prime_plasmid_forward_cleaned_combined_clipped_reporter_and_barcode.fastq.gz | wc -l`/4))\n",
    "# # Without -m\n",
    "# #64099\n",
    "# #16022\n",
    "# # 3 empty reads"
   ]
  },
  {
   "cell_type": "code",
   "execution_count": 61,
   "metadata": {},
   "outputs": [],
   "source": [
    "# # Adapting the output file of cutadapt to a proper fasta file that can be used to perform in the next cutadapt. \n",
    "# zcat 03.demux/pacbio_3passes_5prime_plasmid_forward_cleaned_combined_clipped_reporter_and_barcode.fastq.gz \\\n",
    "#     | sed 's/ /\\t/g' \\\n",
    "#     | awk '{print \">\"$2\"\\t\"$1}' \\\n",
    "#     | sed 's/\\t/\\n/g' \\\n",
    "#     > 03.demux/pacbio_3passes_5prime_plasmid_forward_cleaned_combined_clipped_reporter_and_barcode.fasta"
   ]
  },
  {
   "cell_type": "code",
   "execution_count": 62,
   "metadata": {},
   "outputs": [],
   "source": [
    "# # Reporter BC pairs:\n",
    "# ##  10 trimmed reads did not generate a reporter-barcode output. this probably means the adapter was at the 3’ end and nothing came after.\n",
    "# cat 03.demux/pacbio_3passes_5prime_plasmid_forward_cleaned_combined_clipped_reporter_and_barcode.fasta | sed -n '1~2p'| sort -u | wc -l"
   ]
  },
  {
   "cell_type": "markdown",
   "metadata": {},
   "source": [
    "### Get barcodes"
   ]
  },
  {
   "cell_type": "code",
   "execution_count": 75,
   "metadata": {},
   "outputs": [],
   "source": [
    "# Have to trim with both 5' and 3' flanking sequences of barcode sequence\n",
    "# otherwise it can happen that the barcode is shorter than expected (<17bc) and we would read through the plasmid sequence\n",
    "# 5' flanking sequence of barcode: GAACACTCGAGCCGAGCAGGCGCGCCGATC\n",
    "# 3' flanking sequence of barcode: GGACCGGGGCCCGAATTAATTCGCTGTCTG\n",
    "# At least one read has 2 times the same 5' flanking sequence: >m54094_180531_134158/4588439/ccs. We need to take this into account\n",
    "# We need to specify -n option because CUTADAPT basic rule with multiple adapter trimming is: \"the leftmost match is used for both 5’ and 3’ adapters\"\n",
    "# http://cutadapt.readthedocs.io/en/stable/guide.html#multiple-adapter-occurrences-within-a-single-read"
   ]
  },
  {
   "cell_type": "code",
   "execution_count": 63,
   "metadata": {},
   "outputs": [],
   "source": [
    "# # Length of the barcode is 17 base pairs in 5' plasmid (double-checked with David 26/06/2018)\n",
    "# cutadapt \\\n",
    "#    -g GAACACTCGAGCCGAGCAGGCGCGCCGATC \\\n",
    "#    -a GGACCGGGGCCCGAATTAATTCGCTGTCTG \\\n",
    "#    -n 5 -m17 -M17 --trimmed-only \\\n",
    "#    -o 03.demux/pacbio_3passes_5prime_plasmid_barcodes.fasta \\\n",
    "#    03.demux/pacbio_3passes_5prime_plasmid_forward_cleaned_combined_clipped_reporter_and_barcode.fasta"
   ]
  },
  {
   "cell_type": "code",
   "execution_count": 64,
   "metadata": {},
   "outputs": [],
   "source": [
    "# # How many barcodes\n",
    "# echo $((`cat 03.demux/pacbio_3passes_5prime_plasmid_barcodes.fasta | wc -l`/2))\n",
    "# # How many of the BC are uniq?\n",
    "# # 2,134 unique Barcodes\n",
    "# cat 03.demux/pacbio_3passes_5prime_plasmid_barcodes.fasta | sed -n '2~2p' | sort | uniq | wc -l"
   ]
  },
  {
   "cell_type": "code",
   "execution_count": 65,
   "metadata": {},
   "outputs": [],
   "source": [
    "# # Filter enhancers based on final barcodes list\n",
    "# seqtk subseq 03.demux/pacbio_3passes_5prime_plasmid_forward_cleaned_combined_clipped_enhancers.fastq.gz <(grep \"^>\" 03.demux/pacbio_3passes_5prime_plasmid_barcodes.fasta | sed 's/^>//') | gzip > 03.demux/pacbio_3passes_5prime_plasmid_enhancers.fastq.gz"
   ]
  },
  {
   "cell_type": "code",
   "execution_count": 66,
   "metadata": {},
   "outputs": [],
   "source": [
    "# # ------------------------------------------------------------------------------------------------\n",
    "# # Other way (Zeynep's python notebook)\n",
    "# cutadapt -a GGACCGGGGCCCGAATTAATTCGCTGTCTG --trimmed-only \\\n",
    "# -o 03.demux/test_barcode_only.fasta \\\n",
    "# -r 03.demux/test_scp_venus.fasta_like \\\n",
    "# 01.fastq/pacbio_3passes_5prime_plasmid_forward_cleaned_combined_clipped_reporter_and_barcode.fasta"
   ]
  },
  {
   "cell_type": "code",
   "execution_count": 67,
   "metadata": {},
   "outputs": [],
   "source": [
    "# cutadapt -g GAACACTCGAGCCGAGCAGGCGCGCCGATC --trimmed-only  \\\n",
    "# -o 03.demux/test_barcode_only_17bp.fasta -m 17 -M 17 \\\n",
    "# 03.demux/test_barcode_only.fasta"
   ]
  },
  {
   "cell_type": "code",
   "execution_count": 68,
   "metadata": {},
   "outputs": [],
   "source": [
    "# # How many barcodes\n",
    "# echo $((`cat 03.demux/test_barcode_only_17bp.fasta | wc -l`/2))\n",
    "# # How many of the BC are uniq?\n",
    "# # 19,174 unique Barcodes\n",
    "# cat 03.demux/test_barcode_only_17bp.fasta | sed -n '2~2p' | sort | uniq | wc -l"
   ]
  },
  {
   "cell_type": "markdown",
   "metadata": {},
   "source": [
    "## Mapping enhancers"
   ]
  },
  {
   "cell_type": "code",
   "execution_count": 104,
   "metadata": {},
   "outputs": [],
   "source": [
    "# mkdir 10.mapping"
   ]
  },
  {
   "cell_type": "code",
   "execution_count": 103,
   "metadata": {},
   "outputs": [],
   "source": [
    "# hg19_fa_path=\"/staging/leuven/stg_00002/resources/human/hg19/Homo_sapiens_assembly19_sorted.fa\"\n",
    "# hg19_mmi_path=\"/staging/leuven/stg_00002/lcb/dwmax/documents/resources/refs/hg19/Homo_sapiens_assembly19_sorted.mmi\""
   ]
  },
  {
   "cell_type": "code",
   "execution_count": 102,
   "metadata": {},
   "outputs": [],
   "source": [
    "# ls"
   ]
  },
  {
   "cell_type": "code",
   "execution_count": 101,
   "metadata": {},
   "outputs": [],
   "source": [
    "# # Number of reads\n",
    "# echo $((`zcat 03.demux/pacbio_3passes_5prime_plasmid_enhancers.fastq.gz | wc -l`/4))"
   ]
  },
  {
   "cell_type": "code",
   "execution_count": 100,
   "metadata": {},
   "outputs": [],
   "source": [
    "# # Map PacBio reads with minimap\n",
    "# module load Minimap2/2.11-foss-2014a\n",
    "# module load SAMtools/1.8-foss-2014a\n",
    "# minimap2 \\\n",
    "#    -ax map-pb \\\n",
    "#    $hg19_mmi_path \\\n",
    "#    03.demux/pacbio_3passes_5prime_plasmid_enhancers.fastq.gz \\\n",
    "#    | samtools view -bS > 10.mapping/pacbio_3passes_5prime_plasmid_enhancers.bam"
   ]
  },
  {
   "cell_type": "code",
   "execution_count": 99,
   "metadata": {},
   "outputs": [],
   "source": [
    "# # Sort and create bam index\n",
    "# samtools sort -o 10.mapping/pacbio_3passes_5prime_plasmid_enhancers.sorted.bam 10.mapping/pacbio_3passes_5prime_plasmid_enhancers.bam\n",
    "# samtools index 10.mapping/pacbio_3passes_5prime_plasmid_enhancers.sorted.bam"
   ]
  },
  {
   "cell_type": "code",
   "execution_count": 98,
   "metadata": {},
   "outputs": [],
   "source": [
    "# samtools view -b -q 4 -@ 2 -o 10.mapping/pacbio_3passes_5prime_plasmid_enhancers.sorted.minQ4.bam 10.mapping/pacbio_3passes_5prime_plasmid_enhancers.sorted.bam"
   ]
  },
  {
   "cell_type": "code",
   "execution_count": 97,
   "metadata": {},
   "outputs": [],
   "source": [
    "# # number of reads mapped after quality filtering\n",
    "# samtools view 10.mapping/pacbio_3passes_5prime_plasmid_enhancers.sorted.minQ4.bam | cut -f1 | sort -u | wc -l"
   ]
  },
  {
   "cell_type": "code",
   "execution_count": 50,
   "metadata": {},
   "outputs": [],
   "source": [
    "# samtools flagstat 10.mapping/pacbio_3passes_5prime_plasmid_enhancers.sorted.minQ4.bam > 10.mapping/pacbio_3passes_5prime_plasmid_enhancers.sorted.minQ4.bam.flagstat"
   ]
  },
  {
   "cell_type": "code",
   "execution_count": 49,
   "metadata": {},
   "outputs": [],
   "source": [
    "# samtools index 10.mapping/pacbio_3passes_5prime_plasmid_enhancers.sorted.minQ4.bam"
   ]
  },
  {
   "cell_type": "code",
   "execution_count": 48,
   "metadata": {},
   "outputs": [],
   "source": [
    "# # checking overlap with designed regions\n",
    "# module load bedtools/2.27.1-foss-2014a\n",
    "# intersectBed -f 0.6 \\\n",
    "#    -a 10.mapping/pacbio_3passes_5prime_plasmid_enhancers.sorted.minQ4.bam \\\n",
    "#    -b amplified_regions.bed -wo -bed > 10.mapping/pacbio_3passes_5prime_plasmid_enhancers.sorted.minQ4_overlapped_with_amplified_regions.bed"
   ]
  },
  {
   "cell_type": "code",
   "execution_count": 47,
   "metadata": {},
   "outputs": [],
   "source": [
    "# # Number of the reads overlapping with designed enhancers\n",
    "# cat 10.mapping/pacbio_3passes_5prime_plasmid_enhancers.sorted.minQ4_overlapped_with_amplified_regions.bed | wc -l"
   ]
  },
  {
   "cell_type": "code",
   "execution_count": 46,
   "metadata": {},
   "outputs": [],
   "source": [
    "# # Number of unqiue reads overlapping with designed enhancers\n",
    "# cat 10.mapping/pacbio_3passes_5prime_plasmid_enhancers.sorted.minQ4_overlapped_with_amplified_regions.bed | awk '{print $2}' | uniq | wc -l"
   ]
  },
  {
   "cell_type": "code",
   "execution_count": 45,
   "metadata": {},
   "outputs": [],
   "source": [
    "# # Number of enhancers that are found back in the PacBio -> total of 53 designed enhancers -> 88.4% of the enhancers found back by pack bio\n",
    "# cat 10.mapping/pacbio_3passes_5prime_plasmid_enhancers.sorted.minQ4_overlapped_with_amplified_regions.bed | awk '{print $16}' | uniq | paste -s -d', '\n",
    "# cat 10.mapping/pacbio_3passes_5prime_plasmid_enhancers.sorted.minQ4_overlapped_with_amplified_regions.bed | awk '{print $16}' | uniq | wc -l"
   ]
  },
  {
   "cell_type": "markdown",
   "metadata": {},
   "source": [
    "## BC-Enhancer Coupling [UPDATE - March 2020]"
   ]
  },
  {
   "cell_type": "code",
   "execution_count": 126,
   "metadata": {},
   "outputs": [],
   "source": [
    "# Read ID and barcode sequence in one line \n",
    "# RC the BC\n",
    "# paste <( cat 03.demux/pacbio_3passes_5prime_plasmid_barcodes.fasta | sed -n '1~2p'| cut -c 2-) <( cat 03.demux/pacbio_3passes_5prime_plasmid_barcodes.fasta| sed -n '2~2p') > 20.coupling/pacbio_3passes_5prime_plasmid_readID_barcode_table.tsv"
   ]
  },
  {
   "cell_type": "code",
   "execution_count": 127,
   "metadata": {},
   "outputs": [],
   "source": [
    "# Make bedfile from bam \n",
    "# Why only keeping 17K regions here?\n",
    "# bamToBed -i 10.mapping/pacbio_3passes_5prime_plasmid_enhancers.sorted.minQ4.bam > 20.coupling/pacbio_3passes_5prime_plasmid_enhancers.sorted.minQ4.bed"
   ]
  },
  {
   "cell_type": "code",
   "execution_count": 128,
   "metadata": {},
   "outputs": [],
   "source": [
    "# Make readID enhancer mapping\n",
    "# cut -f4,16 10.mapping/pacbio_3passes_5prime_plasmid_enhancers.sorted.minQ4_overlapped_with_amplified_regions.bed > 20.coupling/pacbio_3passes_5prime_plasmid_readID_enhancer_table.tsv"
   ]
  },
  {
   "cell_type": "code",
   "execution_count": null,
   "metadata": {},
   "outputs": [],
   "source": [
    "# Combine ReadID-Barcode with ReadID-Enhancer\n",
    "# awk -v OFS='\\t' 'NR==FNR { a[$1]=$0; next } $1 in a { print a[$1], $2 }' 20.coupling/pacbio_3passes_5prime_plasmid_readID_enhancer_table.tsv 20.coupling/pacbio_3passes_5prime_plasmid_readID_barcode_table.tsv > 20.coupling/pacbio_3passes_5prime_plasmid_readID_enhancer_barcode_table.tsv"
   ]
  },
  {
   "cell_type": "code",
   "execution_count": 37,
   "metadata": {},
   "outputs": [],
   "source": [
    "group_bc_by_enhancer() {\n",
    "   awk -F '\\t' '                                                      \n",
    "   $2==x {\n",
    "      printf \",%s\", $3\n",
    "      next\n",
    "   }\n",
    "   {\n",
    "      x=$2\n",
    "      printf \"\\n%s\\t%s\", x, $3\n",
    "   }\n",
    "   END {\n",
    "      printf \"\\n\"\n",
    "   }'\n",
    "}"
   ]
  },
  {
   "cell_type": "code",
   "execution_count": 69,
   "metadata": {},
   "outputs": [],
   "source": [
    "# [NEW 16 March 2020] Add empty plasmid barcodes\n",
    "cat \\\n",
    "   20.coupling/pacbio_3passes_${SAMPLE_NAME}_readID_enhancer_barcode_table.tsv \\\n",
    "   031.demux/${SAMPLE_NAME}_cleaned_combined_empty_vectors_barcodes_table.tsv \\\n",
    "   > 201.coupling/pacbio_3passes_${SAMPLE_NAME}_readID_enhancer_and_negctrl_barcode_table.tsv"
   ]
  },
  {
   "cell_type": "code",
   "execution_count": 70,
   "metadata": {},
   "outputs": [
    {
     "name": "stdout",
     "output_type": "stream",
     "text": [
      "2059\n"
     ]
    }
   ],
   "source": [
    "cat 20.coupling/pacbio_3passes_${SAMPLE_NAME}_readID_enhancer_barcode_table.tsv | cut -f3 | sort | uniq | wc -l"
   ]
  },
  {
   "cell_type": "code",
   "execution_count": 71,
   "metadata": {},
   "outputs": [
    {
     "name": "stdout",
     "output_type": "stream",
     "text": [
      "2063\n"
     ]
    }
   ],
   "source": [
    "cat 201.coupling/pacbio_3passes_${SAMPLE_NAME}_readID_enhancer_and_negctrl_barcode_table.tsv | cut -f3 | sort | uniq | wc -l"
   ]
  },
  {
   "cell_type": "code",
   "execution_count": 72,
   "metadata": {},
   "outputs": [],
   "source": [
    "# Group barcodes by enhancer\n",
    "sort -k2 201.coupling/pacbio_3passes_${SAMPLE_NAME}_readID_enhancer_and_negctrl_barcode_table.tsv \\\n",
    "   | group_bc_by_enhancer \\\n",
    "   > 201.coupling/pacbio_3passes_${SAMPLE_NAME}_enhancer_and_negctrl_barcode_list.tsv"
   ]
  },
  {
   "cell_type": "code",
   "execution_count": 73,
   "metadata": {},
   "outputs": [],
   "source": [
    "# Remove all redundant barcodes\n",
    "paste \\\n",
    "   <(cut -f1 201.coupling/pacbio_3passes_${SAMPLE_NAME}_enhancer_and_negctrl_barcode_list.tsv) \\\n",
    "   <(cut -f2 201.coupling/pacbio_3passes_${SAMPLE_NAME}_enhancer_and_negctrl_barcode_list.tsv | while read line; do echo $line | tr ',' '\\n' | uniq | paste -s -d','; done) \\\n",
    "   | sed '/^\\s*$/d' > 201.coupling/pacbio_3passes_${SAMPLE_NAME}_enhancer_and_negctrl_unique_barcode_list.tsv"
   ]
  },
  {
   "cell_type": "markdown",
   "metadata": {},
   "source": [
    "### Barcode quality filtering"
   ]
  },
  {
   "cell_type": "markdown",
   "metadata": {},
   "source": [
    "#### Q30"
   ]
  },
  {
   "cell_type": "code",
   "execution_count": 88,
   "metadata": {},
   "outputs": [],
   "source": [
    "# Combine ReadID-Barcode with ReadID-Enhancer\n",
    "awk \\\n",
    "   -v OFS='\\t' 'NR==FNR { a[$1]=$0; next } $1 in a { print a[$1], $2 }' \\\n",
    "   201.coupling/pacbio_3passes_${SAMPLE_NAME}_readID_enhancer_and_negctrl_barcode_table.tsv \\\n",
    "   03.demux/pacbio_3passes_${SAMPLE_NAME}_readID_barcode_quality_table_minQ30.tsv \\\n",
    "   > 201.coupling/pacbio_3passes_${SAMPLE_NAME}_readID_enhancer_and_negctrl_barcode_minQ30_table.tsv"
   ]
  },
  {
   "cell_type": "code",
   "execution_count": 89,
   "metadata": {},
   "outputs": [],
   "source": [
    "# Group barcodes by enhancer\n",
    "sort -k2 201.coupling/pacbio_3passes_${SAMPLE_NAME}_readID_enhancer_and_negctrl_barcode_minQ30_table.tsv \\\n",
    "   | group_bc_by_enhancer \\\n",
    "   > 201.coupling/pacbio_3passes_${SAMPLE_NAME}_enhancer_and_negctrl_barcode_minQ30_list.tsv"
   ]
  },
  {
   "cell_type": "code",
   "execution_count": 90,
   "metadata": {},
   "outputs": [],
   "source": [
    "# Remove all redundant barcodes\n",
    "paste \\\n",
    "   <(cut -f1 201.coupling/pacbio_3passes_${SAMPLE_NAME}_enhancer_and_negctrl_barcode_minQ30_list.tsv) \\\n",
    "   <(cut -f2 201.coupling/pacbio_3passes_${SAMPLE_NAME}_enhancer_and_negctrl_barcode_minQ30_list.tsv | while read line; do echo $line | tr ',' '\\n' | uniq | paste -s -d','; done) \\\n",
    "   | sed '/^\\s*$/d' > 201.coupling/pacbio_3passes_${SAMPLE_NAME}_enhancer_and_negctrl_unique_barcode_minQ30_list.tsv"
   ]
  },
  {
   "cell_type": "markdown",
   "metadata": {},
   "source": [
    "#### Q60"
   ]
  },
  {
   "cell_type": "code",
   "execution_count": 91,
   "metadata": {},
   "outputs": [],
   "source": [
    "# Combine ReadID-Barcode with ReadID-Enhancer\n",
    "awk \\\n",
    "   -v OFS='\\t' 'NR==FNR { a[$1]=$0; next } $1 in a { print a[$1], $2 }' \\\n",
    "   201.coupling/pacbio_3passes_${SAMPLE_NAME}_readID_enhancer_and_negctrl_barcode_table.tsv \\\n",
    "   03.demux/pacbio_3passes_${SAMPLE_NAME}_readID_barcode_quality_table_minQ60.tsv \\\n",
    "   > 201.coupling/pacbio_3passes_${SAMPLE_NAME}_readID_enhancer_and_negctrl_barcode_minQ60_table.tsv"
   ]
  },
  {
   "cell_type": "code",
   "execution_count": 92,
   "metadata": {},
   "outputs": [],
   "source": [
    "# Group barcodes by enhancer\n",
    "sort -k2 201.coupling/pacbio_3passes_${SAMPLE_NAME}_readID_enhancer_and_negctrl_barcode_minQ60_table.tsv \\\n",
    "   | group_bc_by_enhancer \\\n",
    "   > 201.coupling/pacbio_3passes_${SAMPLE_NAME}_enhancer_and_negctrl_barcode_minQ60_list.tsv"
   ]
  },
  {
   "cell_type": "code",
   "execution_count": 93,
   "metadata": {},
   "outputs": [],
   "source": [
    "# Remove all redundant barcodes\n",
    "paste \\\n",
    "   <(cut -f1 201.coupling/pacbio_3passes_${SAMPLE_NAME}_enhancer_and_negctrl_barcode_minQ60_list.tsv) \\\n",
    "   <(cut -f2 201.coupling/pacbio_3passes_${SAMPLE_NAME}_enhancer_and_negctrl_barcode_minQ60_list.tsv | while read line; do echo $line | tr ',' '\\n' | uniq | paste -s -d','; done) \\\n",
    "   | sed '/^\\s*$/d' > 201.coupling/pacbio_3passes_${SAMPLE_NAME}_enhancer_and_negctrl_unique_barcode_minQ60_list.tsv"
   ]
  },
  {
   "cell_type": "markdown",
   "metadata": {},
   "source": [
    "### Barcode specificity filtering"
   ]
  },
  {
   "cell_type": "code",
   "execution_count": 94,
   "metadata": {},
   "outputs": [],
   "source": [
    "cat 201.coupling/pacbio_3passes_${SAMPLE_NAME}_readID_enhancer_and_negctrl_barcode_table.tsv \\\n",
    "   | sort -k3 \\\n",
    "   | uniq -f2 \\\n",
    "   | sort -k2 \\\n",
    "   | group_bc_by_enhancer \\\n",
    "   > 201.coupling/pacbio_3passes_${SAMPLE_NAME}_enhancer_and_negctrl_barcode_final_list.tsv"
   ]
  },
  {
   "cell_type": "code",
   "execution_count": 95,
   "metadata": {},
   "outputs": [],
   "source": [
    "cat 201.coupling/pacbio_3passes_${SAMPLE_NAME}_readID_enhancer_and_negctrl_barcode_minQ30_table.tsv \\\n",
    "   | sort -k3 \\\n",
    "   | uniq -f2 \\\n",
    "   | sort -k2 \\\n",
    "   | group_bc_by_enhancer \\\n",
    "   > 201.coupling/pacbio_3passes_${SAMPLE_NAME}_enhancer_barcode_and_negctrl_barcode_minQ30_final_list.tsv"
   ]
  },
  {
   "cell_type": "code",
   "execution_count": 96,
   "metadata": {},
   "outputs": [],
   "source": [
    "cat 201.coupling/pacbio_3passes_${SAMPLE_NAME}_readID_enhancer_and_negctrl_barcode_minQ60_table.tsv \\\n",
    "   | sort -k3 \\\n",
    "   | uniq -f2 \\\n",
    "   | sort -k2 \\\n",
    "   | group_bc_by_enhancer \\\n",
    "   > 201.coupling/pacbio_3passes_${SAMPLE_NAME}_readID_enhancer_and_negctrl_barcode_minQ60_final_list.tsv"
   ]
  },
  {
   "cell_type": "code",
   "execution_count": null,
   "metadata": {},
   "outputs": [],
   "source": []
  }
 ],
 "metadata": {
  "kernelspec": {
   "display_name": "Bash 4.2.46",
   "language": "bash",
   "name": "bash4246"
  },
  "language_info": {
   "codemirror_mode": "shell",
   "file_extension": ".sh",
   "mimetype": "text/x-sh",
   "name": "bash"
  }
 },
 "nbformat": 4,
 "nbformat_minor": 4
}

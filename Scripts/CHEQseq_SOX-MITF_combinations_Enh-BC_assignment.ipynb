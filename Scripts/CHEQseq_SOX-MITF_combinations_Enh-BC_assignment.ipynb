{
 "cells": [
  {
   "cell_type": "markdown",
   "metadata": {},
   "source": [
    "# Cloning #2 - E-BC coupling CHEQ-seq library\n",
    "\n",
    "David re-did the cloning from scratch. the library was sequenced for E-BC coupling on 10100730. A 3x and 1x cloning condition were done."
   ]
  },
  {
   "cell_type": "markdown",
   "metadata": {},
   "source": [
    "Reminder of structure of cloned TWIST enhancer pool:\n",
    "\n",
    "     15bp adaptor – 11bp BC - 259bp long enhancer - 15 bp adaptors.\n",
    "\n",
    "- Note that for CHEQ-seq we will thus have 2 BCs:\n",
    "    - the synthetic designed 11bp BC next to the enhancer (1 mismatch allowed) = sBC\n",
    "    - the 17bp random BC within the CHEQ-seq vector = rBC\n",
    "- Adapters:\n",
    "    - 5' : GAGCATGCACCGGTG\n",
    "    - 3' : CGCTTCGAGCAGACA\n",
    "- Total of 2,000 sequences, 300 bp long \n",
    "- For amplification of the pool VC2536-2537 were used (a bit longer tail than the adapters above)\n",
    "- During the linearisation of the CHEQ-seq vector we used newly designed primers (VC2573 (F), VC2574 (R)), since the adapters in the TWIST clones were designed for the STAR-seq plasmid\n",
    "- For the E-BC sequencing, libraries were prepped with VC2544 (< David) and VC2588 / VC2589 (newly designed)\n",
    "- Raw data: \n",
    "    - */staging/leuven/stg_00002/lcb/ngs_runs/NovaSeq6000_20200730/Demultiplexed*\n",
    "    - Paired-end: R1 contains sBC + part of enhancer ; R2 contains the rBC\n",
    "    - We have 2 reads for the low and the high complexity library each"
   ]
  },
  {
   "cell_type": "markdown",
   "metadata": {},
   "source": [
    "__Copy data__"
   ]
  },
  {
   "cell_type": "code",
   "execution_count": 5,
   "metadata": {},
   "outputs": [],
   "source": [
    "DIR=/user/leuven/317/vsc31703/stg_00002/Enhancer_design/MPRA/CHEQ-seq_cloning2\n",
    "\n",
    "cd $DIR && mkdir -p 00.RAW_FASTQ && cp /staging/leuven/stg_00002/lcb/ngs_runs/NovaSeq6000_20200730/Demultiplexed/*Liesbeth* 00.RAW_FASTQ/ 2> /dev/null \n"
   ]
  },
  {
   "cell_type": "markdown",
   "metadata": {},
   "source": [
    "__Change names of fastqs__"
   ]
  },
  {
   "cell_type": "code",
   "execution_count": 6,
   "metadata": {},
   "outputs": [],
   "source": [
    "cd 00.RAW_FASTQ\n",
    "mv CSE__88dc35__amplified_enhancer-barcode_Twist_pool_Liesbeth_3x_S10_R1_001.fastq.gz CSE__88dc35__CHEQseq-cl2_2000enh_3x_R1.fastq.gz \n",
    "mv CSE__88dc35__amplified_enhancer-barcode_Twist_pool_Liesbeth_3x_S10_R2_001.fastq.gz CSE__88dc35__CHEQseq-cl2_2000enh_3x_R2.fastq.gz \n",
    "mv  CSE__953401__amplified_enhancer-barcode_Twist_pool_Liesbeth_1x_S9_R1_001.fastq.gz CSE__953401__CHEQseq-cl2_2000enh_1x_R1.fastq.gz \n",
    "mv  CSE__953401__amplified_enhancer-barcode_Twist_pool_Liesbeth_1x_S9_R2_001.fastq.gz CSE__953401__CHEQseq-cl2_2000enh_1x_R2.fastq.gz\n",
    "cd $DIR"
   ]
  },
  {
   "cell_type": "markdown",
   "metadata": {},
   "source": [
    "# 1. Processing read 1"
   ]
  },
  {
   "cell_type": "markdown",
   "metadata": {},
   "source": [
    "__Parameters__"
   ]
  },
  {
   "cell_type": "code",
   "execution_count": 1,
   "metadata": {},
   "outputs": [],
   "source": [
    "#mkdir E-BC_coupling\n",
    "DIR=/user/leuven/317/vsc31703/stg_00002/Enhancer_design/MPRA/CHEQ-seq_cloning2/E-BC_coupling\n",
    "#NAME=CSE__88dc35__CHEQseq-cl2_2000enh_3x\n",
    "NAME=CSE__953401__CHEQseq-cl2_2000enh_1x\n",
    "\n",
    "cd $DIR\n"
   ]
  },
  {
   "cell_type": "markdown",
   "metadata": {},
   "source": [
    "## 1.0. Fastqc"
   ]
  },
  {
   "cell_type": "code",
   "execution_count": 2,
   "metadata": {},
   "outputs": [
    {
     "name": "stdout",
     "output_type": "stream",
     "text": [
      "mkdir: cannot create directory ‘01.FASTQC’: File exists\n",
      "Started analysis of CSE__953401__CHEQseq-cl2_2000enh_1x_R1.fastq.gz\n",
      "Approx 5% complete for CSE__953401__CHEQseq-cl2_2000enh_1x_R1.fastq.gz\n",
      "Approx 10% complete for CSE__953401__CHEQseq-cl2_2000enh_1x_R1.fastq.gz\n",
      "Approx 15% complete for CSE__953401__CHEQseq-cl2_2000enh_1x_R1.fastq.gz\n",
      "Approx 20% complete for CSE__953401__CHEQseq-cl2_2000enh_1x_R1.fastq.gz\n",
      "Approx 25% complete for CSE__953401__CHEQseq-cl2_2000enh_1x_R1.fastq.gz\n",
      "Approx 30% complete for CSE__953401__CHEQseq-cl2_2000enh_1x_R1.fastq.gz\n",
      "Approx 35% complete for CSE__953401__CHEQseq-cl2_2000enh_1x_R1.fastq.gz\n",
      "Approx 40% complete for CSE__953401__CHEQseq-cl2_2000enh_1x_R1.fastq.gz\n",
      "Approx 45% complete for CSE__953401__CHEQseq-cl2_2000enh_1x_R1.fastq.gz\n",
      "Approx 50% complete for CSE__953401__CHEQseq-cl2_2000enh_1x_R1.fastq.gz\n",
      "Approx 55% complete for CSE__953401__CHEQseq-cl2_2000enh_1x_R1.fastq.gz\n",
      "Approx 60% complete for CSE__953401__CHEQseq-cl2_2000enh_1x_R1.fastq.gz\n",
      "Approx 65% complete for CSE__953401__CHEQseq-cl2_2000enh_1x_R1.fastq.gz\n",
      "Approx 70% complete for CSE__953401__CHEQseq-cl2_2000enh_1x_R1.fastq.gz\n",
      "Approx 75% complete for CSE__953401__CHEQseq-cl2_2000enh_1x_R1.fastq.gz\n",
      "Approx 80% complete for CSE__953401__CHEQseq-cl2_2000enh_1x_R1.fastq.gz\n",
      "Approx 85% complete for CSE__953401__CHEQseq-cl2_2000enh_1x_R1.fastq.gz\n",
      "Approx 90% complete for CSE__953401__CHEQseq-cl2_2000enh_1x_R1.fastq.gz\n",
      "Approx 95% complete for CSE__953401__CHEQseq-cl2_2000enh_1x_R1.fastq.gz\n",
      "Analysis complete for CSE__953401__CHEQseq-cl2_2000enh_1x_R1.fastq.gz\n",
      "Started analysis of CSE__953401__CHEQseq-cl2_2000enh_1x_R2.fastq.gz\n",
      "Approx 5% complete for CSE__953401__CHEQseq-cl2_2000enh_1x_R2.fastq.gz\n",
      "Approx 10% complete for CSE__953401__CHEQseq-cl2_2000enh_1x_R2.fastq.gz\n",
      "Approx 15% complete for CSE__953401__CHEQseq-cl2_2000enh_1x_R2.fastq.gz\n",
      "Approx 20% complete for CSE__953401__CHEQseq-cl2_2000enh_1x_R2.fastq.gz\n",
      "Approx 25% complete for CSE__953401__CHEQseq-cl2_2000enh_1x_R2.fastq.gz\n",
      "Approx 30% complete for CSE__953401__CHEQseq-cl2_2000enh_1x_R2.fastq.gz\n",
      "Approx 35% complete for CSE__953401__CHEQseq-cl2_2000enh_1x_R2.fastq.gz\n",
      "Approx 40% complete for CSE__953401__CHEQseq-cl2_2000enh_1x_R2.fastq.gz\n",
      "Approx 45% complete for CSE__953401__CHEQseq-cl2_2000enh_1x_R2.fastq.gz\n",
      "Approx 50% complete for CSE__953401__CHEQseq-cl2_2000enh_1x_R2.fastq.gz\n",
      "Approx 55% complete for CSE__953401__CHEQseq-cl2_2000enh_1x_R2.fastq.gz\n",
      "Approx 60% complete for CSE__953401__CHEQseq-cl2_2000enh_1x_R2.fastq.gz\n",
      "Approx 65% complete for CSE__953401__CHEQseq-cl2_2000enh_1x_R2.fastq.gz\n",
      "Approx 70% complete for CSE__953401__CHEQseq-cl2_2000enh_1x_R2.fastq.gz\n",
      "Approx 75% complete for CSE__953401__CHEQseq-cl2_2000enh_1x_R2.fastq.gz\n",
      "Approx 80% complete for CSE__953401__CHEQseq-cl2_2000enh_1x_R2.fastq.gz\n",
      "Approx 85% complete for CSE__953401__CHEQseq-cl2_2000enh_1x_R2.fastq.gz\n",
      "Approx 90% complete for CSE__953401__CHEQseq-cl2_2000enh_1x_R2.fastq.gz\n",
      "Approx 95% complete for CSE__953401__CHEQseq-cl2_2000enh_1x_R2.fastq.gz\n",
      "Analysis complete for CSE__953401__CHEQseq-cl2_2000enh_1x_R2.fastq.gz\n"
     ]
    }
   ],
   "source": [
    "mkdir 01.FASTQC\n",
    "module load FastQC/0.11.8-Java-1.8.0\n",
    "\n",
    "fastqc -t 1 ../00.RAW_FASTQ/${NAME}_R1.fastq.gz -o 01.FASTQC\n",
    "fastqc -t 1 ../00.RAW_FASTQ/${NAME}_R2.fastq.gz -o 01.FASTQC"
   ]
  },
  {
   "cell_type": "markdown",
   "metadata": {},
   "source": [
    "## 1.1. Filter for sequencing qualtiy\n",
    "We only keep reads that have Q20 for 80% of the bp.\n"
   ]
  },
  {
   "cell_type": "code",
   "execution_count": 3,
   "metadata": {},
   "outputs": [
    {
     "name": "stdout",
     "output_type": "stream",
     "text": [
      "mkdir: cannot create directory ‘02.TRIMMED_FQ’: File exists\n",
      "Read1 before filtering:\n",
      "total reads: 16815676\n",
      "total bases: 823968124\n",
      "Q20 bases: 812490745(98.6071%)\n",
      "Q30 bases: 789445512(95.8102%)\n",
      "\n",
      "Read1 after filtering:\n",
      "total reads: 16544387\n",
      "total bases: 810575178\n",
      "Q20 bases: 802697832(99.0282%)\n",
      "Q30 bases: 781569218(96.4216%)\n",
      "\n",
      "Filtering result:\n",
      "reads passed filter: 16544387\n",
      "reads failed due to low quality: 271285\n",
      "reads failed due to too many N: 0\n",
      "reads failed due to too short: 4\n",
      "\n",
      "Duplication rate (may be overestimated since this is SE data): 0.812216%\n",
      "\n",
      "JSON report: fastp.json\n",
      "HTML report: fastp.html\n",
      "\n",
      "fastp --disable_adapter_trimming -q 20 -u 20 -i ../00.RAW_FASTQ/CSE__953401__CHEQseq-cl2_2000enh_1x_R1.fastq.gz -o 02.TRIMMED_FQ/CSE__953401__CHEQseq-cl2_2000enh_1x_R1.Q20.fastq.gz \n",
      "fastp v0.20.0, time used: 55 seconds\n"
     ]
    }
   ],
   "source": [
    "# at least 80% of the NT (-u 20) must have a quality higher then 20 \n",
    "module load fastp/0.20.0-foss-2018a\n",
    "mkdir 02.TRIMMED_FQ\n",
    "fastp --disable_adapter_trimming -q 20 -u 20 -i ../00.RAW_FASTQ/${NAME}_R1.fastq.gz -o 02.TRIMMED_FQ/${NAME}_R1.Q20.fastq.gz"
   ]
  },
  {
   "cell_type": "markdown",
   "metadata": {},
   "source": [
    "## 1.2. Trim the 5' adapter\n",
    "Cut with *ATCTAGAGCATGCACCGGTG* (20bp).\n",
    "\n",
    "The stagger of 1bp should be tolerated normally (Cuadtapt is robust to errors of 10%).\n",
    "\n",
    "\n"
   ]
  },
  {
   "cell_type": "code",
   "execution_count": 4,
   "metadata": {},
   "outputs": [
    {
     "name": "stdout",
     "output_type": "stream",
     "text": [
      "This is cutadapt 2.4 with Python 3.7.4\n",
      "Command line parameters: -g ATCTAGAGCATGCACCGGTG --trimmed-only --output 02.TRIMMED_FQ/CSE__953401__CHEQseq-cl2_2000enh_1x_R1.Q20_trimmed5.fastq.gz 02.TRIMMED_FQ/CSE__953401__CHEQseq-cl2_2000enh_1x_R1.Q20.fastq.gz\n",
      "Processing reads on 1 core in single-end mode ...\n",
      "[    8<------] 00:03:19    16,544,387 reads  @     12.0 µs/read;   4.99 M reads/minute\n",
      "Finished in 199.10 s (12 us/read; 4.99 M reads/minute).\n",
      "\n",
      "=== Summary ===\n",
      "\n",
      "Total reads processed:              16,544,387\n",
      "Reads with adapters:                16,536,217 (100.0%)\n",
      "Reads written (passing filters):    16,536,217 (100.0%)\n",
      "\n",
      "Total basepairs processed:   810,575,178 bp\n",
      "Total written (filtered):    479,385,713 bp (59.1%)\n",
      "\n",
      "=== Adapter 1 ===\n",
      "\n",
      "Sequence: ATCTAGAGCATGCACCGGTG; Type: regular 5'; Length: 20; Trimmed: 16536217 times.\n",
      "\n",
      "No. of allowed errors:\n",
      "0-9 bp: 0; 10-19 bp: 1; 20 bp: 2\n",
      "\n",
      "Overview of removed sequences\n",
      "length\tcount\texpect\tmax.err\terror counts\n",
      "3\t7\t258506.0\t0\t7\n",
      "9\t2\t63.1\t0\t2\n",
      "10\t5\t15.8\t1\t4 1\n",
      "12\t23\t1.0\t1\t18 5\n",
      "13\t15\t0.2\t1\t12 3\n",
      "14\t73\t0.1\t1\t58 15\n",
      "15\t56\t0.0\t1\t35 21\n",
      "16\t79\t0.0\t1\t64 15\n",
      "17\t161\t0.0\t1\t77 84\n",
      "18\t1672\t0.0\t1\t220 346 1106\n",
      "19\t41425\t0.0\t1\t2099 38933 393\n",
      "20\t16388338\t0.0\t2\t16251348 133915 3075\n",
      "21\t100688\t0.0\t2\t84249 16176 263\n",
      "22\t3204\t0.0\t2\t74 123 3007\n",
      "23\t139\t0.0\t2\t60 15 64\n",
      "24\t60\t0.0\t2\t51 6 3\n",
      "25\t44\t0.0\t2\t30 7 7\n",
      "26\t25\t0.0\t2\t20 4 1\n",
      "27\t10\t0.0\t2\t8 1 1\n",
      "28\t18\t0.0\t2\t13 4 1\n",
      "29\t9\t0.0\t2\t6 1 2\n",
      "30\t11\t0.0\t2\t8 2 1\n",
      "31\t9\t0.0\t2\t7 0 2\n",
      "32\t7\t0.0\t2\t6 1\n",
      "33\t7\t0.0\t2\t7\n",
      "34\t6\t0.0\t2\t5 0 1\n",
      "35\t8\t0.0\t2\t7 1\n",
      "36\t8\t0.0\t2\t8\n",
      "37\t8\t0.0\t2\t8\n",
      "38\t7\t0.0\t2\t7\n",
      "39\t12\t0.0\t2\t12\n",
      "40\t5\t0.0\t2\t5\n",
      "41\t16\t0.0\t2\t16\n",
      "42\t9\t0.0\t2\t9\n",
      "43\t13\t0.0\t2\t11 2\n",
      "44\t5\t0.0\t2\t5\n",
      "45\t6\t0.0\t2\t6\n",
      "46\t7\t0.0\t2\t7\n",
      "47\t6\t0.0\t2\t6\n",
      "48\t6\t0.0\t2\t6\n",
      "49\t8\t0.0\t2\t5 1 2\n"
     ]
    }
   ],
   "source": [
    "# write only the reads that are trimmed, so that contained the adaptor\n",
    "module load cutadapt/2.4-foss-2018a-Python-3.7.4\n",
    "\n",
    "cutadapt -g ATCTAGAGCATGCACCGGTG --trimmed-only \\\n",
    "--output 02.TRIMMED_FQ/${NAME}_R1.Q20_trimmed5.fastq.gz \\\n",
    "02.TRIMMED_FQ/${NAME}_R1.Q20.fastq.gz"
   ]
  },
  {
   "cell_type": "code",
   "execution_count": 5,
   "metadata": {},
   "outputs": [
    {
     "name": "stdout",
     "output_type": "stream",
     "text": [
      "      8 0\n",
      "      6 1\n",
      "     17 10\n",
      "    976 11\n",
      "   3046 12\n",
      "    344 13\n",
      "    118 14\n",
      "    399 15\n",
      "    416 16\n",
      "    406 17\n",
      "    435 18\n",
      "    273 19\n",
      "      6 2\n",
      "     82 20\n",
      "     18 21\n",
      "     10 22\n",
      "     25 23\n",
      "     44 24\n",
      "     60 25\n",
      "    139 26\n",
      "   3200 27\n",
      " 100638 28\n",
      "16381982 29\n",
      "      7 3\n",
      "  41413 30\n",
      "   1672 31\n",
      "    161 32\n",
      "     79 33\n",
      "     56 34\n",
      "     73 35\n",
      "     15 36\n",
      "     23 37\n",
      "      5 39\n",
      "      6 4\n",
      "      2 40\n",
      "      7 46\n",
      "      5 5\n",
      "     13 6\n",
      "     10 7\n",
      "     16 8\n",
      "      6 9\n"
     ]
    }
   ],
   "source": [
    "# What is the length of the remainder?\n",
    "zcat  02.TRIMMED_FQ/${NAME}_R1.Q20_trimmed5.fastq.gz | sed -n '2~4p' | awk '{print length}'  | sort | uniq -c"
   ]
  },
  {
   "cell_type": "markdown",
   "metadata": {},
   "source": [
    "## 1.3. Remove empty plasmid reads\n",
    "\n",
    "cut adapt: with the next part of the vector as 3’ adapter: *CGCTTCGAGCAGACA* (15 bp).\n",
    "\n",
    "-> the reads that have that 3' adapter or empty plasmid reads and will be kept in a seperate file, the rest (untrimmed reads) will be written to a another file and with this file we will continue to get the enhancer out."
   ]
  },
  {
   "cell_type": "code",
   "execution_count": 6,
   "metadata": {},
   "outputs": [
    {
     "name": "stdout",
     "output_type": "stream",
     "text": [
      "This is cutadapt 2.4 with Python 3.7.4\n",
      "Command line parameters: -a CGCTTCGAGCAGACA --overlap 5 --output 02.TRIMMED_FQ/CSE__953401__CHEQseq-cl2_2000enh_1x_R1.Q20_trimmed5_emptyVector.fastq.gz --untrimmed-output 02.TRIMMED_FQ/CSE__953401__CHEQseq-cl2_2000enh_1x_R1.Q20_trimmed5_full.fastq.gz 02.TRIMMED_FQ/CSE__953401__CHEQseq-cl2_2000enh_1x_R1.Q20_trimmed5.fastq.gz\n",
      "Processing reads on 1 core in single-end mode ...\n",
      "[ 8=---------] 00:02:20    16,536,217 reads  @      8.5 µs/read;   7.04 M reads/minute\n",
      "Finished in 140.93 s (9 us/read; 7.04 M reads/minute).\n",
      "\n",
      "=== Summary ===\n",
      "\n",
      "Total reads processed:              16,536,217\n",
      "Reads with adapters:                     7,743 (0.0%)\n",
      "Reads written (passing filters):         7,743 (0.0%)\n",
      "\n",
      "Total basepairs processed:   479,385,713 bp\n",
      "Total written (filtered):         92,089 bp (0.0%)\n",
      "\n",
      "=== Adapter 1 ===\n",
      "\n",
      "Sequence: CGCTTCGAGCAGACA; Type: regular 3'; Length: 15; Trimmed: 7743 times.\n",
      "\n",
      "No. of allowed errors:\n",
      "0-9 bp: 0; 10-15 bp: 1\n",
      "\n",
      "Bases preceding removed adapters:\n",
      "  A: 14.0%\n",
      "  C: 54.6%\n",
      "  G: 14.4%\n",
      "  T: 16.8%\n",
      "  none/other: 0.2%\n",
      "\n",
      "Overview of removed sequences\n",
      "length\tcount\texpect\tmax.err\terror counts\n",
      "5\t762\t16148.6\t0\t762\n",
      "6\t432\t4037.2\t0\t432\n",
      "7\t436\t1009.3\t0\t436\n",
      "8\t324\t252.3\t0\t324\n",
      "9\t254\t63.1\t0\t254\n",
      "10\t186\t15.8\t1\t184 2\n",
      "11\t259\t3.9\t1\t257 2\n",
      "12\t255\t1.0\t1\t254 1\n",
      "13\t245\t0.2\t1\t244 1\n",
      "14\t146\t0.1\t1\t141 5\n",
      "15\t109\t0.0\t1\t109\n",
      "16\t108\t0.0\t1\t108\n",
      "17\t134\t0.0\t1\t132 2\n",
      "18\t57\t0.0\t1\t50 7\n",
      "19\t178\t0.0\t1\t176 2\n",
      "20\t114\t0.0\t1\t113 1\n",
      "21\t116\t0.0\t1\t115 1\n",
      "22\t98\t0.0\t1\t97 1\n",
      "23\t106\t0.0\t1\t104 2\n",
      "24\t110\t0.0\t1\t109 1\n",
      "25\t3134\t0.0\t1\t3110 24\n",
      "26\t115\t0.0\t1\t112 3\n",
      "27\t31\t0.0\t1\t31\n",
      "28\t21\t0.0\t1\t21\n",
      "29\t12\t0.0\t1\t12\n",
      "30\t1\t0.0\t1\t1\n"
     ]
    }
   ],
   "source": [
    "## Find empty plasmids:\n",
    "    # write the trimmed ones to an output ( = empty vector) ; the untrimmed also to an output (= vector with enhancer)\n",
    "    # Minimum overlap of 5 is required --overlap\n",
    "\n",
    "module load cutadapt/2.4-foss-2018a-Python-3.7.4\n",
    "\n",
    "cutadapt -a CGCTTCGAGCAGACA \\\n",
    "--overlap 5 \\\n",
    "--output 02.TRIMMED_FQ/${NAME}_R1.Q20_trimmed5_emptyVector.fastq.gz \\\n",
    "--untrimmed-output 02.TRIMMED_FQ/${NAME}_R1.Q20_trimmed5_full.fastq.gz  \\\n",
    "02.TRIMMED_FQ/${NAME}_R1.Q20_trimmed5.fastq.gz"
   ]
  },
  {
   "cell_type": "code",
   "execution_count": 7,
   "metadata": {},
   "outputs": [
    {
     "name": "stdout",
     "output_type": "stream",
     "text": [
      "16528474\n",
      "      8 0\n",
      "      6 1\n",
      "     17 10\n",
      "    976 11\n",
      "   3046 12\n",
      "    344 13\n",
      "    118 14\n",
      "    399 15\n",
      "    416 16\n",
      "    406 17\n",
      "    435 18\n",
      "    273 19\n",
      "      6 2\n",
      "     82 20\n",
      "     18 21\n",
      "     10 22\n",
      "     25 23\n",
      "     44 24\n",
      "     60 25\n",
      "    139 26\n",
      "   3193 27\n",
      " 100546 28\n",
      "16374449 29\n",
      "      7 3\n",
      "  41311 30\n",
      "   1663 31\n",
      "    161 32\n",
      "     79 33\n",
      "     56 34\n",
      "     73 35\n",
      "     15 36\n",
      "     23 37\n",
      "      5 39\n",
      "      6 4\n",
      "      2 40\n",
      "      7 46\n",
      "      5 5\n",
      "     13 6\n",
      "     10 7\n",
      "     16 8\n",
      "      6 9\n"
     ]
    }
   ],
   "source": [
    "zcat 02.TRIMMED_FQ/${NAME}_R1.Q20_trimmed5_full.fastq.gz | sed -n '{2~4p}' |wc -l\n",
    "zcat  02.TRIMMED_FQ/${NAME}_R1.Q20_trimmed5_full.fastq.gz | sed -n '2~4p' | awk '{print length}'  | sort | uniq -c"
   ]
  },
  {
   "cell_type": "markdown",
   "metadata": {},
   "source": [
    "## 1.4. Extract the sBCs\n",
    "\n",
    "First demand that the read should be at least 28bp long.\n",
    "\n",
    "Then make fasta only keeping the first 11bp = sBC."
   ]
  },
  {
   "cell_type": "code",
   "execution_count": 8,
   "metadata": {},
   "outputs": [
    {
     "name": "stdout",
     "output_type": "stream",
     "text": [
      "This is cutadapt 2.4 with Python 3.7.4\n",
      "Command line parameters: -l 11 -o 02.TRIMMED_FQ/CSE__953401__CHEQseq-cl2_2000enh_1x_R1.Q20_trimmed5_full_filt_sBC.fastq.gz 02.TRIMMED_FQ/CSE__953401__CHEQseq-cl2_2000enh_1x_R1.Q20_trimmed5_full_filt.fastq.gz\n",
      "Processing reads on 1 core in single-end mode ...\n",
      "[---->8      ] 00:01:20    16,518,390 reads  @      4.9 µs/read;  12.30 M reads/minute\n",
      "Finished in 80.62 s (5 us/read; 12.29 M reads/minute).\n",
      "\n",
      "=== Summary ===\n",
      "\n",
      "Total reads processed:              16,518,390\n",
      "Reads with adapters:                         0 (0.0%)\n",
      "Reads written (passing filters):    16,518,390 (100.0%)\n",
      "\n",
      "Total basepairs processed:   478,979,398 bp\n",
      "Total written (filtered):    181,702,290 bp (37.9%)\n"
     ]
    }
   ],
   "source": [
    "# Remove reads < 28bp\n",
    "zcat 02.TRIMMED_FQ/${NAME}_R1.Q20_trimmed5_full.fastq.gz| awk 'NR%4==1{a=$0} NR%4==2{b=$0} NR%4==3{c=$0} NR%4==0&&length(b)>=28{print a\"\\n\"b\"\\n\"c\"\\n\"$0;}' \\\n",
    "| gzip > 02.TRIMMED_FQ/${NAME}_R1.Q20_trimmed5_full_filt.fastq.gz\n",
    "\n",
    "# Keep only the first 11bp\n",
    "    # Positive values remove bases at the end while negative ones remove bases at the beginning. \n",
    "cutadapt -l 11 -o 02.TRIMMED_FQ/${NAME}_R1.Q20_trimmed5_full_filt_sBC.fastq.gz 02.TRIMMED_FQ/${NAME}_R1.Q20_trimmed5_full_filt.fastq.gz\n",
    "\n",
    "\n"
   ]
  },
  {
   "cell_type": "markdown",
   "metadata": {},
   "source": [
    "## 1.5. Q30 filtering on the sBCs"
   ]
  },
  {
   "cell_type": "code",
   "execution_count": 9,
   "metadata": {},
   "outputs": [
    {
     "name": "stdout",
     "output_type": "stream",
     "text": [
      "Detecting adapter sequence for read1...\n",
      "No adapter detected for read1\n",
      "\n",
      "Read1 before filtering:\n",
      "total reads: 16518390\n",
      "total bases: 181702290\n",
      "Q20 bases: 179989923(99.0576%)\n",
      "Q30 bases: 175306864(96.4803%)\n",
      "\n",
      "Read1 after filtering:\n",
      "total reads: 16376089\n",
      "total bases: 180136569\n",
      "Q20 bases: 178825131(99.272%)\n",
      "Q30 bases: 174445565(96.8407%)\n",
      "\n",
      "Filtering result:\n",
      "reads passed filter: 16376089\n",
      "reads failed due to low quality: 142301\n",
      "reads failed due to too many N: 0\n",
      "reads with adapter trimmed: 0\n",
      "bases trimmed due to adapters: 0\n",
      "\n",
      "Duplication rate (may be overestimated since this is SE data): 0%\n",
      "\n",
      "JSON report: fastp.json\n",
      "HTML report: fastp.html\n",
      "\n",
      "fastp -e 30 --disable_length_filtering -w 8 -o 02.TRIMMED_FQ/CSE__953401__CHEQseq-cl2_2000enh_1x_R1.Q20_trimmed5_full_filt_sBCq30.fastq.gz -i 02.TRIMMED_FQ/CSE__953401__CHEQseq-cl2_2000enh_1x_R1.Q20_trimmed5_full_filt_sBC.fastq.gz \n",
      "fastp v0.20.0, time used: 33 seconds\n"
     ]
    }
   ],
   "source": [
    "# Q30 filtering\n",
    "module load fastp/0.20.0-foss-2018a\n",
    "fastp -e 30 --disable_length_filtering -w 8 \\\n",
    "      -o 02.TRIMMED_FQ/${NAME}_R1.Q20_trimmed5_full_filt_sBCq30.fastq.gz \\\n",
    "      -i 02.TRIMMED_FQ/${NAME}_R1.Q20_trimmed5_full_filt_sBC.fastq.gz\n",
    "\n"
   ]
  },
  {
   "cell_type": "code",
   "execution_count": 10,
   "metadata": {},
   "outputs": [
    {
     "name": "stdout",
     "output_type": "stream",
     "text": [
      "16376089 21313 0.130147 CGAAGCCTCTG 130838 0.798958\n"
     ]
    }
   ],
   "source": [
    "## output one line with: \n",
    "# total number of reads, \n",
    "# number of unique reads, \n",
    "# percentage of unique reads, \n",
    "# most common sequence, \n",
    "# number of occurrence of the most common sequence and frequency of the most common sequence.\n",
    "\n",
    "zcat  02.TRIMMED_FQ/${NAME}_R1.Q20_trimmed5_full_filt_sBCq30.fastq.gz | awk '((NR-2)%4==0){read=$1;total++;count[read]++}END{for(read in count){if(!max||count[read]>max) {max=count[read];maxRead=read};if(count[read]==1){unique++}};print total,unique,unique*100/total,maxRead,count[maxRead],count[maxRead]*100/total}'"
   ]
  },
  {
   "cell_type": "code",
   "execution_count": 11,
   "metadata": {},
   "outputs": [],
   "source": [
    "# Remove reads < 28bp\n",
    "zcat  02.TRIMMED_FQ/${NAME}_R1.Q20_trimmed5_full_filt_sBCq30.fastq.gz| awk 'NR%4==1{a=$0} NR%4==2{b=$0} NR%4==3{c=$0} NR%4==0&&length(b)>=11{print a\"\\n\"b\"\\n\"c\"\\n\"$0;}' \\\n",
    "| gzip >  02.TRIMMED_FQ/${NAME}_R1.Q20_trimmed5_full_filt_sBCq30_filt.fastq.gz"
   ]
  },
  {
   "cell_type": "code",
   "execution_count": 12,
   "metadata": {},
   "outputs": [
    {
     "name": "stdout",
     "output_type": "stream",
     "text": [
      "16376048 21313 0.130147 CGAAGCCTCTG 130838 0.79896\n"
     ]
    }
   ],
   "source": [
    "## output one line with: \n",
    "# total number of reads, \n",
    "# number of unique reads, \n",
    "# percentage of unique reads, \n",
    "# most common sequence, \n",
    "# number of occurrence of the most common sequence and frequency of the most common sequence.\n",
    "\n",
    "zcat  02.TRIMMED_FQ/${NAME}_R1.Q20_trimmed5_full_filt_sBCq30_filt.fastq.gz | awk '((NR-2)%4==0){read=$1;total++;count[read]++}END{for(read in count){if(!max||count[read]>max) {max=count[read];maxRead=read};if(count[read]==1){unique++}};print total,unique,unique*100/total,maxRead,count[maxRead],count[maxRead]*100/total}'"
   ]
  },
  {
   "cell_type": "markdown",
   "metadata": {},
   "source": [
    "## 1.6. Make matrix of sBC and read ID\n",
    "\n",
    "\n"
   ]
  },
  {
   "cell_type": "code",
   "execution_count": 13,
   "metadata": {},
   "outputs": [
    {
     "name": "stdout",
     "output_type": "stream",
     "text": [
      "mkdir: cannot create directory ‘03.E-BC_coupling’: File exists\n"
     ]
    }
   ],
   "source": [
    "# From the sBC reads, create table with following content:\n",
    "    # Read ID - sBC\n",
    "mkdir 03.E-BC_coupling\n",
    "paste \\\n",
    "   <( zcat 02.TRIMMED_FQ/${NAME}_R1.Q20_trimmed5_full_filt_sBCq30_filt.fastq.gz | sed -n '1~4p' | awk '{print $1}' | sed 's/^@//' ) \\\n",
    "   <( zcat 02.TRIMMED_FQ/${NAME}_R1.Q20_trimmed5_full_filt_sBCq30_filt.fastq.gz | sed -n '2~4p' ) \\\n",
    "   | sort -k1 \\\n",
    "   | gzip -c \\\n",
    "   > 03.E-BC_coupling/${NAME}_R1_readID-sBC.tsv.gz"
   ]
  },
  {
   "cell_type": "markdown",
   "metadata": {},
   "source": [
    "# 2) Read 2"
   ]
  },
  {
   "cell_type": "markdown",
   "metadata": {},
   "source": [
    "## 2.1) Filter for sequencing quality\n",
    "\n"
   ]
  },
  {
   "cell_type": "code",
   "execution_count": 14,
   "metadata": {},
   "outputs": [
    {
     "name": "stdout",
     "output_type": "stream",
     "text": [
      "mkdir: cannot create directory ‘02.TRIMMED_FQ’: File exists\n",
      "Read1 before filtering:\n",
      "total reads: 16815676\n",
      "total bases: 807152448\n",
      "Q20 bases: 782369279(96.9296%)\n",
      "Q30 bases: 742605151(92.0031%)\n",
      "\n",
      "Read1 after filtering:\n",
      "total reads: 16023549\n",
      "total bases: 769050147\n",
      "Q20 bases: 755922381(98.293%)\n",
      "Q30 bases: 721751408(93.8497%)\n",
      "\n",
      "Filtering result:\n",
      "reads passed filter: 16023549\n",
      "reads failed due to low quality: 707715\n",
      "reads failed due to too many N: 118\n",
      "reads failed due to too short: 84294\n",
      "\n",
      "Duplication rate (may be overestimated since this is SE data): 2.27793%\n",
      "\n",
      "JSON report: fastp.json\n",
      "HTML report: fastp.html\n",
      "\n",
      "fastp --disable_adapter_trimming -q 20 -u 20 -i ../00.RAW_FASTQ/CSE__953401__CHEQseq-cl2_2000enh_1x_R2.fastq.gz -o 02.TRIMMED_FQ/CSE__953401__CHEQseq-cl2_2000enh_1x_R2.Q20.fastq.gz \n",
      "fastp v0.20.0, time used: 54 seconds\n"
     ]
    }
   ],
   "source": [
    "# at least 80% of the NT (-u 20) must have a quality higher then 20 \n",
    "# (same filtering as R1)\n",
    "\n",
    "module load fastp/0.20.0-foss-2018a\n",
    "mkdir 02.TRIMMED_FQ\n",
    "fastp --disable_adapter_trimming -q 20 -u 20 -i ../00.RAW_FASTQ/${NAME}_R2.fastq.gz -o 02.TRIMMED_FQ/${NAME}_R2.Q20.fastq.gz\n"
   ]
  },
  {
   "cell_type": "markdown",
   "metadata": {},
   "source": [
    "## 2.2) cut 5' adapter"
   ]
  },
  {
   "cell_type": "code",
   "execution_count": 15,
   "metadata": {},
   "outputs": [
    {
     "name": "stdout",
     "output_type": "stream",
     "text": [
      "This is cutadapt 2.4 with Python 3.7.4\n",
      "Command line parameters: -g AATTAATTCGGGCCCCGGTCC --trimmed-only --output 02.TRIMMED_FQ/CSE__953401__CHEQseq-cl2_2000enh_1x_R2.Q20_trimmed5.fastq.gz 02.TRIMMED_FQ/CSE__953401__CHEQseq-cl2_2000enh_1x_R2.Q20.fastq.gz\n",
      "Processing reads on 1 core in single-end mode ...\n",
      "[   8<-------] 00:03:16    16,023,549 reads  @     12.3 µs/read;   4.90 M reads/minute\n",
      "Finished in 196.40 s (12 us/read; 4.90 M reads/minute).\n",
      "\n",
      "=== Summary ===\n",
      "\n",
      "Total reads processed:              16,023,549\n",
      "Reads with adapters:                16,018,116 (100.0%)\n",
      "Reads written (passing filters):    16,018,116 (100.0%)\n",
      "\n",
      "Total basepairs processed:   769,050,147 bp\n",
      "Total written (filtered):    432,567,577 bp (56.2%)\n",
      "\n",
      "=== Adapter 1 ===\n",
      "\n",
      "Sequence: AATTAATTCGGGCCCCGGTCC; Type: regular 5'; Length: 21; Trimmed: 16018116 times.\n",
      "\n",
      "No. of allowed errors:\n",
      "0-9 bp: 0; 10-19 bp: 1; 20-21 bp: 2\n",
      "\n",
      "Overview of removed sequences\n",
      "length\tcount\texpect\tmax.err\terror counts\n",
      "4\t2\t62592.0\t0\t2\n",
      "9\t1\t61.1\t0\t1\n",
      "11\t1\t3.8\t1\t1\n",
      "13\t5\t0.2\t1\t5\n",
      "14\t10\t0.1\t1\t4 6\n",
      "15\t20\t0.0\t1\t11 9\n",
      "16\t61\t0.0\t1\t32 29\n",
      "17\t185\t0.0\t1\t164 21\n",
      "18\t422\t0.0\t1\t88 305 29\n",
      "19\t5286\t0.0\t1\t432 2150 2704\n",
      "20\t153330\t0.0\t2\t61452 89611 2267\n",
      "21\t15828279\t0.0\t2\t15597988 216124 14167\n",
      "22\t18435\t0.0\t2\t3426 14322 687\n",
      "23\t4902\t0.0\t2\t34 253 4615\n",
      "24\t7035\t0.0\t2\t6806 144 85\n",
      "25\t33\t0.0\t2\t13 10 10\n",
      "26\t11\t0.0\t2\t3 2 6\n",
      "27\t5\t0.0\t2\t5\n",
      "28\t10\t0.0\t2\t9 1\n",
      "29\t5\t0.0\t2\t3 2\n",
      "30\t7\t0.0\t2\t7\n",
      "31\t3\t0.0\t2\t2 1\n",
      "32\t2\t0.0\t2\t2\n",
      "33\t9\t0.0\t2\t8 1\n",
      "34\t1\t0.0\t2\t0 1\n",
      "35\t3\t0.0\t2\t3\n",
      "36\t2\t0.0\t2\t0 1 1\n",
      "37\t1\t0.0\t2\t1\n",
      "38\t1\t0.0\t2\t1\n",
      "39\t4\t0.0\t2\t4\n",
      "40\t8\t0.0\t2\t8\n",
      "41\t1\t0.0\t2\t1\n",
      "42\t3\t0.0\t2\t2 1\n",
      "43\t4\t0.0\t2\t4\n",
      "44\t4\t0.0\t2\t4\n",
      "45\t4\t0.0\t2\t3 1\n",
      "46\t4\t0.0\t2\t4\n",
      "47\t3\t0.0\t2\t3\n",
      "48\t14\t0.0\t2\t3 5 6\n"
     ]
    }
   ],
   "source": [
    "# cut 5' adaptor\n",
    "# write only the reads that are trimmed, so that contained the adaptor\n",
    "module load cutadapt/2.4-foss-2018a-Python-3.7.4\n",
    "\n",
    "cutadapt -g AATTAATTCGGGCCCCGGTCC --trimmed-only \\\n",
    "--output 02.TRIMMED_FQ/${NAME}_R2.Q20_trimmed5.fastq.gz \\\n",
    "02.TRIMMED_FQ/${NAME}_R2.Q20.fastq.gz"
   ]
  },
  {
   "cell_type": "markdown",
   "metadata": {},
   "source": [
    "## 2.3) cut 3' adapter  + 17 bp long"
   ]
  },
  {
   "cell_type": "code",
   "execution_count": 16,
   "metadata": {},
   "outputs": [
    {
     "name": "stdout",
     "output_type": "stream",
     "text": [
      "This is cutadapt 2.4 with Python 3.7.4\n",
      "Command line parameters: -a GATCGGCGCGCC --trimmed-only -m 17 -M 17 --output 02.TRIMMED_FQ/CSE__953401__CHEQseq-cl2_2000enh_1x_R2.Q20_trimmed5-3_rBC.fastq.gz 02.TRIMMED_FQ/CSE__953401__CHEQseq-cl2_2000enh_1x_R2.Q20_trimmed5.fastq.gz\n",
      "Processing reads on 1 core in single-end mode ...\n",
      "[    8<------] 00:03:59    16,018,116 reads  @     15.0 µs/read;   4.01 M reads/minute\n",
      "Finished in 239.94 s (15 us/read; 4.01 M reads/minute).\n",
      "\n",
      "=== Summary ===\n",
      "\n",
      "Total reads processed:              16,018,116\n",
      "Reads with adapters:                15,961,896 (99.6%)\n",
      "Reads that were too short:             127,182 (0.8%)\n",
      "Reads that were too long:              139,142 (0.9%)\n",
      "Reads written (passing filters):    15,751,633 (98.3%)\n",
      "\n",
      "Total basepairs processed:   432,567,577 bp\n",
      "Total written (filtered):    267,777,761 bp (61.9%)\n",
      "\n",
      "=== Adapter 1 ===\n",
      "\n",
      "Sequence: GATCGGCGCGCC; Type: regular 3'; Length: 12; Trimmed: 15961896 times.\n",
      "\n",
      "No. of allowed errors:\n",
      "0-9 bp: 0; 10-12 bp: 1\n",
      "\n",
      "Bases preceding removed adapters:\n",
      "  A: 34.0%\n",
      "  C: 25.8%\n",
      "  G: 17.1%\n",
      "  T: 23.0%\n",
      "  none/other: 0.0%\n",
      "\n",
      "Overview of removed sequences\n",
      "length\tcount\texpect\tmax.err\terror counts\n",
      "3\t1452\t250283.1\t0\t1452\n",
      "4\t1594\t62570.8\t0\t1594\n",
      "5\t1603\t15642.7\t0\t1603\n",
      "6\t1715\t3910.7\t0\t1715\n",
      "7\t9793\t977.7\t0\t9793\n",
      "8\t5855\t244.4\t0\t5855\n",
      "9\t71572\t61.1\t0\t71020 552\n",
      "10\t15603994\t15.3\t1\t15406703 197291\n",
      "11\t239360\t3.8\t1\t208067 31293\n",
      "12\t11269\t1.0\t1\t10238 1031\n",
      "13\t3717\t1.0\t1\t3444 273\n",
      "14\t2270\t1.0\t1\t1792 478\n",
      "15\t1368\t1.0\t1\t973 395\n",
      "16\t1007\t1.0\t1\t773 234\n",
      "17\t902\t1.0\t1\t627 275\n",
      "18\t684\t1.0\t1\t417 267\n",
      "19\t669\t1.0\t1\t470 199\n",
      "20\t492\t1.0\t1\t346 146\n",
      "21\t568\t1.0\t1\t276 292\n",
      "22\t352\t1.0\t1\t202 150\n",
      "23\t380\t1.0\t1\t227 153\n",
      "24\t486\t1.0\t1\t238 248\n",
      "25\t393\t1.0\t1\t185 208\n",
      "26\t149\t1.0\t1\t45 104\n",
      "27\t231\t1.0\t1\t94 137\n",
      "28\t16\t1.0\t1\t16\n",
      "29\t5\t1.0\t1\t5\n"
     ]
    }
   ],
   "source": [
    "# cut 3' adaptor + demand it to be 17bp long\n",
    "\n",
    "cutadapt -a GATCGGCGCGCC --trimmed-only \\\n",
    "-m 17 -M 17 \\\n",
    "--output  02.TRIMMED_FQ/${NAME}_R2.Q20_trimmed5-3_rBC.fastq.gz \\\n",
    "02.TRIMMED_FQ/${NAME}_R2.Q20_trimmed5.fastq.gz"
   ]
  },
  {
   "cell_type": "code",
   "execution_count": 17,
   "metadata": {},
   "outputs": [
    {
     "name": "stdout",
     "output_type": "stream",
     "text": [
      "@A00311:155:HNLWHDRXX:1:2101:1325:1000 2:N:0:TAATCGAT+GGTTCAAT\n",
      "ACCATCACCATTTCCCC\n",
      "+\n",
      "FFFFFFFFFFFFFFFFF\n",
      "@A00311:155:HNLWHDRXX:1:2101:1922:1000 2:N:0:TAATCGAT+GGTTCAAT\n",
      "CAGAAATAATGGACAGA\n",
      "+\n",
      "FFFFFFFF:FFFFFFFF\n",
      "@A00311:155:HNLWHDRXX:1:2101:3043:1000 2:N:0:TAATCGAT+GGTTCAAT\n",
      "GTGCTGTAAGGCACATT\n",
      "\n",
      "gzip: stdout: Broken pipe\n"
     ]
    }
   ],
   "source": [
    "zcat 02.TRIMMED_FQ/${NAME}_R2.Q20_trimmed5-3_rBC.fastq.gz| head"
   ]
  },
  {
   "cell_type": "markdown",
   "metadata": {},
   "source": [
    "## 2.4) Filter more for sequencing quality"
   ]
  },
  {
   "cell_type": "code",
   "execution_count": 18,
   "metadata": {},
   "outputs": [
    {
     "name": "stdout",
     "output_type": "stream",
     "text": [
      "Detecting adapter sequence for read1...\n",
      "No adapter detected for read1\n",
      "\n",
      "Read1 before filtering:\n",
      "total reads: 15751633\n",
      "total bases: 267777761\n",
      "Q20 bases: 261917290(97.8114%)\n",
      "Q30 bases: 248596761(92.837%)\n",
      "\n",
      "Read1 after filtering:\n",
      "total reads: 15470621\n",
      "total bases: 263000243\n",
      "Q20 bases: 258421608(98.2591%)\n",
      "Q30 bases: 246050852(93.5554%)\n",
      "\n",
      "Filtering result:\n",
      "reads passed filter: 15470621\n",
      "reads failed due to low quality: 281012\n",
      "reads failed due to too many N: 0\n",
      "reads with adapter trimmed: 0\n",
      "bases trimmed due to adapters: 0\n",
      "\n",
      "Duplication rate (may be overestimated since this is SE data): 0%\n",
      "\n",
      "JSON report: fastp.json\n",
      "HTML report: fastp.html\n",
      "\n",
      "fastp -e 30 --disable_length_filtering -w 8 -o 02.TRIMMED_FQ/CSE__953401__CHEQseq-cl2_2000enh_1x_R2.Q20_trimmed5-3_rBCq30.fastq.gz -i 02.TRIMMED_FQ/CSE__953401__CHEQseq-cl2_2000enh_1x_R2.Q20_trimmed5-3_rBC.fastq.gz \n",
      "fastp v0.20.0, time used: 53 seconds\n"
     ]
    }
   ],
   "source": [
    "# Q30 filtering\n",
    "module load fastp/0.20.0-foss-2018a\n",
    "fastp -e 30 --disable_length_filtering -w 8 \\\n",
    "      -o  02.TRIMMED_FQ/${NAME}_R2.Q20_trimmed5-3_rBCq30.fastq.gz \\\n",
    "      -i  02.TRIMMED_FQ/${NAME}_R2.Q20_trimmed5-3_rBC.fastq.gz\n"
   ]
  },
  {
   "cell_type": "code",
   "execution_count": 19,
   "metadata": {},
   "outputs": [
    {
     "name": "stdout",
     "output_type": "stream",
     "text": [
      "15470589 17\n",
      "      1 6\n",
      "     24 7\n",
      "      7 8\n"
     ]
    }
   ],
   "source": [
    "# checked if all reads are still 17 bp\n",
    "zcat  02.TRIMMED_FQ/${NAME}_R2.Q20_trimmed5-3_rBCq30.fastq.gz| sed -n '2~4p' | awk '{print length($0);}' | sort | uniq -c"
   ]
  },
  {
   "cell_type": "code",
   "execution_count": 20,
   "metadata": {},
   "outputs": [],
   "source": [
    "# remove reads that are not 17 bp\n",
    "zcat 02.TRIMMED_FQ/${NAME}_R2.Q20_trimmed5-3_rBCq30.fastq.gz| awk 'NR%4==1{a=$0} NR%4==2{b=$0} NR%4==3{c=$0} NR%4==0&&length(b)==17{print a\"\\n\"b\"\\n\"c\"\\n\"$0;}' \\\n",
    "| gzip > 02.TRIMMED_FQ/${NAME}_R2.Q20_trimmed5-3_rBCq30_filt.fastq.gz\n"
   ]
  },
  {
   "cell_type": "code",
   "execution_count": 21,
   "metadata": {},
   "outputs": [
    {
     "name": "stdout",
     "output_type": "stream",
     "text": [
      "15470589 17\n"
     ]
    }
   ],
   "source": [
    "# checked if all reads are still 17 bp\n",
    "zcat  02.TRIMMED_FQ/${NAME}_R2.Q20_trimmed5-3_rBCq30_filt.fastq.gz| sed -n '2~4p' | awk '{print length($0);}' | sort | uniq -c"
   ]
  },
  {
   "cell_type": "code",
   "execution_count": 22,
   "metadata": {},
   "outputs": [
    {
     "name": "stdout",
     "output_type": "stream",
     "text": [
      "15470589\n"
     ]
    }
   ],
   "source": [
    "zcat 02.TRIMMED_FQ/${NAME}_R2.Q20_trimmed5-3_rBCq30_filt.fastq.gz |  sed -n '2~4p' |wc -l"
   ]
  },
  {
   "cell_type": "markdown",
   "metadata": {},
   "source": [
    "## 2.5) Make matrix of rBC and read ID"
   ]
  },
  {
   "cell_type": "code",
   "execution_count": 23,
   "metadata": {},
   "outputs": [],
   "source": [
    "# From the barcode reads,\n",
    "# Create table with following content:\n",
    "# Read ID<TAB> rBC\n",
    "paste \\\n",
    "   <( zcat 02.TRIMMED_FQ/${NAME}_R2.Q20_trimmed5-3_rBCq30_filt.fastq.gz | sed -n '1~4p' | awk '{print $1}' | sed 's/^@//' ) \\\n",
    "   <( zcat 02.TRIMMED_FQ/${NAME}_R2.Q20_trimmed5-3_rBCq30_filt.fastq.gz | sed -n '2~4p' ) \\\n",
    "   | sort -k1 \\\n",
    "   | gzip -c \\\n",
    "   > 03.E-BC_coupling/${NAME}_R2_readID-rBC.tsv.gz\n",
    "   \n"
   ]
  },
  {
   "cell_type": "code",
   "execution_count": 24,
   "metadata": {},
   "outputs": [
    {
     "name": "stdout",
     "output_type": "stream",
     "text": [
      "A00311:155:HNLWHDRXX:1:2101:10004:12054\tTGGTTAAACGCAGACCA\n",
      "A00311:155:HNLWHDRXX:1:2101:10004:12774\tAAACATTGTCCAACGAT\n",
      "A00311:155:HNLWHDRXX:1:2101:10004:13996\tACACCTCCGCCTCACCT\n",
      "A00311:155:HNLWHDRXX:1:2101:10004:16532\tGAGTCTTACCCAAACAT\n",
      "A00311:155:HNLWHDRXX:1:2101:10004:19163\tACCACTAATCATTTAGT\n",
      "A00311:155:HNLWHDRXX:1:2101:10004:20729\tTGCCCAACTCACTCTCC\n",
      "A00311:155:HNLWHDRXX:1:2101:10004:23359\tCAGGCCTTACCAACACG\n",
      "A00311:155:HNLWHDRXX:1:2101:10004:23672\tAGGAAAAGAGGGGCTAA\n",
      "A00311:155:HNLWHDRXX:1:2101:10004:24048\tTGATATTGTTATCACAA\n",
      "A00311:155:HNLWHDRXX:1:2101:10004:24612\tCCACCAGGACTGCCTCC\n",
      "\n",
      "gzip: stdout: Broken pipe\n"
     ]
    }
   ],
   "source": [
    "zcat  03.E-BC_coupling/${NAME}_R2_readID-rBC.tsv.gz| head"
   ]
  },
  {
   "cell_type": "markdown",
   "metadata": {},
   "source": [
    "# 3) Linking rBC with sBC"
   ]
  },
  {
   "cell_type": "markdown",
   "metadata": {},
   "source": [
    "- (needed further bellow) Matrix with Enhancer ID and the sBC: /user/leuven/317/vsc31703/stg_00002/Enhancer_design/Cloning/259bp_fastas/All_sequences_ID-sBC.tsv\n",
    "- Matrix with read ID and sBC from R1: 03.E-BC_coupling/${NAME}_R1_readID-sBC.tsv.gz\n",
    "\n",
    "- Matrix with read ID and rBC from R2: 03.E-BC_coupling/${NAME}_R2_readID-rBC.tsv.gz\n"
   ]
  },
  {
   "cell_type": "code",
   "execution_count": 25,
   "metadata": {},
   "outputs": [],
   "source": [
    "# Merge the sBC and rBC using the read IDs\n",
    "    # Importantly: sort on the read IDs\n",
    "    # ID - BC - coord - real seq\n",
    "    # Join together based on read ID (-j 1 because in both files the ID is in the first column)\n",
    "    # Specify the order of the columns you want to be printed\n",
    "join -j 1 -o 1.1,1.2,2.2 \\\n",
    "<(sort -k1 <(zcat 03.E-BC_coupling/${NAME}_R1_readID-sBC.tsv.gz)) \\\n",
    "<(sort -k1 <(zcat 03.E-BC_coupling/${NAME}_R2_readID-rBC.tsv.gz)) \\\n",
    "| tr \" \" \"\\t\" > 03.E-BC_coupling/${NAME}_readID_sBC_rBC_coupled.matrix\n"
   ]
  },
  {
   "cell_type": "code",
   "execution_count": 26,
   "metadata": {},
   "outputs": [],
   "source": [
    "cat 03.E-BC_coupling/${NAME}_readID_sBC_rBC_coupled.matrix | sort -k2 > 03.E-BC_coupling/${NAME}_readID_sBC_rBC_coupled.sorted.matrix"
   ]
  },
  {
   "cell_type": "code",
   "execution_count": 27,
   "metadata": {},
   "outputs": [
    {
     "name": "stdout",
     "output_type": "stream",
     "text": [
      "15298304\n"
     ]
    }
   ],
   "source": [
    "# number of rBC-sBC links\n",
    "cat 03.E-BC_coupling/${NAME}_readID_sBC_rBC_coupled.sorted.matrix | wc -l"
   ]
  },
  {
   "cell_type": "code",
   "execution_count": 28,
   "metadata": {},
   "outputs": [
    {
     "name": "stdout",
     "output_type": "stream",
     "text": [
      "2489241\n"
     ]
    }
   ],
   "source": [
    "# Number of unique rBCs (matrix has readID - sBC - rBC)\n",
    "cat 03.E-BC_coupling/${NAME}_readID_sBC_rBC_coupled.sorted.matrix| cut -f3 | sort | uniq | wc -l"
   ]
  },
  {
   "cell_type": "markdown",
   "metadata": {},
   "source": [
    "# 4) Remove from the empty-rBCs lost that are also the ones linked to non-empty plasmid reads -> soleley empty-plasmid\n",
    "\n",
    "For the reads linked to an empty plasmid, we just want to couple these read IDs from R1 to R2. Then we want to remove within these the rBCs that are also linked to non-empty plasmid reads."
   ]
  },
  {
   "cell_type": "markdown",
   "metadata": {},
   "source": [
    "## 4.1. Make matrix of sBC and read ID for empty plasmids\n",
    "\n",
    "\n"
   ]
  },
  {
   "cell_type": "code",
   "execution_count": 29,
   "metadata": {},
   "outputs": [
    {
     "name": "stdout",
     "output_type": "stream",
     "text": [
      "mkdir: cannot create directory ‘03.E-BC_coupling’: File exists\n"
     ]
    }
   ],
   "source": [
    "# From the sBC reads, create table with following content:\n",
    "    # Read ID - sBC\n",
    "mkdir 03.E-BC_coupling\n",
    "paste \\\n",
    "   <( zcat 02.TRIMMED_FQ/${NAME}_R1.Q20_trimmed5_emptyVector.fastq.gz  | sed -n '1~4p' | awk '{print $1}' | sed 's/^@//' ) \\\n",
    "   <( zcat 02.TRIMMED_FQ/${NAME}_R1.Q20_trimmed5_emptyVector.fastq.gz  | sed -n '2~4p' ) \\\n",
    "   | sort -k1 \\\n",
    "   | gzip -c \\\n",
    "   > 03.E-BC_coupling/${NAME}_R1_empty_readID_rest.tsv.gz"
   ]
  },
  {
   "cell_type": "markdown",
   "metadata": {},
   "source": [
    "## 4.2. Linking rBC with sBC - read ID for empty plasmids"
   ]
  },
  {
   "cell_type": "code",
   "execution_count": 30,
   "metadata": {},
   "outputs": [],
   "source": [
    "# Merge the sBC and rBC using the read IDs\n",
    "     # we will only print the readID and the rBC\n",
    "join -j 1 -o 1.1,2.2 \\\n",
    "<(sort -k1 <(zcat 03.E-BC_coupling/${NAME}_R1_empty_readID_rest.tsv.gz)) \\\n",
    "<(sort -k1 <(zcat 03.E-BC_coupling/${NAME}_R2_readID-rBC.tsv.gz)) \\\n",
    "| tr \" \" \"\\t\" > 03.E-BC_coupling/${NAME}_empty_readID_rest_rBC_coupled.matrix\n"
   ]
  },
  {
   "cell_type": "markdown",
   "metadata": {},
   "source": [
    "## 4.3. Remove the normal rBCs (linked to non-empty) from previous matrix from these empty-coupled rBCs to get solely-empty-coupled rBCs\n"
   ]
  },
  {
   "cell_type": "code",
   "execution_count": 31,
   "metadata": {},
   "outputs": [],
   "source": [
    "# Read ID both in first column; the empty plasmid file only contains the coupled rBC, the other file readID_sBC_rBC\n",
    "join -1 2 -2 3 -o 1.1,1.2 -v1 \\\n",
    "<(sort -k2 <(cat 03.E-BC_coupling/${NAME}_empty_readID_rest_rBC_coupled.matrix)) \\\n",
    "<(sort -k3 <(cat 03.E-BC_coupling/${NAME}_readID_sBC_rBC_coupled.sorted.matrix)) \\\n",
    "| tr \" \" \"\\t\" > 03.E-BC_coupling/${NAME}_solely-empty_readID_rest_rBC_coupled.matrix\n"
   ]
  },
  {
   "cell_type": "code",
   "execution_count": 32,
   "metadata": {},
   "outputs": [
    {
     "name": "stdout",
     "output_type": "stream",
     "text": [
      "1937 03.E-BC_coupling/CSE__953401__CHEQseq-cl2_2000enh_1x_solely-empty_readID_rest_rBC_coupled.matrix\n"
     ]
    }
   ],
   "source": [
    "wc -l 03.E-BC_coupling/${NAME}_solely-empty_readID_rest_rBC_coupled.matrix"
   ]
  },
  {
   "cell_type": "markdown",
   "metadata": {},
   "source": [
    "# 5) Create final rBC - enhancer file\n",
    "\n",
    "Now we have a matrix with readID_sBC_rBC in which the rBCs also linked to empty plasmid are removed.\n",
    "\n",
    "We will now do the final merge:\n",
    "- merge the readID_sBC_rBC  matrix with the enhancerID_sBC matrix\n",
    "- then we keep only the unique couples, so PCR duplicates are removed\n",
    "- then we will remove any rBC that is linked to multiple enhancers"
   ]
  },
  {
   "cell_type": "markdown",
   "metadata": {},
   "source": [
    "## 5.1. Link back sBC to enhancer"
   ]
  },
  {
   "cell_type": "code",
   "execution_count": 2,
   "metadata": {},
   "outputs": [],
   "source": [
    "import numpy as np\n",
    "import pandas as pd\n",
    "import csv\n"
   ]
  },
  {
   "cell_type": "code",
   "execution_count": 3,
   "metadata": {},
   "outputs": [],
   "source": [
    "# Load data\n",
    "enh = pd.read_csv('/user/leuven/317/vsc31703/stg_00002/Enhancer_design/Cloning/259bp_fastas/All_sequences_ID-sBC.tsv', sep='\\t', header=None,names=('enhancerID','sBC'))\n",
    "#bcs = pd.read_csv('/user/leuven/317/vsc31703/stg_00002/Enhancer_design/MPRA/CHEQ-seq_cloning2/E-BC_coupling/03.E-BC_coupling/CSE__88dc35__CHEQseq-cl2_2000enh_3x_readID_sBC_rBC_coupled.sorted.matrix', sep='\\t', header=None,names=('readID','sBC','rBC'))\n",
    "bcs = pd.read_csv('/user/leuven/317/vsc31703/stg_00002/Enhancer_design/MPRA/CHEQ-seq_cloning2/E-BC_coupling/03.E-BC_coupling/CSE__953401__CHEQseq-cl2_2000enh_1x_readID_sBC_rBC_coupled.sorted.matrix', sep='\\t', header=None,names=('readID','sBC','rBC'))"
   ]
  },
  {
   "cell_type": "code",
   "execution_count": 4,
   "metadata": {},
   "outputs": [],
   "source": [
    "# Merge: link every sBC instance in the R1 (because there are many intances of the same sBC linked to different rBCs) back to its correct enhancer via the sBC\n",
    "result = pd.merge(enh, bcs, on='sBC')"
   ]
  },
  {
   "cell_type": "code",
   "execution_count": 5,
   "metadata": {},
   "outputs": [],
   "source": [
    "# Reverse complement the rBCs\n",
    "result['rBC_RC'] = result['rBC'].apply(lambda x: x.replace('A', 'temp').replace('T', 'A').replace('temp', 'T').replace('G', 'temp').replace('C','G').replace('temp','C')[::-1])"
   ]
  },
  {
   "cell_type": "code",
   "execution_count": 6,
   "metadata": {},
   "outputs": [
    {
     "data": {
      "text/html": [
       "<div>\n",
       "<style scoped>\n",
       "    .dataframe tbody tr th:only-of-type {\n",
       "        vertical-align: middle;\n",
       "    }\n",
       "\n",
       "    .dataframe tbody tr th {\n",
       "        vertical-align: top;\n",
       "    }\n",
       "\n",
       "    .dataframe thead th {\n",
       "        text-align: right;\n",
       "    }\n",
       "</style>\n",
       "<table border=\"1\" class=\"dataframe\">\n",
       "  <thead>\n",
       "    <tr style=\"text-align: right;\">\n",
       "      <th></th>\n",
       "      <th>enhancerID</th>\n",
       "      <th>sBC</th>\n",
       "      <th>readID</th>\n",
       "      <th>rBC</th>\n",
       "      <th>rBC_RC</th>\n",
       "    </tr>\n",
       "  </thead>\n",
       "  <tbody>\n",
       "    <tr>\n",
       "      <td>0</td>\n",
       "      <td>A_group1_seq1_chr1:17027607-17028107</td>\n",
       "      <td>AACACACGCAA</td>\n",
       "      <td>A00311:155:HNLWHDRXX:2:2176:12382:36839</td>\n",
       "      <td>AAAAAAACCGGCATGAA</td>\n",
       "      <td>TTCATGCCGGTTTTTTT</td>\n",
       "    </tr>\n",
       "    <tr>\n",
       "      <td>1</td>\n",
       "      <td>A_group1_seq1_chr1:17027607-17028107</td>\n",
       "      <td>AACACACGCAA</td>\n",
       "      <td>A00311:155:HNLWHDRXX:1:2213:27688:7420</td>\n",
       "      <td>AAAAAAACGACCCAACG</td>\n",
       "      <td>CGTTGGGTCGTTTTTTT</td>\n",
       "    </tr>\n",
       "    <tr>\n",
       "      <td>2</td>\n",
       "      <td>A_group1_seq1_chr1:17027607-17028107</td>\n",
       "      <td>AACACACGCAA</td>\n",
       "      <td>A00311:155:HNLWHDRXX:2:2178:28031:13651</td>\n",
       "      <td>AAAAAAACGGGTACATT</td>\n",
       "      <td>AATGTACCCGTTTTTTT</td>\n",
       "    </tr>\n",
       "    <tr>\n",
       "      <td>3</td>\n",
       "      <td>A_group1_seq1_chr1:17027607-17028107</td>\n",
       "      <td>AACACACGCAA</td>\n",
       "      <td>A00311:155:HNLWHDRXX:2:2178:29288:9314</td>\n",
       "      <td>AAAAAAACGGGTACATT</td>\n",
       "      <td>AATGTACCCGTTTTTTT</td>\n",
       "    </tr>\n",
       "    <tr>\n",
       "      <td>4</td>\n",
       "      <td>A_group1_seq1_chr1:17027607-17028107</td>\n",
       "      <td>AACACACGCAA</td>\n",
       "      <td>A00311:155:HNLWHDRXX:2:2243:32289:31234</td>\n",
       "      <td>AAAAAAAGTATAAGACA</td>\n",
       "      <td>TGTCTTATACTTTTTTT</td>\n",
       "    </tr>\n",
       "    <tr>\n",
       "      <td>...</td>\n",
       "      <td>...</td>\n",
       "      <td>...</td>\n",
       "      <td>...</td>\n",
       "      <td>...</td>\n",
       "      <td>...</td>\n",
       "    </tr>\n",
       "    <tr>\n",
       "      <td>14827270</td>\n",
       "      <td>S5_MES_TEAD</td>\n",
       "      <td>CTGTTAATGGA</td>\n",
       "      <td>A00311:155:HNLWHDRXX:1:2207:13431:1172</td>\n",
       "      <td>TTTTGCTCGGTTTCGAC</td>\n",
       "      <td>GTCGAAACCGAGCAAAA</td>\n",
       "    </tr>\n",
       "    <tr>\n",
       "      <td>14827271</td>\n",
       "      <td>S5_MES_TEAD</td>\n",
       "      <td>CTGTTAATGGA</td>\n",
       "      <td>A00311:155:HNLWHDRXX:2:2136:9489:32236</td>\n",
       "      <td>TTTTGCTCGGTTTCGAC</td>\n",
       "      <td>GTCGAAACCGAGCAAAA</td>\n",
       "    </tr>\n",
       "    <tr>\n",
       "      <td>14827272</td>\n",
       "      <td>S5_MES_TEAD</td>\n",
       "      <td>CTGTTAATGGA</td>\n",
       "      <td>A00311:155:HNLWHDRXX:2:2218:7238:13933</td>\n",
       "      <td>TTTTGCTCGGTTTCGAC</td>\n",
       "      <td>GTCGAAACCGAGCAAAA</td>\n",
       "    </tr>\n",
       "    <tr>\n",
       "      <td>14827273</td>\n",
       "      <td>S5_MES_TEAD</td>\n",
       "      <td>CTGTTAATGGA</td>\n",
       "      <td>A00311:155:HNLWHDRXX:1:2174:9661:27524</td>\n",
       "      <td>TTTTTCGAATGTCAATC</td>\n",
       "      <td>GATTGACATTCGAAAAA</td>\n",
       "    </tr>\n",
       "    <tr>\n",
       "      <td>14827274</td>\n",
       "      <td>S5_MES_TEAD</td>\n",
       "      <td>CTGTTAATGGA</td>\n",
       "      <td>A00311:155:HNLWHDRXX:1:2271:22498:23077</td>\n",
       "      <td>TTTTTTTGTAGAATAAC</td>\n",
       "      <td>GTTATTCTACAAAAAAA</td>\n",
       "    </tr>\n",
       "  </tbody>\n",
       "</table>\n",
       "<p>14827275 rows × 5 columns</p>\n",
       "</div>"
      ],
      "text/plain": [
       "                                    enhancerID          sBC  \\\n",
       "0         A_group1_seq1_chr1:17027607-17028107  AACACACGCAA   \n",
       "1         A_group1_seq1_chr1:17027607-17028107  AACACACGCAA   \n",
       "2         A_group1_seq1_chr1:17027607-17028107  AACACACGCAA   \n",
       "3         A_group1_seq1_chr1:17027607-17028107  AACACACGCAA   \n",
       "4         A_group1_seq1_chr1:17027607-17028107  AACACACGCAA   \n",
       "...                                        ...          ...   \n",
       "14827270                           S5_MES_TEAD  CTGTTAATGGA   \n",
       "14827271                           S5_MES_TEAD  CTGTTAATGGA   \n",
       "14827272                           S5_MES_TEAD  CTGTTAATGGA   \n",
       "14827273                           S5_MES_TEAD  CTGTTAATGGA   \n",
       "14827274                           S5_MES_TEAD  CTGTTAATGGA   \n",
       "\n",
       "                                           readID                rBC  \\\n",
       "0         A00311:155:HNLWHDRXX:2:2176:12382:36839  AAAAAAACCGGCATGAA   \n",
       "1          A00311:155:HNLWHDRXX:1:2213:27688:7420  AAAAAAACGACCCAACG   \n",
       "2         A00311:155:HNLWHDRXX:2:2178:28031:13651  AAAAAAACGGGTACATT   \n",
       "3          A00311:155:HNLWHDRXX:2:2178:29288:9314  AAAAAAACGGGTACATT   \n",
       "4         A00311:155:HNLWHDRXX:2:2243:32289:31234  AAAAAAAGTATAAGACA   \n",
       "...                                           ...                ...   \n",
       "14827270   A00311:155:HNLWHDRXX:1:2207:13431:1172  TTTTGCTCGGTTTCGAC   \n",
       "14827271   A00311:155:HNLWHDRXX:2:2136:9489:32236  TTTTGCTCGGTTTCGAC   \n",
       "14827272   A00311:155:HNLWHDRXX:2:2218:7238:13933  TTTTGCTCGGTTTCGAC   \n",
       "14827273   A00311:155:HNLWHDRXX:1:2174:9661:27524  TTTTTCGAATGTCAATC   \n",
       "14827274  A00311:155:HNLWHDRXX:1:2271:22498:23077  TTTTTTTGTAGAATAAC   \n",
       "\n",
       "                     rBC_RC  \n",
       "0         TTCATGCCGGTTTTTTT  \n",
       "1         CGTTGGGTCGTTTTTTT  \n",
       "2         AATGTACCCGTTTTTTT  \n",
       "3         AATGTACCCGTTTTTTT  \n",
       "4         TGTCTTATACTTTTTTT  \n",
       "...                     ...  \n",
       "14827270  GTCGAAACCGAGCAAAA  \n",
       "14827271  GTCGAAACCGAGCAAAA  \n",
       "14827272  GTCGAAACCGAGCAAAA  \n",
       "14827273  GATTGACATTCGAAAAA  \n",
       "14827274  GTTATTCTACAAAAAAA  \n",
       "\n",
       "[14827275 rows x 5 columns]"
      ]
     },
     "execution_count": 6,
     "metadata": {},
     "output_type": "execute_result"
    }
   ],
   "source": [
    "result"
   ]
  },
  {
   "cell_type": "code",
   "execution_count": 7,
   "metadata": {},
   "outputs": [
    {
     "data": {
      "text/plain": [
       "1998"
      ]
     },
     "execution_count": 7,
     "metadata": {},
     "output_type": "execute_result"
    }
   ],
   "source": [
    "# Number of unique enhancers found back in library\n",
    "len(result.enhancerID.unique())"
   ]
  },
  {
   "cell_type": "code",
   "execution_count": 8,
   "metadata": {},
   "outputs": [
    {
     "data": {
      "text/plain": [
       "2456513"
      ]
     },
     "execution_count": 8,
     "metadata": {},
     "output_type": "execute_result"
    }
   ],
   "source": [
    "# Number of unique rBCs found back in library\n",
    "len(result.rBC.unique())"
   ]
  },
  {
   "cell_type": "code",
   "execution_count": 9,
   "metadata": {},
   "outputs": [],
   "source": [
    "#result.to_csv(\"/user/leuven/317/vsc31703/stg_00002/Enhancer_design/MPRA/CHEQ-seq_cloning2/E-BC_coupling/03.E-BC_coupling/CSE__88dc35__CHEQseq-cl2_2000enh_3x_enhancerID_sBC_rBC_coupled.matrix\", sep=\"\\t\", quoting=csv.QUOTE_NONE, header=False, index=False)\n",
    "result.to_csv(\"/user/leuven/317/vsc31703/stg_00002/Enhancer_design/MPRA/CHEQ-seq_cloning2/E-BC_coupling/03.E-BC_coupling/CSE__953401__CHEQseq-cl2_2000enh_1x_enhancerID_sBC_rBC_coupled.matrix\", sep=\"\\t\", quoting=csv.QUOTE_NONE, header=False, index=False)\n"
   ]
  },
  {
   "cell_type": "markdown",
   "metadata": {},
   "source": [
    "## 5.2. Keep only unique rBC-enhancer couples (so remove PCR duplicates)"
   ]
  },
  {
   "cell_type": "code",
   "execution_count": 2,
   "metadata": {},
   "outputs": [],
   "source": [
    "# keep only unique couples (so remove PCR duplicates)\n",
    "cat 03.E-BC_coupling/${NAME}_enhancerID_sBC_rBC_coupled.matrix |cut -f1,5 > 03.E-BC_coupling/${NAME}_enhancerID_sBC_rBC_coupled.format.matrix\n",
    "\n",
    "cat 03.E-BC_coupling/${NAME}_enhancerID_sBC_rBC_coupled.format.matrix \\\n",
    "   | sort -k1 \\\n",
    "   | uniq \\\n",
    "   > 03.E-BC_coupling/${NAME}_enhancerID_sBC_rBC_coupled.format_unique.matrix\n",
    "\n",
    "cat 03.E-BC_coupling/${NAME}_enhancerID_sBC_rBC_coupled.format_unique.matrix| awk '{print $2 \".\" $1}' | sort |tr \".\" \"\\t\"  > 03.E-BC_coupling/${NAME}_enhancerID_sBC_rBC_coupled.format_unique.sorted.matrix\n"
   ]
  },
  {
   "cell_type": "code",
   "execution_count": 3,
   "metadata": {},
   "outputs": [
    {
     "name": "stdout",
     "output_type": "stream",
     "text": [
      "5380674 03.E-BC_coupling/CSE__953401__CHEQseq-cl2_2000enh_1x_enhancerID_sBC_rBC_coupled.format_unique.sorted.matrix\n"
     ]
    }
   ],
   "source": [
    "wc -l 03.E-BC_coupling/${NAME}_enhancerID_sBC_rBC_coupled.format_unique.sorted.matrix"
   ]
  },
  {
   "cell_type": "markdown",
   "metadata": {},
   "source": [
    "## 5.3. Keep only rBCs linked to only one enhancer\n",
    "\n",
    "Because in the previous step, we already removed the PCR duplicates, now every time a rBCs occurs more than once it is linked with a different enhancer. And since the matrix is ordered according to the rBCs, we will just print here only the rows for which no two following lines are the same."
   ]
  },
  {
   "cell_type": "code",
   "execution_count": 2,
   "metadata": {},
   "outputs": [
    {
     "data": {
      "text/html": [
       "<div>\n",
       "<style scoped>\n",
       "    .dataframe tbody tr th:only-of-type {\n",
       "        vertical-align: middle;\n",
       "    }\n",
       "\n",
       "    .dataframe tbody tr th {\n",
       "        vertical-align: top;\n",
       "    }\n",
       "\n",
       "    .dataframe thead th {\n",
       "        text-align: right;\n",
       "    }\n",
       "</style>\n",
       "<table border=\"1\" class=\"dataframe\">\n",
       "  <thead>\n",
       "    <tr style=\"text-align: right;\">\n",
       "      <th></th>\n",
       "      <th>BC</th>\n",
       "      <th>Enhancer</th>\n",
       "    </tr>\n",
       "  </thead>\n",
       "  <tbody>\n",
       "    <tr>\n",
       "      <td>0</td>\n",
       "      <td>AAAAAAAAAAATGGATA</td>\n",
       "      <td>S5_MES_AP1_TEAD-5prime-6bp</td>\n",
       "    </tr>\n",
       "    <tr>\n",
       "      <td>1</td>\n",
       "      <td>AAAAAAAAAAGCCAGTT</td>\n",
       "      <td>B1_group1_seq29_chr17:80513676-80514177</td>\n",
       "    </tr>\n",
       "    <tr>\n",
       "      <td>2</td>\n",
       "      <td>AAAAAAAAAAGCCAGTT</td>\n",
       "      <td>C_group1_seq86_chr4:130350980-130351481</td>\n",
       "    </tr>\n",
       "    <tr>\n",
       "      <td>3</td>\n",
       "      <td>AAAAAAAAAATATCCTT</td>\n",
       "      <td>A_group2_seq164_chr15:84852643-84853143</td>\n",
       "    </tr>\n",
       "    <tr>\n",
       "      <td>4</td>\n",
       "      <td>AAAAAAAAAATATCCTT</td>\n",
       "      <td>B2_group1_seq85_chr15:89084235-89084736</td>\n",
       "    </tr>\n",
       "    <tr>\n",
       "      <td>...</td>\n",
       "      <td>...</td>\n",
       "      <td>...</td>\n",
       "    </tr>\n",
       "    <tr>\n",
       "      <td>5380669</td>\n",
       "      <td>TTTTTTTTTTTTTGAGT</td>\n",
       "      <td>C_group1_seq18_chr2:150384868-150385369</td>\n",
       "    </tr>\n",
       "    <tr>\n",
       "      <td>5380670</td>\n",
       "      <td>TTTTTTTTTTTTTTACC</td>\n",
       "      <td>A_group1_seq18_chr11:49166081-49166581</td>\n",
       "    </tr>\n",
       "    <tr>\n",
       "      <td>5380671</td>\n",
       "      <td>TTTTTTTTTTTTTTACC</td>\n",
       "      <td>A_group1_seq1_chr1:17027607-17028107</td>\n",
       "    </tr>\n",
       "    <tr>\n",
       "      <td>5380672</td>\n",
       "      <td>TTTTTTTTTTTTTTACC</td>\n",
       "      <td>A_group3_seq15_chr10:47749356-47749856</td>\n",
       "    </tr>\n",
       "    <tr>\n",
       "      <td>5380673</td>\n",
       "      <td>TTTTTTTTTTTTTTAGC</td>\n",
       "      <td>Random_sequence_trial3</td>\n",
       "    </tr>\n",
       "  </tbody>\n",
       "</table>\n",
       "<p>5380674 rows × 2 columns</p>\n",
       "</div>"
      ],
      "text/plain": [
       "                        BC                                 Enhancer\n",
       "0        AAAAAAAAAAATGGATA               S5_MES_AP1_TEAD-5prime-6bp\n",
       "1        AAAAAAAAAAGCCAGTT  B1_group1_seq29_chr17:80513676-80514177\n",
       "2        AAAAAAAAAAGCCAGTT  C_group1_seq86_chr4:130350980-130351481\n",
       "3        AAAAAAAAAATATCCTT  A_group2_seq164_chr15:84852643-84853143\n",
       "4        AAAAAAAAAATATCCTT  B2_group1_seq85_chr15:89084235-89084736\n",
       "...                    ...                                      ...\n",
       "5380669  TTTTTTTTTTTTTGAGT  C_group1_seq18_chr2:150384868-150385369\n",
       "5380670  TTTTTTTTTTTTTTACC   A_group1_seq18_chr11:49166081-49166581\n",
       "5380671  TTTTTTTTTTTTTTACC     A_group1_seq1_chr1:17027607-17028107\n",
       "5380672  TTTTTTTTTTTTTTACC   A_group3_seq15_chr10:47749356-47749856\n",
       "5380673  TTTTTTTTTTTTTTAGC                   Random_sequence_trial3\n",
       "\n",
       "[5380674 rows x 2 columns]"
      ]
     },
     "execution_count": 2,
     "metadata": {},
     "output_type": "execute_result"
    }
   ],
   "source": [
    "import numpy as np\n",
    "import pandas as pd\n",
    "import csv\n",
    "#df = pd.read_csv('/user/leuven/317/vsc31703/stg_00002/Enhancer_design/MPRA/CHEQ-seq_cloning2/E-BC_coupling/03.E-BC_coupling/CSE__88dc35__CHEQseq-cl2_2000enh_3x_enhancerID_sBC_rBC_coupled.format_unique.sorted.matrix', sep='\\t', header=None,names=('BC','Enhancer'))\n",
    "df = pd.read_csv('/user/leuven/317/vsc31703/stg_00002/Enhancer_design/MPRA/CHEQ-seq_cloning2/E-BC_coupling/03.E-BC_coupling/CSE__953401__CHEQseq-cl2_2000enh_1x_enhancerID_sBC_rBC_coupled.format_unique.sorted.matrix', sep='\\t', header=None,names=('BC','Enhancer'))\n",
    "\n",
    "df\n"
   ]
  },
  {
   "cell_type": "code",
   "execution_count": 3,
   "metadata": {},
   "outputs": [
    {
     "data": {
      "text/plain": [
       "5380674"
      ]
     },
     "execution_count": 3,
     "metadata": {},
     "output_type": "execute_result"
    }
   ],
   "source": [
    "len(df)"
   ]
  },
  {
   "cell_type": "code",
   "execution_count": 4,
   "metadata": {},
   "outputs": [],
   "source": [
    "list =[]\n",
    "list.append(\"a\"\n",
    "        )"
   ]
  },
  {
   "cell_type": "code",
   "execution_count": 5,
   "metadata": {},
   "outputs": [
    {
     "name": "stdout",
     "output_type": "stream",
     "text": [
      "100000\n",
      "200000\n",
      "300000\n",
      "400000\n",
      "500000\n",
      "600000\n",
      "700000\n",
      "800000\n",
      "900000\n",
      "1000000\n",
      "1100000\n",
      "1200000\n",
      "1300000\n",
      "1400000\n",
      "1500000\n",
      "1600000\n",
      "1700000\n",
      "1800000\n",
      "1900000\n",
      "2000000\n",
      "2100000\n",
      "2200000\n",
      "2300000\n",
      "2400000\n",
      "2500000\n",
      "2600000\n",
      "2700000\n",
      "2800000\n",
      "2900000\n",
      "3000000\n",
      "3100000\n",
      "3200000\n",
      "3300000\n",
      "3400000\n",
      "3500000\n",
      "3600000\n",
      "3700000\n",
      "3800000\n",
      "3900000\n",
      "4000000\n",
      "4100000\n",
      "4200000\n",
      "4300000\n",
      "4400000\n",
      "4500000\n",
      "4600000\n",
      "4700000\n",
      "4800000\n",
      "4900000\n",
      "5000000\n",
      "5100000\n",
      "5200000\n",
      "5300000\n"
     ]
    }
   ],
   "source": [
    "# Print a list where only the rBCs that are coupled with only 1 enhancer are  written\n",
    "lastBC=\"\"\n",
    "tempList = []\n",
    "ToDeletPrevious=False\n",
    "i = 0\n",
    "initalLength = df.shape[0]\n",
    "while i < initalLength:\n",
    "    if df.loc[i]['BC'] == lastBC:\n",
    "        #if ToDeletPrevious==True:\n",
    "            #df.drop(i-1)\n",
    "            #i = i - 1\n",
    "        lastBC=df.loc[i]['BC']\n",
    "        #df.drop(i)\n",
    "        ToDeletPrevious=False\n",
    "        #i = i -1\n",
    "    else:\n",
    "        if ToDeletPrevious ==True:\n",
    "            tempList.append(df.loc[i])\n",
    "        ToDeletPrevious=True\n",
    "        lastBC=df.loc[i]['BC']\n",
    "    i = i +1\n",
    "    if i % 100000 == 0:\n",
    "        print(i)"
   ]
  },
  {
   "cell_type": "code",
   "execution_count": 6,
   "metadata": {},
   "outputs": [
    {
     "data": {
      "text/plain": [
       "1094441"
      ]
     },
     "execution_count": 6,
     "metadata": {},
     "output_type": "execute_result"
    }
   ],
   "source": [
    "len(tempList)"
   ]
  },
  {
   "cell_type": "code",
   "execution_count": 7,
   "metadata": {},
   "outputs": [],
   "source": [
    "myarray = np.array(tempList)"
   ]
  },
  {
   "cell_type": "code",
   "execution_count": 8,
   "metadata": {},
   "outputs": [
    {
     "data": {
      "text/plain": [
       "array([['AAAAAAAAAAGCCAGTT', 'B1_group1_seq29_chr17:80513676-80514177'],\n",
       "       ['AAAAAAAAAGATCCTGA', 'A_group4_seq26_chr7:44008156-44008656'],\n",
       "       ['AAAAAAAAATCGATTAT', 'A_group1_seq45_chr20:24227971-24228471'],\n",
       "       ...,\n",
       "       ['TTTTTTTTTTTTTACCG', 'B1_group1_seq106_chr11:67363550-67364051'],\n",
       "       ['TTTTTTTTTTTTTAGTA', 'A_group2_seq137_chr11:118597666-118598166'],\n",
       "       ['TTTTTTTTTTTTTATGA', 'B1_group5_seq149_chr16:21401190-21401539']],\n",
       "      dtype=object)"
      ]
     },
     "execution_count": 8,
     "metadata": {},
     "output_type": "execute_result"
    }
   ],
   "source": [
    "myarray"
   ]
  },
  {
   "cell_type": "code",
   "execution_count": 9,
   "metadata": {},
   "outputs": [],
   "source": [
    "# This is the one-to-one matrix\n",
    "\n",
    "#np.savetxt('/user/leuven/317/vsc31703/stg_00002/Enhancer_design/MPRA/CHEQ-seq_cloning2/E-BC_coupling/03.E-BC_coupling/CSE__88dc35__CHEQseq-cl2_2000enh_3x_enhancerID_sBC_rBC_coupled.format_unique.sorted_1to1.matrix', myarray, fmt=\"%s\",delimiter='\\t')\n",
    "  \n",
    "np.savetxt('/user/leuven/317/vsc31703/stg_00002/Enhancer_design/MPRA/CHEQ-seq_cloning2/E-BC_coupling/03.E-BC_coupling/CSE__953401__CHEQseq-cl2_2000enh_1x_enhancerID_sBC_rBC_coupled.format_unique.sorted_1to1.matrix', myarray, fmt=\"%s\",delimiter='\\t')\n"
   ]
  },
  {
   "cell_type": "markdown",
   "metadata": {},
   "source": [
    "# = Final one-to-one matrix of rBC - enhancer coupled without empty plasmdids"
   ]
  },
  {
   "cell_type": "markdown",
   "metadata": {},
   "source": [
    "## Check the distriution of rBC per enhancer"
   ]
  },
  {
   "cell_type": "code",
   "execution_count": 1,
   "metadata": {},
   "outputs": [],
   "source": [
    "#m <- read.table(\"/user/leuven/317/vsc31703/stg_00002/Enhancer_design/MPRA/CHEQ-seq_cloning2/E-BC_coupling/03.E-BC_coupling/CSE__953401__CHEQseq-cl2_2000enh_1x_enhancerID_sBC_rBC_coupled.format_unique.sorted_1to1.matrix\", header =F)\n",
    "m <- read.table(\"/user/leuven/317/vsc31703/stg_00002/Enhancer_design/MPRA/CHEQ-seq_cloning2/E-BC_coupling/03.E-BC_coupling/CSE__88dc35__CHEQseq-cl2_2000enh_3x_enhancerID_sBC_rBC_coupled.format_unique.sorted_1to1.matrix\", header =F)\n",
    "\n"
   ]
  },
  {
   "cell_type": "code",
   "execution_count": 2,
   "metadata": {},
   "outputs": [],
   "source": [
    "colnames(m) <- c('rBC','Enhancer')"
   ]
  },
  {
   "cell_type": "code",
   "execution_count": 3,
   "metadata": {},
   "outputs": [
    {
     "data": {
      "text/html": [
       "<table>\n",
       "<caption>A data.frame: 6 x 2</caption>\n",
       "<thead>\n",
       "\t<tr><th scope=col>rBC</th><th scope=col>Enhancer</th></tr>\n",
       "\t<tr><th scope=col>&lt;fct&gt;</th><th scope=col>&lt;fct&gt;</th></tr>\n",
       "</thead>\n",
       "<tbody>\n",
       "\t<tr><td>AAAAAAAAAACAGATAA</td><td>B1_group3_seq12_chr1:185226215-185226716</td></tr>\n",
       "\t<tr><td>AAAAAAAAAACCAATAA</td><td>A_group2_seq153_chr14:46052209-46052709 </td></tr>\n",
       "\t<tr><td>AAAAAAAAAGAGTAGCC</td><td>B2_group1_seq211_chr12:31330453-31330954</td></tr>\n",
       "\t<tr><td>AAAAAAAAAGCAGATGG</td><td>A_group2_seq149_chr13:53495666-53496166 </td></tr>\n",
       "\t<tr><td>AAAAAAAAAGGGCTGAT</td><td>B1_group5_seq12_chr6:41537231-41538539  </td></tr>\n",
       "\t<tr><td>AAAAAAAAAGTGGCTGT</td><td>A_group1_seq1_chr1:17027607-17028107    </td></tr>\n",
       "</tbody>\n",
       "</table>\n"
      ],
      "text/latex": [
       "A data.frame: 6 x 2\n",
       "\\begin{tabular}{r|ll}\n",
       " rBC & Enhancer\\\\\n",
       " <fct> & <fct>\\\\\n",
       "\\hline\n",
       "\t AAAAAAAAAACAGATAA & B1\\_group3\\_seq12\\_chr1:185226215-185226716\\\\\n",
       "\t AAAAAAAAAACCAATAA & A\\_group2\\_seq153\\_chr14:46052209-46052709 \\\\\n",
       "\t AAAAAAAAAGAGTAGCC & B2\\_group1\\_seq211\\_chr12:31330453-31330954\\\\\n",
       "\t AAAAAAAAAGCAGATGG & A\\_group2\\_seq149\\_chr13:53495666-53496166 \\\\\n",
       "\t AAAAAAAAAGGGCTGAT & B1\\_group5\\_seq12\\_chr6:41537231-41538539  \\\\\n",
       "\t AAAAAAAAAGTGGCTGT & A\\_group1\\_seq1\\_chr1:17027607-17028107    \\\\\n",
       "\\end{tabular}\n"
      ],
      "text/markdown": [
       "\n",
       "A data.frame: 6 x 2\n",
       "\n",
       "| rBC &lt;fct&gt; | Enhancer &lt;fct&gt; |\n",
       "|---|---|\n",
       "| AAAAAAAAAACAGATAA | B1_group3_seq12_chr1:185226215-185226716 |\n",
       "| AAAAAAAAAACCAATAA | A_group2_seq153_chr14:46052209-46052709  |\n",
       "| AAAAAAAAAGAGTAGCC | B2_group1_seq211_chr12:31330453-31330954 |\n",
       "| AAAAAAAAAGCAGATGG | A_group2_seq149_chr13:53495666-53496166  |\n",
       "| AAAAAAAAAGGGCTGAT | B1_group5_seq12_chr6:41537231-41538539   |\n",
       "| AAAAAAAAAGTGGCTGT | A_group1_seq1_chr1:17027607-17028107     |\n",
       "\n"
      ],
      "text/plain": [
       "  rBC               Enhancer                                \n",
       "1 AAAAAAAAAACAGATAA B1_group3_seq12_chr1:185226215-185226716\n",
       "2 AAAAAAAAAACCAATAA A_group2_seq153_chr14:46052209-46052709 \n",
       "3 AAAAAAAAAGAGTAGCC B2_group1_seq211_chr12:31330453-31330954\n",
       "4 AAAAAAAAAGCAGATGG A_group2_seq149_chr13:53495666-53496166 \n",
       "5 AAAAAAAAAGGGCTGAT B1_group5_seq12_chr6:41537231-41538539  \n",
       "6 AAAAAAAAAGTGGCTGT A_group1_seq1_chr1:17027607-17028107    "
      ]
     },
     "metadata": {},
     "output_type": "display_data"
    },
    {
     "data": {
      "text/html": [
       "<ol class=list-inline>\n",
       "\t<li>3427605</li>\n",
       "\t<li>2</li>\n",
       "</ol>\n"
      ],
      "text/latex": [
       "\\begin{enumerate*}\n",
       "\\item 3427605\n",
       "\\item 2\n",
       "\\end{enumerate*}\n"
      ],
      "text/markdown": [
       "1. 3427605\n",
       "2. 2\n",
       "\n",
       "\n"
      ],
      "text/plain": [
       "[1] 3427605       2"
      ]
     },
     "metadata": {},
     "output_type": "display_data"
    }
   ],
   "source": [
    "head(m)\n",
    "dim(m)\n"
   ]
  },
  {
   "cell_type": "code",
   "execution_count": 4,
   "metadata": {},
   "outputs": [],
   "source": [
    "# Calculate number of rBCs per enhancer (as each rBC only appears once as it can only be coupled to 1 enhancer, we can just count the frequencies each enhancer occurs)\n",
    "x <- as.data.frame(table(m$Enhancer))"
   ]
  },
  {
   "cell_type": "code",
   "execution_count": 5,
   "metadata": {},
   "outputs": [
    {
     "data": {
      "text/html": [
       "<table>\n",
       "<caption>A data.frame: 6 x 2</caption>\n",
       "<thead>\n",
       "\t<tr><th scope=col>Var1</th><th scope=col>Freq</th></tr>\n",
       "\t<tr><th scope=col>&lt;fct&gt;</th><th scope=col>&lt;int&gt;</th></tr>\n",
       "</thead>\n",
       "<tbody>\n",
       "\t<tr><td>A_group1_seq100_chr9:96385969-96386469  </td><td>4639</td></tr>\n",
       "\t<tr><td>A_group1_seq101_chr9:140681098-140681598</td><td> 647</td></tr>\n",
       "\t<tr><td>A_group1_seq102_chrX:3845338-3845838    </td><td>1006</td></tr>\n",
       "\t<tr><td>A_group1_seq103_chrX:9827376-9827876    </td><td>4136</td></tr>\n",
       "\t<tr><td>A_group1_seq104_chrX:14320175-14320675  </td><td>2371</td></tr>\n",
       "\t<tr><td>A_group1_seq105_chrX:81125209-81125709  </td><td>2372</td></tr>\n",
       "</tbody>\n",
       "</table>\n"
      ],
      "text/latex": [
       "A data.frame: 6 x 2\n",
       "\\begin{tabular}{r|ll}\n",
       " Var1 & Freq\\\\\n",
       " <fct> & <int>\\\\\n",
       "\\hline\n",
       "\t A\\_group1\\_seq100\\_chr9:96385969-96386469   & 4639\\\\\n",
       "\t A\\_group1\\_seq101\\_chr9:140681098-140681598 &  647\\\\\n",
       "\t A\\_group1\\_seq102\\_chrX:3845338-3845838     & 1006\\\\\n",
       "\t A\\_group1\\_seq103\\_chrX:9827376-9827876     & 4136\\\\\n",
       "\t A\\_group1\\_seq104\\_chrX:14320175-14320675   & 2371\\\\\n",
       "\t A\\_group1\\_seq105\\_chrX:81125209-81125709   & 2372\\\\\n",
       "\\end{tabular}\n"
      ],
      "text/markdown": [
       "\n",
       "A data.frame: 6 x 2\n",
       "\n",
       "| Var1 &lt;fct&gt; | Freq &lt;int&gt; |\n",
       "|---|---|\n",
       "| A_group1_seq100_chr9:96385969-96386469   | 4639 |\n",
       "| A_group1_seq101_chr9:140681098-140681598 |  647 |\n",
       "| A_group1_seq102_chrX:3845338-3845838     | 1006 |\n",
       "| A_group1_seq103_chrX:9827376-9827876     | 4136 |\n",
       "| A_group1_seq104_chrX:14320175-14320675   | 2371 |\n",
       "| A_group1_seq105_chrX:81125209-81125709   | 2372 |\n",
       "\n"
      ],
      "text/plain": [
       "  Var1                                     Freq\n",
       "1 A_group1_seq100_chr9:96385969-96386469   4639\n",
       "2 A_group1_seq101_chr9:140681098-140681598  647\n",
       "3 A_group1_seq102_chrX:3845338-3845838     1006\n",
       "4 A_group1_seq103_chrX:9827376-9827876     4136\n",
       "5 A_group1_seq104_chrX:14320175-14320675   2371\n",
       "6 A_group1_seq105_chrX:81125209-81125709   2372"
      ]
     },
     "metadata": {},
     "output_type": "display_data"
    },
    {
     "data": {
      "text/html": [
       "<ol class=list-inline>\n",
       "\t<li>1998</li>\n",
       "\t<li>2</li>\n",
       "</ol>\n"
      ],
      "text/latex": [
       "\\begin{enumerate*}\n",
       "\\item 1998\n",
       "\\item 2\n",
       "\\end{enumerate*}\n"
      ],
      "text/markdown": [
       "1. 1998\n",
       "2. 2\n",
       "\n",
       "\n"
      ],
      "text/plain": [
       "[1] 1998    2"
      ]
     },
     "metadata": {},
     "output_type": "display_data"
    }
   ],
   "source": [
    "head(x)\n",
    "dim(x)"
   ]
  },
  {
   "cell_type": "code",
   "execution_count": 6,
   "metadata": {},
   "outputs": [
    {
     "data": {
      "text/plain": [
       "   Min. 1st Qu.  Median    Mean 3rd Qu.    Max. \n",
       "      6     647    1156    1716    2165   27276 "
      ]
     },
     "metadata": {},
     "output_type": "display_data"
    }
   ],
   "source": [
    "summary(x$Freq)"
   ]
  },
  {
   "cell_type": "code",
   "execution_count": 15,
   "metadata": {},
   "outputs": [
    {
     "data": {
      "text/html": [
       "<table>\n",
       "<caption>A data.frame: 20 x 2</caption>\n",
       "<thead>\n",
       "\t<tr><th></th><th scope=col>Var1</th><th scope=col>Freq</th></tr>\n",
       "\t<tr><th></th><th scope=col>&lt;fct&gt;</th><th scope=col>&lt;int&gt;</th></tr>\n",
       "</thead>\n",
       "<tbody>\n",
       "\t<tr><th scope=row>1384</th><td>B2_group3_seq131_chr9:43376634-43376970             </td><td> 6</td></tr>\n",
       "\t<tr><th scope=row>546</th><td>B1_group1_seq212_chr1:232468422-232468923           </td><td>14</td></tr>\n",
       "\t<tr><th scope=row>1002</th><td>B1_group5_seq51_chr2:133025518-133026407            </td><td>16</td></tr>\n",
       "\t<tr><th scope=row>1371</th><td>B2_group3_seq116_chr2:133025518-133026407           </td><td>20</td></tr>\n",
       "\t<tr><th scope=row>1203</th><td>B2_group1_seq245_chr1:159017399-159017900           </td><td>30</td></tr>\n",
       "\t<tr><th scope=row>1752</th><td>Neg-Control_B2_group3_seq80_chr11:175385-175963     </td><td>31</td></tr>\n",
       "\t<tr><th scope=row>898</th><td>B1_group5_seq189_chr13:28033564-28034043            </td><td>36</td></tr>\n",
       "\t<tr><th scope=row>1282</th><td>B2_group1_seq66_chr13:25528701-25529202             </td><td>37</td></tr>\n",
       "\t<tr><th scope=row>697</th><td>B1_group2_seq17_chr13:25528701-25529202             </td><td>38</td></tr>\n",
       "\t<tr><th scope=row>604</th><td>B1_group1_seq53_chr16:58539224-58539725             </td><td>39</td></tr>\n",
       "\t<tr><th scope=row>662</th><td>B1_group2_seq108_chr1:162698935-162699436           </td><td>44</td></tr>\n",
       "\t<tr><th scope=row>116</th><td>A_group2_seq109_chr9:47216611-47217111              </td><td>61</td></tr>\n",
       "\t<tr><th scope=row>573</th><td>B1_group1_seq25_chr1:39887435-39887936              </td><td>68</td></tr>\n",
       "\t<tr><th scope=row>1346</th><td>B2_group2_seq34_chr3:10394211-10395104              </td><td>78</td></tr>\n",
       "\t<tr><th scope=row>1158</th><td>B2_group1_seq204_chr22:48100065-48100566            </td><td>82</td></tr>\n",
       "\t<tr><th scope=row>767</th><td>B1_group2_seq80_chr14:20544265-20544766             </td><td>84</td></tr>\n",
       "\t<tr><th scope=row>1581</th><td>Neg-Control_A_group1_seq84_chr7:1056602-1057102     </td><td>88</td></tr>\n",
       "\t<tr><th scope=row>1344</th><td>B2_group2_seq32_chr7:143489706-143490207            </td><td>91</td></tr>\n",
       "\t<tr><th scope=row>1653</th><td>Neg-Control_B1_group1_seq189_chr20:60750743-60751244</td><td>91</td></tr>\n",
       "\t<tr><th scope=row>1783</th><td>S4_MEL_SOX_MITF-3prime-50bp                         </td><td>92</td></tr>\n",
       "</tbody>\n",
       "</table>\n"
      ],
      "text/latex": [
       "A data.frame: 20 x 2\n",
       "\\begin{tabular}{r|ll}\n",
       "  & Var1 & Freq\\\\\n",
       "  & <fct> & <int>\\\\\n",
       "\\hline\n",
       "\t1384 & B2\\_group3\\_seq131\\_chr9:43376634-43376970              &  6\\\\\n",
       "\t546 & B1\\_group1\\_seq212\\_chr1:232468422-232468923            & 14\\\\\n",
       "\t1002 & B1\\_group5\\_seq51\\_chr2:133025518-133026407             & 16\\\\\n",
       "\t1371 & B2\\_group3\\_seq116\\_chr2:133025518-133026407            & 20\\\\\n",
       "\t1203 & B2\\_group1\\_seq245\\_chr1:159017399-159017900            & 30\\\\\n",
       "\t1752 & Neg-Control\\_B2\\_group3\\_seq80\\_chr11:175385-175963      & 31\\\\\n",
       "\t898 & B1\\_group5\\_seq189\\_chr13:28033564-28034043             & 36\\\\\n",
       "\t1282 & B2\\_group1\\_seq66\\_chr13:25528701-25529202              & 37\\\\\n",
       "\t697 & B1\\_group2\\_seq17\\_chr13:25528701-25529202              & 38\\\\\n",
       "\t604 & B1\\_group1\\_seq53\\_chr16:58539224-58539725              & 39\\\\\n",
       "\t662 & B1\\_group2\\_seq108\\_chr1:162698935-162699436            & 44\\\\\n",
       "\t116 & A\\_group2\\_seq109\\_chr9:47216611-47217111               & 61\\\\\n",
       "\t573 & B1\\_group1\\_seq25\\_chr1:39887435-39887936               & 68\\\\\n",
       "\t1346 & B2\\_group2\\_seq34\\_chr3:10394211-10395104               & 78\\\\\n",
       "\t1158 & B2\\_group1\\_seq204\\_chr22:48100065-48100566             & 82\\\\\n",
       "\t767 & B1\\_group2\\_seq80\\_chr14:20544265-20544766              & 84\\\\\n",
       "\t1581 & Neg-Control\\_A\\_group1\\_seq84\\_chr7:1056602-1057102      & 88\\\\\n",
       "\t1344 & B2\\_group2\\_seq32\\_chr7:143489706-143490207             & 91\\\\\n",
       "\t1653 & Neg-Control\\_B1\\_group1\\_seq189\\_chr20:60750743-60751244 & 91\\\\\n",
       "\t1783 & S4\\_MEL\\_SOX\\_MITF-3prime-50bp                          & 92\\\\\n",
       "\\end{tabular}\n"
      ],
      "text/markdown": [
       "\n",
       "A data.frame: 20 x 2\n",
       "\n",
       "| <!--/--> | Var1 &lt;fct&gt; | Freq &lt;int&gt; |\n",
       "|---|---|---|\n",
       "| 1384 | B2_group3_seq131_chr9:43376634-43376970              |  6 |\n",
       "| 546 | B1_group1_seq212_chr1:232468422-232468923            | 14 |\n",
       "| 1002 | B1_group5_seq51_chr2:133025518-133026407             | 16 |\n",
       "| 1371 | B2_group3_seq116_chr2:133025518-133026407            | 20 |\n",
       "| 1203 | B2_group1_seq245_chr1:159017399-159017900            | 30 |\n",
       "| 1752 | Neg-Control_B2_group3_seq80_chr11:175385-175963      | 31 |\n",
       "| 898 | B1_group5_seq189_chr13:28033564-28034043             | 36 |\n",
       "| 1282 | B2_group1_seq66_chr13:25528701-25529202              | 37 |\n",
       "| 697 | B1_group2_seq17_chr13:25528701-25529202              | 38 |\n",
       "| 604 | B1_group1_seq53_chr16:58539224-58539725              | 39 |\n",
       "| 662 | B1_group2_seq108_chr1:162698935-162699436            | 44 |\n",
       "| 116 | A_group2_seq109_chr9:47216611-47217111               | 61 |\n",
       "| 573 | B1_group1_seq25_chr1:39887435-39887936               | 68 |\n",
       "| 1346 | B2_group2_seq34_chr3:10394211-10395104               | 78 |\n",
       "| 1158 | B2_group1_seq204_chr22:48100065-48100566             | 82 |\n",
       "| 767 | B1_group2_seq80_chr14:20544265-20544766              | 84 |\n",
       "| 1581 | Neg-Control_A_group1_seq84_chr7:1056602-1057102      | 88 |\n",
       "| 1344 | B2_group2_seq32_chr7:143489706-143490207             | 91 |\n",
       "| 1653 | Neg-Control_B1_group1_seq189_chr20:60750743-60751244 | 91 |\n",
       "| 1783 | S4_MEL_SOX_MITF-3prime-50bp                          | 92 |\n",
       "\n"
      ],
      "text/plain": [
       "     Var1                                                 Freq\n",
       "1384 B2_group3_seq131_chr9:43376634-43376970               6  \n",
       "546  B1_group1_seq212_chr1:232468422-232468923            14  \n",
       "1002 B1_group5_seq51_chr2:133025518-133026407             16  \n",
       "1371 B2_group3_seq116_chr2:133025518-133026407            20  \n",
       "1203 B2_group1_seq245_chr1:159017399-159017900            30  \n",
       "1752 Neg-Control_B2_group3_seq80_chr11:175385-175963      31  \n",
       "898  B1_group5_seq189_chr13:28033564-28034043             36  \n",
       "1282 B2_group1_seq66_chr13:25528701-25529202              37  \n",
       "697  B1_group2_seq17_chr13:25528701-25529202              38  \n",
       "604  B1_group1_seq53_chr16:58539224-58539725              39  \n",
       "662  B1_group2_seq108_chr1:162698935-162699436            44  \n",
       "116  A_group2_seq109_chr9:47216611-47217111               61  \n",
       "573  B1_group1_seq25_chr1:39887435-39887936               68  \n",
       "1346 B2_group2_seq34_chr3:10394211-10395104               78  \n",
       "1158 B2_group1_seq204_chr22:48100065-48100566             82  \n",
       "767  B1_group2_seq80_chr14:20544265-20544766              84  \n",
       "1581 Neg-Control_A_group1_seq84_chr7:1056602-1057102      88  \n",
       "1344 B2_group2_seq32_chr7:143489706-143490207             91  \n",
       "1653 Neg-Control_B1_group1_seq189_chr20:60750743-60751244 91  \n",
       "1783 S4_MEL_SOX_MITF-3prime-50bp                          92  "
      ]
     },
     "metadata": {},
     "output_type": "display_data"
    },
    {
     "data": {
      "image/png": "[encoded data removed]",
      "text/plain": [
       "plot without title"
      ]
     },
     "metadata": {},
     "output_type": "display_data"
    }
   ],
   "source": [
    "plot(x[order(x[,2]),]$Freq)\n",
    "x[order(x[,2]),][c(1:20),]"
   ]
  },
  {
   "cell_type": "code",
   "execution_count": 8,
   "metadata": {},
   "outputs": [],
   "source": [
    "  x$class <- \"unassigned\"\n",
    "  x[grep(pattern = \"A_group1\", x = x$Var1), \"class\"] <- \"A_group1\"\n",
    "  x[grep(pattern = \"A_group2\", x = x$Var1), \"class\"] <- \"A_group2\"\n",
    "  x[grep(pattern = \"A_group3\", x = x$Var1), \"class\"] <- \"A_group3\"\n",
    "  x[grep(pattern = \"A_group4\", x = x$Var1), \"class\"] <- \"A_group4\"\n",
    "  x[grep(pattern = \"B1_group1\", x = x$Var1), \"class\"] <- \"B1_group1\"\n",
    "  x[grep(pattern = \"B1_group2\", x = x$Var1), \"class\"] <- \"B1_group2\"\n",
    "  x[grep(pattern = \"B1_group3\", x = x$Var1), \"class\"] <- \"B1_group3\"\n",
    "  x[grep(pattern = \"B1_group4\", x = x$Var1), \"class\"] <- \"B1_group4\"\n",
    "  x[grep(pattern = \"B1_group5\", x = x$Var1), \"class\"] <- \"B1_group5\"\n",
    "  x[grep(pattern = \"B2_group1\", x = x$Var1), \"class\"] <- \"B2_group1\"\n",
    "  x[grep(pattern = \"B2_group2\", x = x$Var1), \"class\"] <- \"B2_group2\"\n",
    "  x[grep(pattern = \"B2_group3\", x = x$Var1), \"class\"] <- \"B2_group3\"\n",
    "  x[grep(pattern = \"C_group1\", x = x$Var1), \"class\"] <- \"C_group1\"\n",
    "  x[grep(pattern = \"C_group2\", x = x$Var1), \"class\"] <- \"C_group2\"\n",
    "  x[grep(pattern = \"C_group3\", x = x$Var1), \"class\"] <- \"C_group3\"\n",
    "  x[grep(pattern = \"Neg-Control\", x = x$Var1), \"class\"] <- \"Neg-Control\"\n",
    "  x[grep(pattern = \"Random_sequence_trial2\", x = x$Var1), \"class\"] <- \"Random_sequence_trial2\"\n",
    "  x[grep(pattern = \"Random_sequence_trial3\", x = x$Var1), \"class\"] <- \"Random_sequence_trial3\"\n",
    "  x[grep(pattern = \"S4_MEL\", x = x$Var1), \"class\"] <- \"S4_MEL\"\n",
    "  x[grep(pattern = \"S4_MES\", x = x$Var1), \"class\"] <- \"S4_MES\"\n",
    "  x[grep(pattern = \"S4_combi\", x = x$Var1), \"class\"] <- \"S4_combi\"\n",
    "  x[grep(pattern = \"S5_MEL\", x = x$Var1), \"class\"] <- \"S5_MEL\"\n",
    "  x[grep(pattern = \"S5_MES\", x = x$Var1), \"class\"] <- \"S5_MES\"\n",
    "  x[grep(pattern = \"S5_combi\", x = x$Var1), \"class\"] <- \"S5_combi\""
   ]
  },
  {
   "cell_type": "code",
   "execution_count": 9,
   "metadata": {},
   "outputs": [
    {
     "data": {
      "text/html": [
       "<ol class=list-inline>\n",
       "\t<li>'A_group1'</li>\n",
       "\t<li>'A_group2'</li>\n",
       "\t<li>'A_group3'</li>\n",
       "\t<li>'A_group4'</li>\n",
       "\t<li>'B1_group1'</li>\n",
       "\t<li>'B1_group2'</li>\n",
       "\t<li>'B1_group3'</li>\n",
       "\t<li>'B1_group4'</li>\n",
       "\t<li>'B1_group5'</li>\n",
       "\t<li>'B2_group1'</li>\n",
       "\t<li>'B2_group2'</li>\n",
       "\t<li>'B2_group3'</li>\n",
       "\t<li>'C_group1'</li>\n",
       "\t<li>'C_group2'</li>\n",
       "\t<li>'C_group3'</li>\n",
       "\t<li>'Neg-Control'</li>\n",
       "\t<li>'Random_sequence_trial2'</li>\n",
       "\t<li>'Random_sequence_trial3'</li>\n",
       "\t<li>'S4_MEL'</li>\n",
       "\t<li>'S4_MES'</li>\n",
       "\t<li>'S4_combi'</li>\n",
       "\t<li>'S5_MEL'</li>\n",
       "\t<li>'S5_MES'</li>\n",
       "\t<li>'S5_combi'</li>\n",
       "</ol>\n"
      ],
      "text/latex": [
       "\\begin{enumerate*}\n",
       "\\item 'A\\_group1'\n",
       "\\item 'A\\_group2'\n",
       "\\item 'A\\_group3'\n",
       "\\item 'A\\_group4'\n",
       "\\item 'B1\\_group1'\n",
       "\\item 'B1\\_group2'\n",
       "\\item 'B1\\_group3'\n",
       "\\item 'B1\\_group4'\n",
       "\\item 'B1\\_group5'\n",
       "\\item 'B2\\_group1'\n",
       "\\item 'B2\\_group2'\n",
       "\\item 'B2\\_group3'\n",
       "\\item 'C\\_group1'\n",
       "\\item 'C\\_group2'\n",
       "\\item 'C\\_group3'\n",
       "\\item 'Neg-Control'\n",
       "\\item 'Random\\_sequence\\_trial2'\n",
       "\\item 'Random\\_sequence\\_trial3'\n",
       "\\item 'S4\\_MEL'\n",
       "\\item 'S4\\_MES'\n",
       "\\item 'S4\\_combi'\n",
       "\\item 'S5\\_MEL'\n",
       "\\item 'S5\\_MES'\n",
       "\\item 'S5\\_combi'\n",
       "\\end{enumerate*}\n"
      ],
      "text/markdown": [
       "1. 'A_group1'\n",
       "2. 'A_group2'\n",
       "3. 'A_group3'\n",
       "4. 'A_group4'\n",
       "5. 'B1_group1'\n",
       "6. 'B1_group2'\n",
       "7. 'B1_group3'\n",
       "8. 'B1_group4'\n",
       "9. 'B1_group5'\n",
       "10. 'B2_group1'\n",
       "11. 'B2_group2'\n",
       "12. 'B2_group3'\n",
       "13. 'C_group1'\n",
       "14. 'C_group2'\n",
       "15. 'C_group3'\n",
       "16. 'Neg-Control'\n",
       "17. 'Random_sequence_trial2'\n",
       "18. 'Random_sequence_trial3'\n",
       "19. 'S4_MEL'\n",
       "20. 'S4_MES'\n",
       "21. 'S4_combi'\n",
       "22. 'S5_MEL'\n",
       "23. 'S5_MES'\n",
       "24. 'S5_combi'\n",
       "\n",
       "\n"
      ],
      "text/plain": [
       " [1] \"A_group1\"               \"A_group2\"               \"A_group3\"              \n",
       " [4] \"A_group4\"               \"B1_group1\"              \"B1_group2\"             \n",
       " [7] \"B1_group3\"              \"B1_group4\"              \"B1_group5\"             \n",
       "[10] \"B2_group1\"              \"B2_group2\"              \"B2_group3\"             \n",
       "[13] \"C_group1\"               \"C_group2\"               \"C_group3\"              \n",
       "[16] \"Neg-Control\"            \"Random_sequence_trial2\" \"Random_sequence_trial3\"\n",
       "[19] \"S4_MEL\"                 \"S4_MES\"                 \"S4_combi\"              \n",
       "[22] \"S5_MEL\"                 \"S5_MES\"                 \"S5_combi\"              "
      ]
     },
     "metadata": {},
     "output_type": "display_data"
    }
   ],
   "source": [
    "unique(x$class)"
   ]
  },
  {
   "cell_type": "code",
   "execution_count": 10,
   "metadata": {},
   "outputs": [],
   "source": [
    "library(ggplot2)\n"
   ]
  },
  {
   "cell_type": "code",
   "execution_count": 11,
   "metadata": {},
   "outputs": [
    {
     "data": {
      "text/html": [
       "<table>\n",
       "<caption>A data.frame: 6 x 3</caption>\n",
       "<thead>\n",
       "\t<tr><th scope=col>Var1</th><th scope=col>Freq</th><th scope=col>class</th></tr>\n",
       "\t<tr><th scope=col>&lt;fct&gt;</th><th scope=col>&lt;int&gt;</th><th scope=col>&lt;chr&gt;</th></tr>\n",
       "</thead>\n",
       "<tbody>\n",
       "\t<tr><td>A_group1_seq100_chr9:96385969-96386469  </td><td>2227</td><td>A_group1</td></tr>\n",
       "\t<tr><td>A_group1_seq101_chr9:140681098-140681598</td><td> 270</td><td>A_group1</td></tr>\n",
       "\t<tr><td>A_group1_seq102_chrX:3845338-3845838    </td><td> 447</td><td>A_group1</td></tr>\n",
       "\t<tr><td>A_group1_seq103_chrX:9827376-9827876    </td><td>1824</td><td>A_group1</td></tr>\n",
       "\t<tr><td>A_group1_seq104_chrX:14320175-14320675  </td><td>1041</td><td>A_group1</td></tr>\n",
       "\t<tr><td>A_group1_seq105_chrX:81125209-81125709  </td><td>1176</td><td>A_group1</td></tr>\n",
       "</tbody>\n",
       "</table>\n"
      ],
      "text/latex": [
       "A data.frame: 6 x 3\n",
       "\\begin{tabular}{r|lll}\n",
       " Var1 & Freq & class\\\\\n",
       " <fct> & <int> & <chr>\\\\\n",
       "\\hline\n",
       "\t A\\_group1\\_seq100\\_chr9:96385969-96386469   & 2227 & A\\_group1\\\\\n",
       "\t A\\_group1\\_seq101\\_chr9:140681098-140681598 &  270 & A\\_group1\\\\\n",
       "\t A\\_group1\\_seq102\\_chrX:3845338-3845838     &  447 & A\\_group1\\\\\n",
       "\t A\\_group1\\_seq103\\_chrX:9827376-9827876     & 1824 & A\\_group1\\\\\n",
       "\t A\\_group1\\_seq104\\_chrX:14320175-14320675   & 1041 & A\\_group1\\\\\n",
       "\t A\\_group1\\_seq105\\_chrX:81125209-81125709   & 1176 & A\\_group1\\\\\n",
       "\\end{tabular}\n"
      ],
      "text/markdown": [
       "\n",
       "A data.frame: 6 x 3\n",
       "\n",
       "| Var1 &lt;fct&gt; | Freq &lt;int&gt; | class &lt;chr&gt; |\n",
       "|---|---|---|\n",
       "| A_group1_seq100_chr9:96385969-96386469   | 2227 | A_group1 |\n",
       "| A_group1_seq101_chr9:140681098-140681598 |  270 | A_group1 |\n",
       "| A_group1_seq102_chrX:3845338-3845838     |  447 | A_group1 |\n",
       "| A_group1_seq103_chrX:9827376-9827876     | 1824 | A_group1 |\n",
       "| A_group1_seq104_chrX:14320175-14320675   | 1041 | A_group1 |\n",
       "| A_group1_seq105_chrX:81125209-81125709   | 1176 | A_group1 |\n",
       "\n"
      ],
      "text/plain": [
       "  Var1                                     Freq class   \n",
       "1 A_group1_seq100_chr9:96385969-96386469   2227 A_group1\n",
       "2 A_group1_seq101_chr9:140681098-140681598  270 A_group1\n",
       "3 A_group1_seq102_chrX:3845338-3845838      447 A_group1\n",
       "4 A_group1_seq103_chrX:9827376-9827876     1824 A_group1\n",
       "5 A_group1_seq104_chrX:14320175-14320675   1041 A_group1\n",
       "6 A_group1_seq105_chrX:81125209-81125709   1176 A_group1"
      ]
     },
     "metadata": {},
     "output_type": "display_data"
    }
   ],
   "source": [
    "head(x)"
   ]
  },
  {
   "cell_type": "code",
   "execution_count": null,
   "metadata": {},
   "outputs": [],
   "source": [
    "ggplot(x, aes(x=class,y=Freq))+geom_violin() + theme(axis.text.x = element_text(angle = 90, vjust = 0.5, hjust=1)) + geom_jitter(shape=16, position=position_jitter(0.2), cex = 0.2) "
   ]
  },
  {
   "cell_type": "markdown",
   "metadata": {},
   "source": [
    "## Extra. Sequencing saturarion\n",
    "\n",
    "- First extract the rBCs from the fastq and put it in a text file\n",
    "- To calculate the statureation, subsample this rBC text file (choose the subsampling frequency a bit depending on the data) and print the number of cleaned reads (i.e. rBCs) taken and the number of unqiue ones for that subsample.\n",
    "    - e.g. now we have in the 03.sequencing_saturation/${line}_R1_q30.txt files a max of 20,884,696 \n",
    "- You can then plot these numbers in excell in a line graph to assess the saturation"
   ]
  },
  {
   "cell_type": "code",
   "execution_count": 1,
   "metadata": {},
   "outputs": [],
   "source": [
    "# Extract DNA sequences from fastq\n",
    "cd /user/leuven/317/vsc31703/stg_00002/Enhancer_design/MPRA/CHEQ-seq_cloning2/E-BC_coupling/\n",
    "zcat 02.TRIMMED_FQ/CSE__88dc35__CHEQseq-cl2_2000enh_3x_R2.Q20_trimmed5-3_rBCq30_filt.fastq.gz  | sed -n '2~4p' > 04.sequencing_saturation/CSE__88dc35__CHEQseq-cl2_2000enh_3x_R2.txt\n",
    "zcat 02.TRIMMED_FQ/CSE__953401__CHEQseq-cl2_2000enh_1x_R2.Q20_trimmed5-3_rBCq30_filt.fastq.gz  | sed -n '2~4p' > 04.sequencing_saturation/CSE__953401__CHEQseq-cl2_2000enh_1x_R2.txt\n",
    "\n"
   ]
  },
  {
   "cell_type": "code",
   "execution_count": 2,
   "metadata": {},
   "outputs": [
    {
     "name": "stdout",
     "output_type": "stream",
     "text": [
      "15495989\n",
      "15470589\n"
     ]
    }
   ],
   "source": [
    "# Count total number of rBC in files\n",
    "cat 04.sequencing_saturation/CSE__88dc35__CHEQseq-cl2_2000enh_3x_R2.txt| wc -l\n",
    "cat 04.sequencing_saturation/CSE__953401__CHEQseq-cl2_2000enh_1x_R2.txt| wc -l"
   ]
  },
  {
   "cell_type": "code",
   "execution_count": 4,
   "metadata": {},
   "outputs": [
    {
     "name": "stdout",
     "output_type": "stream",
     "text": [
      "rm: cannot remove ‘04.sequencing_saturation/CSE__953401__CHEQseq-cl2_2000enh_1x_sat.txt’: No such file or directory\n",
      "bash: syntax error near unexpected token `done'\n",
      "270\n"
     ]
    }
   ],
   "source": [
    "# Subsample, count total and unique reads\n",
    "start=`date +%s`\n",
    "\n",
    "file=\"04.sequencing_saturation/CSE__953401__CHEQseq-cl2_2000enh_1x_R2.txt\"\n",
    "nreads=$(cat $file | wc -l)\n",
    " # Start by removing parallel instructions file\n",
    "rm 04.sequencing_saturation/parallel.txt\n",
    " # Remove any previoulsy created sat values for that file\n",
    "rm ${file%_*}_sat.txt\n",
    "    for i in $(seq 0 200000 $nreads)\n",
    "    do\n",
    "     # Print number of total and unique reads for every subsamples\n",
    "    echo \"echo $i \\$(shuf -n $(($i)) $file | sort | uniq | wc -l) >> ${file%_*}_sat.txt\" \\\n",
    "    >> 04.sequencing_saturation/parallel.txt\n",
    "    done\n",
    "cat 04.sequencing_saturation/parallel.txt | parallel -j 16\n",
    " # Put values in numerical order\n",
    "cat ${file%_*}_sat.txt | sort -g > ${file%_*}_satsort.txt && mv ${file%_*}_satsort.txt ${file%_*}_sat.txt\n",
    "done\n",
    "\n",
    "end=`date +%s`\n",
    "echo $((end-start))"
   ]
  },
  {
   "cell_type": "code",
   "execution_count": null,
   "metadata": {},
   "outputs": [],
   "source": []
  }
 ],
 "metadata": {
  "kernelspec": {
   "display_name": "Bash 4.2.46",
   "language": "bash",
   "name": "bash4246"
  },
  "language_info": {
   "codemirror_mode": "shell",
   "file_extension": ".sh",
   "mimetype": "text/x-sh",
   "name": "bash"
  }
 },
 "nbformat": 4,
 "nbformat_minor": 4
}

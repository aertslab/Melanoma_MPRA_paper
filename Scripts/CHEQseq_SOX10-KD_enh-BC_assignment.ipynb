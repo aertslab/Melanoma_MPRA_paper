{
 "cells": [
  {
   "cell_type": "markdown",
   "metadata": {},
   "source": [
    "# E-BC coupling for synthetic library of topic 11 cross species - Novaseq 20190405\n",
    "\n",
    "- R1: contains enhancer\n",
    "- R2: contains BC\n"
   ]
  },
  {
   "cell_type": "code",
   "execution_count": null,
   "metadata": {
    "collapsed": true,
    "jupyter": {
     "outputs_hidden": true
    }
   },
   "outputs": [],
   "source": [
    "cd /user/leuven/317/vsc31703/stg_00002/Melanoma-species/CHEQ-seq_synthetic/E-BC_coupling_NovaSeq6000_20190405\n",
    "mkdir 00.RAW\n",
    "rsync -a /staging/leuven/stg_00002/lcb/ngs_runs/NovaSeq6000_20190405/Demultiplexed/CH1__4856bd__CheqSeq_OLS_Liesbeth_enhancer-barcode_S1_R1_001.fastq.gz r10n1:/user/leuven/317/vsc31703/stg_00002/Melanoma-species/CHEQ-seq_synthetic/E-BC_coupling_NovaSeq6000_20190405/00.RAW\n",
    "rsync -a /staging/leuven/stg_00002/lcb/ngs_runs/NovaSeq6000_20190405/Demultiplexed/CH1__4856bd__CheqSeq_OLS_Liesbeth_enhancer-barcode_S1_R2_001.fastq.gz r10n1:/user/leuven/317/vsc31703/stg_00002/Melanoma-species/CHEQ-seq_synthetic/E-BC_coupling_NovaSeq6000_20190405/00.RAW"
   ]
  },
  {
   "cell_type": "markdown",
   "metadata": {},
   "source": [
    "## Fastqc on all raw reads"
   ]
  },
  {
   "cell_type": "code",
   "execution_count": null,
   "metadata": {
    "collapsed": true,
    "jupyter": {
     "outputs_hidden": true
    }
   },
   "outputs": [],
   "source": [
    "cd /user/leuven/317/vsc31703/stg_00002/Melanoma-species/CHEQ-seq_synthetic/E-BC_coupling_NovaSeq6000_20190405\n",
    "mkdir 01.FASTQC\n",
    "module load FastQC/0.11.7\n",
    "fastqc -t 1 00.RAW/CH1__4856bd__CheqSeq_OLS_Liesbeth_enhancer-barcode_S1_R1_001.fastq.gz -o 01.FASTQC\n",
    "fastqc -t 1 00.RAW/CH1__4856bd__CheqSeq_OLS_Liesbeth_enhancer-barcode_S1_R2_001.fastq.gz -o 01.FASTQC"
   ]
  },
  {
   "cell_type": "markdown",
   "metadata": {},
   "source": [
    "# 1) Read 1: enhancer"
   ]
  },
  {
   "cell_type": "markdown",
   "metadata": {},
   "source": [
    "## 1.0) Filter for sequencing quality"
   ]
  },
  {
   "cell_type": "code",
   "execution_count": null,
   "metadata": {
    "collapsed": true,
    "jupyter": {
     "outputs_hidden": true
    }
   },
   "outputs": [],
   "source": [
    "# at least 80% of the NT (-u 20) must have a quality higher then 20 \n",
    "module load fastp/20180522-foss-2014a\n",
    "cd /user/leuven/317/vsc31703/stg_00002/Melanoma-species/CHEQ-seq_synthetic/E-BC_coupling_NovaSeq6000_20190405\n",
    "mkdir 02.TRIMMED_FQ\n",
    "fastp --disable_adapter_trimming -q 20 -u 20 -i 00.RAW/CH1__4856bd__CheqSeq_OLS_Liesbeth_enhancer-barcode_S1_R1_001.fastq.gz -o 02.TRIMMED_FQ/CheqSeq_OLS_Liesbeth_enhancer-barcode_R1.Q20.fastq.gz"
   ]
  },
  {
   "cell_type": "markdown",
   "metadata": {},
   "source": [
    "## 1.1) Cutadapt the 5' adaptor\n",
    "\n",
    "- At the 5’ end we have the adapter with 0-5 stagger before it.\n",
    "- As the adaptor is always the same and at the 5’, we will use a anchored 5’ adapter to cut with cutadapt (here the adaptor will be considered as a whole and really only at the 5’ end).\n",
    "- Cuadtapt is robust to errors of 10%, so it will handle the staggers and will cut the adaptors with the staggers off. (so we do not need to cut with the 6 different types of adapters when including the stagger to them)\n",
    "    -> so we can just cut with the 23 bp enhancer: TGCAGGTGCCAGAACATTTCTCT\n",
    "\n"
   ]
  },
  {
   "cell_type": "code",
   "execution_count": null,
   "metadata": {
    "collapsed": true,
    "jupyter": {
     "outputs_hidden": true
    }
   },
   "outputs": [],
   "source": [
    "# cut 5' adaptor of read 1 using the 23bp enhancer (without staggers)\n",
    "# write only the reads that are trimmed, so that contained the adaptor\n",
    "cd /user/leuven/317/vsc31703/stg_00002/Melanoma-species/CHEQ-seq_synthetic/E-BC_coupling_NovaSeq6000_20190405\n",
    "module load cutadapt/20180522-foss-2014a-Python-2.7.6\n",
    "cutadapt -g TGCAGGTGCCAGAACATTTCTCT --trimmed-only \\\n",
    "--output 02.TRIMMED_FQ/CheqSeq_OLS_Liesbeth_enhancer-barcode_R1.Q20_trimmed5.fastq.gz \\\n",
    "02.TRIMMED_FQ/CheqSeq_OLS_Liesbeth_enhancer-barcode_R1.Q20.fastq.gz"
   ]
  },
  {
   "cell_type": "markdown",
   "metadata": {},
   "source": [
    "Finished in 214.58 s (21 us/read; 2.87 M reads/minute).                                                                                                                                                   \n",
    "                                                                                                                                                                                                          \n",
    "=== Summary ===                                                                                                                                                                                           \n",
    "                                                                                                                                                                                                          \n",
    "Total reads processed:              10,263,235                                                                                                                                                            \n",
    "Reads with adapters:                10,230,160 (99.7%)                                                                                                                                                    \n",
    "Reads written (passing filters):    10,230,160 (99.7%)                                                                                                                                                    \n",
    "                                                                                                                                                                                                          \n",
    "Total basepairs processed: 2,565,808,750 bp                                                                                                                                                               \n",
    "Total written (filtered):  2,298,783,774 bp (89.6%) \n"
   ]
  },
  {
   "cell_type": "markdown",
   "metadata": {},
   "source": [
    "## 1.2) Cutadapt the 3' adapter\n",
    "- First we will try to find the empyt plasmids by doing cutadapt with 2x20bp of the empty vector that is not in the reads with enhancers (so further then those first 35 bp) and demand double trimming; and write the rest (not trimmed, so not empty ones) to a file ; and we will demand a minimum overlap of 5\n",
    "    - We will use 20 bp somewhere at middle/beginning for 5': CGTTCGTCCTCAGTCGCGAT\n",
    "    - for 3': ACTCGAGCCGAGCAGGCGCG\n",
    "- The rest we trim with a small part of the vector that is normally at the 3' end: GCCTAACTGGCCGGTACCTGAGCTCCCTAGGG (32bp, can be longer or shorter; it is normally ~36bp but took here a bit less so that we have still some bp at the end left as we demand a anchored 3' adapter)"
   ]
  },
  {
   "cell_type": "markdown",
   "metadata": {},
   "source": [
    "__1.2.1) Filter out empty vector__"
   ]
  },
  {
   "cell_type": "code",
   "execution_count": null,
   "metadata": {
    "collapsed": true,
    "jupyter": {
     "outputs_hidden": true
    }
   },
   "outputs": [],
   "source": [
    "## Find empty plasmids:\n",
    "    # Use linked and required adapters:\n",
    "        # you can instead use -g to specify a linked adapter. In that case, both adapters are required (even if they are not anchored). \n",
    "        # - We will use 20 bp somewhere at middle/beginning for 5': CGTTCGTCCTCAGTCGCGAT\n",
    "        # - for 3': ACTCGAGCCGAGCAGGCGCG\n",
    "    # write the trimmed ones to an output ( = empty vector) ; the untrimmed also to an output (= vector with enhancer)\n",
    "    # Minimum overlap of 5 is required --overlap\n",
    "\n",
    "cd /user/leuven/317/vsc31703/stg_00002/Melanoma-species/CHEQ-seq_synthetic/E-BC_coupling_NovaSeq6000_20190405\n",
    "module load cutadapt/20180522-foss-2014a-Python-2.7.6\n",
    "cutadapt -g CGTTCGTCCTCAGTCGCGAT...ACTCGAGCCGAGCAGGCGCG \\\n",
    "--overlap 5 \\\n",
    "--output 02.TRIMMED_FQ/CheqSeq_OLS_Liesbeth_enhancer-barcode_R1.Q20_trimmed5_emptyVector.fastq.gz \\\n",
    "--untrimmed-output 02.TRIMMED_FQ/CheqSeq_OLS_Liesbeth_enhancer-barcode_R1.Q20_trimmed5_full.fastq.gz  \\\n",
    "02.TRIMMED_FQ/CheqSeq_OLS_Liesbeth_enhancer-barcode_R1.Q20_trimmed5.fastq.gz"
   ]
  },
  {
   "cell_type": "markdown",
   "metadata": {},
   "source": [
    "__1.2.2) Remove 3' adapter from the ones that are not empty__\n",
    "\n",
    "Remove the vector part at the end, to keep only the enhancer\n",
    "\n",
    "- The rest we trim with a small part of the vector that is normally at the 3' end: GCCTAACTGGCCGGTACCTGAGCTCCCTAG (30bp, can be longer or shorter; it is normally ~36bp but took here a bit less so that we have still some bp at the end left as we demand a anchored 3' adapter)"
   ]
  },
  {
   "cell_type": "code",
   "execution_count": null,
   "metadata": {
    "collapsed": true,
    "jupyter": {
     "outputs_hidden": true
    }
   },
   "outputs": [],
   "source": [
    "cd /user/leuven/317/vsc31703/stg_00002/Melanoma-species/CHEQ-seq_synthetic/E-BC_coupling_NovaSeq6000_20190405\n",
    "module load cutadapt/20180522-foss-2014a-Python-2.7.6\n",
    "cutadapt -a GCCTAACTGGCCGGTACCTGAGCTCCCTAG --trimmed-only \\\n",
    "--output 02.TRIMMED_FQ/CheqSeq_OLS_Liesbeth_enhancer-barcode_R1.Q20_trimmed5-3_full.fastq.gz \\\n",
    "02.TRIMMED_FQ/CheqSeq_OLS_Liesbeth_enhancer-barcode_R1.Q20_trimmed5_full.fastq.gz"
   ]
  },
  {
   "cell_type": "markdown",
   "metadata": {},
   "source": [
    "## 1.3) Mapping of enhancer\n",
    "\n",
    "No we have a file with only the enhancer (~190 bp; 02.TRIMMED_FQ/CheqSeq_OLS_Liesbeth_enhancer-barcode_R1.Q20_trimmed5-3_full.fastq.gz)\n",
    "\n",
    "We will map this using Minimap to our custom genome of the 14,984 designed enhancers"
   ]
  },
  {
   "cell_type": "code",
   "execution_count": null,
   "metadata": {
    "collapsed": true,
    "jupyter": {
     "outputs_hidden": true
    }
   },
   "outputs": [],
   "source": [
    "# Map trimmed R1 (only enhancer) to custom genome with Minimap\n",
    "    # this sam file still contains secondary alignemnets (flag (column 2) of 256) and bad qualtiy reads (column 5, mapping quality)\n",
    "module load Minimap2/2.11-foss-2014a\n",
    "cd /user/leuven/317/vsc31703/stg_00002/Melanoma-species/CHEQ-seq_synthetic/E-BC_coupling_NovaSeq6000_20190405\n",
    "minimap2 -a /ddn1/vol1/staging/leuven/stg_00002/lcb/lminn/Melanoma-species/Topic11_liftover/Cloning_fastas/Total-sequence-to-clone_Liesbeth_withoutAdaptors_NoLineBreaks.fa \\\n",
    "02.TRIMMED_FQ/CheqSeq_OLS_Liesbeth_enhancer-barcode_R1.Q20_trimmed5-3_full.fastq.gz \\\n",
    "> 03.MAPPING/CheqSeq_OLS_Liesbeth_enhancer-barcode_R1.Q20_trimmed5-3_full_Minimap.sam"
   ]
  },
  {
   "cell_type": "code",
   "execution_count": null,
   "metadata": {
    "collapsed": true,
    "jupyter": {
     "outputs_hidden": true
    }
   },
   "outputs": [],
   "source": [
    "# Convert to bam file and filter for mapping quality Q4\n",
    "cd /user/leuven/317/vsc31703/stg_00002/Melanoma-species/CHEQ-seq_synthetic/E-BC_coupling_NovaSeq6000_20190405\n",
    "module load SAMtools\n",
    "\n",
    "samtools view -bS 03.MAPPING/CheqSeq_OLS_Liesbeth_enhancer-barcode_R1.Q20_trimmed5-3_full_Minimap.sam > 03.MAPPING/CheqSeq_OLS_Liesbeth_enhancer-barcode_R1.Q20_trimmed5-3_full_Minimap.bam\n",
    "\n",
    "samtools sort -o 03.MAPPING/CheqSeq_OLS_Liesbeth_enhancer-barcode_R1.Q20_trimmed5-3_full_Minimap.sorted.bam 03.MAPPING/CheqSeq_OLS_Liesbeth_enhancer-barcode_R1.Q20_trimmed5-3_full_Minimap.bam\n",
    "\n",
    "samtools view -b -q 4 -@ 2 -o 03.MAPPING/CheqSeq_OLS_Liesbeth_enhancer-barcode_R1.Q20_trimmed5-3_full_Minimap.sorted.minQ4.bam 03.MAPPING/CheqSeq_OLS_Liesbeth_enhancer-barcode_R1.Q20_trimmed5-3_full_Minimap.sorted.bam\n",
    "\n",
    "# This file is a bma file format with in column 1) ID 3) coord of the orignal desgined enahncer where it mapped to 10) the real sequenced ~190bp"
   ]
  },
  {
   "cell_type": "code",
   "execution_count": null,
   "metadata": {
    "collapsed": true,
    "jupyter": {
     "outputs_hidden": true
    }
   },
   "outputs": [],
   "source": [
    "# Plot distribution how many reads map to which designed enhancers\n",
    "cd /user/leuven/317/vsc31703/stg_00002/Melanoma-species/CHEQ-seq_synthetic/E-BC_coupling_NovaSeq6000_20190405/03.MAPPING\n",
    "samtools view  CheqSeq_OLS_Liesbeth_enhancer-barcode_R1.Q20_trimmed5-3_full_Minimap.sorted.minQ4.bam| awk '{print $3}' |uniq -c > MappedToRegionDistribution.txt\n",
    "\n",
    "# R\n",
    "module load R/3.4.1-foss-2014a-noX\n",
    "module load HDF5/1.8.12-foss-2014a-serial\n",
    "R\n",
    ".libPaths(\"/user/leuven/317/vsc31703/stg_00002/R/x86_64-pc-linux-gnu-library/3.4\")\n",
    "\n",
    "\n",
    "counts <- read.table(\"/user/leuven/317/vsc31703/stg_00002/Melanoma-species/CHEQ-seq_synthetic/E-BC_coupling_NovaSeq6000_20190405/03.MAPPING/MappedToRegionDistribution.txt\")\n",
    "y <- sort(counts$V1)\n",
    "\n",
    "pdf(\"/user/leuven/317/vsc31703/stg_00002/Melanoma-species/CHEQ-seq_synthetic/E-BC_coupling_NovaSeq6000_20190405/03.MAPPING/MappedToRegionDistribution.pdf\")\n",
    "plot(y, pch=16)\n",
    "dev.off()\n",
    "\n",
    "#> summary(y)\n",
    "#   Min. 1st Qu.  Median    Mean 3rd Qu.    Max. \n",
    "#      1    5324   11170   14422   19892  135732 \n",
    "    "
   ]
  },
  {
   "cell_type": "code",
   "execution_count": null,
   "metadata": {
    "collapsed": true,
    "jupyter": {
     "outputs_hidden": true
    }
   },
   "outputs": [],
   "source": [
    "# Size distribution of the sequenced length (should be 190 bp but some are smaller or larger)\n",
    "samtools view  CheqSeq_OLS_Liesbeth_enhancer-barcode_R1.Q20_trimmed5-3_full_Minimap.sorted.minQ4.bam| awk '{print $10}' |awk '{print length}'|sort | uniq -c"
   ]
  },
  {
   "cell_type": "markdown",
   "metadata": {},
   "source": [
    "# 2) Reads 2: BC"
   ]
  },
  {
   "cell_type": "markdown",
   "metadata": {},
   "source": [
    "## 2.0) Filter for sequencing quality\n",
    "\n"
   ]
  },
  {
   "cell_type": "code",
   "execution_count": null,
   "metadata": {
    "collapsed": true,
    "jupyter": {
     "outputs_hidden": true
    }
   },
   "outputs": [],
   "source": [
    "# at least 80% of the NT (-u 20) must have a quality higher then 20 \n",
    "# (same filtering as R1)\n",
    "module load fastp/20180522-foss-2014a\n",
    "cd /user/leuven/317/vsc31703/stg_00002/Melanoma-species/CHEQ-seq_synthetic/E-BC_coupling_NovaSeq6000_20190405\n",
    "\n",
    "fastp --disable_adapter_trimming -q 20 -u 20 -i 00.RAW/CH1__4856bd__CheqSeq_OLS_Liesbeth_enhancer-barcode_S1_R2_001.fastq.gz -o 02.TRIMMED_FQ/CheqSeq_OLS_Liesbeth_enhancer-barcode_R2.Q20.fastq.gz"
   ]
  },
  {
   "cell_type": "markdown",
   "metadata": {},
   "source": [
    "## 2.1) cut 5' adapter"
   ]
  },
  {
   "cell_type": "code",
   "execution_count": null,
   "metadata": {
    "collapsed": true,
    "jupyter": {
     "outputs_hidden": true
    }
   },
   "outputs": [],
   "source": [
    "# cut 5' adaptor\n",
    "cd /user/leuven/317/vsc31703/stg_00002/Melanoma-species/CHEQ-seq_synthetic/E-BC_coupling_NovaSeq6000_20190405\n",
    "module load cutadapt/20180522-foss-2014a-Python-2.7.6\n",
    "cutadapt -g CGAATTAATTCGGGCCCCGGTCC --trimmed-only \\\n",
    "--output 02.TRIMMED_FQ/CheqSeq_OLS_Liesbeth_enhancer-barcode_R2.Q20_trimmed5.fastq.gz \\\n",
    "02.TRIMMED_FQ/CheqSeq_OLS_Liesbeth_enhancer-barcode_R2.Q20.fastq.gz"
   ]
  },
  {
   "cell_type": "markdown",
   "metadata": {},
   "source": [
    "## 2.2) cut 3' adapter  + 17 bp long"
   ]
  },
  {
   "cell_type": "code",
   "execution_count": null,
   "metadata": {
    "collapsed": true,
    "jupyter": {
     "outputs_hidden": true
    }
   },
   "outputs": [],
   "source": [
    "# cut 3' adaptor + demand it to be 17bp long\n",
    "cd /user/leuven/317/vsc31703/stg_00002/Melanoma-species/CHEQ-seq_synthetic/E-BC_coupling_NovaSeq6000_20190405\n",
    "cutadapt -a GATCGGCGCG --trimmed-only \\\n",
    "-m 17 -M 17 \\\n",
    "--output  02.TRIMMED_FQ/CheqSeq_OLS_Liesbeth_enhancer-barcode_R2.Q20_trimmed5-3_BCs.fastq.gz \\\n",
    " 02.TRIMMED_FQ/CheqSeq_OLS_Liesbeth_enhancer-barcode_R2.Q20_trimmed5.fastq.gz"
   ]
  },
  {
   "cell_type": "markdown",
   "metadata": {},
   "source": [
    "## 2.3) Filter more for sequencing quality"
   ]
  },
  {
   "cell_type": "code",
   "execution_count": null,
   "metadata": {
    "collapsed": true,
    "jupyter": {
     "outputs_hidden": true
    }
   },
   "outputs": [],
   "source": [
    "# at least 90% of the NT (-u 10) must have a quality higher then 30 \n",
    "cd /user/leuven/317/vsc31703/stg_00002/Melanoma-species/CHEQ-seq_synthetic/E-BC_coupling_NovaSeq6000_20190405\n",
    "module load fastp/20180522-foss-2014a\n",
    "fastp --disable_adapter_trimming -q 30 -u 10 -i 02.TRIMMED_FQ/CheqSeq_OLS_Liesbeth_enhancer-barcode_R2.Q20_trimmed5-3_BCs.fastq.gz -o 02.TRIMMED_FQ/CheqSeq_OLS_Liesbeth_enhancer-barcode_R2.Q20-Q30_trimmed5-3_BCs.fastq.gz"
   ]
  },
  {
   "cell_type": "code",
   "execution_count": null,
   "metadata": {
    "collapsed": true,
    "jupyter": {
     "outputs_hidden": true
    }
   },
   "outputs": [],
   "source": [
    "# checked if all reads are still 17 bp\n",
    "cd /user/leuven/317/vsc31703/stg_00002/Melanoma-species/CHEQ-seq_synthetic/E-BC_coupling_NovaSeq6000_20190405\n",
    "zcat 02.TRIMMED_FQ/CheqSeq_OLS_Liesbeth_enhancer-barcode_R2.Q20-Q30_trimmed5-3_BCs.fastq.gz | sed -n '2~4p' | awk '{print length($0);}' | uniq -c"
   ]
  },
  {
   "cell_type": "code",
   "execution_count": null,
   "metadata": {
    "collapsed": true,
    "jupyter": {
     "outputs_hidden": true
    }
   },
   "outputs": [],
   "source": [
    "# to check the distribution of the number of BCs\n",
    "cd /user/leuven/317/vsc31703/stg_00002/Melanoma-species/CHEQ-seq_synthetic/E-BC_coupling_NovaSeq6000_20190405\n",
    "zcat 02.TRIMMED_FQ/CheqSeq_OLS_Liesbeth_enhancer-barcode_R2.Q20-Q30_trimmed5-3_BCs.fastq.gz| sed -n '2~4p' | sort -k1nr | uniq -c | sort -k1nr | awk '{print $1 \"\\t\" $2}'>  BC-distribution.txt"
   ]
  },
  {
   "cell_type": "markdown",
   "metadata": {},
   "source": [
    "# 3) Link enhancers and BCs reads based on their read IDs\n",
    "## 3.1) Reads with enhancer: \n",
    "- We will create 2 matrices:\n",
    "    - From the enhancer bam (03.MAPPING/CheqSeq_OLS_Liesbeth_enhancer-barcode_R1.Q20_trimmed5-3_full_Minimap.sorted.minQ4.bam): ID - 'coord' - real sequence\n",
    "    - From the BC fastq (02.TRIMMED_FQ/CheqSeq_OLS_Liesbeth_enhancer-barcode_R2.Q20-Q30_trimmed5-3_BCs.fastq.gz): ID - BC\n",
    "- Then we will merge the two matrices by read ID matrix with ID - BC - coord - real seq"
   ]
  },
  {
   "cell_type": "code",
   "execution_count": null,
   "metadata": {
    "collapsed": true,
    "jupyter": {
     "outputs_hidden": true
    },
    "scrolled": true
   },
   "outputs": [],
   "source": [
    "#  From the enhancer bam : get ID - 'coord' - real sequence\n",
    "   # from 03.MAPPING/CheqSeq_OLS_Liesbeth_enhancer-barcode_R1.Q20_trimmed5-3_full_Minimap.sorted.minQ4.bam\n",
    "   # ID: in first column\n",
    "   # coord: in 3th column\n",
    "   # seq: in 10th column\n",
    "cd /user/leuven/317/vsc31703/stg_00002/Melanoma-species/CHEQ-seq_synthetic/E-BC_coupling_NovaSeq6000_20190405\n",
    "mkdir 04.LINKING\n",
    "module load SAMtools\n",
    "samtools view 03.MAPPING/CheqSeq_OLS_Liesbeth_enhancer-barcode_R1.Q20_trimmed5-3_full_Minimap.sorted.minQ4.bam |\\\n",
    "awk '{print $1 \"\\t\" $3 \"\\t\" $10}' > 04.LINKING/CheqSeq_OLS_Liesbeth_enhancer-barcode_R1.Q20_trimmed5-3_full_Minimap.sorted.minQ4_Enhancers.matrix"
   ]
  },
  {
   "cell_type": "code",
   "execution_count": null,
   "metadata": {
    "collapsed": true,
    "jupyter": {
     "outputs_hidden": true
    }
   },
   "outputs": [],
   "source": [
    "# From the BC fastq : get ID - BC\n",
    "    # from 02.TRIMMED_FQ/CheqSeq_OLS_Liesbeth_enhancer-barcode_R2.Q20-Q30_trimmed5-3_BCs.fastq.gz\n",
    "    # ID: in first of 4 lines ; first column\n",
    "    # BC: in second of 4 lines\n",
    "\n",
    "    # get the IDs (and remove @)\n",
    "cd /user/leuven/317/vsc31703/stg_00002/Melanoma-species/CHEQ-seq_synthetic/E-BC_coupling_NovaSeq6000_20190405\n",
    "zcat 02.TRIMMED_FQ/CheqSeq_OLS_Liesbeth_enhancer-barcode_R2.Q20-Q30_trimmed5-3_BCs.fastq.gz | sed -n '1~4p' |\\\n",
    "awk '{print $1}' | cut -c 2- \\\n",
    "> 04.LINKING/CheqSeq_OLS_Liesbeth_enhancer-barcode_R2.Q20-Q30_trimmed5-3_BCs.ID.matrix\n",
    "    \n",
    "    # get the BCs\n",
    "cd /user/leuven/317/vsc31703/stg_00002/Melanoma-species/CHEQ-seq_synthetic/E-BC_coupling_NovaSeq6000_20190405\n",
    "zcat 02.TRIMMED_FQ/CheqSeq_OLS_Liesbeth_enhancer-barcode_R2.Q20-Q30_trimmed5-3_BCs.fastq.gz | sed -n '2~4p' \\\n",
    "> 04.LINKING/CheqSeq_OLS_Liesbeth_enhancer-barcode_R2.Q20-Q30_trimmed5-3_BCs.BC.matrix\n",
    "\n",
    "    # Column bind the IDs and BCs into 1 file\n",
    "paste -d'\\t' \\\n",
    "04.LINKING/CheqSeq_OLS_Liesbeth_enhancer-barcode_R2.Q20-Q30_trimmed5-3_BCs.ID.matrix \\\n",
    "04.LINKING/CheqSeq_OLS_Liesbeth_enhancer-barcode_R2.Q20-Q30_trimmed5-3_BCs.BC.matrix \\\n",
    "> 04.LINKING/CheqSeq_OLS_Liesbeth_enhancer-barcode_R2.Q20-Q30_trimmed5-3_BCs.ID-BC.matrix"
   ]
  },
  {
   "cell_type": "code",
   "execution_count": null,
   "metadata": {
    "collapsed": true,
    "jupyter": {
     "outputs_hidden": true
    }
   },
   "outputs": [],
   "source": [
    "# Merge the enhancer and BC matrices based on their read IDs\n",
    "    # Importantly: sort on the read IDs\n",
    "    # ID - BC - coord - real seq\n",
    "    # Join together based on read ID (-j 1 because in both files the ID is in the first column)\n",
    "    # Specify the order of the columns you want to be printed\n",
    "join -j 1 -o 1.1,1.2,2.2,2.3 \\\n",
    "<(sort -k1 04.LINKING/CheqSeq_OLS_Liesbeth_enhancer-barcode_R2.Q20-Q30_trimmed5-3_BCs.ID-BC.matrix) \\\n",
    "<(sort -k1 04.LINKING/CheqSeq_OLS_Liesbeth_enhancer-barcode_R1.Q20_trimmed5-3_full_Minimap.sorted.minQ4_Enhancers.matrix) \\\n",
    "| tr \" \" \"\\t\" > 04.LINKING/CheqSeq_OLS_Liesbeth_enhancer-barcode_R1.Q20_trimmed5-3_full_Minimap.sorted.minQ4_Linked-Enhancers-BCs.matrix"
   ]
  },
  {
   "cell_type": "markdown",
   "metadata": {},
   "source": [
    "## 3.2) Remove empty vector reads:\n",
    "Similar as before: \n",
    "We will create 2 matrices:\n",
    "       - From the empty vector fastq (02.TRIMMED_FQ/CheqSeq_OLS_Liesbeth_enhancer-barcode_R1.Q20_trimmed5_emptyVector.fastq.gz): ID - remaining seq after clipping\n",
    "       - From the BC fastq (02.TRIMMED_FQ/CheqSeq_OLS_Liesbeth_enhancer-barcode_R2.Q20-Q30_trimmed5-3_BCs.fastq.gz): ID - BC \n",
    "            - already done: 04.LINKING/CheqSeq_OLS_Liesbeth_enhancer-barcode_R2.Q20-Q30_trimmed5-3_BCs.ID-BC.matrix\n",
    "\n",
    "- Then we will merge the two matrices by read ID matrix with ID - BC - coord - real seq\n",
    "\n",
    "- We will remove the BCs that are linked to empty enhancers from the enhancer-BC links\n"
   ]
  },
  {
   "cell_type": "code",
   "execution_count": null,
   "metadata": {
    "collapsed": true,
    "jupyter": {
     "outputs_hidden": true
    }
   },
   "outputs": [],
   "source": [
    "# From the empty vector fastq : get ID - remaning seq after clipping\n",
    "    # from 02.TRIMMED_FQ/CheqSeq_OLS_Liesbeth_enhancer-barcode_R1.Q20_trimmed5_emptyVector.fastq.gz\n",
    "    # ID: in first of 4 lines ; first column\n",
    "    # BC: in second of 4 lines\n",
    "\n",
    "    # get the IDs (and remove @)\n",
    "cd /user/leuven/317/vsc31703/stg_00002/Melanoma-species/CHEQ-seq_synthetic/E-BC_coupling_NovaSeq6000_20190405\n",
    "zcat 02.TRIMMED_FQ/CheqSeq_OLS_Liesbeth_enhancer-barcode_R1.Q20_trimmed5_emptyVector.fastq.gz | sed -n '1~4p' |\\\n",
    "awk '{print $1}' | cut -c 2- \\\n",
    "> 04.LINKING/CheqSeq_OLS_Liesbeth_enhancer-barcode_R1.Q20_trimmed5_emptyVector.ID.matrix\n",
    "    \n",
    "    # get the BCs\n",
    "cd /user/leuven/317/vsc31703/stg_00002/Melanoma-species/CHEQ-seq_synthetic/E-BC_coupling_NovaSeq6000_20190405\n",
    "zcat 02.TRIMMED_FQ/CheqSeq_OLS_Liesbeth_enhancer-barcode_R1.Q20_trimmed5_emptyVector.fastq.gz | sed -n '2~4p' \\\n",
    "> 04.LINKING/CheqSeq_OLS_Liesbeth_enhancer-barcode_R1.Q20_trimmed5_emptyVector.seq.matrix\n",
    "\n",
    "    # Column bind the IDs and BCs into 1 file\n",
    "paste -d'\\t' \\\n",
    "04.LINKING/CheqSeq_OLS_Liesbeth_enhancer-barcode_R1.Q20_trimmed5_emptyVector.ID.matrix \\\n",
    "04.LINKING/CheqSeq_OLS_Liesbeth_enhancer-barcode_R1.Q20_trimmed5_emptyVector.seq.matrix \\\n",
    "> 04.LINKING/CheqSeq_OLS_Liesbeth_enhancer-barcode_R1.Q20_trimmed5_emptyVector.ID-seq.matrix"
   ]
  },
  {
   "cell_type": "code",
   "execution_count": null,
   "metadata": {
    "collapsed": true,
    "jupyter": {
     "outputs_hidden": true
    }
   },
   "outputs": [],
   "source": [
    "# Merge the empty vector and BC matrices based on their read IDs\n",
    "    # Importantly: sort on the read IDs\n",
    "    # ID - BC - remaining seq\n",
    "    # Join together based on read ID (-j 1 because in both files the ID is in the first column)\n",
    "    # Specify the order of the columns you want to be printed\n",
    "join -j 1 -o 1.1,1.2,2.2 \\\n",
    "<(sort -k1 04.LINKING/CheqSeq_OLS_Liesbeth_enhancer-barcode_R2.Q20-Q30_trimmed5-3_BCs.ID-BC.matrix) \\\n",
    "<(sort -k1 04.LINKING/CheqSeq_OLS_Liesbeth_enhancer-barcode_R1.Q20_trimmed5_emptyVector.ID-seq.matrix) \\\n",
    "| tr \" \" \"\\t\" > 04.LINKING/CheqSeq_OLS_Liesbeth_enhancer-barcode_R1.Q20_trimmed5_emptyVector_Linked-EmptyVector-BCs.matrix"
   ]
  },
  {
   "cell_type": "code",
   "execution_count": null,
   "metadata": {
    "collapsed": true,
    "jupyter": {
     "outputs_hidden": true
    }
   },
   "outputs": [],
   "source": [
    "# How many of the BC linked to our enhancers are also linked to empty plasmids?\n",
    "    # Sort based on the BC (-k2) before joining\n",
    "    # We will join the empty vecotr - BC matrix with the enhancer BC matrix based on the BC (so -j 2)\n",
    "    # print all the columns\n",
    "cd /user/leuven/317/vsc31703/stg_00002/Melanoma-species/CHEQ-seq_synthetic/E-BC_coupling_NovaSeq6000_20190405\n",
    "\n",
    "join -j 2 -o 1.1,1.2,1.3,1.4,2.1,2.2,2.3 \\\n",
    "<(sort -k2 04.LINKING/CheqSeq_OLS_Liesbeth_enhancer-barcode_R1.Q20_trimmed5-3_full_Minimap.sorted.minQ4_Linked-Enhancers-BCs.matrix) \\\n",
    "<(sort -k2 04.LINKING/CheqSeq_OLS_Liesbeth_enhancer-barcode_R1.Q20_trimmed5_emptyVector_Linked-EmptyVector-BCs.matrix) \\\n",
    "| tr \" \" \"\\t\" > 04.LINKING/CheqSeq_OLS_Liesbeth_enhancer-barcode_EmptyVector-FullVector-BCs-overlap.matrix\n",
    "\n",
    "\n"
   ]
  },
  {
   "cell_type": "markdown",
   "metadata": {},
   "source": [
    "__Remove empty vector BCs from the the enhancer-BC links__"
   ]
  },
  {
   "cell_type": "code",
   "execution_count": null,
   "metadata": {
    "collapsed": true,
    "jupyter": {
     "outputs_hidden": true
    }
   },
   "outputs": [],
   "source": [
    "# BC in E-BC links also linekd to Empty vector:  04.LINKING/CheqSeq_OLS_Liesbeth_enhancer-barcode_EmptyVector-FullVector-BCs-overlap.matrix\n",
    "# -v Print a line for each unpairable line in file $number, instead of the normal output.\n",
    "cd /user/leuven/317/vsc31703/stg_00002/Melanoma-species/CHEQ-seq_synthetic/E-BC_coupling_NovaSeq6000_20190405\n",
    "\n",
    "join -j 2 -v 1 \\\n",
    "<(sort -k2 04.LINKING/CheqSeq_OLS_Liesbeth_enhancer-barcode_R1.Q20_trimmed5-3_full_Minimap.sorted.minQ4_Linked-Enhancers-BCs.matrix) \\\n",
    "<(sort -k2 04.LINKING/CheqSeq_OLS_Liesbeth_enhancer-barcode_R1.Q20_trimmed5_emptyVector_Linked-EmptyVector-BCs.matrix) \\\n",
    "| tr \" \" \"\\t\" | awk '{print $2 \"\\t\" $1 \"\\t\" $3 \"\\t\" $4}'>  04.LINKING/CheqSeq_OLS_Liesbeth_enhancer-barcode_R1.Q20_trimmed5-3_full_Minimap.sorted.minQ4_Linked-Enhancers-BCs_woEmptyVector.matrix\n",
    "\n",
    "\n"
   ]
  },
  {
   "cell_type": "markdown",
   "metadata": {},
   "source": [
    "__Reverse complement the BCs__"
   ]
  },
  {
   "cell_type": "code",
   "execution_count": null,
   "metadata": {
    "collapsed": true,
    "jupyter": {
     "outputs_hidden": true
    }
   },
   "outputs": [],
   "source": [
    "# Reverse complement the BC\n",
    "cd /user/leuven/317/vsc31703/stg_00002/Melanoma-species/CHEQ-seq_synthetic/E-BC_coupling_NovaSeq6000_20190405\n",
    "\n",
    "cat 04.LINKING/CheqSeq_OLS_Liesbeth_enhancer-barcode_R1.Q20_trimmed5-3_full_Minimap.sorted.minQ4_Linked-Enhancers-BCs_woEmptyVector.matrix|awk '{print $2}' | rev | tr \"ATGC\" \"TACG\"\\\n",
    "> 04.LINKING/temp_BC-RC.txt\n",
    " \n",
    "# Paste together the correct file\n",
    "paste -d'\\t' \\\n",
    "04.LINKING/CheqSeq_OLS_Liesbeth_enhancer-barcode_R1.Q20_trimmed5-3_full_Minimap.sorted.minQ4_Linked-Enhancers-BCs_woEmptyVector.matrix \\\n",
    "04.LINKING/temp_BC-RC.txt | awk '{print $1 \"\\t\" $5 \"\\t\" $3 \"\\t\" $4}'\\\n",
    ">04.LINKING/CheqSeq_OLS_Liesbeth_enhancer-barcode_R1.Q20_trimmed5-3_full_Minimap.sorted.minQ4_Linked-Enhancers-BCs_woEmptyVector_BC-RC.matrix\n"
   ]
  },
  {
   "cell_type": "markdown",
   "metadata": {},
   "source": [
    "## ==> Final file:  /user/leuven/317/vsc31703/stg_00002/Melanoma-species/CHEQ-seq_synthetic/E-BC_coupling_NovaSeq6000_20190405/04.LINKING/CheqSeq_OLS_Liesbeth_enhancer-barcode_R1.Q20_trimmed5-3_full_Minimap.sorted.minQ4_Linked-Enhancers-BCs_woEmptyVector_BC-RC.matrix\n",
    "\n"
   ]
  },
  {
   "cell_type": "markdown",
   "metadata": {},
   "source": [
    "__Some stats__"
   ]
  },
  {
   "cell_type": "code",
   "execution_count": null,
   "metadata": {
    "collapsed": true,
    "jupyter": {
     "outputs_hidden": true
    }
   },
   "outputs": [],
   "source": [
    "cd /user/leuven/317/vsc31703/stg_00002/Melanoma-species/CHEQ-seq_synthetic/E-BC_coupling_NovaSeq6000_20190405\n",
    "\n",
    "# Number of unique BC\n",
    " cat  04.LINKING/CheqSeq_OLS_Liesbeth_enhancer-barcode_R1.Q20_trimmed5-3_full_Minimap.sorted.minQ4_Linked-Enhancers-BCs_woEmptyVector.matrix | awk '{print $2}' | sort | uniq |wc -l\n",
    "\n",
    "# Distribution of BC: so how many times each BC is appearing\n",
    "cat  04.LINKING/CheqSeq_OLS_Liesbeth_enhancer-barcode_R1.Q20_trimmed5-3_full_Minimap.sorted.minQ4_Linked-Enhancers-BCs_woEmptyVector.matrix | awk '{print $2}' |sort -k1nr | uniq -c | sort | awk '{print $1}' | uniq -c\n",
    "\n",
    "# Number of unique designed regions found back\n",
    " cat  04.LINKING/CheqSeq_OLS_Liesbeth_enhancer-barcode_R1.Q20_trimmed5-3_full_Minimap.sorted.minQ4_Linked-Enhancers-BCs_woEmptyVector.matrix | awk '{print $3}' | sort | uniq |wc -l\n",
    " \n",
    "# By how many (non-uniq) BC is an enhancer represented?, so how many times appears each enhancer?\n",
    "# Plot distribution\n",
    "\n",
    "# Plot distribution how many reads map to which designed enhancers\n",
    "cat 04.LINKING/CheqSeq_OLS_Liesbeth_enhancer-barcode_R1.Q20_trimmed5-3_full_Minimap.sorted.minQ4_Linked-Enhancers-BCs_woEmptyVector.matrix | awk '{print $3}' | sort  |uniq -c > 04.LINKING/Enhancer-BC-Distribution_woEmptyVector.txt\n",
    "\n",
    "# R\n",
    "module load R/3.4.1-foss-2014a-noX\n",
    "module load HDF5/1.8.12-foss-2014a-serial\n",
    "R\n",
    ".libPaths(\"/user/leuven/317/vsc31703/stg_00002/R/x86_64-pc-linux-gnu-library/3.4\")\n",
    "\n",
    "\n",
    "counts <- read.table(\"/user/leuven/317/vsc31703/stg_00002/Melanoma-species/CHEQ-seq_synthetic/E-BC_coupling_NovaSeq6000_20190405/04.LINKING/Enhancer-BC-Distribution_woEmptyVector.txt\")\n",
    "y <- sort(counts$V1)\n",
    "\n",
    "pdf(\"/user/leuven/317/vsc31703/stg_00002/Melanoma-species/CHEQ-seq_synthetic/E-BC_coupling_NovaSeq6000_20190405/04.LINKING/Enhancer-BC-Distribution_woEmptyVector.pdf\")\n",
    "plot(y, pch=16)\n",
    "dev.off()\n",
    "\n",
    "#> summary(y)\n",
    "#   Min. 1st Qu.  Median    Mean 3rd Qu.    Max. \n",
    "#    1.0   230.0   468.0   580.4   803.0  4887.0 \n",
    "    \n",
    "    \n",
    "    "
   ]
  },
  {
   "cell_type": "markdown",
   "metadata": {},
   "source": [
    "__Are BCs occuring multiple times linked to different regions?__"
   ]
  },
  {
   "cell_type": "code",
   "execution_count": null,
   "metadata": {
    "collapsed": true,
    "jupyter": {
     "outputs_hidden": true
    }
   },
   "outputs": [],
   "source": [
    "cd /user/leuven/317/vsc31703/stg_00002/Melanoma-species/CHEQ-seq_synthetic/E-BC_coupling_NovaSeq6000_20190405/04.LINKING\n",
    "## Quadriple\n",
    "# Make file with BCs appearing 10 times\n",
    " cat  CheqSeq_OLS_Liesbeth_enhancer-barcode_R1.Q20_trimmed5-3_full_Minimap.sorted.minQ4_Linked-Enhancers-BCs_woEmptyVector.matrix | awk '{print $2}' | sort | uniq -c | sort -k1nr | awk '$1==10' |awk '{print $2}' > 10x_BCs.txt\n",
    " \n",
    " # Count for each quadriple BC to how many enhancer it is linked\n",
    "touch 10x_BCs_Ecounts.txt\n",
    "IFS=$'\\n'     \n",
    "set -f\n",
    "for i in $(cat <  10x_BCs.txt); do\n",
    "  cat CheqSeq_OLS_Liesbeth_enhancer-barcode_R1.Q20_trimmed5-3_full_Minimap.sorted.minQ4_Linked-Enhancers-BCs_woEmptyVector.matrix |awk '{print $1 \"\\t\" $2 \"\\t\" $3}' |\\\n",
    "  grep $i |awk '{print $3}' | sort | uniq |wc -l >>  10x_BCs_Ecounts.txt;\n",
    "done\n",
    "\n",
    "\n"
   ]
  }
 ],
 "metadata": {
  "kernelspec": {
   "display_name": "Bash 4.2.46",
   "language": "bash",
   "name": "bash4246"
  },
  "language_info": {
   "codemirror_mode": "shell",
   "file_extension": ".sh",
   "mimetype": "text/x-sh",
   "name": "bash"
  }
 },
 "nbformat": 4,
 "nbformat_minor": 4
}

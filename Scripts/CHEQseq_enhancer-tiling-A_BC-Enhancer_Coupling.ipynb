{
 "cells": [
  {
   "cell_type": "markdown",
   "metadata": {},
   "source": [
    "# CHEQ-seq OLS David Tile A BC-Enhancer Coupling"
   ]
  },
  {
   "cell_type": "code",
   "execution_count": 15,
   "metadata": {},
   "outputs": [],
   "source": [
    "# Based on Liesbeth's E-BC-coupling_Novaseq_20190405 python notebook\n",
    "# Done on Genius"
   ]
  },
  {
   "cell_type": "code",
   "execution_count": 1,
   "metadata": {},
   "outputs": [],
   "source": [
    "cd /staging/leuven/stg_00002/lcb/dwmax/documents/aertslab/CH1/CHEQ-seq_OLS_DavidTileA"
   ]
  },
  {
   "cell_type": "code",
   "execution_count": 2,
   "metadata": {},
   "outputs": [
    {
     "name": "stdout",
     "output_type": "stream",
     "text": [
      "/ddn1/vol1/staging/leuven/stg_00002/lcb/dwmax/documents/aertslab/CH1/CHEQ-seq_OLS_DavidTileA\n"
     ]
    }
   ],
   "source": [
    "readlink -f ."
   ]
  },
  {
   "cell_type": "code",
   "execution_count": 3,
   "metadata": {},
   "outputs": [
    {
     "name": "stdout",
     "output_type": "stream",
     "text": [
      "CH1__4856bd__CheqSeq_OLS_Liesbeth_enhancer-barcode_S1_R1_001.fastq.gz\n",
      "CH1__4856bd__CheqSeq_OLS_Liesbeth_enhancer-barcode_S1_R2_001.fastq.gz\n",
      "CH1__5b4298__CheqSeq_OLS_Zeynep_enhancer-barcode_S4_R1_001.fastq.gz\n",
      "CH1__5b4298__CheqSeq_OLS_Zeynep_enhancer-barcode_S4_R2_001.fastq.gz\n",
      "CH1__8395e4__CheqSeq_OLS_Ibrahim_enhancer-barcode_S3_R1_001.fastq.gz\n",
      "CH1__8395e4__CheqSeq_OLS_Ibrahim_enhancer-barcode_S3_R2_001.fastq.gz\n",
      "CH1__b87bb6__CheqSeq_OLS_David_Pool_A_enhancer-barcode_S2_R1_001.fastq.gz\n",
      "CH1__b87bb6__CheqSeq_OLS_David_Pool_A_enhancer-barcode_S2_R2_001.fastq.gz\n",
      "CH1__fb10ad__CheqSeq_OLS_David_Pool_B_enhancer-barcode_S5_R1_001.fastq.gz\n",
      "CH1__fb10ad__CheqSeq_OLS_David_Pool_B_enhancer-barcode_S5_R2_001.fastq.gz\n",
      "NovaSeq6000_20190405.demultiplex.stats.tsv\n",
      "Reports\n",
      "Stats\n",
      "Undetermined_S0_R1_001.fastq.gz\n",
      "Undetermined_S0_R2_001.fastq.gz\n"
     ]
    }
   ],
   "source": [
    "ls /staging/leuven/stg_00002/lcb/ngs_runs/NovaSeq6000_20190405/Demultiplexed/"
   ]
  },
  {
   "cell_type": "code",
   "execution_count": 4,
   "metadata": {},
   "outputs": [],
   "source": [
    "DATA_DIR=\"/staging/leuven/stg_00002/lcb/ngs_runs/NovaSeq6000_20190405/Demultiplexed/\"\n",
    "SAMPLE_NAME=\"CH1__b87bb6__CheqSeq_OLS_David_Pool_A_enhancer-barcode_S2\"\n",
    "CHEQ_SEQ_LIBRARY_FASTA_FILE=\"/staging/leuven/stg_00002/lcb/dwmax/documents/resources/refs/cheq-seq_synthetic_libraries/david_tileA_final_dedup.fa\"\n",
    "CHEQ_SEQ_LIBRARY_FASTA_FILE_V2_WO_ADAPTERS=\"/staging/leuven/stg_00002/lcb/dwmax/documents/resources/refs/cheq-seq_synthetic_libraries/CSE_David_TileA/david_tileA_final_dedup_v2_woAdapters.fa\"\n",
    "FIVE_PRIME_ADAPTER_SEQ=\"TGCAGGTGCCAGAACATTTCTCT\"\n",
    "THREE_PRIME_ADAPTER_SEQ=\"GCCTAACTGGCCGGTACCTGAGCTCCCTAG\""
   ]
  },
  {
   "cell_type": "code",
   "execution_count": 3,
   "metadata": {},
   "outputs": [],
   "source": [
    "# Create directories\n",
    "for DIR in \"00.raw\" \"01.fastqc\" \"02.clean\" \"03.fastqc\" \"10.mapping\" \"20.coupling\" \"30.counting\"\n",
    "do\n",
    "    mkdir -p $DIR\n",
    "done"
   ]
  },
  {
   "cell_type": "code",
   "execution_count": 10,
   "metadata": {},
   "outputs": [
    {
     "name": "stdout",
     "output_type": "stream",
     "text": [
      "115866190\n",
      "115866190\n"
     ]
    }
   ],
   "source": [
    "zcat ${DATA_DIR}/${SAMPLE_NAME}_R1_001.fastq.gz | grep \"^@\" | wc -l\n",
    "zcat ${DATA_DIR}/${SAMPLE_NAME}_R2_001.fastq.gz | grep \"^@\" | wc -l"
   ]
  },
  {
   "cell_type": "markdown",
   "metadata": {},
   "source": [
    "## FastQC"
   ]
  },
  {
   "cell_type": "code",
   "execution_count": 12,
   "metadata": {},
   "outputs": [
    {
     "name": "stdout",
     "output_type": "stream",
     "text": [
      "Started analysis of CH1__b87bb6__CheqSeq_OLS_David_Pool_A_enhancer-barcode_S2_R1_001.fastq.gz\n",
      "Started analysis of CH1__b87bb6__CheqSeq_OLS_David_Pool_A_enhancer-barcode_S2_R2_001.fastq.gz\n",
      "Approx 5% complete for CH1__b87bb6__CheqSeq_OLS_David_Pool_A_enhancer-barcode_S2_R2_001.fastq.gz\n",
      "Approx 10% complete for CH1__b87bb6__CheqSeq_OLS_David_Pool_A_enhancer-barcode_S2_R2_001.fastq.gz\n",
      "Approx 15% complete for CH1__b87bb6__CheqSeq_OLS_David_Pool_A_enhancer-barcode_S2_R2_001.fastq.gz\n",
      "Approx 20% complete for CH1__b87bb6__CheqSeq_OLS_David_Pool_A_enhancer-barcode_S2_R2_001.fastq.gz\n",
      "Approx 5% complete for CH1__b87bb6__CheqSeq_OLS_David_Pool_A_enhancer-barcode_S2_R1_001.fastq.gz\n",
      "Approx 25% complete for CH1__b87bb6__CheqSeq_OLS_David_Pool_A_enhancer-barcode_S2_R2_001.fastq.gz\n",
      "Approx 30% complete for CH1__b87bb6__CheqSeq_OLS_David_Pool_A_enhancer-barcode_S2_R2_001.fastq.gz\n",
      "Approx 35% complete for CH1__b87bb6__CheqSeq_OLS_David_Pool_A_enhancer-barcode_S2_R2_001.fastq.gz\n",
      "Approx 40% complete for CH1__b87bb6__CheqSeq_OLS_David_Pool_A_enhancer-barcode_S2_R2_001.fastq.gz\n",
      "Approx 45% complete for CH1__b87bb6__CheqSeq_OLS_David_Pool_A_enhancer-barcode_S2_R2_001.fastq.gz\n",
      "Approx 10% complete for CH1__b87bb6__CheqSeq_OLS_David_Pool_A_enhancer-barcode_S2_R1_001.fastq.gz\n",
      "Approx 50% complete for CH1__b87bb6__CheqSeq_OLS_David_Pool_A_enhancer-barcode_S2_R2_001.fastq.gz\n",
      "Approx 55% complete for CH1__b87bb6__CheqSeq_OLS_David_Pool_A_enhancer-barcode_S2_R2_001.fastq.gz\n",
      "Approx 60% complete for CH1__b87bb6__CheqSeq_OLS_David_Pool_A_enhancer-barcode_S2_R2_001.fastq.gz\n",
      "Approx 65% complete for CH1__b87bb6__CheqSeq_OLS_David_Pool_A_enhancer-barcode_S2_R2_001.fastq.gz\n",
      "Approx 15% complete for CH1__b87bb6__CheqSeq_OLS_David_Pool_A_enhancer-barcode_S2_R1_001.fastq.gz\n",
      "Approx 70% complete for CH1__b87bb6__CheqSeq_OLS_David_Pool_A_enhancer-barcode_S2_R2_001.fastq.gz\n",
      "Approx 75% complete for CH1__b87bb6__CheqSeq_OLS_David_Pool_A_enhancer-barcode_S2_R2_001.fastq.gz\n",
      "Approx 80% complete for CH1__b87bb6__CheqSeq_OLS_David_Pool_A_enhancer-barcode_S2_R2_001.fastq.gz\n",
      "Approx 85% complete for CH1__b87bb6__CheqSeq_OLS_David_Pool_A_enhancer-barcode_S2_R2_001.fastq.gz\n",
      "Approx 90% complete for CH1__b87bb6__CheqSeq_OLS_David_Pool_A_enhancer-barcode_S2_R2_001.fastq.gz\n",
      "Approx 20% complete for CH1__b87bb6__CheqSeq_OLS_David_Pool_A_enhancer-barcode_S2_R1_001.fastq.gz\n",
      "Approx 95% complete for CH1__b87bb6__CheqSeq_OLS_David_Pool_A_enhancer-barcode_S2_R2_001.fastq.gz\n",
      "Analysis complete for CH1__b87bb6__CheqSeq_OLS_David_Pool_A_enhancer-barcode_S2_R2_001.fastq.gz\n",
      "Approx 25% complete for CH1__b87bb6__CheqSeq_OLS_David_Pool_A_enhancer-barcode_S2_R1_001.fastq.gz\n",
      "Approx 30% complete for CH1__b87bb6__CheqSeq_OLS_David_Pool_A_enhancer-barcode_S2_R1_001.fastq.gz\n",
      "Approx 35% complete for CH1__b87bb6__CheqSeq_OLS_David_Pool_A_enhancer-barcode_S2_R1_001.fastq.gz\n",
      "Approx 40% complete for CH1__b87bb6__CheqSeq_OLS_David_Pool_A_enhancer-barcode_S2_R1_001.fastq.gz\n",
      "Approx 45% complete for CH1__b87bb6__CheqSeq_OLS_David_Pool_A_enhancer-barcode_S2_R1_001.fastq.gz\n",
      "Approx 50% complete for CH1__b87bb6__CheqSeq_OLS_David_Pool_A_enhancer-barcode_S2_R1_001.fastq.gz\n",
      "Approx 55% complete for CH1__b87bb6__CheqSeq_OLS_David_Pool_A_enhancer-barcode_S2_R1_001.fastq.gz\n",
      "Approx 60% complete for CH1__b87bb6__CheqSeq_OLS_David_Pool_A_enhancer-barcode_S2_R1_001.fastq.gz\n",
      "Approx 65% complete for CH1__b87bb6__CheqSeq_OLS_David_Pool_A_enhancer-barcode_S2_R1_001.fastq.gz\n",
      "Approx 70% complete for CH1__b87bb6__CheqSeq_OLS_David_Pool_A_enhancer-barcode_S2_R1_001.fastq.gz\n",
      "Approx 75% complete for CH1__b87bb6__CheqSeq_OLS_David_Pool_A_enhancer-barcode_S2_R1_001.fastq.gz\n",
      "Approx 80% complete for CH1__b87bb6__CheqSeq_OLS_David_Pool_A_enhancer-barcode_S2_R1_001.fastq.gz\n",
      "Approx 85% complete for CH1__b87bb6__CheqSeq_OLS_David_Pool_A_enhancer-barcode_S2_R1_001.fastq.gz\n",
      "Approx 90% complete for CH1__b87bb6__CheqSeq_OLS_David_Pool_A_enhancer-barcode_S2_R1_001.fastq.gz\n",
      "Approx 95% complete for CH1__b87bb6__CheqSeq_OLS_David_Pool_A_enhancer-barcode_S2_R1_001.fastq.gz\n",
      "Analysis complete for CH1__b87bb6__CheqSeq_OLS_David_Pool_A_enhancer-barcode_S2_R1_001.fastq.gz\n"
     ]
    }
   ],
   "source": [
    "module load FastQC/0.11.8-Java-1.8.0_162\n",
    "fastqc -t 2 ${DATA_DIR}/${SAMPLE_NAME}_R*_001.fastq.gz -o 01.fastqc"
   ]
  },
  {
   "cell_type": "markdown",
   "metadata": {},
   "source": [
    "## 1. Read 1 - Enhancer mapping"
   ]
  },
  {
   "cell_type": "markdown",
   "metadata": {},
   "source": [
    "### 1.1 Cleaning"
   ]
  },
  {
   "cell_type": "markdown",
   "metadata": {},
   "source": [
    "#### 1.1.1 Remove Nextera adapter + Trim low quality reads"
   ]
  },
  {
   "cell_type": "code",
   "execution_count": 4,
   "metadata": {},
   "outputs": [
    {
     "name": "stdout",
     "output_type": "stream",
     "text": [
      "Read1 before filtering:\n",
      "total reads: 115866190\n",
      "total bases: 29082413690\n",
      "Q20 bases: 27386756939(94.1695%)\n",
      "Q30 bases: 25750319960(88.5426%)\n",
      "\n",
      "Read1 after filtering:\n",
      "total reads: 107515310\n",
      "total bases: 25628849100\n",
      "Q20 bases: 24975111555(97.4492%)\n",
      "Q30 bases: 23793237428(92.8377%)\n",
      "\n",
      "Filtering result:\n",
      "reads passed filter: 107515310\n",
      "reads failed due to low quality: 8350046\n",
      "reads failed due to too many N: 751\n",
      "reads failed due to too short: 83\n",
      "reads with adapter trimmed: 18666556\n",
      "bases trimmed due to adapters: 1360771552\n",
      "\n",
      "Duplication rate (may be overestimated since this is SE data): 1.60258%\n",
      "\n",
      "JSON report: fastp.json\n",
      "HTML report: fastp.html\n",
      "\n",
      "/ddn1/vol1/staging/leuven/stg_00002/lcb/dwmax/software/fastp/0.20.0/fastp -w 6 -a CTGTCTCTTATA -q 20 -u 20 -i /staging/leuven/stg_00002/lcb/ngs_runs/NovaSeq6000_20190405/Demultiplexed//CH1__b87bb6__CheqSeq_OLS_David_Pool_A_enhancer-barcode_S2_R1_001.fastq.gz -o 02.clean/CH1__b87bb6__CheqSeq_OLS_David_Pool_A_enhancer-barcode_S2_R1_001_cleaned_1.1.1.fastq.gz \n",
      "fastp v0.20.0, time used: 966 seconds\n"
     ]
    }
   ],
   "source": [
    "/staging/leuven/stg_00002/lcb/dwmax/software/fastp/0.20.0/fastp \\\n",
    "   -w 6 \\\n",
    "   -a CTGTCTCTTATA \\\n",
    "   -q 20 -u 20 \\\n",
    "   -i ${DATA_DIR}/${SAMPLE_NAME}_R1_001.fastq.gz \\\n",
    "   -o 02.clean/${SAMPLE_NAME}_R1_001_cleaned_1.1.1.fastq.gz"
   ]
  },
  {
   "cell_type": "code",
   "execution_count": 5,
   "metadata": {},
   "outputs": [
    {
     "name": "stdout",
     "output_type": "stream",
     "text": [
      "107515310\n"
     ]
    }
   ],
   "source": [
    "zcat 02.clean/${SAMPLE_NAME}_R1_001_cleaned_1.1.1.fastq.gz | grep \"^@\" | wc -l"
   ]
  },
  {
   "cell_type": "code",
   "execution_count": null,
   "metadata": {},
   "outputs": [],
   "source": [
    "# QC\n",
    "module load FastQC/0.11.8-Java-1.8.0_162\n",
    "fastqc -o 03.fastqc/ 02.clean/${SAMPLE_NAME}_R1_001_cleaned_1.1.1.fastq.gz"
   ]
  },
  {
   "cell_type": "markdown",
   "metadata": {},
   "source": [
    "#### 1.1.2 Remove the 5' adaptor"
   ]
  },
  {
   "cell_type": "code",
   "execution_count": 7,
   "metadata": {
    "collapsed": true,
    "jupyter": {
     "outputs_hidden": true
    }
   },
   "outputs": [
    {
     "name": "stdout",
     "output_type": "stream",
     "text": [
      "This is cutadapt 1.18 with Python 3.6.2\n",
      "Command line parameters: -j 6 -g TGCAGGTGCCAGAACATTTCTCT --trimmed-only --output 02.clean/CH1__b87bb6__CheqSeq_OLS_David_Pool_A_enhancer-barcode_S2_R1_001_cleaned_1.1.2.fastq.gz 02.clean/CH1__b87bb6__CheqSeq_OLS_David_Pool_A_enhancer-barcode_S2_R1_001_cleaned_1.1.1.fastq.gz\n",
      "Processing reads on 6 cores in single-end mode ...\n",
      "Finished in 1101.62 s (10 us/read; 5.86 M reads/minute).\n",
      "\n",
      "=== Summary ===\n",
      "\n",
      "Total reads processed:             107,515,310\n",
      "Reads with adapters:               107,495,988 (100.0%)\n",
      "Reads written (passing filters):   107,495,988 (100.0%)\n",
      "\n",
      "Total basepairs processed: 25,628,849,100 bp\n",
      "Total written (filtered):  22,879,218,925 bp (89.3%)\n",
      "\n",
      "=== Adapter 1 ===\n",
      "\n",
      "Sequence: TGCAGGTGCCAGAACATTTCTCT; Type: regular 5'; Length: 23; Trimmed: 107495988 times.\n",
      "\n",
      "No. of allowed errors:\n",
      "0-9 bp: 0; 10-19 bp: 1; 20-23 bp: 2\n",
      "\n",
      "Overview of removed sequences\n",
      "length\tcount\texpect\tmax.err\terror counts\n",
      "3\t7\t1679926.7\t0\t7\n",
      "4\t6\t419981.7\t0\t6\n",
      "10\t2\t102.5\t1\t1 1\n",
      "11\t8\t25.6\t1\t8\n",
      "12\t4\t6.4\t1\t2 2\n",
      "13\t1\t1.6\t1\t1\n",
      "14\t4\t0.4\t1\t2 2\n",
      "15\t7\t0.1\t1\t5 2\n",
      "16\t20\t0.0\t1\t2 18\n",
      "17\t44\t0.0\t1\t36 8\n",
      "18\t456\t0.0\t1\t419 37\n",
      "19\t97\t0.0\t1\t41 54 2\n",
      "20\t222\t0.0\t2\t88 80 54\n",
      "21\t3214\t0.0\t2\t831 202 2181\n",
      "22\t70153\t0.0\t2\t1952 63700 4501\n",
      "23\t15425743\t0.0\t2\t15170567 245360 9816\n",
      "24\t18059509\t0.0\t2\t17728824 316380 14305\n",
      "25\t18147748\t0.0\t2\t17692080 432742 22926\n",
      "26\t20747411\t0.0\t2\t20405062 319501 22848\n",
      "27\t18905115\t0.0\t2\t18592134 292880 20101\n",
      "28\t16084886\t0.0\t2\t15851819 212809 20258\n",
      "29\t40504\t0.0\t2\t6235 23150 11119\n",
      "30\t10383\t0.0\t2\t41 21 10321\n",
      "31\t33\t0.0\t2\t19 6 8\n",
      "32\t21\t0.0\t2\t13 3 5\n",
      "33\t29\t0.0\t2\t15 7 7\n",
      "34\t13\t0.0\t2\t9 1 3\n",
      "35\t15\t0.0\t2\t12 1 2\n",
      "36\t6\t0.0\t2\t4 2\n",
      "37\t10\t0.0\t2\t8 2\n",
      "38\t13\t0.0\t2\t11 0 2\n",
      "39\t16\t0.0\t2\t15 0 1\n",
      "40\t15\t0.0\t2\t12 1 2\n",
      "41\t13\t0.0\t2\t11 2\n",
      "42\t12\t0.0\t2\t10 2\n",
      "43\t8\t0.0\t2\t7 1\n",
      "44\t12\t0.0\t2\t9 2 1\n",
      "45\t12\t0.0\t2\t12\n",
      "46\t16\t0.0\t2\t14 1 1\n",
      "47\t13\t0.0\t2\t13\n",
      "48\t9\t0.0\t2\t8 0 1\n",
      "49\t6\t0.0\t2\t6\n",
      "50\t13\t0.0\t2\t13\n",
      "51\t7\t0.0\t2\t7\n",
      "52\t12\t0.0\t2\t12\n",
      "53\t14\t0.0\t2\t13 1\n",
      "54\t9\t0.0\t2\t9\n",
      "55\t9\t0.0\t2\t8 1\n",
      "56\t4\t0.0\t2\t4\n",
      "57\t1\t0.0\t2\t1\n",
      "58\t6\t0.0\t2\t6\n",
      "59\t2\t0.0\t2\t2\n",
      "60\t7\t0.0\t2\t7\n",
      "61\t4\t0.0\t2\t4\n",
      "62\t2\t0.0\t2\t2\n",
      "63\t2\t0.0\t2\t2\n",
      "64\t5\t0.0\t2\t5\n",
      "65\t2\t0.0\t2\t2\n",
      "66\t1\t0.0\t2\t1\n",
      "68\t2\t0.0\t2\t2\n",
      "69\t1\t0.0\t2\t1\n",
      "70\t2\t0.0\t2\t2\n",
      "72\t1\t0.0\t2\t1\n",
      "73\t1\t0.0\t2\t1\n",
      "74\t1\t0.0\t2\t1\n",
      "75\t1\t0.0\t2\t1\n",
      "76\t1\t0.0\t2\t1\n",
      "78\t1\t0.0\t2\t1\n",
      "79\t3\t0.0\t2\t3\n",
      "83\t1\t0.0\t2\t1\n",
      "96\t1\t0.0\t2\t1\n",
      "104\t1\t0.0\t2\t1\n",
      "119\t1\t0.0\t2\t1\n",
      "121\t1\t0.0\t2\t1\n",
      "122\t1\t0.0\t2\t1\n",
      "124\t2\t0.0\t2\t2\n",
      "125\t1\t0.0\t2\t1\n",
      "139\t1\t0.0\t2\t1\n",
      "148\t1\t0.0\t2\t1\n",
      "152\t2\t0.0\t2\t2\n",
      "154\t1\t0.0\t2\t1\n",
      "155\t3\t0.0\t2\t3\n",
      "156\t3\t0.0\t2\t3\n",
      "157\t1\t0.0\t2\t1\n",
      "158\t4\t0.0\t2\t4\n",
      "159\t20\t0.0\t2\t20\n",
      "160\t1\t0.0\t2\t1\n",
      "162\t1\t0.0\t2\t0 0 1\n",
      "172\t1\t0.0\t2\t1\n",
      "189\t1\t0.0\t2\t1\n",
      "195\t1\t0.0\t2\t1\n",
      "214\t1\t0.0\t2\t1\n",
      "215\t2\t0.0\t2\t2\n",
      "228\t2\t0.0\t2\t2\n",
      "241\t2\t0.0\t2\t2\n",
      "248\t1\t0.0\t2\t1\n",
      "\n"
     ]
    }
   ],
   "source": [
    "# cut 5' adaptor of read 1 using the 23bp enhancer (without staggers)\n",
    "# write only the reads that are trimmed, so that contained the adaptor\n",
    "# module load cutadapt/20180522-foss-2014a-Python-2.7.6 -> Not parallel\n",
    "cutadapt -j 6 -g ${FIVE_PRIME_ADAPTER_SEQ} --trimmed-only \\\n",
    "   --output 02.clean/${SAMPLE_NAME}_R1_001_cleaned_1.1.2.fastq.gz \\\n",
    "   02.clean/${SAMPLE_NAME}_R1_001_cleaned_1.1.1.fastq.gz"
   ]
  },
  {
   "cell_type": "code",
   "execution_count": 8,
   "metadata": {},
   "outputs": [
    {
     "name": "stdout",
     "output_type": "stream",
     "text": [
      "107495988\n"
     ]
    }
   ],
   "source": [
    "zcat 02.clean/${SAMPLE_NAME}_R1_001_cleaned_1.1.2.fastq.gz | grep \"^@\" | wc -l"
   ]
  },
  {
   "cell_type": "markdown",
   "metadata": {},
   "source": [
    "#### 1.1.3 Filter out empty vectors"
   ]
  },
  {
   "cell_type": "code",
   "execution_count": 9,
   "metadata": {
    "collapsed": true,
    "jupyter": {
     "outputs_hidden": true
    }
   },
   "outputs": [
    {
     "name": "stdout",
     "output_type": "stream",
     "text": [
      "This is cutadapt 1.18 with Python 3.6.2\n",
      "Command line parameters: -g CGTTCGTCCTCAGTCGCGAT...ACTCGAGCCGAGCAGGCGCG --overlap 5 --output 02.clean/CH1__b87bb6__CheqSeq_OLS_David_Pool_A_enhancer-barcode_S2_R1_001_cleaned_1.1.3_empty_vectors.fastq.gz --untrimmed-output 02.clean/CH1__b87bb6__CheqSeq_OLS_David_Pool_A_enhancer-barcode_S2_R1_001_cleaned_1.1.3.fastq.gz 02.clean/CH1__b87bb6__CheqSeq_OLS_David_Pool_A_enhancer-barcode_S2_R1_001_cleaned_1.1.2.fastq.gz\n",
      "Processing reads on 1 core in single-end mode ...\n",
      "Finished in 1697.77 s (16 us/read; 3.80 M reads/minute).\n",
      "\n",
      "=== Summary ===\n",
      "\n",
      "Total reads processed:             107,495,988\n",
      "Reads with adapters:                25,698,920 (23.9%)\n",
      "Reads written (passing filters):    25,698,920 (23.9%)\n",
      "\n",
      "Total basepairs processed: 22,879,218,925 bp\n",
      "Total written (filtered):    128,601,852 bp (0.6%)\n",
      "\n",
      "=== Adapter 2 ===\n",
      "\n",
      "Sequence: CGTTCGTCCTCAGTCGCGAT...ACTCGAGCCGAGCAGGCGCG; Type: linked; Length: 20+20; 5' trimmed: 25698920 times; 3' trimmed: 25698920 times\n",
      "\n",
      "No. of allowed errors:\n",
      "0-9 bp: 0; 10-19 bp: 1; 20 bp: 2\n",
      "\n",
      "No. of allowed errors:\n",
      "0-9 bp: 0; 10-19 bp: 1; 20 bp: 2\n",
      "\n",
      "Overview of removed sequences at 5' end\n",
      "length\tcount\texpect\tmax.err\terror counts\n",
      "5\t3\t104976.6\t0\t3\n",
      "17\t1\t0.0\t1\t1\n",
      "27\t2\t0.0\t2\t1 1\n",
      "28\t3\t0.0\t2\t1 0 2\n",
      "29\t3\t0.0\t2\t2 1\n",
      "30\t27\t0.0\t2\t26 1\n",
      "31\t4\t0.0\t2\t4\n",
      "32\t5\t0.0\t2\t3 2\n",
      "33\t26\t0.0\t2\t22 3 1\n",
      "34\t9\t0.0\t2\t7 1 1\n",
      "35\t27\t0.0\t2\t25 2\n",
      "36\t9\t0.0\t2\t7 1 1\n",
      "37\t37\t0.0\t2\t33 3 1\n",
      "38\t47\t0.0\t2\t45 2\n",
      "39\t47\t0.0\t2\t46 1\n",
      "40\t4\t0.0\t2\t2 2\n",
      "41\t10\t0.0\t2\t9 1\n",
      "42\t4\t0.0\t2\t4\n",
      "43\t38\t0.0\t2\t36 2\n",
      "44\t192\t0.0\t2\t173 15 4\n",
      "45\t13\t0.0\t2\t12 1\n",
      "46\t44\t0.0\t2\t39 3 2\n",
      "47\t13\t0.0\t2\t12 1\n",
      "48\t32\t0.0\t2\t29 2 1\n",
      "49\t33\t0.0\t2\t29 3 1\n",
      "50\t31\t0.0\t2\t24 7\n",
      "51\t4\t0.0\t2\t4\n",
      "52\t5\t0.0\t2\t5\n",
      "53\t6\t0.0\t2\t5 0 1\n",
      "54\t5\t0.0\t2\t5\n",
      "55\t8\t0.0\t2\t7 0 1\n",
      "56\t11\t0.0\t2\t10 0 1\n",
      "57\t25\t0.0\t2\t18 6 1\n",
      "58\t60\t0.0\t2\t56 4\n",
      "59\t13\t0.0\t2\t12 0 1\n",
      "60\t17\t0.0\t2\t16 1\n",
      "61\t20\t0.0\t2\t20\n",
      "62\t18\t0.0\t2\t15 2 1\n",
      "63\t62\t0.0\t2\t52 8 2\n",
      "64\t172\t0.0\t2\t156 14 2\n",
      "65\t16\t0.0\t2\t16\n",
      "66\t11\t0.0\t2\t11\n",
      "67\t11\t0.0\t2\t9 2\n",
      "68\t28\t0.0\t2\t27 0 1\n",
      "69\t27\t0.0\t2\t25 2\n",
      "70\t28\t0.0\t2\t26 1 1\n",
      "71\t24\t0.0\t2\t21 3\n",
      "72\t563\t0.0\t2\t555 7 1\n",
      "73\t39\t0.0\t2\t38 1\n",
      "74\t197\t0.0\t2\t185 9 3\n",
      "75\t742\t0.0\t2\t478 85 179\n",
      "76\t49422\t0.0\t2\t21923 22614 4885\n",
      "77\t17254068\t0.0\t2\t17005141 234164 14763\n",
      "78\t36077\t0.0\t2\t33546 2233 298\n",
      "79\t1035\t0.0\t2\t816 16 203\n",
      "80\t329\t0.0\t2\t313 7 9\n",
      "81\t318\t0.0\t2\t313 5\n",
      "82\t299\t0.0\t2\t286 10 3\n",
      "83\t340\t0.0\t2\t325 13 2\n",
      "84\t373\t0.0\t2\t352 15 6\n",
      "85\t330\t0.0\t2\t318 12\n",
      "86\t413\t0.0\t2\t401 10 2\n",
      "87\t327\t0.0\t2\t320 5 2\n",
      "88\t400\t0.0\t2\t386 12 2\n",
      "89\t376\t0.0\t2\t367 9\n",
      "90\t403\t0.0\t2\t400 3\n",
      "91\t441\t0.0\t2\t436 5\n",
      "92\t491\t0.0\t2\t479 10 2\n",
      "93\t586\t0.0\t2\t575 11\n",
      "94\t584\t0.0\t2\t574 9 1\n",
      "95\t675\t0.0\t2\t642 18 15\n",
      "96\t906\t0.0\t2\t865 36 5\n",
      "97\t804\t0.0\t2\t777 26 1\n",
      "98\t912\t0.0\t2\t889 18 5\n",
      "99\t941\t0.0\t2\t916 24 1\n",
      "100\t963\t0.0\t2\t945 17 1\n",
      "101\t1144\t0.0\t2\t1108 31 5\n",
      "102\t2511\t0.0\t2\t2304 174 33\n",
      "103\t1394\t0.0\t2\t1365 24 5\n",
      "104\t1566\t0.0\t2\t1527 34 5\n",
      "105\t1771\t0.0\t2\t1729 38 4\n",
      "106\t2232\t0.0\t2\t2188 35 9\n",
      "107\t2047\t0.0\t2\t2013 31 3\n",
      "108\t2349\t0.0\t2\t2309 37 3\n",
      "109\t2706\t0.0\t2\t2639 57 10\n",
      "110\t4093\t0.0\t2\t3963 120 10\n",
      "111\t3062\t0.0\t2\t2982 76 4\n",
      "112\t3500\t0.0\t2\t3404 92 4\n",
      "113\t3784\t0.0\t2\t3698 79 7\n",
      "114\t4357\t0.0\t2\t4250 97 10\n",
      "115\t4867\t0.0\t2\t4728 123 16\n",
      "116\t5576\t0.0\t2\t5421 138 17\n",
      "117\t5989\t0.0\t2\t5836 139 14\n",
      "118\t6296\t0.0\t2\t6138 135 23\n",
      "119\t6980\t0.0\t2\t6823 144 13\n",
      "120\t7637\t0.0\t2\t7454 162 21\n",
      "121\t8538\t0.0\t2\t8354 166 18\n",
      "122\t9336\t0.0\t2\t9095 219 22\n",
      "123\t10313\t0.0\t2\t10050 242 21\n",
      "124\t11165\t0.0\t2\t10909 235 21\n",
      "125\t12460\t0.0\t2\t12132 281 47\n",
      "126\t15184\t0.0\t2\t14820 331 33\n",
      "127\t14602\t0.0\t2\t14274 298 30\n",
      "128\t15799\t0.0\t2\t15395 352 52\n",
      "129\t17140\t0.0\t2\t16742 357 41\n",
      "130\t18609\t0.0\t2\t18159 399 51\n",
      "131\t19809\t0.0\t2\t19305 457 47\n",
      "132\t21603\t0.0\t2\t21043 508 52\n",
      "133\t23512\t0.0\t2\t22882 558 72\n",
      "134\t25251\t0.0\t2\t24622 561 68\n",
      "135\t27742\t0.0\t2\t27028 639 75\n",
      "136\t30208\t0.0\t2\t29436 685 87\n",
      "137\t32203\t0.0\t2\t31340 755 108\n",
      "138\t34288\t0.0\t2\t33386 803 99\n",
      "139\t35983\t0.0\t2\t34971 898 114\n",
      "140\t38761\t0.0\t2\t37709 938 114\n",
      "141\t40982\t0.0\t2\t39884 982 116\n",
      "142\t44117\t0.0\t2\t42756 1184 177\n",
      "143\t47231\t0.0\t2\t45630 1397 204\n",
      "144\t48847\t0.0\t2\t47334 1331 182\n",
      "145\t52301\t0.0\t2\t50790 1333 178\n",
      "146\t60589\t0.0\t2\t58775 1621 193\n",
      "147\t57505\t0.0\t2\t55661 1634 210\n",
      "148\t60295\t0.0\t2\t58467 1619 209\n",
      "149\t63329\t0.0\t2\t61473 1637 219\n",
      "150\t65853\t0.0\t2\t63800 1790 263\n",
      "151\t68350\t0.0\t2\t66251 1809 290\n",
      "152\t71142\t0.0\t2\t68964 1903 275\n",
      "153\t73856\t0.0\t2\t71469 2075 312\n",
      "154\t77383\t0.0\t2\t74856 2215 312\n",
      "155\t78933\t0.0\t2\t76344 2237 352\n",
      "156\t81857\t0.0\t2\t79077 2418 362\n",
      "157\t84866\t0.0\t2\t81998 2475 393\n",
      "158\t87662\t0.0\t2\t84716 2564 382\n",
      "159\t90650\t0.0\t2\t87557 2738 355\n",
      "160\t93005\t0.0\t2\t89834 2750 421\n",
      "161\t95605\t0.0\t2\t92229 2909 467\n",
      "162\t100691\t0.0\t2\t96910 3226 555\n",
      "163\t98514\t0.0\t2\t95000 3058 456\n",
      "164\t101449\t0.0\t2\t97565 3338 546\n",
      "165\t104791\t0.0\t2\t100878 3388 525\n",
      "166\t114790\t0.0\t2\t110537 3671 582\n",
      "167\t106650\t0.0\t2\t102661 3435 554\n",
      "168\t107552\t0.0\t2\t103285 3675 592\n",
      "169\t109138\t0.0\t2\t105029 3507 602\n",
      "170\t110876\t0.0\t2\t106514 3746 616\n",
      "171\t112833\t0.0\t2\t108234 3988 611\n",
      "172\t113338\t0.0\t2\t108404 4265 669\n",
      "173\t114943\t0.0\t2\t110229 4083 631\n",
      "174\t115895\t0.0\t2\t111048 4166 681\n",
      "175\t117140\t0.0\t2\t112207 4225 708\n",
      "176\t116994\t0.0\t2\t112022 4245 727\n",
      "177\t118961\t0.0\t2\t113772 4416 773\n",
      "178\t118854\t0.0\t2\t113754 4327 773\n",
      "179\t119267\t0.0\t2\t113952 4523 792\n",
      "180\t121257\t0.0\t2\t115775 4655 827\n",
      "181\t121150\t0.0\t2\t115711 4656 783\n",
      "182\t121199\t0.0\t2\t115621 4716 862\n",
      "183\t121979\t0.0\t2\t116331 4772 876\n",
      "184\t123336\t0.0\t2\t117515 4867 954\n",
      "185\t125448\t0.0\t2\t119488 5024 936\n",
      "186\t133604\t0.0\t2\t127189 5423 992\n",
      "187\t124092\t0.0\t2\t118107 5060 925\n",
      "188\t123350\t0.0\t2\t117409 5045 896\n",
      "189\t123255\t0.0\t2\t117146 5106 1003\n",
      "190\t123568\t0.0\t2\t117674 4925 969\n",
      "191\t122806\t0.0\t2\t117027 4855 924\n",
      "192\t122771\t0.0\t2\t117012 4827 932\n",
      "193\t122835\t0.0\t2\t116914 4976 945\n",
      "194\t123421\t0.0\t2\t117502 4965 954\n",
      "195\t123686\t0.0\t2\t117399 5243 1044\n",
      "196\t122508\t0.0\t2\t115899 5469 1140\n",
      "197\t122209\t0.0\t2\t115547 5506 1156\n",
      "198\t122488\t0.0\t2\t115640 5645 1203\n",
      "199\t121373\t0.0\t2\t114729 5513 1131\n",
      "200\t120844\t0.0\t2\t114276 5475 1093\n",
      "201\t121284\t0.0\t2\t115129 5087 1068\n",
      "202\t120534\t0.0\t2\t114379 5145 1010\n",
      "203\t120215\t0.0\t2\t114189 4959 1067\n",
      "204\t119780\t0.0\t2\t113827 4967 986\n",
      "205\t121954\t0.0\t2\t115846 5130 978\n",
      "206\t129229\t0.0\t2\t122757 5402 1070\n",
      "207\t118044\t0.0\t2\t111757 5203 1084\n",
      "208\t118602\t0.0\t2\t112306 5258 1038\n",
      "209\t117570\t0.0\t2\t111055 5418 1097\n",
      "210\t116068\t0.0\t2\t109581 5433 1054\n",
      "211\t114472\t0.0\t2\t108023 5389 1060\n",
      "212\t112983\t0.0\t2\t106636 5357 990\n",
      "213\t112674\t0.0\t2\t106673 5058 943\n",
      "214\t95714\t0.0\t2\t90648 4325 741\n",
      "215\t73686\t0.0\t2\t70189 2992 505\n",
      "216\t52009\t0.0\t2\t49695 1988 326\n",
      "217\t33683\t0.0\t2\t32251 1231 201\n",
      "218\t15138\t0.0\t2\t14595 469 74\n",
      "219\t106\t0.0\t2\t95 5 6\n",
      "220\t5\t0.0\t2\t2 0 3\n",
      "221\t1\t0.0\t2\t1\n",
      "\n",
      "\n",
      "Overview of removed sequences at 3' end\n",
      "length\tcount\texpect\tmax.err\terror counts\n",
      "5\t108525\t104976.6\t0\t108525\n",
      "6\t112148\t26244.1\t0\t112148\n",
      "7\t108876\t6561.0\t0\t108876\n",
      "8\t112564\t1640.3\t0\t112564\n",
      "9\t114946\t410.1\t0\t114841 105\n",
      "10\t117922\t102.5\t1\t111743 6179\n",
      "11\t117322\t25.6\t1\t112209 5113\n",
      "12\t118114\t6.4\t1\t110036 8078\n",
      "13\t120730\t1.6\t1\t114306 6424\n",
      "14\t121190\t0.4\t1\t112849 8341\n",
      "15\t121781\t0.1\t1\t115661 6120\n",
      "16\t121129\t0.0\t1\t112045 9084\n",
      "17\t122280\t0.0\t1\t116585 5695\n",
      "18\t120467\t0.0\t1\t113833 6233 401\n",
      "19\t120049\t0.0\t1\t115091 4913 45\n",
      "20\t121224\t0.0\t2\t113497 6436 1291\n",
      "21\t121974\t0.0\t2\t115813 5281 880\n",
      "22\t122110\t0.0\t2\t115091 5894 1125\n",
      "23\t122546\t0.0\t2\t115266 6180 1100\n",
      "24\t122667\t0.0\t2\t115091 6263 1313\n",
      "25\t124098\t0.0\t2\t115446 7150 1502\n",
      "26\t123450\t0.0\t2\t114068 7610 1772\n",
      "27\t123697\t0.0\t2\t115101 7164 1432\n",
      "28\t123264\t0.0\t2\t115352 6552 1360\n",
      "29\t123638\t0.0\t2\t116192 6192 1254\n",
      "30\t123336\t0.0\t2\t116101 6041 1194\n",
      "31\t123695\t0.0\t2\t116996 5575 1124\n",
      "32\t125673\t0.0\t2\t118773 5732 1168\n",
      "33\t125828\t0.0\t2\t118399 6150 1279\n",
      "34\t126527\t0.0\t2\t119358 5941 1228\n",
      "35\t125906\t0.0\t2\t119322 5529 1055\n",
      "36\t124833\t0.0\t2\t117464 6247 1122\n",
      "37\t124141\t0.0\t2\t117279 5501 1361\n",
      "38\t121842\t0.0\t2\t115339 5515 988\n",
      "39\t121675\t0.0\t2\t114545 5315 1815\n",
      "40\t120174\t0.0\t2\t114019 4817 1338\n",
      "41\t120128\t0.0\t2\t114586 4411 1131\n",
      "42\t120144\t0.0\t2\t114617 4313 1214\n",
      "43\t119305\t0.0\t2\t113914 4336 1055\n",
      "44\t118009\t0.0\t2\t112387 4665 957\n",
      "45\t117289\t0.0\t2\t112042 4338 909\n",
      "46\t116731\t0.0\t2\t111692 4177 862\n",
      "47\t116046\t0.0\t2\t110933 4201 912\n",
      "48\t127215\t0.0\t2\t111431 4371 11413\n",
      "49\t114374\t0.0\t2\t109530 4056 788\n",
      "50\t112779\t0.0\t2\t108170 3871 738\n",
      "51\t112168\t0.0\t2\t107756 3682 730\n",
      "52\t111625\t0.0\t2\t107039 3887 699\n",
      "53\t111065\t0.0\t2\t106644 3769 652\n",
      "54\t109892\t0.0\t2\t105551 3691 650\n",
      "55\t107323\t0.0\t2\t103142 3578 603\n",
      "56\t105556\t0.0\t2\t101631 3418 507\n",
      "57\t104159\t0.0\t2\t100165 3470 524\n",
      "58\t99708\t0.0\t2\t96018 3121 569\n",
      "59\t99041\t0.0\t2\t95445 3121 475\n",
      "60\t95479\t0.0\t2\t92202 2929 348\n",
      "61\t96476\t0.0\t2\t92947 2901 628\n",
      "62\t92722\t0.0\t2\t88552 3796 374\n",
      "63\t90776\t0.0\t2\t87328 3031 417\n",
      "64\t100367\t0.0\t2\t93974 5091 1302\n",
      "65\t332088\t0.0\t2\t296973 29416 5699\n",
      "66\t17814619\t0.0\t2\t17531052 268778 14789\n",
      "67\t177171\t0.0\t2\t167505 9104 562\n",
      "68\t79354\t0.0\t2\t76705 2293 356\n",
      "69\t73151\t0.0\t2\t70675 2208 268\n",
      "70\t68126\t0.0\t2\t65926 1944 256\n",
      "71\t3887\t0.0\t2\t3452 349 86\n",
      "72\t3539\t0.0\t2\t3033 400 106\n",
      "73\t3436\t0.0\t2\t2943 391 102\n",
      "74\t1205\t0.0\t2\t1052 128 25\n",
      "75\t1262\t0.0\t2\t1094 136 32\n",
      "76\t1235\t0.0\t2\t1075 138 22\n",
      "77\t1247\t0.0\t2\t1050 172 25\n",
      "78\t1295\t0.0\t2\t1115 147 33\n",
      "79\t1168\t0.0\t2\t1001 146 21\n",
      "80\t1085\t0.0\t2\t934 134 17\n",
      "81\t985\t0.0\t2\t830 129 26\n",
      "82\t931\t0.0\t2\t804 108 19\n",
      "83\t880\t0.0\t2\t761 105 14\n",
      "84\t802\t0.0\t2\t700 77 25\n",
      "85\t776\t0.0\t2\t694 66 16\n",
      "86\t762\t0.0\t2\t683 66 13\n",
      "87\t637\t0.0\t2\t559 70 8\n",
      "88\t540\t0.0\t2\t479 53 8\n",
      "89\t635\t0.0\t2\t571 59 5\n",
      "90\t480\t0.0\t2\t431 47 2\n",
      "91\t445\t0.0\t2\t402 30 13\n",
      "92\t392\t0.0\t2\t369 20 3\n",
      "93\t446\t0.0\t2\t416 24 6\n",
      "94\t395\t0.0\t2\t361 32 2\n",
      "95\t281\t0.0\t2\t259 20 2\n",
      "96\t211\t0.0\t2\t190 17 4\n",
      "97\t265\t0.0\t2\t237 22 6\n",
      "98\t208\t0.0\t2\t193 11 4\n",
      "99\t192\t0.0\t2\t172 18 2\n",
      "100\t229\t0.0\t2\t215 13 1\n",
      "101\t619\t0.0\t2\t593 24 2\n",
      "102\t227\t0.0\t2\t202 21 4\n",
      "103\t482\t0.0\t2\t443 33 6\n",
      "104\t1283\t0.0\t2\t1226 53 4\n",
      "105\t120\t0.0\t2\t107 11 2\n",
      "106\t255\t0.0\t2\t238 13 4\n",
      "107\t705\t0.0\t2\t678 23 4\n",
      "108\t263\t0.0\t2\t242 18 3\n",
      "109\t985\t0.0\t2\t954 22 9\n",
      "110\t152\t0.0\t2\t135 11 6\n",
      "111\t383\t0.0\t2\t370 9 4\n",
      "112\t63\t0.0\t2\t52 3 8\n",
      "113\t63\t0.0\t2\t55 4 4\n",
      "114\t73\t0.0\t2\t64 6 3\n",
      "115\t163\t0.0\t2\t136 5 22\n",
      "116\t82\t0.0\t2\t64 3 15\n",
      "117\t105\t0.0\t2\t80 4 21\n",
      "118\t90\t0.0\t2\t65 3 22\n",
      "119\t46\t0.0\t2\t34 1 11\n",
      "120\t42\t0.0\t2\t39 2 1\n",
      "121\t89\t0.0\t2\t78 5 6\n",
      "122\t110\t0.0\t2\t105 3 2\n",
      "123\t253\t0.0\t2\t244 6 3\n",
      "124\t119\t0.0\t2\t110 8 1\n",
      "125\t340\t0.0\t2\t335 5\n",
      "126\t91\t0.0\t2\t87 2 2\n",
      "127\t123\t0.0\t2\t118 3 2\n",
      "128\t183\t0.0\t2\t180 2 1\n",
      "129\t388\t0.0\t2\t374 10 4\n",
      "130\t219\t0.0\t2\t208 11\n",
      "131\t727\t0.0\t2\t704 21 2\n",
      "132\t1315\t0.0\t2\t1273 40 2\n",
      "133\t2597\t0.0\t2\t2526 61 10\n",
      "134\t5025\t0.0\t2\t4887 130 8\n",
      "135\t11912\t0.0\t2\t11722 177 13\n",
      "136\t15490\t0.0\t2\t15269 210 11\n",
      "137\t5008\t0.0\t2\t4922 79 7\n",
      "138\t26\t0.0\t2\t23 3\n",
      "139\t16\t0.0\t2\t16\n",
      "140\t60\t0.0\t2\t56 3 1\n",
      "141\t21422\t0.0\t2\t20911 476 35\n",
      "142\t25186\t0.0\t2\t24557 591 38\n",
      "143\t26848\t0.0\t2\t26245 564 39\n",
      "144\t17277\t0.0\t2\t16889 366 22\n",
      "145\t10405\t0.0\t2\t10054 324 27\n",
      "146\t4408\t0.0\t2\t4203 188 17\n",
      "147\t4\t0.0\t2\t4\n",
      "\n"
     ]
    }
   ],
   "source": [
    "# cutadapt multi-threading only supported for -o only \n",
    "# https://github.com/marcelm/cutadapt/blob/master/doc/guide.rst\n",
    "cutadapt -g CGTTCGTCCTCAGTCGCGAT...ACTCGAGCCGAGCAGGCGCG \\\n",
    "--overlap 5 \\\n",
    "--output 02.clean/${SAMPLE_NAME}_R1_001_cleaned_1.1.3_empty_vectors.fastq.gz \\\n",
    "--untrimmed-output 02.clean/${SAMPLE_NAME}_R1_001_cleaned_1.1.3.fastq.gz  \\\n",
    "02.clean/${SAMPLE_NAME}_R1_001_cleaned_1.1.2.fastq.gz"
   ]
  },
  {
   "cell_type": "code",
   "execution_count": 10,
   "metadata": {},
   "outputs": [
    {
     "name": "stdout",
     "output_type": "stream",
     "text": [
      "81797068\n",
      "25698920\n"
     ]
    }
   ],
   "source": [
    "zcat 02.clean/${SAMPLE_NAME}_R1_001_cleaned_1.1.3.fastq.gz | grep \"^@\" | wc -l\n",
    "zcat 02.clean/${SAMPLE_NAME}_R1_001_cleaned_1.1.3_empty_vectors.fastq.gz | grep \"^@\" | wc -l"
   ]
  },
  {
   "cell_type": "markdown",
   "metadata": {},
   "source": [
    "#### 1.1.4 Remove 3' adapter from filled vector"
   ]
  },
  {
   "cell_type": "code",
   "execution_count": 5,
   "metadata": {
    "collapsed": true,
    "jupyter": {
     "outputs_hidden": true
    }
   },
   "outputs": [
    {
     "name": "stdout",
     "output_type": "stream",
     "text": [
      "This is cutadapt 2.3 with Python 3.7.3\n",
      "Command line parameters: -j 6 -m 100 -a GCCTAACTGGCCGGTACCTGAGCTCCCTAG --trimmed-only --output 02.clean/CH1__b87bb6__CheqSeq_OLS_David_Pool_A_enhancer-barcode_S2_R1_001_cleaned_1.1.4.fastq.gz 02.clean/CH1__b87bb6__CheqSeq_OLS_David_Pool_A_enhancer-barcode_S2_R1_001_cleaned_1.1.3.fastq.gz\n",
      "Processing reads on 6 cores in single-end mode ...\n",
      "[    8=------] 00:09:48    81,797,068 reads  @      7.2 µs/read;   8.34 M reads/minute\n",
      "Finished in 588.15 s (7 us/read; 8.34 M reads/minute).\n",
      "\n",
      "=== Summary ===\n",
      "\n",
      "Total reads processed:              81,797,068\n",
      "Reads with adapters:                80,675,381 (98.6%)\n",
      "Reads that were too short:              35,396 (0.0%)\n",
      "Reads written (passing filters):    80,647,378 (98.6%)\n",
      "\n",
      "Total basepairs processed: 18,434,781,421 bp\n",
      "Total written (filtered):  15,123,658,429 bp (82.0%)\n",
      "\n",
      "=== Adapter 1 ===\n",
      "\n",
      "Sequence: GCCTAACTGGCCGGTACCTGAGCTCCCTAG; Type: regular 3'; Length: 30; Trimmed: 80675381 times.\n",
      "\n",
      "No. of allowed errors:\n",
      "0-9 bp: 0; 10-19 bp: 1; 20-29 bp: 2; 30 bp: 3\n",
      "\n",
      "Bases preceding removed adapters:\n",
      "  A: 24.6%\n",
      "  C: 32.6%\n",
      "  G: 15.6%\n",
      "  T: 27.1%\n",
      "  none/other: 0.0%\n",
      "\n",
      "Overview of removed sequences\n",
      "length\tcount\texpect\tmax.err\terror counts\n",
      "3\t5658\t1278079.2\t0\t5658\n",
      "4\t1225\t319519.8\t0\t1225\n",
      "5\t337\t79879.9\t0\t337\n",
      "6\t172\t19970.0\t0\t172\n",
      "7\t131\t4992.5\t0\t131\n",
      "8\t137\t1248.1\t0\t137\n",
      "9\t157\t312.0\t0\t156 1\n",
      "10\t176\t78.0\t1\t164 12\n",
      "11\t231\t19.5\t1\t202 29\n",
      "12\t371\t4.9\t1\t346 25\n",
      "13\t1966\t1.2\t1\t1857 109\n",
      "14\t3243\t0.3\t1\t3020 223\n",
      "15\t3931\t0.1\t1\t3649 282\n",
      "16\t3877\t0.0\t1\t3530 347\n",
      "17\t3805\t0.0\t1\t3548 257\n",
      "18\t3319\t0.0\t1\t3026 276 17\n",
      "19\t1609\t0.0\t1\t1442 148 19\n",
      "20\t759\t0.0\t2\t652 73 34\n",
      "21\t485\t0.0\t2\t391 64 30\n",
      "22\t393\t0.0\t2\t324 48 21\n",
      "23\t369\t0.0\t2\t297 41 31\n",
      "24\t371\t0.0\t2\t306 41 24\n",
      "25\t444\t0.0\t2\t319 50 75\n",
      "26\t560\t0.0\t2\t361 82 117\n",
      "27\t884\t0.0\t2\t427 176 281\n",
      "28\t759\t0.0\t2\t509 133 110 7\n",
      "29\t1615\t0.0\t2\t885 377 321 32\n",
      "30\t3898\t0.0\t3\t1818 871 693 516\n",
      "31\t18878\t0.0\t3\t10914 3791 2454 1719\n",
      "32\t264716\t0.0\t3\t213123 32447 12395 6751\n",
      "33\t6577467\t0.0\t3\t5875248 493368 143221 65630\n",
      "34\t10836466\t0.0\t3\t9750001 759905 223184 103376\n",
      "35\t13089928\t0.0\t3\t11712100 977629 277642 122557\n",
      "36\t12929912\t0.0\t3\t11550181 994331 270601 114799\n",
      "37\t12614353\t0.0\t3\t11230346 997545 270770 115692\n",
      "38\t11204376\t0.0\t3\t9916117 921741 256556 109962\n",
      "39\t4757341\t0.0\t3\t4043801 517356 138160 58024\n",
      "40\t1635442\t0.0\t3\t1372692 188329 52461 21960\n",
      "41\t659562\t0.0\t3\t547961 79702 22320 9579\n",
      "42\t373035\t0.0\t3\t312594 42813 12435 5193\n",
      "43\t515762\t0.0\t3\t448767 47948 13546 5501\n",
      "44\t217554\t0.0\t3\t187229 21751 6007 2567\n",
      "45\t187204\t0.0\t3\t162391 17904 4964 1945\n",
      "46\t170934\t0.0\t3\t149222 15781 4335 1596\n",
      "47\t158291\t0.0\t3\t138249 14597 3925 1520\n",
      "48\t150405\t0.0\t3\t132304 12975 3696 1430\n",
      "49\t144349\t0.0\t3\t127100 12307 3541 1401\n",
      "50\t138176\t0.0\t3\t122287 11523 3158 1208\n",
      "51\t133965\t0.0\t3\t118340 11208 3175 1242\n",
      "52\t127869\t0.0\t3\t113694 10253 2826 1096\n",
      "53\t4295\t0.0\t3\t2513 1013 517 252\n",
      "54\t3834\t0.0\t3\t1879 1300 446 209\n",
      "55\t125707\t0.0\t3\t110609 11351 2723 1024\n",
      "56\t124477\t0.0\t3\t110169 10736 2641 931\n",
      "57\t123865\t0.0\t3\t109062 11042 2751 1010\n",
      "58\t121831\t0.0\t3\t106265 11765 2751 1050\n",
      "59\t118778\t0.0\t3\t104780 10540 2546 912\n",
      "60\t116860\t0.0\t3\t103449 10083 2477 851\n",
      "61\t116439\t0.0\t3\t103068 10036 2511 824\n",
      "62\t115633\t0.0\t3\t102291 9937 2523 882\n",
      "63\t114286\t0.0\t3\t101232 9759 2403 892\n",
      "64\t114330\t0.0\t3\t101700 9470 2355 805\n",
      "65\t114062\t0.0\t3\t100753 10155 2380 774\n",
      "66\t114073\t0.0\t3\t101584 9415 2279 795\n",
      "67\t113576\t0.0\t3\t101831 8903 2071 771\n",
      "68\t113922\t0.0\t3\t101981 9004 2158 779\n",
      "69\t113434\t0.0\t3\t101255 9306 2207 666\n",
      "70\t113693\t0.0\t3\t101695 9076 2126 796\n",
      "71\t113282\t0.0\t3\t101591 8973 2021 697\n",
      "72\t113668\t0.0\t3\t101746 9171 2062 689\n",
      "73\t115639\t0.0\t3\t103802 9110 2096 631\n",
      "74\t116756\t0.0\t3\t105045 8985 2084 642\n",
      "75\t117848\t0.0\t3\t105576 9493 2090 689\n",
      "76\t118012\t0.0\t3\t106151 9170 2039 652\n",
      "77\t117935\t0.0\t3\t106171 9093 1996 675\n",
      "78\t117822\t0.0\t3\t106236 8979 2011 596\n",
      "79\t115625\t0.0\t3\t104178 8895 1972 580\n",
      "80\t115943\t0.0\t3\t104634 8823 1938 548\n",
      "81\t116164\t0.0\t3\t105315 8368 1920 561\n",
      "82\t115883\t0.0\t3\t105242 8279 1844 518\n",
      "83\t116068\t0.0\t3\t105402 8338 1799 529\n",
      "84\t116307\t0.0\t3\t106078 7811 1860 558\n",
      "85\t116787\t0.0\t3\t106797 7616 1811 563\n",
      "86\t9636\t0.0\t3\t6887 1844 644 261\n",
      "87\t6344\t0.0\t3\t4007 1508 582 247\n",
      "88\t10158\t0.0\t3\t7336 1803 728 291\n",
      "89\t5653\t0.0\t3\t3617 1295 503 238\n",
      "90\t4728\t0.0\t3\t2928 1102 504 194\n",
      "91\t1822\t0.0\t3\t922 506 256 138\n",
      "92\t1581\t0.0\t3\t769 467 228 117\n",
      "93\t2395\t0.0\t3\t1283 638 344 130\n",
      "94\t2141\t0.0\t3\t1179 576 251 135\n",
      "95\t2425\t0.0\t3\t1334 652 303 136\n",
      "96\t2036\t0.0\t3\t1083 537 288 128\n",
      "97\t2383\t0.0\t3\t1372 615 259 137\n",
      "98\t1726\t0.0\t3\t860 509 245 112\n",
      "99\t2252\t0.0\t3\t1229 605 295 123\n",
      "100\t1773\t0.0\t3\t955 495 229 94\n",
      "101\t1157\t0.0\t3\t605 306 169 77\n",
      "102\t1074\t0.0\t3\t640 270 108 56\n",
      "103\t1022\t0.0\t3\t535 287 135 65\n",
      "104\t1165\t0.0\t3\t695 263 144 63\n",
      "105\t962\t0.0\t3\t488 276 139 59\n",
      "106\t1069\t0.0\t3\t562 314 126 67\n",
      "107\t1031\t0.0\t3\t515 320 139 57\n",
      "108\t964\t0.0\t3\t541 250 125 48\n",
      "109\t933\t0.0\t3\t489 267 135 42\n",
      "110\t945\t0.0\t3\t501 271 113 60\n",
      "111\t886\t0.0\t3\t516 238 93 39\n",
      "112\t836\t0.0\t3\t462 231 91 52\n",
      "113\t773\t0.0\t3\t417 205 91 60\n",
      "114\t794\t0.0\t3\t455 207 89 43\n",
      "115\t846\t0.0\t3\t493 205 99 49\n",
      "116\t754\t0.0\t3\t421 194 100 39\n",
      "117\t1054\t0.0\t3\t712 206 100 36\n",
      "118\t777\t0.0\t3\t473 196 80 28\n",
      "119\t1240\t0.0\t3\t927 203 76 34\n",
      "120\t678\t0.0\t3\t400 165 71 42\n",
      "121\t604\t0.0\t3\t355 159 57 33\n",
      "122\t787\t0.0\t3\t583 120 54 30\n",
      "123\t861\t0.0\t3\t681 111 52 17\n",
      "124\t1135\t0.0\t3\t933 124 56 22\n",
      "125\t982\t0.0\t3\t795 116 49 22\n",
      "126\t976\t0.0\t3\t796 123 45 12\n",
      "127\t800\t0.0\t3\t640 103 41 16\n",
      "128\t839\t0.0\t3\t663 102 55 19\n",
      "129\t1031\t0.0\t3\t851 115 47 18\n",
      "130\t738\t0.0\t3\t590 92 41 15\n",
      "131\t660\t0.0\t3\t519 93 28 20\n",
      "132\t635\t0.0\t3\t512 79 34 10\n",
      "133\t571\t0.0\t3\t445 71 36 19\n",
      "134\t1298\t0.0\t3\t1159 89 35 15\n",
      "135\t576\t0.0\t3\t455 76 30 15\n",
      "136\t515\t0.0\t3\t395 77 30 13\n",
      "137\t392\t0.0\t3\t297 61 27 7\n",
      "138\t305\t0.0\t3\t212 58 22 13\n",
      "139\t804\t0.0\t3\t687 73 31 13\n",
      "140\t555\t0.0\t3\t445 69 32 9\n",
      "141\t358\t0.0\t3\t281 47 22 8\n",
      "142\t280\t0.0\t3\t200 54 20 6\n",
      "143\t335\t0.0\t3\t260 51 21 3\n",
      "144\t342\t0.0\t3\t267 47 21 7\n",
      "145\t205\t0.0\t3\t122 59 19 5\n",
      "146\t303\t0.0\t3\t200 71 26 6\n",
      "147\t5063\t0.0\t3\t3361 1249 367 86\n",
      "148\t232\t0.0\t3\t155 50 22 5\n",
      "149\t119\t0.0\t3\t76 25 10 8\n",
      "150\t143\t0.0\t3\t100 25 12 6\n",
      "151\t133\t0.0\t3\t84 33 8 8\n",
      "152\t45\t0.0\t3\t33 8 3 1\n",
      "153\t47\t0.0\t3\t35 8 3 1\n",
      "154\t39\t0.0\t3\t25 9 5\n",
      "155\t28\t0.0\t3\t22 3 2 1\n",
      "156\t24\t0.0\t3\t18 4 1 1\n",
      "157\t15\t0.0\t3\t7 0 5 3\n",
      "158\t17\t0.0\t3\t13 2 1 1\n",
      "159\t18\t0.0\t3\t13 4 1\n",
      "160\t20\t0.0\t3\t17 3\n",
      "161\t15\t0.0\t3\t12 1 2\n",
      "162\t16\t0.0\t3\t13 2 1\n",
      "163\t6\t0.0\t3\t6\n",
      "164\t11\t0.0\t3\t8 1 2\n",
      "165\t7\t0.0\t3\t1 4 2\n",
      "166\t11\t0.0\t3\t8 0 1 2\n",
      "167\t7\t0.0\t3\t7\n",
      "168\t11\t0.0\t3\t8 2 1\n",
      "169\t5\t0.0\t3\t3 2\n",
      "170\t3\t0.0\t3\t3\n",
      "171\t8\t0.0\t3\t5 2 0 1\n",
      "172\t2\t0.0\t3\t1 1\n",
      "173\t5\t0.0\t3\t4 1\n",
      "174\t3\t0.0\t3\t3\n",
      "175\t2\t0.0\t3\t2\n",
      "176\t3\t0.0\t3\t3\n",
      "177\t4\t0.0\t3\t4\n",
      "178\t3\t0.0\t3\t2 0 1\n",
      "179\t1\t0.0\t3\t1\n",
      "180\t2\t0.0\t3\t1 0 1\n",
      "181\t2\t0.0\t3\t1 0 0 1\n",
      "182\t1\t0.0\t3\t1\n",
      "184\t1\t0.0\t3\t1\n",
      "185\t2\t0.0\t3\t2\n",
      "186\t4\t0.0\t3\t2 1 1\n",
      "187\t3\t0.0\t3\t3\n",
      "188\t2\t0.0\t3\t2\n",
      "190\t2\t0.0\t3\t2\n",
      "191\t3\t0.0\t3\t3\n",
      "192\t2\t0.0\t3\t2\n",
      "193\t4\t0.0\t3\t3 1\n",
      "194\t5\t0.0\t3\t5\n",
      "195\t4\t0.0\t3\t4\n",
      "196\t4\t0.0\t3\t4\n",
      "197\t3\t0.0\t3\t3\n",
      "198\t4\t0.0\t3\t4\n",
      "199\t3\t0.0\t3\t2 1\n",
      "200\t2\t0.0\t3\t2\n",
      "201\t3\t0.0\t3\t3\n",
      "202\t3\t0.0\t3\t3\n",
      "203\t2\t0.0\t3\t2\n",
      "204\t5\t0.0\t3\t5\n",
      "205\t5\t0.0\t3\t5\n",
      "206\t5\t0.0\t3\t5\n",
      "207\t3\t0.0\t3\t3\n",
      "208\t2\t0.0\t3\t2\n",
      "209\t3\t0.0\t3\t3\n",
      "210\t4\t0.0\t3\t4\n",
      "211\t3\t0.0\t3\t3\n",
      "212\t1\t0.0\t3\t1\n",
      "213\t10\t0.0\t3\t10\n",
      "214\t6\t0.0\t3\t6\n",
      "215\t5\t0.0\t3\t4 1\n",
      "216\t9\t0.0\t3\t9\n",
      "217\t7\t0.0\t3\t6 0 1\n",
      "218\t3\t0.0\t3\t3\n",
      "219\t4\t0.0\t3\t3 1\n",
      "222\t391\t0.0\t3\t310 28 36 17\n",
      "223\t459\t0.0\t3\t381 29 23 26\n",
      "224\t491\t0.0\t3\t420 24 22 25\n",
      "225\t448\t0.0\t3\t374 30 21 23\n",
      "226\t433\t0.0\t3\t355 25 26 27\n",
      "227\t355\t0.0\t3\t301 14 24 16\n",
      "228\t1\t0.0\t3\t0 0 1\n"
     ]
    }
   ],
   "source": [
    "cutadapt -j 6 \\\n",
    "   -m 100 \\\n",
    "   -a ${THREE_PRIME_ADAPTER_SEQ} \\\n",
    "   --trimmed-only \\\n",
    "   --output 02.clean/${SAMPLE_NAME}_R1_001_cleaned_1.1.4.fastq.gz \\\n",
    "   02.clean/${SAMPLE_NAME}_R1_001_cleaned_1.1.3.fastq.gz"
   ]
  },
  {
   "cell_type": "code",
   "execution_count": 5,
   "metadata": {},
   "outputs": [
    {
     "name": "stdout",
     "output_type": "stream",
     "text": [
      "80647378\n"
     ]
    }
   ],
   "source": [
    "zcat 02.clean/${SAMPLE_NAME}_R1_001_cleaned_1.1.4.fastq.gz | grep \"^@\" | wc -l"
   ]
  },
  {
   "cell_type": "code",
   "execution_count": 6,
   "metadata": {
    "collapsed": true,
    "jupyter": {
     "outputs_hidden": true
    }
   },
   "outputs": [
    {
     "name": "stdout",
     "output_type": "stream",
     "text": [
      "    438 100\n",
      "    456 101\n",
      "    467 102\n",
      "    551 103\n",
      "    556 104\n",
      "    584 105\n",
      "    632 106\n",
      "    693 107\n",
      "    696 108\n",
      "    725 109\n",
      "    794 110\n",
      "    747 111\n",
      "    776 112\n",
      "    826 113\n",
      "    852 114\n",
      "    862 115\n",
      "    843 116\n",
      "    915 117\n",
      "    953 118\n",
      "   1000 119\n",
      "    977 120\n",
      "   1029 121\n",
      "    980 122\n",
      "   1142 123\n",
      "   1349 124\n",
      "   1474 125\n",
      "   1628 126\n",
      "   1878 127\n",
      "   2044 128\n",
      "   2070 129\n",
      "   2465 130\n",
      "   2137 131\n",
      "   1871 132\n",
      "   2405 133\n",
      "   2968 134\n",
      "   4510 135\n",
      "   5357 136\n",
      "   6332 137\n",
      "  24429 138\n",
      "  43052 139\n",
      "  64597 140\n",
      "  82108 141\n",
      " 101507 142\n",
      " 116037 143\n",
      " 115585 144\n",
      " 115209 145\n",
      " 115273 146\n",
      " 115097 147\n",
      " 116021 148\n",
      " 118500 149\n",
      " 126428 150\n",
      " 115103 151\n",
      " 113493 152\n",
      " 114218 153\n",
      " 113718 154\n",
      " 113776 155\n",
      " 112949 156\n",
      " 113640 157\n",
      " 113452 158\n",
      " 113437 159\n",
      " 113959 160\n",
      " 113690 161\n",
      " 114050 162\n",
      " 114940 163\n",
      " 115614 164\n",
      " 116579 165\n",
      " 117092 166\n",
      " 118159 167\n",
      " 120419 168\n",
      " 126263 169\n",
      " 134956 170\n",
      " 125117 171\n",
      " 125936 172\n",
      " 128523 173\n",
      " 131879 174\n",
      " 134263 175\n",
      " 140117 176\n",
      " 144639 177\n",
      " 152657 178\n",
      " 160081 179\n",
      " 172642 180\n",
      " 186730 181\n",
      " 212985 182\n",
      " 251605 183\n",
      " 328893 184\n",
      " 473428 185\n",
      " 864150 186\n",
      "2083444 187\n",
      "6679840 188\n",
      "20963954 189\n",
      "41790850 190\n",
      "1599014 191\n",
      "  99109 192\n",
      "  14584 193\n",
      "   6228 194\n",
      "   1549 195\n",
      "   1006 196\n",
      "    513 197\n",
      "    507 198\n",
      "    343 199\n",
      "    359 200\n",
      "    338 201\n",
      "    341 202\n",
      "    325 203\n",
      "    359 204\n",
      "    423 205\n",
      "    551 206\n",
      "    883 207\n",
      "   2218 208\n",
      "   6190 209\n",
      "  11223 210\n",
      "   1159 211\n",
      "    793 212\n",
      "    682 213\n",
      "    342 214\n",
      "    197 215\n",
      "    131 216\n",
      "    156 217\n",
      "    170 218\n",
      "    419 219\n",
      "    833 220\n",
      "   1166 221\n",
      "   1577 222\n",
      "    653 223\n",
      "    573 224\n",
      "    397 225\n",
      "      2 226\n"
     ]
    }
   ],
   "source": [
    "# Check length\n",
    "zcat 02.clean/${SAMPLE_NAME}_R1_001_cleaned_1.1.4.fastq.gz | sed -n '2~4p' | awk '{print length($0);}' | sort -k2,2 | uniq -c | sort -nk2"
   ]
  },
  {
   "cell_type": "code",
   "execution_count": 9,
   "metadata": {},
   "outputs": [
    {
     "name": "stdout",
     "output_type": "stream",
     "text": [
      "Started analysis of CH1__b87bb6__CheqSeq_OLS_David_Pool_A_enhancer-barcode_S2_R1_001_cleaned_1.1.4.fastq.gz\n",
      "Approx 5% complete for CH1__b87bb6__CheqSeq_OLS_David_Pool_A_enhancer-barcode_S2_R1_001_cleaned_1.1.4.fastq.gz\n",
      "Approx 10% complete for CH1__b87bb6__CheqSeq_OLS_David_Pool_A_enhancer-barcode_S2_R1_001_cleaned_1.1.4.fastq.gz\n",
      "Approx 15% complete for CH1__b87bb6__CheqSeq_OLS_David_Pool_A_enhancer-barcode_S2_R1_001_cleaned_1.1.4.fastq.gz\n",
      "Approx 20% complete for CH1__b87bb6__CheqSeq_OLS_David_Pool_A_enhancer-barcode_S2_R1_001_cleaned_1.1.4.fastq.gz\n",
      "Approx 25% complete for CH1__b87bb6__CheqSeq_OLS_David_Pool_A_enhancer-barcode_S2_R1_001_cleaned_1.1.4.fastq.gz\n",
      "Approx 30% complete for CH1__b87bb6__CheqSeq_OLS_David_Pool_A_enhancer-barcode_S2_R1_001_cleaned_1.1.4.fastq.gz\n",
      "Approx 35% complete for CH1__b87bb6__CheqSeq_OLS_David_Pool_A_enhancer-barcode_S2_R1_001_cleaned_1.1.4.fastq.gz\n",
      "Approx 40% complete for CH1__b87bb6__CheqSeq_OLS_David_Pool_A_enhancer-barcode_S2_R1_001_cleaned_1.1.4.fastq.gz\n",
      "Approx 45% complete for CH1__b87bb6__CheqSeq_OLS_David_Pool_A_enhancer-barcode_S2_R1_001_cleaned_1.1.4.fastq.gz\n",
      "Approx 50% complete for CH1__b87bb6__CheqSeq_OLS_David_Pool_A_enhancer-barcode_S2_R1_001_cleaned_1.1.4.fastq.gz\n",
      "Approx 55% complete for CH1__b87bb6__CheqSeq_OLS_David_Pool_A_enhancer-barcode_S2_R1_001_cleaned_1.1.4.fastq.gz\n",
      "Approx 60% complete for CH1__b87bb6__CheqSeq_OLS_David_Pool_A_enhancer-barcode_S2_R1_001_cleaned_1.1.4.fastq.gz\n",
      "Approx 65% complete for CH1__b87bb6__CheqSeq_OLS_David_Pool_A_enhancer-barcode_S2_R1_001_cleaned_1.1.4.fastq.gz\n",
      "Approx 70% complete for CH1__b87bb6__CheqSeq_OLS_David_Pool_A_enhancer-barcode_S2_R1_001_cleaned_1.1.4.fastq.gz\n",
      "Approx 75% complete for CH1__b87bb6__CheqSeq_OLS_David_Pool_A_enhancer-barcode_S2_R1_001_cleaned_1.1.4.fastq.gz\n",
      "Approx 80% complete for CH1__b87bb6__CheqSeq_OLS_David_Pool_A_enhancer-barcode_S2_R1_001_cleaned_1.1.4.fastq.gz\n",
      "Approx 85% complete for CH1__b87bb6__CheqSeq_OLS_David_Pool_A_enhancer-barcode_S2_R1_001_cleaned_1.1.4.fastq.gz\n",
      "Approx 90% complete for CH1__b87bb6__CheqSeq_OLS_David_Pool_A_enhancer-barcode_S2_R1_001_cleaned_1.1.4.fastq.gz\n",
      "Approx 95% complete for CH1__b87bb6__CheqSeq_OLS_David_Pool_A_enhancer-barcode_S2_R1_001_cleaned_1.1.4.fastq.gz\n",
      "Analysis complete for CH1__b87bb6__CheqSeq_OLS_David_Pool_A_enhancer-barcode_S2_R1_001_cleaned_1.1.4.fastq.gz\n"
     ]
    }
   ],
   "source": [
    "# QC\n",
    "module load FastQC/0.11.8-Java-1.8.0_162\n",
    "fastqc -o 03.fastqc/ 02.clean/${SAMPLE_NAME}_R1_001_cleaned_1.1.4.fastq.gz"
   ]
  },
  {
   "cell_type": "markdown",
   "metadata": {},
   "source": [
    "### 1.2 Mapping (Minimap2 sr)"
   ]
  },
  {
   "cell_type": "code",
   "execution_count": 20,
   "metadata": {
    "collapsed": true,
    "jupyter": {
     "outputs_hidden": true
    }
   },
   "outputs": [
    {
     "name": "stdout",
     "output_type": "stream",
     "text": [
      "[M::mm_idx_gen::0.087*0.68] collected minimizers\n",
      "[M::mm_idx_gen::0.104*1.57] sorted minimizers\n",
      "[M::main::0.106*1.55] loaded/built the index for 7412 target sequence(s)\n",
      "[M::mm_mapopt_update::0.106*1.55] mid_occ = 1000\n",
      "[M::mm_idx_stat] kmer size: 21; skip: 11; is_hpc: 0; #seq: 7412\n",
      "[M::mm_idx_stat::0.107*1.54] distinct minimizers: 40234 (55.37% are singletons); average occurrences: 5.111; average spacing: 6.849\n",
      "[M::worker_pipeline::23.800*5.48] mapped 266554 sequences\n",
      "[M::worker_pipeline::31.305*6.24] mapped 266596 sequences\n",
      "[M::worker_pipeline::36.871*6.60] mapped 266548 sequences\n",
      "[M::worker_pipeline::42.830*6.83] mapped 266551 sequences\n",
      "[M::worker_pipeline::48.783*6.98] mapped 266550 sequences\n",
      "[M::worker_pipeline::54.603*7.13] mapped 266547 sequences\n",
      "[M::worker_pipeline::60.410*7.24] mapped 266552 sequences\n",
      "[M::worker_pipeline::65.983*7.35] mapped 266574 sequences\n",
      "[M::worker_pipeline::71.432*7.46] mapped 266553 sequences\n",
      "[M::worker_pipeline::77.378*7.53] mapped 266541 sequences\n",
      "[M::worker_pipeline::82.922*7.61] mapped 266556 sequences\n",
      "[M::worker_pipeline::88.623*7.67] mapped 266529 sequences\n",
      "[M::worker_pipeline::94.225*7.73] mapped 266559 sequences\n",
      "[M::worker_pipeline::99.985*7.78] mapped 266616 sequences\n",
      "[M::worker_pipeline::105.662*7.82] mapped 266565 sequences\n",
      "[M::worker_pipeline::111.276*7.86] mapped 266619 sequences\n",
      "[M::worker_pipeline::116.977*7.89] mapped 266601 sequences\n",
      "[M::worker_pipeline::122.622*7.92] mapped 266640 sequences\n",
      "[M::worker_pipeline::128.541*7.94] mapped 266601 sequences\n",
      "[M::worker_pipeline::134.674*7.94] mapped 266599 sequences\n",
      "[M::worker_pipeline::140.280*7.96] mapped 266577 sequences\n",
      "[M::worker_pipeline::146.248*7.98] mapped 266720 sequences\n",
      "[M::worker_pipeline::152.349*7.98] mapped 266619 sequences\n",
      "[M::worker_pipeline::158.063*8.00] mapped 266627 sequences\n",
      "[M::worker_pipeline::164.008*8.01] mapped 266703 sequences\n",
      "[M::worker_pipeline::170.068*8.01] mapped 266724 sequences\n",
      "[M::worker_pipeline::176.146*8.01] mapped 266750 sequences\n",
      "[M::worker_pipeline::182.167*8.01] mapped 266760 sequences\n",
      "[M::worker_pipeline::188.218*8.02] mapped 266659 sequences\n",
      "[M::worker_pipeline::194.181*8.03] mapped 266761 sequences\n",
      "[M::worker_pipeline::200.402*8.03] mapped 267043 sequences\n",
      "[M::worker_pipeline::207.010*8.01] mapped 267390 sequences\n",
      "[M::worker_pipeline::213.849*7.99] mapped 267556 sequences\n",
      "[M::worker_pipeline::220.300*7.98] mapped 267540 sequences\n",
      "[M::worker_pipeline::226.553*7.97] mapped 267164 sequences\n",
      "[M::worker_pipeline::232.758*7.97] mapped 266778 sequences\n",
      "[M::worker_pipeline::238.489*7.98] mapped 266637 sequences\n",
      "[M::worker_pipeline::244.325*7.99] mapped 266638 sequences\n",
      "[M::worker_pipeline::250.224*8.00] mapped 266612 sequences\n",
      "[M::worker_pipeline::255.948*8.01] mapped 266673 sequences\n",
      "[M::worker_pipeline::261.758*8.02] mapped 266727 sequences\n",
      "[M::worker_pipeline::267.543*8.03] mapped 266615 sequences\n",
      "[M::worker_pipeline::273.652*8.03] mapped 266654 sequences\n",
      "[M::worker_pipeline::279.634*8.03] mapped 266625 sequences\n",
      "[M::worker_pipeline::285.533*8.04] mapped 266599 sequences\n",
      "[M::worker_pipeline::291.073*8.05] mapped 266624 sequences\n",
      "[M::worker_pipeline::297.165*8.05] mapped 266619 sequences\n",
      "[M::worker_pipeline::303.245*8.05] mapped 266608 sequences\n",
      "[M::worker_pipeline::308.981*8.06] mapped 266586 sequences\n",
      "[M::worker_pipeline::314.715*8.07] mapped 266591 sequences\n",
      "[M::worker_pipeline::320.580*8.08] mapped 266626 sequences\n",
      "[M::worker_pipeline::326.343*8.09] mapped 266582 sequences\n",
      "[M::worker_pipeline::332.039*8.09] mapped 266600 sequences\n",
      "[M::worker_pipeline::337.826*8.10] mapped 266570 sequences\n",
      "[M::worker_pipeline::343.828*8.10] mapped 266649 sequences\n",
      "[M::worker_pipeline::349.654*8.11] mapped 266557 sequences\n",
      "[M::worker_pipeline::355.607*8.11] mapped 266599 sequences\n",
      "[M::worker_pipeline::361.397*8.11] mapped 266584 sequences\n",
      "[M::worker_pipeline::367.280*8.12] mapped 266609 sequences\n",
      "[M::worker_pipeline::373.157*8.12] mapped 266560 sequences\n",
      "[M::worker_pipeline::378.717*8.13] mapped 266552 sequences\n",
      "[M::worker_pipeline::384.874*8.13] mapped 266543 sequences\n",
      "[M::worker_pipeline::390.777*8.13] mapped 266593 sequences\n",
      "[M::worker_pipeline::396.425*8.14] mapped 266534 sequences\n",
      "[M::worker_pipeline::401.996*8.15] mapped 266585 sequences\n",
      "[M::worker_pipeline::407.760*8.15] mapped 266582 sequences\n",
      "[M::worker_pipeline::413.573*8.16] mapped 266579 sequences\n",
      "[M::worker_pipeline::419.251*8.16] mapped 266606 sequences\n",
      "[M::worker_pipeline::424.970*8.17] mapped 266591 sequences\n",
      "[M::worker_pipeline::430.649*8.18] mapped 266562 sequences\n",
      "[M::worker_pipeline::436.522*8.18] mapped 266558 sequences\n",
      "[M::worker_pipeline::442.213*8.18] mapped 266585 sequences\n",
      "[M::worker_pipeline::447.840*8.19] mapped 266565 sequences\n",
      "[M::worker_pipeline::453.664*8.19] mapped 266594 sequences\n",
      "[M::worker_pipeline::459.584*8.19] mapped 266622 sequences\n",
      "[M::worker_pipeline::465.377*8.20] mapped 266572 sequences\n",
      "[M::worker_pipeline::471.396*8.20] mapped 266543 sequences\n",
      "[M::worker_pipeline::477.076*8.20] mapped 266600 sequences\n",
      "[M::worker_pipeline::482.713*8.21] mapped 266595 sequences\n",
      "[M::worker_pipeline::488.382*8.21] mapped 266612 sequences\n",
      "[M::worker_pipeline::494.399*8.21] mapped 266569 sequences\n",
      "[M::worker_pipeline::500.283*8.21] mapped 266603 sequences\n",
      "[M::worker_pipeline::505.988*8.22] mapped 266565 sequences\n",
      "[M::worker_pipeline::511.827*8.22] mapped 266621 sequences\n",
      "[M::worker_pipeline::517.497*8.22] mapped 266553 sequences\n",
      "[M::worker_pipeline::523.436*8.22] mapped 266626 sequences\n",
      "[M::worker_pipeline::529.333*8.23] mapped 266580 sequences\n",
      "[M::worker_pipeline::535.040*8.23] mapped 266601 sequences\n",
      "[M::worker_pipeline::540.677*8.23] mapped 266579 sequences\n",
      "[M::worker_pipeline::546.513*8.23] mapped 266593 sequences\n",
      "[M::worker_pipeline::552.156*8.24] mapped 266566 sequences\n",
      "[M::worker_pipeline::558.004*8.24] mapped 266610 sequences\n",
      "[M::worker_pipeline::563.942*8.24] mapped 266586 sequences\n",
      "[M::worker_pipeline::569.796*8.24] mapped 266616 sequences\n",
      "[M::worker_pipeline::575.617*8.25] mapped 266616 sequences\n",
      "[M::worker_pipeline::581.505*8.25] mapped 266632 sequences\n",
      "[M::worker_pipeline::587.568*8.25] mapped 266750 sequences\n",
      "[M::worker_pipeline::593.857*8.24] mapped 266671 sequences\n",
      "[M::worker_pipeline::599.948*8.24] mapped 266699 sequences\n",
      "[M::worker_pipeline::606.047*8.24] mapped 266732 sequences\n",
      "[M::worker_pipeline::612.087*8.24] mapped 266775 sequences\n",
      "[M::worker_pipeline::618.195*8.23] mapped 266790 sequences\n",
      "[M::worker_pipeline::624.284*8.23] mapped 266828 sequences\n",
      "[M::worker_pipeline::630.440*8.23] mapped 266669 sequences\n",
      "[M::worker_pipeline::636.584*8.23] mapped 266781 sequences\n",
      "[M::worker_pipeline::642.751*8.23] mapped 266888 sequences\n",
      "[M::worker_pipeline::649.024*8.22] mapped 267121 sequences\n",
      "[M::worker_pipeline::655.643*8.22] mapped 267401 sequences\n",
      "[M::worker_pipeline::662.032*8.21] mapped 267144 sequences\n",
      "[M::worker_pipeline::668.452*8.20] mapped 266849 sequences\n",
      "[M::worker_pipeline::673.736*8.21] mapped 266778 sequences\n",
      "[M::worker_pipeline::679.775*8.21] mapped 266805 sequences\n",
      "[M::worker_pipeline::685.402*8.21] mapped 266660 sequences\n",
      "[M::worker_pipeline::691.242*8.21] mapped 266587 sequences\n",
      "[M::worker_pipeline::697.326*8.21] mapped 266635 sequences\n",
      "[M::worker_pipeline::702.841*8.22] mapped 266641 sequences\n",
      "[M::worker_pipeline::708.684*8.22] mapped 266635 sequences\n",
      "[M::worker_pipeline::714.671*8.22] mapped 266659 sequences\n",
      "[M::worker_pipeline::720.499*8.22] mapped 266635 sequences\n",
      "[M::worker_pipeline::726.351*8.22] mapped 266662 sequences\n",
      "[M::worker_pipeline::732.179*8.22] mapped 266572 sequences\n",
      "[M::worker_pipeline::738.399*8.22] mapped 266626 sequences\n",
      "[M::worker_pipeline::744.044*8.22] mapped 266604 sequences\n",
      "[M::worker_pipeline::749.971*8.22] mapped 266601 sequences\n",
      "[M::worker_pipeline::755.887*8.22] mapped 266588 sequences\n",
      "[M::worker_pipeline::761.649*8.22] mapped 266563 sequences\n",
      "[M::worker_pipeline::767.367*8.23] mapped 266576 sequences\n",
      "[M::worker_pipeline::773.229*8.23] mapped 266622 sequences\n",
      "[M::worker_pipeline::779.095*8.23] mapped 266534 sequences\n",
      "[M::worker_pipeline::784.978*8.23] mapped 266598 sequences\n",
      "[M::worker_pipeline::790.675*8.23] mapped 266594 sequences\n",
      "[M::worker_pipeline::796.492*8.24] mapped 266567 sequences\n",
      "[M::worker_pipeline::802.172*8.24] mapped 266623 sequences\n",
      "[M::worker_pipeline::807.684*8.24] mapped 266599 sequences\n",
      "[M::worker_pipeline::812.997*8.25] mapped 266579 sequences\n",
      "[M::worker_pipeline::818.974*8.25] mapped 266579 sequences\n",
      "[M::worker_pipeline::824.605*8.25] mapped 266599 sequences\n",
      "[M::worker_pipeline::830.310*8.25] mapped 266589 sequences\n",
      "[M::worker_pipeline::836.229*8.25] mapped 266530 sequences\n",
      "[M::worker_pipeline::842.163*8.25] mapped 266591 sequences\n",
      "[M::worker_pipeline::848.047*8.25] mapped 266556 sequences\n",
      "[M::worker_pipeline::854.043*8.25] mapped 266621 sequences\n",
      "[M::worker_pipeline::860.052*8.25] mapped 266591 sequences\n",
      "[M::worker_pipeline::865.903*8.26] mapped 266593 sequences\n",
      "[M::worker_pipeline::871.859*8.26] mapped 266557 sequences\n",
      "[M::worker_pipeline::878.107*8.25] mapped 266566 sequences\n",
      "[M::worker_pipeline::884.302*8.25] mapped 266586 sequences\n",
      "[M::worker_pipeline::890.284*8.25] mapped 266576 sequences\n",
      "[M::worker_pipeline::896.299*8.25] mapped 266633 sequences\n",
      "[M::worker_pipeline::902.205*8.25] mapped 266585 sequences\n",
      "[M::worker_pipeline::908.328*8.25] mapped 266639 sequences\n",
      "[M::worker_pipeline::914.372*8.25] mapped 266593 sequences\n",
      "[M::worker_pipeline::920.142*8.25] mapped 266594 sequences\n",
      "[M::worker_pipeline::926.194*8.25] mapped 266611 sequences\n",
      "[M::worker_pipeline::932.279*8.25] mapped 266614 sequences\n",
      "[M::worker_pipeline::938.191*8.25] mapped 266586 sequences\n",
      "[M::worker_pipeline::944.145*8.25] mapped 266624 sequences\n",
      "[M::worker_pipeline::950.055*8.25] mapped 266600 sequences\n",
      "[M::worker_pipeline::956.038*8.25] mapped 266590 sequences\n",
      "[M::worker_pipeline::962.168*8.25] mapped 266606 sequences\n",
      "[M::worker_pipeline::967.960*8.25] mapped 266570 sequences\n",
      "[M::worker_pipeline::973.856*8.25] mapped 266579 sequences\n",
      "[M::worker_pipeline::980.148*8.25] mapped 266627 sequences\n",
      "[M::worker_pipeline::986.151*8.25] mapped 266645 sequences\n",
      "[M::worker_pipeline::992.183*8.25] mapped 266651 sequences\n",
      "[M::worker_pipeline::998.080*8.25] mapped 266651 sequences\n",
      "[M::worker_pipeline::1003.957*8.25] mapped 266607 sequences\n",
      "[M::worker_pipeline::1009.958*8.25] mapped 266595 sequences\n",
      "[M::worker_pipeline::1015.831*8.25] mapped 266619 sequences\n",
      "[M::worker_pipeline::1022.061*8.25] mapped 266658 sequences\n",
      "[M::worker_pipeline::1027.857*8.25] mapped 266679 sequences\n",
      "[M::worker_pipeline::1033.773*8.25] mapped 266636 sequences\n",
      "[M::worker_pipeline::1039.828*8.25] mapped 266608 sequences\n",
      "[M::worker_pipeline::1045.965*8.25] mapped 266703 sequences\n",
      "[M::worker_pipeline::1052.043*8.24] mapped 266662 sequences\n",
      "[M::worker_pipeline::1057.865*8.25] mapped 266589 sequences\n",
      "[M::worker_pipeline::1063.818*8.25] mapped 266584 sequences\n",
      "[M::worker_pipeline::1069.773*8.25] mapped 266663 sequences\n",
      "[M::worker_pipeline::1075.830*8.25] mapped 266693 sequences\n",
      "[M::worker_pipeline::1081.766*8.25] mapped 266623 sequences\n",
      "[M::worker_pipeline::1087.679*8.25] mapped 266714 sequences\n",
      "[M::worker_pipeline::1093.698*8.25] mapped 266667 sequences\n",
      "[M::worker_pipeline::1099.675*8.24] mapped 266710 sequences\n",
      "[M::worker_pipeline::1105.675*8.24] mapped 266655 sequences\n",
      "[M::worker_pipeline::1111.906*8.24] mapped 266704 sequences\n",
      "[M::worker_pipeline::1117.816*8.24] mapped 266664 sequences\n",
      "[M::worker_pipeline::1123.759*8.24] mapped 266646 sequences\n",
      "[M::worker_pipeline::1129.450*8.24] mapped 266634 sequences\n",
      "[M::worker_pipeline::1135.237*8.24] mapped 266701 sequences\n",
      "[M::worker_pipeline::1141.195*8.24] mapped 266713 sequences\n",
      "[M::worker_pipeline::1147.061*8.24] mapped 266649 sequences\n",
      "[M::worker_pipeline::1153.056*8.24] mapped 266644 sequences\n",
      "[M::worker_pipeline::1159.076*8.24] mapped 266688 sequences\n",
      "[M::worker_pipeline::1165.223*8.24] mapped 266704 sequences\n",
      "[M::worker_pipeline::1171.136*8.24] mapped 266664 sequences\n",
      "[M::worker_pipeline::1176.960*8.24] mapped 266652 sequences\n",
      "[M::worker_pipeline::1183.279*8.24] mapped 266706 sequences\n",
      "[M::worker_pipeline::1189.268*8.24] mapped 266650 sequences\n",
      "[M::worker_pipeline::1194.981*8.24] mapped 266669 sequences\n",
      "[M::worker_pipeline::1200.862*8.24] mapped 266653 sequences\n",
      "[M::worker_pipeline::1206.975*8.24] mapped 266679 sequences\n",
      "[M::worker_pipeline::1212.919*8.24] mapped 266679 sequences\n",
      "[M::worker_pipeline::1218.805*8.24] mapped 266629 sequences\n",
      "[M::worker_pipeline::1224.678*8.24] mapped 266625 sequences\n",
      "[M::worker_pipeline::1230.468*8.24] mapped 266606 sequences\n",
      "[M::worker_pipeline::1236.408*8.24] mapped 266618 sequences\n",
      "[M::worker_pipeline::1242.340*8.24] mapped 266620 sequences\n",
      "[M::worker_pipeline::1247.658*8.25] mapped 266598 sequences\n",
      "[M::worker_pipeline::1252.333*8.25] mapped 266630 sequences\n",
      "[M::worker_pipeline::1257.023*8.25] mapped 266623 sequences\n",
      "[M::worker_pipeline::1261.637*8.26] mapped 266640 sequences\n",
      "[M::worker_pipeline::1266.328*8.27] mapped 266592 sequences\n",
      "[M::worker_pipeline::1270.960*8.28] mapped 266612 sequences\n",
      "[M::worker_pipeline::1275.619*8.28] mapped 266587 sequences\n",
      "[M::worker_pipeline::1280.256*8.29] mapped 266595 sequences\n",
      "[M::worker_pipeline::1284.913*8.30] mapped 266590 sequences\n",
      "[M::worker_pipeline::1289.558*8.30] mapped 266601 sequences\n",
      "[M::worker_pipeline::1294.107*8.31] mapped 266587 sequences\n",
      "[M::worker_pipeline::1298.766*8.32] mapped 266599 sequences\n",
      "[M::worker_pipeline::1303.538*8.32] mapped 266627 sequences\n",
      "[M::worker_pipeline::1308.211*8.33] mapped 266616 sequences\n",
      "[M::worker_pipeline::1312.889*8.34] mapped 266606 sequences\n",
      "[M::worker_pipeline::1317.506*8.34] mapped 266562 sequences\n",
      "[M::worker_pipeline::1322.058*8.35] mapped 266595 sequences\n",
      "[M::worker_pipeline::1326.678*8.36] mapped 266563 sequences\n",
      "[M::worker_pipeline::1331.188*8.36] mapped 266579 sequences\n",
      "[M::worker_pipeline::1335.801*8.37] mapped 266591 sequences\n",
      "[M::worker_pipeline::1340.405*8.38] mapped 266572 sequences\n",
      "[M::worker_pipeline::1344.948*8.38] mapped 266528 sequences\n",
      "[M::worker_pipeline::1349.477*8.39] mapped 266539 sequences\n",
      "[M::worker_pipeline::1353.951*8.40] mapped 266564 sequences\n",
      "[M::worker_pipeline::1358.385*8.40] mapped 266558 sequences\n",
      "[M::worker_pipeline::1362.869*8.41] mapped 266554 sequences\n",
      "[M::worker_pipeline::1367.270*8.42] mapped 266583 sequences\n",
      "[M::worker_pipeline::1371.773*8.42] mapped 266569 sequences\n",
      "[M::worker_pipeline::1376.380*8.43] mapped 266577 sequences\n",
      "[M::worker_pipeline::1381.026*8.44] mapped 266571 sequences\n",
      "[M::worker_pipeline::1385.589*8.44] mapped 266583 sequences\n",
      "[M::worker_pipeline::1390.172*8.45] mapped 266573 sequences\n",
      "[M::worker_pipeline::1394.724*8.46] mapped 266541 sequences\n",
      "[M::worker_pipeline::1399.254*8.46] mapped 266551 sequences\n",
      "[M::worker_pipeline::1403.758*8.47] mapped 266587 sequences\n",
      "[M::worker_pipeline::1408.324*8.48] mapped 266540 sequences\n",
      "[M::worker_pipeline::1412.843*8.48] mapped 266569 sequences\n",
      "[M::worker_pipeline::1417.378*8.49] mapped 266566 sequences\n",
      "[M::worker_pipeline::1421.923*8.50] mapped 266578 sequences\n",
      "[M::worker_pipeline::1426.503*8.50] mapped 266569 sequences\n",
      "[M::worker_pipeline::1431.078*8.51] mapped 266569 sequences\n",
      "[M::worker_pipeline::1435.655*8.52] mapped 266604 sequences\n",
      "[M::worker_pipeline::1440.194*8.52] mapped 266532 sequences\n",
      "[M::worker_pipeline::1444.713*8.53] mapped 266556 sequences\n",
      "[M::worker_pipeline::1449.304*8.54] mapped 266559 sequences\n",
      "[M::worker_pipeline::1453.953*8.54] mapped 266571 sequences\n",
      "[M::worker_pipeline::1458.711*8.55] mapped 266565 sequences\n",
      "[M::worker_pipeline::1463.287*8.55] mapped 266564 sequences\n",
      "[M::worker_pipeline::1467.901*8.56] mapped 266577 sequences\n",
      "[M::worker_pipeline::1472.557*8.57] mapped 266593 sequences\n",
      "[M::worker_pipeline::1477.266*8.57] mapped 266584 sequences\n",
      "[M::worker_pipeline::1481.780*8.58] mapped 266552 sequences\n",
      "[M::worker_pipeline::1486.443*8.58] mapped 266577 sequences\n",
      "[M::worker_pipeline::1491.141*8.59] mapped 266559 sequences\n",
      "[M::worker_pipeline::1495.760*8.60] mapped 266621 sequences\n",
      "[M::worker_pipeline::1500.388*8.60] mapped 266546 sequences\n",
      "[M::worker_pipeline::1504.978*8.61] mapped 266541 sequences\n",
      "[M::worker_pipeline::1509.634*8.61] mapped 266563 sequences\n",
      "[M::worker_pipeline::1514.243*8.62] mapped 266562 sequences\n",
      "[M::worker_pipeline::1518.776*8.62] mapped 266565 sequences\n",
      "[M::worker_pipeline::1523.373*8.63] mapped 266563 sequences\n",
      "[M::worker_pipeline::1528.040*8.64] mapped 266589 sequences\n",
      "[M::worker_pipeline::1532.759*8.64] mapped 266623 sequences\n",
      "[M::worker_pipeline::1537.409*8.65] mapped 266610 sequences\n",
      "[M::worker_pipeline::1542.069*8.65] mapped 266583 sequences\n",
      "[M::worker_pipeline::1546.658*8.66] mapped 266601 sequences\n",
      "[M::worker_pipeline::1551.250*8.66] mapped 266562 sequences\n",
      "[M::worker_pipeline::1555.940*8.67] mapped 266582 sequences\n",
      "[M::worker_pipeline::1560.835*8.67] mapped 266568 sequences\n",
      "[M::worker_pipeline::1565.523*8.68] mapped 266625 sequences\n",
      "[M::worker_pipeline::1570.208*8.68] mapped 266519 sequences\n",
      "[M::worker_pipeline::1574.800*8.69] mapped 266570 sequences\n",
      "[M::worker_pipeline::1579.485*8.69] mapped 266554 sequences\n",
      "[M::worker_pipeline::1584.246*8.70] mapped 266572 sequences\n",
      "[M::worker_pipeline::1588.811*8.70] mapped 266556 sequences\n",
      "[M::worker_pipeline::1593.458*8.71] mapped 266545 sequences\n",
      "[M::worker_pipeline::1598.069*8.71] mapped 266577 sequences\n",
      "[M::worker_pipeline::1602.699*8.72] mapped 266557 sequences\n",
      "[M::worker_pipeline::1607.328*8.73] mapped 266567 sequences\n",
      "[M::worker_pipeline::1612.003*8.73] mapped 266549 sequences\n",
      "[M::worker_pipeline::1616.677*8.74] mapped 266560 sequences\n",
      "[M::worker_pipeline::1621.291*8.74] mapped 266583 sequences\n",
      "[M::worker_pipeline::1626.044*8.75] mapped 266595 sequences\n",
      "[M::worker_pipeline::1630.785*8.75] mapped 266577 sequences\n",
      "[M::worker_pipeline::1635.410*8.76] mapped 266594 sequences\n",
      "[M::worker_pipeline::1640.112*8.76] mapped 266575 sequences\n",
      "[M::worker_pipeline::1644.848*8.77] mapped 266602 sequences\n",
      "[M::worker_pipeline::1649.634*8.77] mapped 266549 sequences\n",
      "[M::worker_pipeline::1654.417*8.77] mapped 266555 sequences\n",
      "[M::worker_pipeline::1659.288*8.78] mapped 266546 sequences\n",
      "[M::worker_pipeline::1663.918*8.78] mapped 266567 sequences\n",
      "[M::worker_pipeline::1668.673*8.79] mapped 266565 sequences\n",
      "[M::worker_pipeline::1673.491*8.79] mapped 266575 sequences\n",
      "[M::worker_pipeline::1678.292*8.79] mapped 266557 sequences\n",
      "[M::worker_pipeline::1683.178*8.76] mapped 266593 sequences\n",
      "[M::worker_pipeline::1685.585*8.75] mapped 125998 sequences\n",
      "[M::main] Version: 2.12-r827\n",
      "[M::main] CMD: minimap2 -ax sr -t 10 /ddn1/vol1/staging/leuven/stg_00002/lcb/dwmax/documents/resources/refs/cheq-seq_synthetic_libraries/CSE_David_TileA/david_tileA_final_dedup_v2_woAdapters.fa 02.clean/CH1__b87bb6__CheqSeq_OLS_David_Pool_A_enhancer-barcode_S2_R1_001_cleaned_1.1.4.fastq.gz\n",
      "[M::main] Real time: 1685.597 sec; CPU: 14748.351 sec\n"
     ]
    }
   ],
   "source": [
    "# sr = Short single-end reads without splicing\n",
    "module load minimap2/2.12-foss-2018a\n",
    "minimap2 \\\n",
    "   -ax sr ${CHEQ_SEQ_LIBRARY_FASTA_FILE_V2_WO_ADAPTERS} \\\n",
    "   -t 10 \\\n",
    "   02.clean/${SAMPLE_NAME}_R1_001_cleaned_1.1.4.fastq.gz \\\n",
    "   | samtools view -bS -o 10.mapping/${SAMPLE_NAME}_R1_001_cleaned_Minimap2-sr.bam -"
   ]
  },
  {
   "cell_type": "code",
   "execution_count": 12,
   "metadata": {},
   "outputs": [
    {
     "name": "stdout",
     "output_type": "stream",
     "text": [
      "81017864 + 0 in total (QC-passed reads + QC-failed reads)\n",
      "0 + 0 secondary\n",
      "370486 + 0 supplementary\n",
      "0 + 0 duplicates\n",
      "81004609 + 0 mapped (99.98% : N/A)\n",
      "0 + 0 paired in sequencing\n",
      "0 + 0 read1\n",
      "0 + 0 read2\n",
      "0 + 0 properly paired (N/A : N/A)\n",
      "0 + 0 with itself and mate mapped\n",
      "0 + 0 singletons (N/A : N/A)\n",
      "0 + 0 with mate mapped to a different chr\n",
      "0 + 0 with mate mapped to a different chr (mapQ>=5)\n"
     ]
    }
   ],
   "source": [
    "samtools flagstat 10.mapping/${SAMPLE_NAME}_R1_001_cleaned_Minimap2-sr.bam \\\n",
    "   > 10.mapping/${SAMPLE_NAME}_R1_001_cleaned_Minimap2-sr.bam.flagstat\n",
    "cat 10.mapping/${SAMPLE_NAME}_R1_001_cleaned_Minimap2-sr.bam.flagstat"
   ]
  },
  {
   "cell_type": "code",
   "execution_count": 13,
   "metadata": {},
   "outputs": [
    {
     "name": "stdout",
     "output_type": "stream",
     "text": [
      "81017864\n"
     ]
    }
   ],
   "source": [
    "samtools view 10.mapping/${SAMPLE_NAME}_R1_001_cleaned_Minimap2-sr.bam | wc -l"
   ]
  },
  {
   "cell_type": "code",
   "execution_count": 21,
   "metadata": {},
   "outputs": [],
   "source": [
    "samtools view 10.mapping/${SAMPLE_NAME}_R1_001_cleaned_Minimap2-sr.bam \\\n",
    "   | cut -f5 \\\n",
    "   | sort -k1 -T $DWMAX/tmp \\\n",
    "   | uniq -c \\\n",
    "   | sort -nk2 \\\n",
    "   > 10.mapping/${SAMPLE_NAME}_R1_001_cleaned_Minimap2-sr.bam.mapQstats"
   ]
  },
  {
   "cell_type": "code",
   "execution_count": 22,
   "metadata": {},
   "outputs": [
    {
     "name": "stdout",
     "output_type": "stream",
     "text": [
      "2262489 0\n",
      "1443615 1\n",
      "  77226 2\n",
      " 176876 3\n",
      " 155241 4\n",
      " 143855 5\n",
      " 237936 6\n",
      " 109330 7\n",
      " 206345 8\n",
      "  98224 9\n",
      " 203804 10\n",
      " 130716 11\n",
      " 169890 12\n",
      " 156046 13\n",
      " 175643 14\n",
      " 240749 15\n",
      " 345108 16\n",
      " 871275 17\n",
      " 417185 18\n",
      " 777392 19\n",
      " 322813 20\n",
      " 390472 21\n",
      " 289884 22\n",
      " 436309 23\n",
      " 356298 24\n",
      " 484415 25\n",
      " 379505 26\n",
      " 482926 27\n",
      " 448657 28\n",
      " 705309 29\n",
      " 634823 30\n",
      " 556746 31\n",
      " 427342 32\n",
      " 539750 33\n",
      " 423577 34\n",
      " 563189 35\n",
      " 515996 36\n",
      " 853471 37\n",
      " 822020 38\n",
      " 932422 39\n",
      " 718060 40\n",
      "1064604 41\n",
      " 875666 42\n",
      "1163601 43\n",
      " 945927 44\n",
      "1100927 45\n",
      " 926302 46\n",
      " 798733 47\n",
      " 841851 48\n",
      " 971205 49\n",
      " 795377 50\n",
      " 809753 51\n",
      " 854730 52\n",
      " 850651 53\n",
      " 702934 54\n",
      " 701394 55\n",
      " 593847 56\n",
      " 527153 57\n",
      " 549898 58\n",
      " 484503 59\n",
      "45775879 60\n"
     ]
    }
   ],
   "source": [
    "cat 10.mapping/${SAMPLE_NAME}_R1_001_cleaned_Minimap2-sr.bam.mapQstats"
   ]
  },
  {
   "cell_type": "code",
   "execution_count": 11,
   "metadata": {},
   "outputs": [],
   "source": [
    "# Calculate the frequency of sequence read length + alignment score\n",
    "samtools view 10.mapping/${SAMPLE_NAME}_R1_001_cleaned_Minimap2-sr.bam \\\n",
    "   | cut -f10,14 \\\n",
    "   | awk -F'\\t' '{print length($1), substr($2,6);}' OFS='\\t' \\\n",
    "   | awk '{ !seen[$1 FS $2]++ } END { for (key in seen) { print key, seen[key] } }' OFS='\\t' \\\n",
    "   | sort -nk3 \\\n",
    "   > 10.mapping/${SAMPLE_NAME}_R1_001_cleaned_Minimap2-sr.bam.ASstats"
   ]
  },
  {
   "cell_type": "markdown",
   "metadata": {},
   "source": [
    "#### 1.2.3 Filter"
   ]
  },
  {
   "cell_type": "markdown",
   "metadata": {},
   "source": [
    "##### 1.2.3.1 Unique"
   ]
  },
  {
   "cell_type": "code",
   "execution_count": 23,
   "metadata": {},
   "outputs": [],
   "source": [
    "#-q30 \\\n",
    "samtools view -h \\\n",
    "   -F 0x904 \\\n",
    "   -@ 4 \\\n",
    "   -bS -o 10.mapping/${SAMPLE_NAME}_R1_001_cleaned_Minimap2-sr_unique.bam \\\n",
    "   10.mapping/${SAMPLE_NAME}_R1_001_cleaned_Minimap2-sr.bam"
   ]
  },
  {
   "cell_type": "code",
   "execution_count": 24,
   "metadata": {},
   "outputs": [
    {
     "name": "stdout",
     "output_type": "stream",
     "text": [
      "80634123 + 0 in total (QC-passed reads + QC-failed reads)\n",
      "0 + 0 secondary\n",
      "0 + 0 supplementary\n",
      "0 + 0 duplicates\n",
      "80634123 + 0 mapped (100.00% : N/A)\n",
      "0 + 0 paired in sequencing\n",
      "0 + 0 read1\n",
      "0 + 0 read2\n",
      "0 + 0 properly paired (N/A : N/A)\n",
      "0 + 0 with itself and mate mapped\n",
      "0 + 0 singletons (N/A : N/A)\n",
      "0 + 0 with mate mapped to a different chr\n",
      "0 + 0 with mate mapped to a different chr (mapQ>=5)\n"
     ]
    }
   ],
   "source": [
    "samtools flagstat 10.mapping/${SAMPLE_NAME}_R1_001_cleaned_Minimap2-sr_unique.bam \\\n",
    "   > 10.mapping/${SAMPLE_NAME}_R1_001_cleaned_Minimap2-sr_unique.bam.flagstat\n",
    "cat 10.mapping/${SAMPLE_NAME}_R1_001_cleaned_Minimap2-sr_unique.bam.flagstat"
   ]
  },
  {
   "cell_type": "markdown",
   "metadata": {},
   "source": [
    "##### 1.2.3.2 Unique + perfect match (based AS tag)"
   ]
  },
  {
   "cell_type": "code",
   "execution_count": 25,
   "metadata": {},
   "outputs": [],
   "source": [
    "samtools view -h 10.mapping/${SAMPLE_NAME}_R1_001_cleaned_Minimap2-sr_unique.bam \\\n",
    "   | awk '$14 ~ /^AS:i:380$/ || $1 ~ /^@/' \\\n",
    "   | samtools view -bS -o 10.mapping/${SAMPLE_NAME}_R1_001_cleaned_Minimap2-sr_unique_perfectMatchByAS.bam -"
   ]
  },
  {
   "cell_type": "code",
   "execution_count": 26,
   "metadata": {},
   "outputs": [
    {
     "name": "stdout",
     "output_type": "stream",
     "text": [
      "31166964\n"
     ]
    }
   ],
   "source": [
    "samtools view 10.mapping/${SAMPLE_NAME}_R1_001_cleaned_Minimap2-sr_unique_perfectMatchByAS.bam | wc -l"
   ]
  },
  {
   "cell_type": "code",
   "execution_count": 14,
   "metadata": {},
   "outputs": [
    {
     "name": "stdout",
     "output_type": "stream",
     "text": [
      "7364\n"
     ]
    }
   ],
   "source": [
    "samtools view 10.mapping/${SAMPLE_NAME}_R1_001_cleaned_Minimap2-sr_unique_perfectMatchByAS.bam \\\n",
    "   | cut -f3 \\\n",
    "   | sort -k1,1 \\\n",
    "   | uniq \\\n",
    "   | wc -l"
   ]
  },
  {
   "cell_type": "markdown",
   "metadata": {},
   "source": [
    "##### 1.2.3.3 Perfect match (based on NM tag)"
   ]
  },
  {
   "cell_type": "code",
   "execution_count": 27,
   "metadata": {},
   "outputs": [],
   "source": [
    "# Perfect match (based on AS tag)\n",
    "samtools view -h 10.mapping/${SAMPLE_NAME}_R1_001_cleaned_Minimap2-sr.bam \\\n",
    "   | awk '$12 ~ /^NM:i:0$/ || $1 ~ /^@/' \\\n",
    "   | samtools view -bS -o 10.mapping/${SAMPLE_NAME}_R1_001_cleaned_Minimap2-sr_perfectMatchByNM.bam -"
   ]
  },
  {
   "cell_type": "code",
   "execution_count": 28,
   "metadata": {},
   "outputs": [
    {
     "name": "stdout",
     "output_type": "stream",
     "text": [
      "33049631\n"
     ]
    }
   ],
   "source": [
    "samtools view 10.mapping/${SAMPLE_NAME}_R1_001_cleaned_Minimap2-sr_perfectMatchByNM.bam | wc -l"
   ]
  },
  {
   "cell_type": "markdown",
   "metadata": {},
   "source": [
    "## 2. Read 2 - Barcode"
   ]
  },
  {
   "cell_type": "markdown",
   "metadata": {},
   "source": [
    "### 2.1. Cleaning"
   ]
  },
  {
   "cell_type": "markdown",
   "metadata": {},
   "source": [
    "#### 2.1.1 Filter for sequencing quality"
   ]
  },
  {
   "cell_type": "code",
   "execution_count": null,
   "metadata": {},
   "outputs": [],
   "source": [
    "/staging/leuven/stg_00002/lcb/dwmax/software/fastp/0.20.0/fastp \\\n",
    "   -w 6 \\\n",
    "   --disable_adapter_trimming -q 20 -u 20 \\\n",
    "   -i ${DATA_DIR}/${SAMPLE_NAME}_R2_001.fastq.gz \\\n",
    "   -o 02.clean/${SAMPLE_NAME}_R2_001_cleaned_2.1.1.fastq.gz"
   ]
  },
  {
   "cell_type": "code",
   "execution_count": 46,
   "metadata": {},
   "outputs": [
    {
     "name": "stdout",
     "output_type": "stream",
     "text": [
      "108326513\n"
     ]
    }
   ],
   "source": [
    "zcat 02.clean/${SAMPLE_NAME}_R2_001_cleaned_2.1.1.fastq.gz | grep \"^@\" | wc -l "
   ]
  },
  {
   "cell_type": "markdown",
   "metadata": {},
   "source": [
    "#### 2.1.2 Cut 5' adapter"
   ]
  },
  {
   "cell_type": "code",
   "execution_count": null,
   "metadata": {},
   "outputs": [],
   "source": [
    "cutadapt \\\n",
    "   -j 6 \\\n",
    "   -g CGAATTAATTCGGGCCCCGGTCC --trimmed-only \\\n",
    "   --output 02.clean/${SAMPLE_NAME}_R2_001_cleaned_2.1.2.fastq.gz \\\n",
    "   02.clean/${SAMPLE_NAME}_R2_001_cleaned_2.1.1.fastq.gz"
   ]
  },
  {
   "cell_type": "code",
   "execution_count": 47,
   "metadata": {},
   "outputs": [
    {
     "name": "stdout",
     "output_type": "stream",
     "text": [
      "108241995\n"
     ]
    }
   ],
   "source": [
    "zcat 02.clean/${SAMPLE_NAME}_R2_001_cleaned_2.1.2.fastq.gz | grep \"^@\" | wc -l "
   ]
  },
  {
   "cell_type": "markdown",
   "metadata": {},
   "source": [
    "#### 2.1.3 Cut 3' adapter + force BC to have 17 bp long"
   ]
  },
  {
   "cell_type": "code",
   "execution_count": null,
   "metadata": {},
   "outputs": [],
   "source": [
    "cutadapt -j 6 \\\n",
    "   -a GATCGGCGCG \\\n",
    "   --trimmed-only \\\n",
    "   -m 17 -M 17 \\\n",
    "   --output 02.clean/${SAMPLE_NAME}_R2_001_cleaned_2.1.3.fastq.gz \\\n",
    "   02.clean/${SAMPLE_NAME}_R2_001_cleaned_2.1.2.fastq.gz"
   ]
  },
  {
   "cell_type": "code",
   "execution_count": 48,
   "metadata": {},
   "outputs": [
    {
     "name": "stdout",
     "output_type": "stream",
     "text": [
      "106180344\n"
     ]
    }
   ],
   "source": [
    "zcat 02.clean/${SAMPLE_NAME}_R2_001_cleaned_2.1.3.fastq.gz | grep \"^@\" | wc -l "
   ]
  },
  {
   "cell_type": "markdown",
   "metadata": {},
   "source": [
    "#### 2.1.4 Filter more for sequencing quality"
   ]
  },
  {
   "cell_type": "code",
   "execution_count": null,
   "metadata": {},
   "outputs": [],
   "source": [
    "# at least 90% of the NT (-u 10) must have a quality higher then 30 \n",
    "/staging/leuven/stg_00002/lcb/dwmax/software/fastp/0.20.0/fastp \\\n",
    "   -w 6 \\\n",
    "   --disable_adapter_trimming -q 30 -u 10 \\\n",
    "   -i 02.clean/${SAMPLE_NAME}_R2_001_cleaned_2.1.3.fastq.gz \\\n",
    "   -o 02.clean/${SAMPLE_NAME}_R2_001_cleaned_2.1.4.fastq.gz"
   ]
  },
  {
   "cell_type": "code",
   "execution_count": 49,
   "metadata": {},
   "outputs": [
    {
     "name": "stdout",
     "output_type": "stream",
     "text": [
      "80364472\n"
     ]
    }
   ],
   "source": [
    "zcat 02.clean/${SAMPLE_NAME}_R2_001_cleaned_2.1.4.fastq.gz | grep \"^@\" | wc -l "
   ]
  },
  {
   "cell_type": "code",
   "execution_count": null,
   "metadata": {},
   "outputs": [],
   "source": [
    "# QC\n",
    "# checked if all reads are still 17 bp\n",
    "zcat 02.clean/${SAMPLE_NAME}_R2_001_cleaned_2.1.4.fastq.gz \\\n",
    "   | sed -n '2~4p' | awk '{print length($0);}' | uniq -c"
   ]
  },
  {
   "cell_type": "code",
   "execution_count": null,
   "metadata": {},
   "outputs": [],
   "source": [
    "# to check the distribution of the number of BCs\n",
    "zcat 02.clean/${SAMPLE_NAME}_R2_001_cleaned_2.1.4.fastq.gz \\\n",
    "   | sed -n '2~4p' \\\n",
    "   | sort -k1nr | uniq -c \\\n",
    "   | sort -k1nr \\\n",
    "   | awk '{print $1 \"\\t\" $2}' \\\n",
    "   | gzip -c > BC-distribution.tsv.gz"
   ]
  },
  {
   "cell_type": "markdown",
   "metadata": {},
   "source": [
    "## 3. Coupling Enhancer-BC"
   ]
  },
  {
   "cell_type": "code",
   "execution_count": null,
   "metadata": {},
   "outputs": [],
   "source": [
    "ls 10.mapping"
   ]
  },
  {
   "cell_type": "code",
   "execution_count": null,
   "metadata": {},
   "outputs": [],
   "source": [
    "ls 20.coupling"
   ]
  },
  {
   "cell_type": "code",
   "execution_count": 43,
   "metadata": {},
   "outputs": [],
   "source": [
    "ALIGNMENT_TOOL_SETTINGS=\"Minimap2-sr\""
   ]
  },
  {
   "cell_type": "markdown",
   "metadata": {},
   "source": [
    "### 3.1. Merge enhancer-BC"
   ]
  },
  {
   "cell_type": "code",
   "execution_count": 44,
   "metadata": {},
   "outputs": [],
   "source": [
    "paste \\\n",
    "   <( zcat 02.clean/${SAMPLE_NAME}_R2_001_cleaned_2.1.4.fastq.gz | sed -n '1~4p' | awk '{print $1}' | sed 's/^@//' ) \\\n",
    "   <( zcat 02.clean/${SAMPLE_NAME}_R2_001_cleaned_2.1.4.fastq.gz | sed -n '2~4p' ) \\\n",
    "   | sort -k1 \\\n",
    "   | gzip -c \\\n",
    "   > 20.coupling/${SAMPLE_NAME}_R2_001_cleaned_barcode.sortedByReadID.tsv.gz"
   ]
  },
  {
   "cell_type": "markdown",
   "metadata": {},
   "source": [
    "#### 3.1.1 Unique + Perfect Match By AS"
   ]
  },
  {
   "cell_type": "code",
   "execution_count": 45,
   "metadata": {},
   "outputs": [],
   "source": [
    "samtools view 10.mapping/${SAMPLE_NAME}_R1_001_cleaned_${ALIGNMENT_TOOL_SETTINGS}_unique_perfectMatchByAS.bam \\\n",
    "   | awk '{print $1 \"\\t\" $3 \"\\t\" $10}' \\\n",
    "   | sort -k1 \\\n",
    "   | gzip -c \\\n",
    "   > 20.coupling/${SAMPLE_NAME}_R1_001_cleaned_${ALIGNMENT_TOOL_SETTINGS}_unique_perfectMatchByAS_enhancers.sortedByReadID.tsv.gz"
   ]
  },
  {
   "cell_type": "code",
   "execution_count": 46,
   "metadata": {},
   "outputs": [],
   "source": [
    "awk -F '\\t' -v OFS='\\t' 'FNR==NR{a[$1]=$2 FS $3;next}{ print $0, a[$1]}' \\\n",
    "   <( zcat 20.coupling/${SAMPLE_NAME}_R1_001_cleaned_${ALIGNMENT_TOOL_SETTINGS}_unique_perfectMatchByAS_enhancers.sortedByReadID.tsv.gz ) \\\n",
    "   <( zcat 20.coupling/${SAMPLE_NAME}_R2_001_cleaned_barcode.sortedByReadID.tsv.gz ) \\\n",
    "   | awk  '$3!=\"\"' \\\n",
    "   | cut -f1-3 \\\n",
    "   | gzip -c \\\n",
    "   > 20.coupling/${SAMPLE_NAME}_enhancer_barcode_coupled.tsv.gz"
   ]
  },
  {
   "cell_type": "code",
   "execution_count": 47,
   "metadata": {},
   "outputs": [
    {
     "name": "stdout",
     "output_type": "stream",
     "text": [
      "24300768\n",
      "7356\n",
      "23135893\n"
     ]
    }
   ],
   "source": [
    "# Number of reads with enhancer-barcode coupling\n",
    "zcat 20.coupling/${SAMPLE_NAME}_enhancer_barcode_coupled.tsv.gz | wc -l\n",
    "# Number of unique enhancer\n",
    "zcat 20.coupling/${SAMPLE_NAME}_enhancer_barcode_coupled.tsv.gz | cut -f3 | sort | uniq | wc -l\n",
    "# Number of unique barcodes\n",
    "zcat 20.coupling/${SAMPLE_NAME}_enhancer_barcode_coupled.tsv.gz | cut -f2 | sort | uniq | wc -l"
   ]
  },
  {
   "cell_type": "markdown",
   "metadata": {},
   "source": [
    "### 3.2 Remove BC-empty vectors"
   ]
  },
  {
   "cell_type": "code",
   "execution_count": 48,
   "metadata": {},
   "outputs": [],
   "source": [
    "paste \\\n",
    "   <( zcat 02.clean/${SAMPLE_NAME}_R1_001_cleaned_1.1.3_empty_vectors.fastq.gz | sed -n '1~4p' | awk '{print $1}' | sed 's/^@//' ) \\\n",
    "   <( zcat 02.clean/${SAMPLE_NAME}_R1_001_cleaned_1.1.3_empty_vectors.fastq.gz | sed -n '2~4p' ) \\\n",
    "   | sort -k1 \\\n",
    "   | gzip -c \\\n",
    "   > 20.coupling/${SAMPLE_NAME}_R1_001_cleaned_1.1.3_empty_vectors_seq.tsv.gz"
   ]
  },
  {
   "cell_type": "code",
   "execution_count": 49,
   "metadata": {},
   "outputs": [],
   "source": [
    "awk -F '\\t' -v OFS='\\t' 'FNR==NR{a[$1]=$2; next}{ print $0, a[$1]}' \\\n",
    "   <( zcat 20.coupling/${SAMPLE_NAME}_R1_001_cleaned_1.1.3_empty_vectors_seq.tsv.gz ) \\\n",
    "   <( zcat 20.coupling/${SAMPLE_NAME}_R2_001_cleaned_barcode.sortedByReadID.tsv.gz ) \\\n",
    "   | awk  '$3!=\"\"' \\\n",
    "   | cut -f1-3 \\\n",
    "   | gzip -c \\\n",
    "   > 20.coupling/${SAMPLE_NAME}_empty_vector_barcode_coupled.tsv.gz"
   ]
  },
  {
   "cell_type": "markdown",
   "metadata": {},
   "source": [
    "#### 3.2.1 Unique + Perfect Match By AS"
   ]
  },
  {
   "cell_type": "code",
   "execution_count": 7,
   "metadata": {},
   "outputs": [],
   "source": [
    "grep -vF -f \\\n",
    "   <(zcat 20.coupling/${SAMPLE_NAME}_empty_vector_barcode_coupled.tsv.gz | cut -f2) \\\n",
    "   <(zcat 20.coupling/${SAMPLE_NAME}_enhancer_barcode_coupled.tsv.gz) \\\n",
    "   | gzip -c \\\n",
    "   > 20.coupling/${SAMPLE_NAME}_enhancer_barcode_coupled_wo_empty_vectors.tsv.gz"
   ]
  },
  {
   "cell_type": "code",
   "execution_count": 8,
   "metadata": {},
   "outputs": [
    {
     "name": "stdout",
     "output_type": "stream",
     "text": [
      "23921951\n",
      "7356\n",
      "22776718\n"
     ]
    }
   ],
   "source": [
    "# Number of reads with enhancer-barcode coupling\n",
    "zcat 20.coupling/${SAMPLE_NAME}_enhancer_barcode_coupled_wo_empty_vectors.tsv.gz | wc -l\n",
    "# Number of unique enhancer\n",
    "zcat 20.coupling/${SAMPLE_NAME}_enhancer_barcode_coupled_wo_empty_vectors.tsv.gz | cut -f3 | sort | uniq | wc -l\n",
    "# Number of unique barcodes\n",
    "zcat 20.coupling/${SAMPLE_NAME}_enhancer_barcode_coupled_wo_empty_vectors.tsv.gz | cut -f2 | sort | uniq | wc -l"
   ]
  },
  {
   "cell_type": "markdown",
   "metadata": {},
   "source": [
    "### 3.3 Reverse complement BC"
   ]
  },
  {
   "cell_type": "markdown",
   "metadata": {},
   "source": [
    "#### 3.3.1 Unique + Perfect Match By AS"
   ]
  },
  {
   "cell_type": "code",
   "execution_count": 52,
   "metadata": {},
   "outputs": [],
   "source": [
    "paste \\\n",
    "   <( zcat 20.coupling/${SAMPLE_NAME}_enhancer_barcode_coupled_wo_empty_vectors.tsv.gz | cut -f1,3) \\\n",
    "   <( zcat 20.coupling/${SAMPLE_NAME}_enhancer_barcode_coupled_wo_empty_vectors.tsv.gz | awk '{print $2}' | rev | tr \"ATGC\" \"TACG\" ) \\\n",
    "   | gzip -c \\\n",
    "   > 20.coupling/${SAMPLE_NAME}_enhancer_barcode_coupled_wo_empty_vectors_bc_rc.tsv.gz"
   ]
  },
  {
   "cell_type": "code",
   "execution_count": 53,
   "metadata": {},
   "outputs": [
    {
     "name": "stdout",
     "output_type": "stream",
     "text": [
      "A00305:46:H7J7JDRXX:1:2101:10004:14058\tchr17:62679475-62679665@@SMURF2_2==wt\tTTGTGGCTGTATGGTAA\n",
      "A00305:46:H7J7JDRXX:1:2101:10004:14810\tchr7:100660664-100660854@@SERPINE1_1==wt\tATTACTTAAGTACTCTC\n",
      "A00305:46:H7J7JDRXX:1:2101:10004:15060\tchr17:62675240-62675430@@SMURF2_1==mut___cisbp__M5907___chr17:62675294__C_A___chr17:62675295__C_A___chr17:62675320__G_T___chr17:62675321__G_T\tCATTTGTATATATAATT\n",
      "A00305:46:H7J7JDRXX:1:2101:10004:15436\tchr16:68820118-68820308@@CDH1_2==wt\tTACTGGTCAGGTTATCG\n",
      "A00305:46:H7J7JDRXX:1:2101:10004:15468\tchr18:56247244-56247434@@ALPK2_1==mut___cisbp__M5907___chr18:56247297__G_T___chr18:56247298__G_T\tTCGGCATGATGGGAGTG\n",
      "A00305:46:H7J7JDRXX:1:2101:10004:1720\tchr22:38415062-38415252@@SOX10_4==wt\tGAATACTGGTACAGTTA\n",
      "A00305:46:H7J7JDRXX:1:2101:10004:18787\tchr16:68820758-68820948@@CDH1_2==wt\tACGGACACTTATGTGCG\n",
      "A00305:46:H7J7JDRXX:1:2101:10004:20917\tchr6:395425-395615@@IRF4_1==mut___homer__RTCATGTGAC_MITF___chr6:395591__C_T___chr6:395596__G_T\tTGTAATAATTTTTATTT\n",
      "A00305:46:H7J7JDRXX:1:2101:10004:21010\tchr5:156017124-156017314@@SGCD_3==wt__shuffled\tACAGCCCTAGGCCGAGA\n",
      "A00305:46:H7J7JDRXX:1:2101:10004:21042\tchr2:133174545-133174735@@GPR39_1==wt__shuffled\tTCCCTTTAAGCCCGCAC\n",
      "\n",
      "gzip: stdout: Broken pipe\n"
     ]
    }
   ],
   "source": [
    "zcat 20.coupling/${SAMPLE_NAME}_enhancer_barcode_coupled_wo_empty_vectors_bc_rc.tsv.gz| head"
   ]
  },
  {
   "cell_type": "code",
   "execution_count": 54,
   "metadata": {},
   "outputs": [],
   "source": [
    "zcat 20.coupling/${SAMPLE_NAME}_enhancer_barcode_coupled_wo_empty_vectors_bc_rc.tsv.gz \\\n",
    "   | awk '{print $2}' \\\n",
    "   | sort \\\n",
    "   | uniq -c \\\n",
    "   > 20.coupling/${SAMPLE_NAME}_enhancer_barcode_coupled_wo_empty_vectors_bc_rc_synthetic_seq_distribution.tsv"
   ]
  },
  {
   "cell_type": "markdown",
   "metadata": {},
   "source": [
    "## 4. Statistics"
   ]
  },
  {
   "cell_type": "markdown",
   "metadata": {},
   "source": [
    "### 4.1 Distribution of BC: so how many times each BC is appearing"
   ]
  },
  {
   "cell_type": "code",
   "execution_count": 55,
   "metadata": {},
   "outputs": [
    {
     "name": "stdout",
     "output_type": "stream",
     "text": [
      "21685462 1\n",
      "1039777 2\n",
      "  49098 3\n",
      "   2272 4\n",
      "    101 5\n",
      "      8 6\n"
     ]
    }
   ],
   "source": [
    "zcat 20.coupling/${SAMPLE_NAME}_enhancer_barcode_coupled_wo_empty_vectors_bc_rc.tsv.gz \\\n",
    "   | awk '{print $3}' \\\n",
    "   | sort -k1nr \\\n",
    "   | uniq -c \\\n",
    "   | sort \\\n",
    "   | awk '{print $1}' \\\n",
    "   | uniq -c"
   ]
  },
  {
   "cell_type": "markdown",
   "metadata": {},
   "source": [
    "### 4.2 Number of unique designed regions found back"
   ]
  },
  {
   "cell_type": "code",
   "execution_count": 56,
   "metadata": {},
   "outputs": [
    {
     "name": "stdout",
     "output_type": "stream",
     "text": [
      "7356\n"
     ]
    }
   ],
   "source": [
    "zcat 20.coupling/${SAMPLE_NAME}_enhancer_barcode_coupled_wo_empty_vectors_bc_rc.tsv.gz | awk '{print $2}' | sort | uniq | wc -l"
   ]
  },
  {
   "cell_type": "code",
   "execution_count": 57,
   "metadata": {},
   "outputs": [
    {
     "name": "stdout",
     "output_type": "stream",
     "text": [
      "22776718\n"
     ]
    }
   ],
   "source": [
    "zcat 20.coupling/${SAMPLE_NAME}_enhancer_barcode_coupled_wo_empty_vectors_bc_rc.tsv.gz | cut -f3 | sort | uniq | wc -l"
   ]
  }
 ],
 "metadata": {
  "kernelspec": {
   "display_name": "Bash 4.2.46",
   "language": "bash",
   "name": "bash4246"
  },
  "language_info": {
   "codemirror_mode": "shell",
   "file_extension": ".sh",
   "mimetype": "text/x-sh",
   "name": "bash"
  }
 },
 "nbformat": 4,
 "nbformat_minor": 4
}

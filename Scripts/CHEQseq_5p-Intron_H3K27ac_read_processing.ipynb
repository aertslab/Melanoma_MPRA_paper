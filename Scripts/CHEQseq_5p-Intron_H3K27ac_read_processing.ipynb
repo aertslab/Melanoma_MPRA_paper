{
 "cells": [
  {
   "cell_type": "markdown",
   "metadata": {},
   "source": [
    "# Process 5p and Intron sequencing data (Run on Genius)"
   ]
  },
  {
   "cell_type": "code",
   "execution_count": null,
   "metadata": {},
   "outputs": [],
   "source": [
    "cd /staging/leuven/stg_00002/lcb/lcb_projects/CH1/5p_intron/counting/"
   ]
  },
  {
   "cell_type": "markdown",
   "metadata": {},
   "source": [
    "## 00. Combine fastq from different sequencing runs"
   ]
  },
  {
   "cell_type": "code",
   "execution_count": null,
   "metadata": {},
   "outputs": [],
   "source": [
    "# Path to the different runs\n",
    "HiSeq_1902=\"/staging/leuven/stg_00002/lcb/ngs_runs/HiSeq4000_20190222/Demultiplexed/{}*L00*\"\n",
    "NextSeq=\"/staging/leuven/stg_00002/lcb/ngs_runs/NextSeq500_20190403/Demultiplexed/{}*R1*\"\n",
    "HiSeq_1906=\"/staging/leuven/stg_00002/lcb/ngs_runs/HiSeq4000_20190620/Demulitplexed/{}*\"\n",
    "NovaSeq=\"/staging/leuven/stg_00002/lcb/ngs_runs/NovaSeq6000_20190627/Demultiplexed/{}*R1*\"\n",
    "NovaSeq_201126=\"/staging/leuven/stg_00002/lcb/ngs_runs/NovaSeq6000_20201126/Demultiplexed/{}*R1*\"\n",
    "NextSeq_20210330=\"/staging/leuven/stg_00002/lcb/ngs_runs/NextSeq2000_20210330/Demultiplexed/{}*R1*\""
   ]
  },
  {
   "cell_type": "code",
   "execution_count": null,
   "metadata": {},
   "outputs": [],
   "source": [
    "parallel \\\n",
    "\"zcat $NextSeq_20210330 | gzip > 00.combined_raw/{}_c.fastq.gz &&\n",
    "   echo -e \\\"Combined number of reads for {}: \\\"\\$(( \\$(zcat 00.combined_raw/{}_c.fastq.gz | wc -l) / 4 )) \\\"\\\\n\\\"Duplicated read IDs: \\$(zcat 00.combined_raw/{}_c.fastq.gz | grep '^@' | sort | uniq -d | wc -l)\" \\\n",
    "   ::: $(cat 00.combined_raw/CHEQseq_5p_intron_names.txt)\n",
    "   "
   ]
  },
  {
   "cell_type": "markdown",
   "metadata": {},
   "source": [
    "## 01. Make FastQC"
   ]
  },
  {
   "cell_type": "code",
   "execution_count": null,
   "metadata": {},
   "outputs": [],
   "source": [
    "module load FastQC/0.11.8-Java-1.8.0_162\n",
    "cat 00.combined_raw/CHEQseq_5p_intron_names.txt | while read line\n",
    "do\n",
    "fastqc 00.combined_raw/${line}_c.fastq.gz -o 01.fastqc\n",
    "done"
   ]
  },
  {
   "cell_type": "markdown",
   "metadata": {},
   "source": [
    "## 02.1 Clean reads"
   ]
  },
  {
   "cell_type": "code",
   "execution_count": null,
   "metadata": {},
   "outputs": [],
   "source": [
    "# Remove 5' adapter and trim read length to BC length\n",
    "module load cutadapt/1.18-foss-2018a-Python-3.7.0\n",
    " # 5' samples\n",
    "grep '5_prime' 00.combined_raw/CHEQseq_5p_intron_names.txt | while read line\n",
    "do\n",
    "\n",
    "cutadapt -g ACTCGAGCCGAGCAGGCGCGCCGATC...GGACCAG -e 0.2 -l 17 -m 17 -j 6 --discard-untrimmed \\\n",
    "         -o 02.cleaned_reads/${line}c.fastq.gz \\\n",
    "         00.combined_raw/${line}_c.fastq.gz\n",
    "done"
   ]
  },
  {
   "cell_type": "code",
   "execution_count": null,
   "metadata": {},
   "outputs": [],
   "source": [
    " # Intron samples\n",
    "grep 'Intron' 00.combined_raw/CHEQseq_5p_intron_names.txt | while read line\n",
    "do\n",
    "cutadapt -g GTCCACTCCCAGGTGGCGCGCCCTAG...TGCAGG -e 0.2 -l 18 -m 18 -j 6 --discard-untrimmed \\\n",
    "         -o 02.cleaned_reads/${line}c.fastq.gz \\\n",
    "         00.combined_raw/${line}_c.fastq.gz\n",
    "done"
   ]
  },
  {
   "cell_type": "markdown",
   "metadata": {},
   "source": [
    "## 02.2 Q30 filtering"
   ]
  },
  {
   "cell_type": "code",
   "execution_count": null,
   "metadata": {},
   "outputs": [],
   "source": [
    "# Filtering out reads with average phred score < 30\n",
    "module load fastp/0.20.0-foss-2018a\n",
    "cat 00.combined_raw/CHEQseq_5p_intron_names.txt | while read line\n",
    "do\n",
    "fastp -e 30 -h /dev/null/fastp.html -j /dev/null/fastp.json -w 8 \\\n",
    "      -o 02.cleaned_reads/${line}_ccq30.fastq.gz \\\n",
    "      -i 02.cleaned_reads/${line}c.fastq.gz\n",
    "done"
   ]
  },
  {
   "cell_type": "code",
   "execution_count": null,
   "metadata": {},
   "outputs": [],
   "source": [
    "cat 00.combined_raw/CHEQseq_5p_intron_names.txt | while read line\n",
    "do\n",
    "echo ${line}\n",
    "echo $(( $(zcat 02.cleaned_reads/${line}_ccq30.fastq.gz | wc -l) / 4 ))\n",
    "done"
   ]
  },
  {
   "cell_type": "markdown",
   "metadata": {},
   "source": [
    "## 03. Sequencing saturation"
   ]
  },
  {
   "cell_type": "code",
   "execution_count": null,
   "metadata": {},
   "outputs": [],
   "source": [
    "# Extract DNA sequences from fastq\n",
    "cat 00.combined_raw/CHEQseq_5p_intron_names.txt | while read line\n",
    "do\n",
    "zcat 02.cleaned_reads/${line}_ccq30.fastq.gz | sed -n '2~4p' > 03.sequencing_saturation/${line}.txt\n",
    "done"
   ]
  },
  {
   "cell_type": "code",
   "execution_count": null,
   "metadata": {},
   "outputs": [],
   "source": [
    "# Subsample, count total and unique reads\n",
    "start=`date +%s`\n",
    "\n",
    "cat 00.combined_raw/CHEQseq_5p_intron_names.txt | while read line\n",
    "do\n",
    "file=\"03.sequencing_saturation/${line}.txt\"\n",
    "nreads=$(cat $file | wc -l)\n",
    " # Start by removing parallel instructions file\n",
    "rm 03.sequencing_saturation/parallel.txt\n",
    " # Remove any previoulsy created sat values for that file\n",
    "rm ${file%_*}_sat.txt\n",
    "    for i in $(seq 0 200000 $nreads)\n",
    "    do\n",
    "     # Print number of total and unique reads for every subsamples\n",
    "    echo \"echo $i \\$(shuf -n $(($i)) $file | sort | uniq | wc -l) >> ${file%_*}_sat.txt\" \\\n",
    "    >> 03.sequencing_saturation/parallel.txt\n",
    "    done\n",
    "cat 03.sequencing_saturation/parallel.txt | parallel -j 16\n",
    " # Put values in numerical order\n",
    "cat ${file%_*}_sat.txt | sort -g > ${file%_*}_satsort.txt && mv ${file%_*}_satsort.txt ${file%_*}_sat.txt\n",
    "done\n",
    "\n",
    "end=`date +%s`\n",
    "runtime=$((end-start))\n",
    "echo $runtime"
   ]
  },
  {
   "cell_type": "markdown",
   "metadata": {},
   "source": [
    "## 10. Make BC count matrix"
   ]
  },
  {
   "cell_type": "code",
   "execution_count": null,
   "metadata": {},
   "outputs": [],
   "source": [
    "# Generate BC count matrix for each samples\n",
    "parallel \\\n",
    "\"cat 03.sequencing_saturation/{}.txt | sort | uniq -c | awk -F \\\" \\\" '{print \\$2\\\"\\t\\\"\\$1}' \\\n",
    "   > 10.bc_count/{}_count.txt\" ::: $(cat 00.combined_raw/CHEQseq_5p_intron_names.txt)\n",
    " # Count number of unique BC per sample\n",
    "cat 00.combined_raw/CHEQseq_5p_intron_names.txt | while read line\n",
    "do\n",
    "echo ${file#*/}\n",
    "echo 10.bc_count/${line}_count.txt && cat 10.bc_count/${line}_count.txt | wc -l\n",
    "done"
   ]
  },
  {
   "cell_type": "code",
   "execution_count": null,
   "metadata": {},
   "outputs": [],
   "source": [
    "# Combine Enhancer and BC\n",
    "start=`date +%s`\n",
    " # 5' samples\n",
    "enh_coupling_5p=\"/staging/leuven/stg_00002/lcb/dwmax/documents/aertslab/EA/CHEQ-seq_pSA073/data/2917_DMauduit_PacBio/201.coupling/pacbio_3passes_5prime_plasmid_enhancer_barcode_and_negctrl_barcode_minQ30_final_list.tsv\"\n",
    "grep '5_prime' 00.combined_raw/CHEQseq_5p_intron_names.txt | while read name\n",
    "do\n",
    "rm 10.bc_count/parallel_combine2.txt\n",
    "rm 10.bc_count/${name}_final*\n",
    "cat 10.bc_count/${name}_count.txt | while read line\n",
    "    do\n",
    "    echo \"echo -e \\$(grep ${line%%$'\\t'*} ${enh_coupling_5p} | awk '{print \\$1}')\\\"\\t\\\"${line%%$'\\t'*}\\\"\\t\\\"${line##*$'\\t'} >> 10.bc_count/${name}_final_NEG.txt\" \\\n",
    "    >> 10.bc_count/parallel_combine2.txt\n",
    "    done\n",
    "echo \"Processing ${name}...\"\n",
    "cat 10.bc_count/parallel_combine2.txt | parallel -j 30  \n",
    "sed '/^\\t/ d' < 10.bc_count/${name}_final_NEG.txt > 10.bc_count/${name}_final_clean_NEG.txt\n",
    "rm 10.bc_count/${name}_final_NEG.txt\n",
    "done\n",
    "end=`date +%s`\n",
    "echo $((end-start))"
   ]
  },
  {
   "cell_type": "code",
   "execution_count": null,
   "metadata": {},
   "outputs": [],
   "source": [
    "start=`date +%s`\n",
    " # Intron samples\n",
    "enh_coupling_intron=\"/staging/leuven/stg_00002/lcb/dwmax/documents/aertslab/EA/CHEQ-seq_pSA073/data/2917_DMauduit_PacBio/201.coupling/pacbio_3passes_intron_plasmid_enhancer_barcode_and_negctrl_barcode_minQ30_final_list.tsv\"\n",
    "grep 'Intron' 00.combined_raw/CHEQseq_5p_intron_names.txt | while read name\n",
    "do\n",
    "rm 10.bc_count/parallel_combine2.txt\n",
    "rm 10.bc_count/${name}_final*\n",
    "cat 10.bc_count/${name}_count.txt | while read line\n",
    "    do\n",
    "    echo \"echo -e \\$(grep ${line%%$'\\t'*} ${enh_coupling_intron} | awk '{print \\$1}')\\\"\\t\\\"${line%%$'\\t'*}\\\"\\t\\\"${line##*$'\\t'} >> 10.bc_count/${name}_final_NEG.txt\" \\\n",
    "    >> 10.bc_count/parallel_combine2.txt\n",
    "    done\n",
    "echo \"Processing ${name}...\"\n",
    "cat 10.bc_count/parallel_combine2.txt | parallel -j 30    \n",
    "sed '/^\\t/ d' < 10.bc_count/${name}_final_NEG.txt > 10.bc_count/${name}_final_clean_NEG.txt\n",
    "rm 10.bc_count/${name}_final_NEG.txt\n",
    "done\n",
    "end=`date +%s`\n",
    "echo $((end-start))"
   ]
  },
  {
   "cell_type": "code",
   "execution_count": null,
   "metadata": {},
   "outputs": [],
   "source": [
    "# Count number of BC associated to an enhancer\n",
    "cat 00.combined_raw/CHEQseq_5p_intron_names.txt | while read line\n",
    "do\n",
    "echo -e \"${line}\\t\\t$(cat 10.bc_count/${line}_final_clean_NEG.txt | wc -l)\"\n",
    "done"
   ]
  },
  {
   "cell_type": "code",
   "execution_count": null,
   "metadata": {},
   "outputs": [],
   "source": [
    "# Count number of BC per enhancer\n",
    "cat 00.combined_raw/CHEQseq_5p_intron_names.txt | while read line\n",
    "do\n",
    "cat 10.bc_count/${line}_final_clean_NEG.txt | awk '{print $1}' | sort | uniq -c > 10.bc_count/10.1.Summary/${line}_summary.txt\n",
    "cat 10.bc_count/${line}_final_clean_NEG.txt | awk '{print $1}' | sort | uniq -c | wc -l >> 10.bc_count/10.1.Summary/${line}_summary.txt\n",
    "done"
   ]
  },
  {
   "cell_type": "code",
   "execution_count": null,
   "metadata": {},
   "outputs": [],
   "source": [
    "# Median number of reads per BC\n",
    "cat 00.combined_raw/CHEQseq_5p_intron_names.txt | while read line\n",
    "do\n",
    "middle=$(($(cat 10.bc_count/${line}_final_clean_NEG.txt | wc -l)/2))\n",
    "echo ${line}\n",
    "awk '{print $NF}' 10.bc_count/${line}_final_clean_NEG.txt | sort -g | sed -n ${middle}p\n",
    "done"
   ]
  },
  {
   "cell_type": "code",
   "execution_count": null,
   "metadata": {},
   "outputs": [],
   "source": []
  }
 ],
 "metadata": {
  "kernelspec": {
   "display_name": "Bash 4.2.46",
   "language": "bash",
   "name": "bash4246"
  },
  "language_info": {
   "codemirror_mode": "shell",
   "file_extension": ".sh",
   "mimetype": "text/x-sh",
   "name": "bash"
  }
 },
 "nbformat": 4,
 "nbformat_minor": 4
}

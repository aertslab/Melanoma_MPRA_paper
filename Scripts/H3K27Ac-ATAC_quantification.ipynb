{
 "cells": [
  {
   "cell_type": "markdown",
   "metadata": {},
   "source": [
    "## H3K27Ac peak quantification for CHEQseq regions"
   ]
  },
  {
   "cell_type": "markdown",
   "metadata": {},
   "source": [
    "### Works on Thinking"
   ]
  },
  {
   "cell_type": "code",
   "execution_count": 1,
   "metadata": {},
   "outputs": [],
   "source": [
    "cd /staging/leuven/stg_00002/lcb/lcb_projects/CH1/H3K27Ac-ATAC_quantification"
   ]
  },
  {
   "cell_type": "markdown",
   "metadata": {},
   "source": [
    "### H3K27Ac for large enhancers"
   ]
  },
  {
   "cell_type": "code",
   "execution_count": 2,
   "metadata": {},
   "outputs": [],
   "source": [
    "module load Kent_tools/20190730-linux.x86_64\n",
    "\n",
    "for line in MM001 MM029 MM047 MM057 MM074 MM087 MM099\n",
    "do\n",
    "BED=/staging/leuven/stg_00002/lcb/lcb_projects/CH1/H3K27Ac-ATAC_quantification/H3K27Ac_regions_CHEQseq.bed\n",
    "Ac_bw=/staging/leuven/stg_00002/lcb/lminn/BigWigs_H3K27ac_MM/BIGWIGS/ChIP_H3K27ac_${line}.RIP_norm_1bpwindow.bw\n",
    "OUT_BED=H3K27Ac_${line}.bed\n",
    "\n",
    "bigWigAverageOverBed $Ac_bw $BED $OUT_BED\n",
    "done"
   ]
  },
  {
   "cell_type": "markdown",
   "metadata": {},
   "source": [
    "### ATAC for 500 bp enhancers"
   ]
  },
  {
   "cell_type": "code",
   "execution_count": 5,
   "metadata": {},
   "outputs": [],
   "source": [
    "module load Kent_tools/20190730-linux.x86_64\n",
    "\n",
    "for line in MM001 MM029 MM047 MM057 MM074 MM087 MM099\n",
    "do\n",
    "BED=/staging/leuven/stg_00002/lcb/dmauduit_HPC/CHEQseq_5p_Intron/CHEQseq_500bp/500bpMMseq.bed\n",
    "ATAC_bw=/staging/leuven/stg_00002/lcb/lminn/BigWigs_OmniATAC_MM/BIGWIGS/${line}_BL.RIP_norm_1bpwindow.bw\n",
    "OUT_BED=ATAC_${line}.bed\n",
    "\n",
    "bigWigAverageOverBed $ATAC_bw $BED $OUT_BED\n",
    "done"
   ]
  },
  {
   "cell_type": "markdown",
   "metadata": {},
   "source": [
    "### ATAC for large enhancers"
   ]
  },
  {
   "cell_type": "code",
   "execution_count": 8,
   "metadata": {},
   "outputs": [],
   "source": [
    "module load Kent_tools/20190730-linux.x86_64\n",
    "\n",
    "for line in MM001 MM029 MM047 MM057 MM074 MM087 MM099\n",
    "do\n",
    "BED=/staging/leuven/stg_00002/lcb/lcb_projects/CH1/H3K27Ac-ATAC_quantification/H3K27Ac_regions_CHEQseq.bed\n",
    "ATAC_bw=/staging/leuven/stg_00002/lcb/lminn/BigWigs_OmniATAC_MM/BIGWIGS/${line}_BL.RIP_norm_1bpwindow.bw\n",
    "OUT_BED=ATAC_long_${line}.bed\n",
    "\n",
    "bigWigAverageOverBed $ATAC_bw $BED $OUT_BED\n",
    "done"
   ]
  },
  {
   "cell_type": "markdown",
   "metadata": {},
   "source": [
    "## H3K27Ac for 500bp enhancers"
   ]
  },
  {
   "cell_type": "code",
   "execution_count": 9,
   "metadata": {},
   "outputs": [],
   "source": [
    "module load Kent_tools/20190730-linux.x86_64\n",
    "\n",
    "for line in MM001 MM029 MM047 MM057 MM074 MM087 MM099\n",
    "do\n",
    "BED=/staging/leuven/stg_00002/lcb/dmauduit_HPC/CHEQseq_5p_Intron/CHEQseq_500bp/500bpMMseq.bed\n",
    "Ac_bw=/staging/leuven/stg_00002/lcb/lminn/BigWigs_H3K27ac_MM/BIGWIGS/ChIP_H3K27ac_${line}.RIP_norm_1bpwindow.bw\n",
    "OUT_BED=H3K27Ac_500bp_${line}.bed\n",
    "\n",
    "bigWigAverageOverBed $Ac_bw $BED $OUT_BED\n",
    "done"
   ]
  },
  {
   "cell_type": "markdown",
   "metadata": {},
   "source": [
    "## Allelic copy number information"
   ]
  },
  {
   "cell_type": "code",
   "execution_count": 10,
   "metadata": {},
   "outputs": [],
   "source": [
    "module load BEDTools/2.28.0-foss-2018a\n",
    "\n",
    "for line in MM001 MM029 MM047 MM057 MM074 MM087 MM099\n",
    "do\n",
    "BED=/staging/leuven/stg_00002/lcb/lcb_projects/CH1/H3K27Ac-ATAC_quantification/H3K27Ac_regions_CHEQseq.bed\n",
    "ASCAT_CN=/staging/leuven/stg_00002/lcb/jdemeul/projects/2020_MM_ASCAV/results/ASCAT_CN/${line}/${line}.segments.bed\n",
    "OUT_BED=Copy_number_long_${line}.bed\n",
    "\n",
    "bedtools intersect -wb -a $BED -b $ASCAT_CN | awk '{ print $1 \"\\t\" $2 \"\\t\" $3 \"\\t\" $4 \"\\t\" $8 }' > $OUT_BED\n",
    "done"
   ]
  },
  {
   "cell_type": "code",
   "execution_count": 12,
   "metadata": {},
   "outputs": [],
   "source": [
    "module load BEDTools/2.28.0-foss-2018a\n",
    "\n",
    "for line in MM001 MM029 MM047 MM057 MM074 MM087 MM099\n",
    "do\n",
    "BED=/staging/leuven/stg_00002/lcb/dmauduit_HPC/CHEQseq_5p_Intron/CHEQseq_500bp/500bpMMseq.bed\n",
    "ASCAT_CN=/staging/leuven/stg_00002/lcb/jdemeul/projects/2020_MM_ASCAV/results/ASCAT_CN/${line}/${line}.segments.bed\n",
    "OUT_BED=Copy_number_500bp_${line}.bed\n",
    "\n",
    "bedtools intersect -wb -a $BED -b $ASCAT_CN | awk '{ print $1 \"\\t\" $2 \"\\t\" $3 \"\\t\" $4 \"\\t\" $8 }' > $OUT_BED\n",
    "done"
   ]
  },
  {
   "cell_type": "code",
   "execution_count": 14,
   "metadata": {},
   "outputs": [],
   "source": [
    "cd /staging/leuven/stg_00002/lcb/lcb_projects/CSE/ATAC_signal/"
   ]
  },
  {
   "cell_type": "code",
   "execution_count": 15,
   "metadata": {},
   "outputs": [
    {
     "name": "stdout",
     "output_type": "stream",
     "text": [
      "processing chromosomes...............\n",
      "processing chromosomes...............\n",
      "processing chromosomes...............\n",
      "processing chromosomes...............\n",
      "processing chromosomes...............\n",
      "processing chromosomes...............\n",
      "processing chromosomes...............\n"
     ]
    }
   ],
   "source": [
    "module load Kent_tools/20190730-linux.x86_64\n",
    "\n",
    "for line in MM001 MM029 MM047 MM057 MM074 MM087 MM099\n",
    "do\n",
    "BED=/staging/leuven/stg_00002/lcb/dmauduit_HPC/CHEQseq_synth/Tile_generation/final_tiles/david_tileA_final.bed\n",
    "ATAC_bw=/staging/leuven/stg_00002/lcb/lminn/BigWigs_OmniATAC_MM/BIGWIGS/${line}_BL.RIP_norm_1bpwindow.bw\n",
    "OUT_BED=ATAC_OLSA_${line}.bed\n",
    "\n",
    "bigWigAverageOverBed $ATAC_bw $BED $OUT_BED\n",
    "done"
   ]
  },
  {
   "cell_type": "code",
   "execution_count": 16,
   "metadata": {},
   "outputs": [
    {
     "name": "stdout",
     "output_type": "stream",
     "text": [
      "processing chromosomes...............\n",
      "processing chromosomes...............\n",
      "processing chromosomes...............\n",
      "processing chromosomes...............\n",
      "processing chromosomes...............\n",
      "processing chromosomes...............\n",
      "processing chromosomes...............\n"
     ]
    }
   ],
   "source": [
    "module load Kent_tools/20190730-linux.x86_64\n",
    "\n",
    "for line in MM001 MM029 MM047 MM057 MM074 MM087 MM099\n",
    "do\n",
    "BED=/staging/leuven/stg_00002/lcb/dmauduit_HPC/CHEQseq_synth/Tile_generation/final_tiles/david_tileB_final.bed\n",
    "ATAC_bw=/staging/leuven/stg_00002/lcb/lminn/BigWigs_OmniATAC_MM/BIGWIGS/${line}_BL.RIP_norm_1bpwindow.bw\n",
    "OUT_BED=ATAC_OLSB_${line}.bed\n",
    "\n",
    "bigWigAverageOverBed $ATAC_bw $BED $OUT_BED\n",
    "done"
   ]
  },
  {
   "cell_type": "code",
   "execution_count": 17,
   "metadata": {},
   "outputs": [],
   "source": [
    "module load BEDTools/2.28.0-foss-2018a\n",
    "\n",
    "for line in MM001 MM029 MM047 MM057 MM074 MM087 MM099\n",
    "do\n",
    "BED=/staging/leuven/stg_00002/lcb/dmauduit_HPC/CHEQseq_synth/Tile_generation/final_tiles/david_tileA_final.bed\n",
    "ASCAT_CN=/staging/leuven/stg_00002/lcb/jdemeul/projects/2020_MM_ASCAV/results/ASCAT_CN/${line}/${line}.segments.bed\n",
    "OUT_BED=Copy_number_OLSA-wt_${line}.bed\n",
    "\n",
    "bedtools intersect -wb -a $BED -b $ASCAT_CN | awk '{ print $1 \"\\t\" $2 \"\\t\" $3 \"\\t\" $4 \"\\t\" $8 }' > $OUT_BED\n",
    "done"
   ]
  },
  {
   "cell_type": "code",
   "execution_count": 18,
   "metadata": {},
   "outputs": [
    {
     "name": "stdout",
     "output_type": "stream",
     "text": [
      "chr2\t28497319\t28497509\tchr2:28497319-28497509@@FOSL2_1==wt\t3\n",
      "chr2\t28497339\t28497529\tchr2:28497339-28497529@@FOSL2_1==wt\t3\n",
      "chr2\t28497359\t28497549\tchr2:28497359-28497549@@FOSL2_1==wt\t3\n",
      "chr2\t28497379\t28497569\tchr2:28497379-28497569@@FOSL2_1==wt\t3\n",
      "chr2\t28497399\t28497589\tchr2:28497399-28497589@@FOSL2_1==wt\t3\n",
      "chr2\t28497419\t28497609\tchr2:28497419-28497609@@FOSL2_1==wt\t3\n",
      "chr2\t28497439\t28497629\tchr2:28497439-28497629@@FOSL2_1==wt\t3\n",
      "chr2\t28497459\t28497649\tchr2:28497459-28497649@@FOSL2_1==wt\t3\n",
      "chr2\t28497479\t28497669\tchr2:28497479-28497669@@FOSL2_1==wt\t3\n",
      "chr2\t28497499\t28497689\tchr2:28497499-28497689@@FOSL2_1==wt\t3\n"
     ]
    }
   ],
   "source": [
    "head Copy_number_OLSA-wt_MM001.bed"
   ]
  },
  {
   "cell_type": "code",
   "execution_count": 19,
   "metadata": {},
   "outputs": [],
   "source": [
    "module load BEDTools/2.28.0-foss-2018a\n",
    "\n",
    "for line in MM001 MM029 MM047 MM057 MM074 MM087 MM099\n",
    "do\n",
    "BED=/staging/leuven/stg_00002/lcb/dmauduit_HPC/CHEQseq_synth/Tile_generation/final_tiles/david_tileB_final.bed\n",
    "ASCAT_CN=/staging/leuven/stg_00002/lcb/jdemeul/projects/2020_MM_ASCAV/results/ASCAT_CN/${line}/${line}.segments.bed\n",
    "OUT_BED=Copy_number_OLSB-wt_${line}.bed\n",
    "\n",
    "bedtools intersect -wb -a $BED -b $ASCAT_CN | awk '{ print $1 \"\\t\" $2 \"\\t\" $3 \"\\t\" $4 \"\\t\" $8 }' > $OUT_BED\n",
    "done"
   ]
  },
  {
   "cell_type": "code",
   "execution_count": 20,
   "metadata": {},
   "outputs": [
    {
     "name": "stdout",
     "output_type": "stream",
     "text": [
      "chr2\t28497329\t28497519\tchr2:28497329-28497519@@FOSL2_1==wt\t3\n",
      "chr2\t28497349\t28497539\tchr2:28497349-28497539@@FOSL2_1==wt\t3\n",
      "chr2\t28497369\t28497559\tchr2:28497369-28497559@@FOSL2_1==wt\t3\n",
      "chr2\t28497389\t28497579\tchr2:28497389-28497579@@FOSL2_1==wt\t3\n",
      "chr2\t28497409\t28497599\tchr2:28497409-28497599@@FOSL2_1==wt\t3\n",
      "chr2\t28497429\t28497619\tchr2:28497429-28497619@@FOSL2_1==wt\t3\n",
      "chr2\t28497449\t28497639\tchr2:28497449-28497639@@FOSL2_1==wt\t3\n",
      "chr2\t28497469\t28497659\tchr2:28497469-28497659@@FOSL2_1==wt\t3\n",
      "chr2\t28497489\t28497679\tchr2:28497489-28497679@@FOSL2_1==wt\t3\n",
      "chr2\t28497509\t28497699\tchr2:28497509-28497699@@FOSL2_1==wt\t3\n"
     ]
    }
   ],
   "source": [
    "head Copy_number_OLSB-wt_MM001.bed"
   ]
  }
 ],
 "metadata": {
  "kernelspec": {
   "display_name": "Bash 4.2.46",
   "language": "bash",
   "name": "bash4246"
  },
  "language_info": {
   "codemirror_mode": "shell",
   "file_extension": ".sh",
   "mimetype": "text/x-sh",
   "name": "bash"
  }
 },
 "nbformat": 4,
 "nbformat_minor": 4
}

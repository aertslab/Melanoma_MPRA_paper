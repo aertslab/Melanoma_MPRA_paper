{
 "cells": [
  {
   "cell_type": "markdown",
   "metadata": {},
   "source": [
    "# PacBio run: Enhancer - BC coupling of CHEQ-seq Intron library\n",
    "- PacBio run on CHEQ-seq Intron library\n",
    "- Do enhancer=BC coupling specfically for this one\n",
    "- Read structure: FW-primer + Chimeric Intron + Enhancer + Chimeric Intron + Barcode + REV-Primer"
   ]
  },
  {
   "cell_type": "code",
   "execution_count": 1,
   "metadata": {},
   "outputs": [
    {
     "name": "stdout",
     "output_type": "stream",
     "text": [
      "/apps/leuven/skylake/2018a/software/Java/1.8.0_192:/apps/leuven/skylake/2018a/software/Java/1.8.0_192/bin:/apps/leuven/skylake/2018a/software/git/2.16.1-foss-2018a/bin:/apps/leuven/bin:/usr/local/bin:/usr/lpp/mmfs/bin:.:/usr/bin:/usr/sbin:/ddn1/vol1/staging/leuven/stg_00002/lcb/dwmax/software/genius/anaconda3/2019.03/bin:/ddn1/vol1/staging/leuven/stg_00002/lcb/dwmax/software/genius/git-flow/0.4.1/bin:/ddn1/vol1/staging/leuven/stg_00002/lcb/dwmax/software/genius/tree/1.8.0/bin:/ddn1/vol1/staging/leuven/stg_00002/lcb/dwmax/software/genius/nextflow/latest/bin:/staging/leuven/stg_00002/lcb/dwmax/software/genius/usr/bin:/apps/leuven/skylake/2018a/software/Perl/5.26.1-foss-2018a/bin:/apps/leuven/skylake/2018a/software/gettext/0.19.8.1-GCCcore-6.4.0-libxml2-2.9.7/bin:/apps/leuven/skylake/2018a/software/ncurses/6.0-GCCcore-6.4.0/bin:/apps/leuven/skylake/2018a/software/libxml2/2.9.7-GCCcore-6.4.0/bin:/apps/leuven/skylake/2018a/software/XZ/5.2.3-GCCcore-6.4.0/bin:/apps/leuven/skylake/2018a/software/expat/2.2.5-GCCcore-6.4.0/bin:/apps/leuven/skylake/2018a/software/cURL/7.58.0-GCCcore-6.4.0/bin:/apps/leuven/skylake/2018a/software/FFTW/3.3.7-gompi-2018a/bin:/apps/leuven/skylake/2018a/software/OpenBLAS/0.2.20-GCC-6.4.0-2.28/bin:/apps/leuven/skylake/2018a/software/OpenMPI/2.1.2-GCC-6.4.0-2.28/bin:/apps/leuven/skylake/2018a/software/hwloc/1.11.8-GCCcore-6.4.0/sbin:/apps/leuven/skylake/2018a/software/hwloc/1.11.8-GCCcore-6.4.0/bin:/apps/leuven/skylake/2018a/software/numactl/2.0.11-GCCcore-6.4.0/bin:/apps/leuven/skylake/2018a/software/binutils/2.28-GCCcore-6.4.0/bin:/apps/leuven/skylake/2018a/software/GCCcore/6.4.0/bin:/usr/lib64/qt-3.3/bin:/usr/local/sbin:/opt/ibutils/bin:/opt/puppetlabs/bin\n"
     ]
    }
   ],
   "source": [
    "echo $PATH"
   ]
  },
  {
   "cell_type": "code",
   "execution_count": 17,
   "metadata": {},
   "outputs": [],
   "source": [
    "cd data/2917_DMauduit_PacBio"
   ]
  },
  {
   "cell_type": "code",
   "execution_count": 15,
   "metadata": {},
   "outputs": [],
   "source": [
    "SAMPLE_NAME=\"intron_plasmid\""
   ]
  },
  {
   "cell_type": "markdown",
   "metadata": {},
   "source": [
    "## Extract reads\n",
    "- see 5pPlasmid Python notebook"
   ]
  },
  {
   "cell_type": "markdown",
   "metadata": {},
   "source": [
    "## Quality checking before cleaning\n",
    "- see 5pPlasmid Python notebook"
   ]
  },
  {
   "cell_type": "markdown",
   "metadata": {},
   "source": [
    "## Demutliplex\n",
    "- see 5pPlasmid Python notebook"
   ]
  },
  {
   "cell_type": "markdown",
   "metadata": {},
   "source": [
    "## Intron Plasmid"
   ]
  },
  {
   "cell_type": "markdown",
   "metadata": {},
   "source": [
    "### Separate forward from reverse reads"
   ]
  },
  {
   "cell_type": "code",
   "execution_count": 2,
   "metadata": {},
   "outputs": [],
   "source": [
    "# # Use the 5' flanking sequence of the barcode\n",
    "# _5p_flanking_seq_barcode=\"CACTCCCAGGTGGCGCGCCCTAG\"\n",
    "# rev_comp_5p_flanking_seq_barcode=$(echo \"CACTCCCAGGTGGCGCGCCCTAG\" | rev | tr \"ACGT\" \"TGCA\")"
   ]
  },
  {
   "cell_type": "code",
   "execution_count": 3,
   "metadata": {},
   "outputs": [],
   "source": [
    "# # Use the 3' flanking sequence of the barcode\n",
    "# _3p_flanking_seq_barcode=\"TGCAGGTCGCCTGCAGGCTTAAA\"\n",
    "# rev_comp_3p_flanking_seq_barcode=$(echo \"TGCAGGTCGCCTGCAGGCTTAAA\" | rev | tr \"ACGT\" \"TGCA\")"
   ]
  },
  {
   "cell_type": "code",
   "execution_count": 4,
   "metadata": {},
   "outputs": [],
   "source": [
    "# echo $rev_comp_3p_flanking_seq_barcode"
   ]
  },
  {
   "cell_type": "code",
   "execution_count": 5,
   "metadata": {},
   "outputs": [],
   "source": [
    "# cd data/2917_DMauduit_PacBio\n",
    "# ls"
   ]
  },
  {
   "cell_type": "code",
   "execution_count": 6,
   "metadata": {},
   "outputs": [],
   "source": [
    "# cutadapt \\\n",
    "#    -g forward=$_5p_flanking_seq_barcode \\\n",
    "#    -a reverse=$rev_comp_5p_flanking_seq_barcode \\\n",
    "#    --no-trim \\\n",
    "#    -o 03.demux/pacbio_3passes_intron_plasmid_{name}.fastq.gz \\\n",
    "#    03.demux/pacbio_3passes_plasmid_unknown.fastq.gz"
   ]
  },
  {
   "cell_type": "code",
   "execution_count": 7,
   "metadata": {},
   "outputs": [],
   "source": [
    "# # Number of forward reads\n",
    "# _3passes_nb_IP_forward_reads=$((`zcat 03.demux/pacbio_3passes_intron_plasmid_forward.fastq.gz | wc -l`/4))\n",
    "# echo $_3passes_nb_IP_forward_reads\n",
    "# # Number of reads for Intron Plasmid\n",
    "# _3passes_nb_IP_reverse_reads=$((`zcat 03.demux/pacbio_3passes_intron_plasmid_reverse.fastq.gz | wc -l`/4))\n",
    "# echo $_3passes_nb_IP_reverse_reads"
   ]
  },
  {
   "cell_type": "markdown",
   "metadata": {},
   "source": [
    "### Check for double 5pFS barcode"
   ]
  },
  {
   "cell_type": "code",
   "execution_count": 8,
   "metadata": {},
   "outputs": [],
   "source": [
    "# # Forward reads\n",
    "# cutadapt \\\n",
    "#    -b $rev_comp_5p_flanking_seq_barcode \\\n",
    "#    --discard-trimmed \\\n",
    "#    -o 03.demux/pacbio_3passes_intron_plasmid_forward_cleaned.fastq.gz \\\n",
    "#    03.demux/pacbio_3passes_intron_plasmid_forward.fastq.gz"
   ]
  },
  {
   "cell_type": "code",
   "execution_count": 9,
   "metadata": {},
   "outputs": [],
   "source": [
    "# # Reverse reads\n",
    "# cutadapt \\\n",
    "#    -b $_5p_flanking_seq_barcode \\\n",
    "#    --discard-trimmed \\\n",
    "#    -o 03.demux/pacbio_3passes_intron_plasmid_reverse_cleaned.fastq.gz \\\n",
    "#    03.demux/pacbio_3passes_intron_plasmid_reverse.fastq.gz"
   ]
  },
  {
   "cell_type": "markdown",
   "metadata": {},
   "source": [
    "### Combine forward and reverse reads"
   ]
  },
  {
   "cell_type": "code",
   "execution_count": 10,
   "metadata": {},
   "outputs": [],
   "source": [
    "# echo $((`zcat 03.demux/pacbio_3passes_intron_plasmid_forward_cleaned.fastq.gz | wc -l`/4))\n",
    "# echo $((`zcat 03.demux/pacbio_3passes_intron_plasmid_reverse_cleaned.fastq.gz | wc -l`/4))"
   ]
  },
  {
   "cell_type": "code",
   "execution_count": 11,
   "metadata": {},
   "outputs": [],
   "source": [
    "# # Reverse complement correct reverse reads\n",
    "# ## For quality coding: It assumes Illumina (ASCII offset 64), but you have Sanger (offset 33), hence -Q33\n",
    "# # seqtk has by default has 33 encoding (-Q33)\n",
    "# module load seqtk/2015-03-25-foss-2014a\n",
    "# cat 03.demux/pacbio_3passes_intron_plasmid_forward_cleaned.fastq.gz \\\n",
    "#    <(seqtk seq -r 03.demux/pacbio_3passes_intron_plasmid_reverse_cleaned.fastq.gz | gzip) \\\n",
    "#    > 03.demux/pacbio_3passes_intron_plasmid_forward_cleaned_combined.fastq.gz"
   ]
  },
  {
   "cell_type": "code",
   "execution_count": 12,
   "metadata": {},
   "outputs": [],
   "source": [
    "# # Number of combined reads\n",
    "# echo $((`zcat 03.demux/pacbio_3passes_intron_plasmid_forward_cleaned_combined.fastq.gz | wc -l`/4))"
   ]
  },
  {
   "cell_type": "markdown",
   "metadata": {},
   "source": [
    "### Filter empty vector [NEW - March 2020]"
   ]
  },
  {
   "cell_type": "markdown",
   "metadata": {},
   "source": [
    "Pour le Intron c’est la sequence au milieu de laquelle l’enhancer est inséré:\n",
    "\n",
    "w/o enhancer: TGAGGTGTGGCAGGCTTGAGATCTGGCCATACACTTGAGT"
   ]
  },
  {
   "cell_type": "code",
   "execution_count": 18,
   "metadata": {
    "collapsed": true,
    "jupyter": {
     "outputs_hidden": true
    }
   },
   "outputs": [
    {
     "name": "stdout",
     "output_type": "stream",
     "text": [
      "This is cutadapt 1.18 with Python 3.6.8\n",
      "Command line parameters: --action=none -a TGAGGTGTGGCAGGCTTGAGATCTGGCCATACACTTGAGT --output 031.demux/pacbio_3passes_intron_plasmid_cleaned_combined_empty_vectors.fastq.gz --untrimmed-output 031.demux/pacbio_3passes_intron_plasmid_cleaned_combined_filled_vectors.fastq.gz 03.demux/pacbio_3passes_intron_plasmid_forward_cleaned_combined.fastq.gz\n",
      "Processing reads on 1 core in single-end mode ...\n",
      "Finished in 33.06 s (371 us/read; 0.16 M reads/minute).\n",
      "\n",
      "=== Summary ===\n",
      "\n",
      "Total reads processed:                  89,056\n",
      "Reads with adapters:                     1,098 (1.2%)\n",
      "Reads written (passing filters):         1,098 (1.2%)\n",
      "\n",
      "Total basepairs processed:   177,289,751 bp\n",
      "Total written (filtered):      2,223,432 bp (1.3%)\n",
      "\n",
      "=== Adapter 1 ===\n",
      "\n",
      "Sequence: TGAGGTGTGGCAGGCTTGAGATCTGGCCATACACTTGAGT; Type: regular 3'; Length: 40; Trimmed: 1098 times.\n",
      "\n",
      "No. of allowed errors:\n",
      "0-9 bp: 0; 10-19 bp: 1; 20-29 bp: 2; 30-39 bp: 3; 40 bp: 4\n",
      "\n",
      "Bases preceding removed adapters:\n",
      "  A: 0.6%\n",
      "  C: 7.7%\n",
      "  G: 1.5%\n",
      "  T: 90.2%\n",
      "  none/other: 0.0%\n",
      "WARNING:\n",
      "    The adapter is preceded by \"T\" extremely often.\n",
      "    The provided adapter sequence could be incomplete at its 3' end.\n",
      "\n",
      "Overview of removed sequences\n",
      "length\tcount\texpect\tmax.err\terror counts\n",
      "3\t72\t1391.5\t0\t72\n",
      "4\t13\t347.9\t0\t13\n",
      "5\t3\t87.0\t0\t3\n",
      "6\t1\t21.7\t0\t1\n",
      "129\t1\t0.0\t4\t1\n",
      "155\t1\t0.0\t4\t0 0 0 1\n",
      "156\t3\t0.0\t4\t2 0 1\n",
      "158\t1\t0.0\t4\t0 1\n",
      "162\t1\t0.0\t4\t0 0 0 1\n",
      "164\t1\t0.0\t4\t0 0 0 0 1\n",
      "166\t1\t0.0\t4\t1\n",
      "172\t1\t0.0\t4\t1\n",
      "173\t1\t0.0\t4\t0 0 1\n",
      "175\t4\t0.0\t4\t2 0 1 1\n",
      "176\t6\t0.0\t4\t1 1 1 1 2\n",
      "177\t15\t0.0\t4\t5 3 3 1 3\n",
      "178\t13\t0.0\t4\t7 4 1 1\n",
      "179\t49\t0.0\t4\t36 8 2 2 1\n",
      "180\t165\t0.0\t4\t145 16 1 2 1\n",
      "181\t603\t0.0\t4\t590 7 3 3\n",
      "182\t54\t0.0\t4\t44 6 3 0 1\n",
      "183\t21\t0.0\t4\t14 5 2\n",
      "184\t15\t0.0\t4\t7 3 3 2\n",
      "185\t9\t0.0\t4\t3 5 1\n",
      "186\t2\t0.0\t4\t1 1\n",
      "187\t1\t0.0\t4\t0 1\n",
      "188\t2\t0.0\t4\t1 1\n",
      "189\t1\t0.0\t4\t0 1\n",
      "190\t1\t0.0\t4\t0 0 1\n",
      "191\t1\t0.0\t4\t1\n",
      "214\t1\t0.0\t4\t0 0 0 0 1\n",
      "236\t1\t0.0\t4\t1\n",
      "703\t1\t0.0\t4\t0 1\n",
      "1464\t1\t0.0\t4\t0 1\n",
      "1466\t1\t0.0\t4\t0 1\n",
      "1468\t1\t0.0\t4\t0 1\n",
      "1471\t1\t0.0\t4\t0 1\n",
      "1585\t1\t0.0\t4\t1\n",
      "1591\t2\t0.0\t4\t2\n",
      "1592\t1\t0.0\t4\t1\n",
      "1593\t1\t0.0\t4\t1\n",
      "1601\t1\t0.0\t4\t0 0 1\n",
      "1807\t1\t0.0\t4\t0 1\n",
      "1812\t1\t0.0\t4\t0 1\n",
      "1821\t1\t0.0\t4\t0 0 1\n",
      "1825\t1\t0.0\t4\t0 1\n",
      "1927\t1\t0.0\t4\t0 1\n",
      "2058\t1\t0.0\t4\t0 1\n",
      "2059\t2\t0.0\t4\t0 2\n",
      "2071\t1\t0.0\t4\t0 1\n",
      "2147\t1\t0.0\t4\t0 1\n",
      "2203\t1\t0.0\t4\t1\n",
      "2219\t1\t0.0\t4\t1\n",
      "2341\t1\t0.0\t4\t1\n",
      "2364\t1\t0.0\t4\t0 1\n",
      "2413\t1\t0.0\t4\t1\n",
      "2449\t1\t0.0\t4\t1\n",
      "2465\t1\t0.0\t4\t1\n",
      "2567\t1\t0.0\t4\t1\n",
      "2605\t1\t0.0\t4\t0 1\n",
      "2650\t1\t0.0\t4\t0 1\n",
      "2652\t1\t0.0\t4\t1\n",
      "2796\t1\t0.0\t4\t1\n",
      "2840\t1\t0.0\t4\t1\n",
      "\n",
      "WARNING:\n",
      "    One or more of your adapter sequences may be incomplete.\n",
      "    Please see the detailed output above.\n"
     ]
    }
   ],
   "source": [
    "# cutadapt multi-threading only supported for -o only \n",
    "# https://github.com/marcelm/cutadapt/blob/master/doc/guide.rst\n",
    "#    --action=none \\\n",
    "cutadapt \\\n",
    "   --action=none \\\n",
    "   -a TGAGGTGTGGCAGGCTTGAGATCTGGCCATACACTTGAGT \\\n",
    "   --output 031.demux/pacbio_3passes_${SAMPLE_NAME}_cleaned_combined_empty_vectors.fastq.gz \\\n",
    "   --untrimmed-output 031.demux/pacbio_3passes_${SAMPLE_NAME}_cleaned_combined_filled_vectors.fastq.gz \\\n",
    "   03.demux/pacbio_3passes_${SAMPLE_NAME}_forward_cleaned_combined.fastq.gz"
   ]
  },
  {
   "cell_type": "code",
   "execution_count": 19,
   "metadata": {},
   "outputs": [
    {
     "name": "stdout",
     "output_type": "stream",
     "text": [
      "88463\n",
      "1108\n"
     ]
    }
   ],
   "source": [
    "zcat 031.demux/pacbio_3passes_${SAMPLE_NAME}_cleaned_combined_filled_vectors.fastq.gz | grep \"^@\" | wc -l\n",
    "zcat 031.demux/pacbio_3passes_${SAMPLE_NAME}_cleaned_combined_empty_vectors.fastq.gz | grep \"^@\" | wc -l"
   ]
  },
  {
   "cell_type": "code",
   "execution_count": 42,
   "metadata": {
    "collapsed": true,
    "jupyter": {
     "outputs_hidden": true
    }
   },
   "outputs": [
    {
     "name": "stdout",
     "output_type": "stream",
     "text": [
      "This is cutadapt 1.18 with Python 3.6.8\n",
      "Command line parameters: -g CACTCCCAGGTGGCGCGCCCTAG -a TGCAGGTCGCCTGCAGGCTTAAA -n 5 -m18 -M18 --trimmed-only -o 031.demux/pacbio_3passes_intron_plasmid_cleaned_combined_empty_vectors_barcodes.fastq.gz 031.demux/pacbio_3passes_intron_plasmid_cleaned_combined_empty_vectors.fastq.gz\n",
      "Processing reads on 1 core in single-end mode ...\n",
      "Finished in 0.19 s (173 us/read; 0.35 M reads/minute).\n",
      "\n",
      "=== Summary ===\n",
      "\n",
      "Total reads processed:                   1,098\n",
      "Reads with adapters:                     1,098 (100.0%)\n",
      "Reads that were too short:                  93 (8.5%)\n",
      "Reads that were too long:                   87 (7.9%)\n",
      "Reads written (passing filters):           918 (83.6%)\n",
      "\n",
      "Total basepairs processed:     2,223,432 bp\n",
      "Total written (filtered):         16,524 bp (0.7%)\n",
      "\n",
      "=== Adapter 1 ===\n",
      "\n",
      "Sequence: TGCAGGTCGCCTGCAGGCTTAAA; Type: regular 3'; Length: 23; Trimmed: 1087 times.\n",
      "\n",
      "No. of allowed errors:\n",
      "0-9 bp: 0; 10-19 bp: 1; 20-23 bp: 2\n",
      "\n",
      "Bases preceding removed adapters:\n",
      "  A: 26.2%\n",
      "  C: 1.4%\n",
      "  G: 41.8%\n",
      "  T: 30.6%\n",
      "  none/other: 0.0%\n",
      "\n",
      "Overview of removed sequences\n",
      "length\tcount\texpect\tmax.err\terror counts\n",
      "3\t1\t17.2\t0\t1\n",
      "4\t1\t4.3\t0\t1\n",
      "9\t1\t0.0\t0\t0 1\n",
      "43\t2\t0.0\t2\t1 1\n",
      "44\t4\t0.0\t2\t4\n",
      "45\t2\t0.0\t2\t2\n",
      "53\t1\t0.0\t2\t1\n",
      "56\t2\t0.0\t2\t2\n",
      "57\t8\t0.0\t2\t4 3 1\n",
      "58\t15\t0.0\t2\t7 7 1\n",
      "59\t46\t0.0\t2\t26 18 2\n",
      "60\t150\t0.0\t2\t123 25 2\n",
      "61\t763\t0.0\t2\t739 19 5\n",
      "62\t54\t0.0\t2\t39 15\n",
      "63\t11\t0.0\t2\t4 4 3\n",
      "64\t12\t0.0\t2\t5 4 3\n",
      "65\t2\t0.0\t2\t1 0 1\n",
      "66\t1\t0.0\t2\t1\n",
      "69\t1\t0.0\t2\t0 1\n",
      "71\t1\t0.0\t2\t1\n",
      "116\t1\t0.0\t2\t1\n",
      "246\t1\t0.0\t2\t0 1\n",
      "377\t1\t0.0\t2\t1\n",
      "584\t1\t0.0\t2\t1\n",
      "1399\t1\t0.0\t2\t1\n",
      "2113\t1\t0.0\t2\t1\n",
      "2221\t1\t0.0\t2\t1\n",
      "2444\t1\t0.0\t2\t1\n",
      "2678\t1\t0.0\t2\t1\n",
      "\n",
      "=== Adapter 2 ===\n",
      "\n",
      "Sequence: CACTCCCAGGTGGCGCGCCCTAG; Type: regular 5'; Length: 23; Trimmed: 1124 times.\n",
      "\n",
      "No. of allowed errors:\n",
      "0-9 bp: 0; 10-19 bp: 1; 20-23 bp: 2\n",
      "\n",
      "Overview of removed sequences\n",
      "length\tcount\texpect\tmax.err\terror counts\n",
      "3\t17\t17.2\t0\t17\n",
      "4\t6\t4.3\t0\t6\n",
      "5\t2\t1.1\t0\t2\n",
      "7\t1\t0.1\t0\t1\n",
      "161\t1\t0.0\t2\t1\n",
      "162\t1\t0.0\t2\t1\n",
      "164\t7\t0.0\t2\t5 2\n",
      "165\t4\t0.0\t2\t4\n",
      "167\t1\t0.0\t2\t1\n",
      "312\t1\t0.0\t2\t1\n",
      "554\t1\t0.0\t2\t1\n",
      "608\t1\t0.0\t2\t1\n",
      "620\t1\t0.0\t2\t0 1\n",
      "664\t1\t0.0\t2\t1\n",
      "704\t1\t0.0\t2\t1\n",
      "773\t1\t0.0\t2\t1\n",
      "800\t1\t0.0\t2\t1\n",
      "840\t1\t0.0\t2\t1\n",
      "963\t1\t0.0\t2\t1\n",
      "1066\t1\t0.0\t2\t1\n",
      "1202\t1\t0.0\t2\t1\n",
      "1207\t1\t0.0\t2\t0 1\n",
      "1230\t1\t0.0\t2\t1\n",
      "1251\t1\t0.0\t2\t1\n",
      "1332\t1\t0.0\t2\t0 1\n",
      "1336\t1\t0.0\t2\t1\n",
      "1340\t1\t0.0\t2\t0 0 1\n",
      "1345\t1\t0.0\t2\t0 1\n",
      "1360\t1\t0.0\t2\t1\n",
      "1362\t5\t0.0\t2\t4 1\n",
      "1363\t7\t0.0\t2\t6 1\n",
      "1364\t1\t0.0\t2\t1\n",
      "1365\t1\t0.0\t2\t0 1\n",
      "1372\t1\t0.0\t2\t1\n",
      "1382\t1\t0.0\t2\t0 1\n",
      "1386\t1\t0.0\t2\t1\n",
      "1397\t1\t0.0\t2\t1\n",
      "1404\t1\t0.0\t2\t1\n",
      "1409\t2\t0.0\t2\t1 0 1\n",
      "1410\t2\t0.0\t2\t2\n",
      "1411\t1\t0.0\t2\t1\n",
      "1412\t2\t0.0\t2\t2\n",
      "1414\t1\t0.0\t2\t1\n",
      "1415\t1\t0.0\t2\t0 1\n",
      "1420\t1\t0.0\t2\t1\n",
      "1422\t1\t0.0\t2\t1\n",
      "1424\t1\t0.0\t2\t0 1\n",
      "1426\t2\t0.0\t2\t1 0 1\n",
      "1428\t1\t0.0\t2\t1\n",
      "1429\t1\t0.0\t2\t0 1\n",
      "1431\t4\t0.0\t2\t4\n",
      "1432\t4\t0.0\t2\t4\n",
      "1433\t2\t0.0\t2\t1 1\n",
      "1434\t2\t0.0\t2\t1 1\n",
      "1435\t7\t0.0\t2\t5 1 1\n",
      "1436\t9\t0.0\t2\t9\n",
      "1437\t3\t0.0\t2\t3\n",
      "1438\t2\t0.0\t2\t2\n",
      "1439\t3\t0.0\t2\t3\n",
      "1440\t1\t0.0\t2\t0 1\n",
      "1441\t2\t0.0\t2\t2\n",
      "1442\t3\t0.0\t2\t3\n",
      "1443\t3\t0.0\t2\t2 1\n",
      "1445\t4\t0.0\t2\t4\n",
      "1446\t6\t0.0\t2\t5 1\n",
      "1447\t9\t0.0\t2\t7 2\n",
      "1448\t9\t0.0\t2\t8 1\n",
      "1449\t14\t0.0\t2\t13 1\n",
      "1450\t7\t0.0\t2\t6 1\n",
      "1451\t6\t0.0\t2\t6\n",
      "1452\t1\t0.0\t2\t1\n",
      "1453\t5\t0.0\t2\t5\n",
      "1454\t2\t0.0\t2\t2\n",
      "1455\t2\t0.0\t2\t2\n",
      "1456\t1\t0.0\t2\t1\n",
      "1457\t2\t0.0\t2\t1 0 1\n",
      "1458\t1\t0.0\t2\t1\n",
      "1459\t1\t0.0\t2\t1\n",
      "1460\t1\t0.0\t2\t1\n",
      "1463\t1\t0.0\t2\t0 1\n",
      "1465\t1\t0.0\t2\t0 0 1\n",
      "1467\t1\t0.0\t2\t1\n",
      "1468\t1\t0.0\t2\t0 1\n",
      "1469\t1\t0.0\t2\t1\n",
      "1470\t1\t0.0\t2\t0 1\n",
      "1472\t1\t0.0\t2\t1\n",
      "1473\t1\t0.0\t2\t1\n",
      "1475\t1\t0.0\t2\t1\n",
      "1476\t1\t0.0\t2\t1\n",
      "1480\t2\t0.0\t2\t1 1\n",
      "1488\t1\t0.0\t2\t0 1\n",
      "1489\t1\t0.0\t2\t0 1\n",
      "1490\t1\t0.0\t2\t0 0 1\n",
      "1491\t1\t0.0\t2\t1\n",
      "1492\t1\t0.0\t2\t1\n",
      "1494\t2\t0.0\t2\t0 2\n",
      "1496\t1\t0.0\t2\t0 1\n",
      "1497\t1\t0.0\t2\t0 1\n",
      "1498\t2\t0.0\t2\t2\n",
      "1499\t5\t0.0\t2\t5\n",
      "1500\t3\t0.0\t2\t3\n",
      "1501\t5\t0.0\t2\t5\n",
      "1502\t5\t0.0\t2\t5\n",
      "1503\t6\t0.0\t2\t6\n",
      "1504\t3\t0.0\t2\t2 1\n",
      "1505\t1\t0.0\t2\t1\n",
      "1506\t3\t0.0\t2\t3\n",
      "1507\t3\t0.0\t2\t3\n",
      "1508\t3\t0.0\t2\t2 0 1\n",
      "1509\t1\t0.0\t2\t1\n",
      "1510\t2\t0.0\t2\t2\n",
      "1511\t1\t0.0\t2\t1\n",
      "1512\t3\t0.0\t2\t2 1\n",
      "1513\t1\t0.0\t2\t1\n",
      "1521\t1\t0.0\t2\t0 1\n",
      "1528\t1\t0.0\t2\t0 1\n",
      "1540\t2\t0.0\t2\t2\n",
      "1542\t1\t0.0\t2\t1\n",
      "1543\t1\t0.0\t2\t1\n",
      "1545\t3\t0.0\t2\t3\n",
      "1546\t1\t0.0\t2\t1\n",
      "1547\t1\t0.0\t2\t1\n",
      "1581\t1\t0.0\t2\t1\n",
      "1583\t1\t0.0\t2\t1\n",
      "1602\t2\t0.0\t2\t2\n",
      "1603\t2\t0.0\t2\t2\n",
      "1604\t1\t0.0\t2\t1\n",
      "1610\t1\t0.0\t2\t1\n",
      "1617\t1\t0.0\t2\t1\n",
      "1621\t1\t0.0\t2\t0 1\n",
      "1622\t1\t0.0\t2\t1\n",
      "1631\t1\t0.0\t2\t0 0 1\n",
      "1633\t1\t0.0\t2\t1\n",
      "1634\t2\t0.0\t2\t1 1\n",
      "1635\t1\t0.0\t2\t1\n",
      "1638\t1\t0.0\t2\t1\n",
      "1640\t4\t0.0\t2\t3 1\n",
      "1642\t7\t0.0\t2\t7\n",
      "1643\t17\t0.0\t2\t17\n",
      "1644\t1\t0.0\t2\t1\n",
      "1645\t1\t0.0\t2\t0 0 1\n",
      "1646\t1\t0.0\t2\t1\n",
      "1650\t1\t0.0\t2\t1\n",
      "1651\t2\t0.0\t2\t2\n",
      "1652\t1\t0.0\t2\t1\n",
      "1653\t3\t0.0\t2\t3\n",
      "1654\t5\t0.0\t2\t5\n",
      "1655\t9\t0.0\t2\t9\n",
      "1656\t17\t0.0\t2\t17\n",
      "1657\t4\t0.0\t2\t3 1\n",
      "1658\t2\t0.0\t2\t2\n",
      "1659\t1\t0.0\t2\t1\n",
      "1661\t2\t0.0\t2\t0 0 2\n",
      "1663\t1\t0.0\t2\t1\n",
      "1664\t2\t0.0\t2\t1 1\n",
      "1669\t1\t0.0\t2\t1\n",
      "1671\t1\t0.0\t2\t1\n",
      "1672\t2\t0.0\t2\t2\n",
      "1676\t1\t0.0\t2\t1\n",
      "1678\t1\t0.0\t2\t1\n",
      "1684\t1\t0.0\t2\t1\n",
      "1694\t1\t0.0\t2\t1\n",
      "1706\t1\t0.0\t2\t1\n",
      "1707\t2\t0.0\t2\t2\n",
      "1708\t2\t0.0\t2\t2\n",
      "1709\t1\t0.0\t2\t1\n",
      "1710\t2\t0.0\t2\t2\n",
      "1711\t3\t0.0\t2\t2 1\n",
      "1712\t2\t0.0\t2\t2\n",
      "1718\t1\t0.0\t2\t1\n",
      "1719\t1\t0.0\t2\t1\n",
      "1723\t2\t0.0\t2\t1 0 1\n",
      "1727\t1\t0.0\t2\t1\n",
      "1734\t1\t0.0\t2\t1\n",
      "1745\t1\t0.0\t2\t1\n",
      "1746\t1\t0.0\t2\t0 0 1\n",
      "1751\t1\t0.0\t2\t1\n",
      "1758\t2\t0.0\t2\t2\n",
      "1760\t2\t0.0\t2\t1 1\n",
      "1762\t2\t0.0\t2\t2\n",
      "1763\t2\t0.0\t2\t2\n",
      "1765\t1\t0.0\t2\t1\n",
      "1766\t1\t0.0\t2\t1\n",
      "1767\t6\t0.0\t2\t6\n",
      "1768\t9\t0.0\t2\t9\n",
      "1769\t17\t0.0\t2\t17\n",
      "1770\t1\t0.0\t2\t1\n",
      "1772\t1\t0.0\t2\t1\n",
      "1774\t1\t0.0\t2\t0 1\n",
      "1779\t1\t0.0\t2\t1\n",
      "1781\t1\t0.0\t2\t1\n",
      "1786\t1\t0.0\t2\t1\n",
      "1787\t2\t0.0\t2\t2\n",
      "1788\t1\t0.0\t2\t1\n",
      "1789\t2\t0.0\t2\t2\n",
      "1791\t2\t0.0\t2\t2\n",
      "1792\t4\t0.0\t2\t4\n",
      "1793\t1\t0.0\t2\t1\n",
      "1794\t6\t0.0\t2\t6\n",
      "1795\t2\t0.0\t2\t2\n",
      "1796\t4\t0.0\t2\t4\n",
      "1797\t6\t0.0\t2\t6\n",
      "1798\t7\t0.0\t2\t6 1\n",
      "1799\t6\t0.0\t2\t6\n",
      "1800\t14\t0.0\t2\t13 1\n",
      "1801\t10\t0.0\t2\t10\n",
      "1802\t1\t0.0\t2\t1\n",
      "1803\t3\t0.0\t2\t3\n",
      "1805\t3\t0.0\t2\t3\n",
      "1806\t1\t0.0\t2\t1\n",
      "1807\t1\t0.0\t2\t1\n",
      "1808\t2\t0.0\t2\t1 1\n",
      "1809\t1\t0.0\t2\t1\n",
      "1820\t1\t0.0\t2\t1\n",
      "1825\t1\t0.0\t2\t0 1\n",
      "1831\t1\t0.0\t2\t1\n",
      "1832\t1\t0.0\t2\t1\n",
      "1833\t1\t0.0\t2\t0 1\n",
      "1835\t1\t0.0\t2\t0 1\n",
      "1836\t1\t0.0\t2\t1\n",
      "1839\t1\t0.0\t2\t1\n",
      "1841\t1\t0.0\t2\t0 0 1\n",
      "1842\t1\t0.0\t2\t1\n",
      "1843\t1\t0.0\t2\t1\n",
      "1858\t1\t0.0\t2\t1\n",
      "1876\t1\t0.0\t2\t1\n",
      "1877\t1\t0.0\t2\t1\n",
      "1878\t1\t0.0\t2\t1\n",
      "1880\t2\t0.0\t2\t2\n",
      "1881\t2\t0.0\t2\t2\n",
      "1884\t1\t0.0\t2\t1\n",
      "1885\t2\t0.0\t2\t2\n",
      "1886\t1\t0.0\t2\t1\n",
      "1888\t1\t0.0\t2\t1\n",
      "1889\t1\t0.0\t2\t1\n",
      "1890\t1\t0.0\t2\t0 1\n",
      "1891\t2\t0.0\t2\t2\n",
      "1894\t1\t0.0\t2\t1\n",
      "1896\t1\t0.0\t2\t1\n",
      "1903\t1\t0.0\t2\t0 1\n",
      "1905\t1\t0.0\t2\t1\n",
      "1906\t1\t0.0\t2\t1\n",
      "1907\t2\t0.0\t2\t2\n",
      "1909\t2\t0.0\t2\t2\n",
      "1910\t2\t0.0\t2\t2\n",
      "1911\t2\t0.0\t2\t2\n",
      "1912\t1\t0.0\t2\t1\n",
      "1913\t4\t0.0\t2\t4\n",
      "1914\t1\t0.0\t2\t1\n",
      "1915\t1\t0.0\t2\t1\n",
      "1916\t1\t0.0\t2\t1\n",
      "1918\t3\t0.0\t2\t2 1\n",
      "1919\t2\t0.0\t2\t1 1\n",
      "1920\t3\t0.0\t2\t3\n",
      "1921\t5\t0.0\t2\t5\n",
      "1922\t4\t0.0\t2\t4\n",
      "1923\t1\t0.0\t2\t1\n",
      "1926\t1\t0.0\t2\t1\n",
      "1934\t1\t0.0\t2\t0 0 1\n",
      "1939\t1\t0.0\t2\t1\n",
      "1940\t1\t0.0\t2\t1\n",
      "1943\t1\t0.0\t2\t1\n",
      "1944\t2\t0.0\t2\t1 1\n",
      "1945\t3\t0.0\t2\t3\n",
      "1946\t4\t0.0\t2\t3 1\n",
      "1947\t4\t0.0\t2\t2 2\n",
      "1948\t1\t0.0\t2\t1\n",
      "1957\t1\t0.0\t2\t0 1\n",
      "1967\t1\t0.0\t2\t0 1\n",
      "1976\t1\t0.0\t2\t1\n",
      "1981\t1\t0.0\t2\t1\n",
      "1985\t1\t0.0\t2\t1\n",
      "1986\t1\t0.0\t2\t1\n",
      "1987\t2\t0.0\t2\t2\n",
      "1989\t1\t0.0\t2\t1\n",
      "1991\t3\t0.0\t2\t3\n",
      "1992\t2\t0.0\t2\t2\n",
      "1993\t5\t0.0\t2\t4 1\n",
      "1994\t2\t0.0\t2\t2\n",
      "1999\t1\t0.0\t2\t1\n",
      "2001\t1\t0.0\t2\t1\n",
      "2009\t1\t0.0\t2\t1\n",
      "2015\t1\t0.0\t2\t0 1\n",
      "2018\t1\t0.0\t2\t1\n",
      "2022\t1\t0.0\t2\t1\n",
      "2032\t2\t0.0\t2\t0 2\n",
      "2034\t2\t0.0\t2\t2\n",
      "2035\t3\t0.0\t2\t3\n",
      "2036\t2\t0.0\t2\t2\n",
      "2038\t3\t0.0\t2\t2 1\n",
      "2040\t4\t0.0\t2\t4\n",
      "2041\t3\t0.0\t2\t3\n",
      "2042\t10\t0.0\t2\t10\n",
      "2043\t5\t0.0\t2\t5\n",
      "2044\t4\t0.0\t2\t3 1\n",
      "2045\t3\t0.0\t2\t3\n",
      "2046\t2\t0.0\t2\t2\n",
      "2049\t1\t0.0\t2\t1\n",
      "2050\t1\t0.0\t2\t1\n",
      "2052\t1\t0.0\t2\t0 1\n",
      "2056\t1\t0.0\t2\t0 0 1\n",
      "2068\t1\t0.0\t2\t0 1\n",
      "2085\t1\t0.0\t2\t0 1\n",
      "2088\t2\t0.0\t2\t1 1\n",
      "2097\t1\t0.0\t2\t0 0 1\n",
      "2100\t3\t0.0\t2\t2 1\n",
      "2107\t1\t0.0\t2\t1\n",
      "2111\t1\t0.0\t2\t1\n",
      "2117\t1\t0.0\t2\t1\n",
      "2120\t1\t0.0\t2\t0 1\n",
      "2121\t1\t0.0\t2\t1\n",
      "2122\t3\t0.0\t2\t2 1\n",
      "2123\t1\t0.0\t2\t1\n",
      "2124\t8\t0.0\t2\t8\n",
      "2125\t3\t0.0\t2\t3\n",
      "2126\t7\t0.0\t2\t6 1\n",
      "2127\t7\t0.0\t2\t6 1\n",
      "2128\t3\t0.0\t2\t3\n",
      "2129\t4\t0.0\t2\t3 1\n",
      "2130\t4\t0.0\t2\t3 1\n",
      "2131\t11\t0.0\t2\t10 1\n",
      "2132\t7\t0.0\t2\t6 1\n",
      "2133\t7\t0.0\t2\t6 1\n",
      "2134\t9\t0.0\t2\t9\n",
      "2135\t1\t0.0\t2\t1\n",
      "2137\t4\t0.0\t2\t3 0 1\n",
      "2138\t4\t0.0\t2\t4\n",
      "2139\t6\t0.0\t2\t6\n",
      "2140\t1\t0.0\t2\t1\n",
      "2141\t3\t0.0\t2\t2 1\n",
      "2143\t1\t0.0\t2\t1\n",
      "2145\t1\t0.0\t2\t1\n",
      "2149\t1\t0.0\t2\t1\n",
      "2150\t2\t0.0\t2\t1 1\n",
      "2152\t2\t0.0\t2\t2\n",
      "2156\t1\t0.0\t2\t0 1\n",
      "2157\t1\t0.0\t2\t0 1\n",
      "2161\t1\t0.0\t2\t1\n",
      "2163\t1\t0.0\t2\t1\n",
      "2181\t1\t0.0\t2\t0 1\n",
      "2184\t1\t0.0\t2\t1\n",
      "2186\t1\t0.0\t2\t1\n",
      "2193\t1\t0.0\t2\t0 0 1\n",
      "2198\t1\t0.0\t2\t1\n",
      "2200\t3\t0.0\t2\t2 1\n",
      "2202\t2\t0.0\t2\t1 1\n",
      "2203\t4\t0.0\t2\t4\n",
      "2204\t1\t0.0\t2\t1\n",
      "2207\t1\t0.0\t2\t0 1\n",
      "2209\t1\t0.0\t2\t1\n",
      "2210\t1\t0.0\t2\t1\n",
      "2213\t2\t0.0\t2\t2\n",
      "2215\t1\t0.0\t2\t0 1\n",
      "2223\t1\t0.0\t2\t1\n",
      "2235\t1\t0.0\t2\t0 1\n",
      "2239\t1\t0.0\t2\t1\n",
      "2242\t1\t0.0\t2\t0 1\n",
      "2245\t1\t0.0\t2\t1\n",
      "2246\t1\t0.0\t2\t1\n",
      "2247\t4\t0.0\t2\t4\n",
      "2248\t1\t0.0\t2\t1\n",
      "2250\t1\t0.0\t2\t0 0 1\n",
      "2258\t1\t0.0\t2\t0 0 1\n",
      "2264\t1\t0.0\t2\t0 0 1\n",
      "2271\t1\t0.0\t2\t1\n",
      "2285\t1\t0.0\t2\t1\n",
      "2286\t3\t0.0\t2\t3\n",
      "2287\t3\t0.0\t2\t2 1\n",
      "2288\t2\t0.0\t2\t2\n",
      "2289\t5\t0.0\t2\t4 1\n",
      "2290\t1\t0.0\t2\t1\n",
      "2291\t2\t0.0\t2\t2\n",
      "2292\t4\t0.0\t2\t4\n",
      "2293\t3\t0.0\t2\t3\n",
      "2294\t3\t0.0\t2\t3\n",
      "2295\t6\t0.0\t2\t6\n",
      "2296\t3\t0.0\t2\t3\n",
      "2297\t2\t0.0\t2\t1 1\n",
      "2298\t3\t0.0\t2\t1 2\n",
      "2299\t1\t0.0\t2\t1\n",
      "2301\t1\t0.0\t2\t1\n",
      "2302\t1\t0.0\t2\t1\n",
      "2308\t1\t0.0\t2\t0 0 1\n",
      "2311\t2\t0.0\t2\t1 1\n",
      "2316\t1\t0.0\t2\t0 1\n",
      "2318\t1\t0.0\t2\t1\n",
      "2322\t1\t0.0\t2\t1\n",
      "2324\t1\t0.0\t2\t1\n",
      "2325\t2\t0.0\t2\t2\n",
      "2326\t2\t0.0\t2\t1 1\n",
      "2327\t1\t0.0\t2\t1\n",
      "2330\t1\t0.0\t2\t1\n",
      "2336\t1\t0.0\t2\t1\n",
      "2347\t1\t0.0\t2\t1\n",
      "2349\t1\t0.0\t2\t1\n",
      "2354\t1\t0.0\t2\t1\n",
      "2361\t1\t0.0\t2\t1\n",
      "2364\t1\t0.0\t2\t0 1\n",
      "2374\t2\t0.0\t2\t1 1\n",
      "2375\t2\t0.0\t2\t2\n",
      "2376\t1\t0.0\t2\t1\n",
      "2377\t1\t0.0\t2\t1\n",
      "2378\t1\t0.0\t2\t1\n",
      "2379\t2\t0.0\t2\t2\n",
      "2380\t2\t0.0\t2\t1 0 1\n",
      "2381\t2\t0.0\t2\t2\n",
      "2382\t1\t0.0\t2\t1\n",
      "2383\t2\t0.0\t2\t2\n",
      "2385\t2\t0.0\t2\t1 0 1\n",
      "2386\t1\t0.0\t2\t1\n",
      "2387\t1\t0.0\t2\t0 1\n",
      "2391\t1\t0.0\t2\t1\n",
      "2392\t2\t0.0\t2\t1 1\n",
      "2396\t1\t0.0\t2\t1\n",
      "2399\t1\t0.0\t2\t1\n",
      "2401\t1\t0.0\t2\t0 1\n",
      "2403\t1\t0.0\t2\t1\n",
      "2404\t2\t0.0\t2\t1 1\n",
      "2405\t1\t0.0\t2\t1\n",
      "2406\t1\t0.0\t2\t1\n",
      "2419\t2\t0.0\t2\t2\n",
      "2421\t2\t0.0\t2\t2\n",
      "2422\t2\t0.0\t2\t2\n",
      "2423\t1\t0.0\t2\t1\n",
      "2424\t7\t0.0\t2\t6 1\n",
      "2425\t1\t0.0\t2\t1\n",
      "2428\t1\t0.0\t2\t0 0 1\n",
      "2429\t1\t0.0\t2\t1\n",
      "2434\t1\t0.0\t2\t1\n",
      "2439\t2\t0.0\t2\t2\n",
      "2440\t1\t0.0\t2\t1\n",
      "2442\t1\t0.0\t2\t1\n",
      "2443\t1\t0.0\t2\t0 1\n",
      "2444\t1\t0.0\t2\t1\n",
      "2445\t1\t0.0\t2\t1\n",
      "2448\t1\t0.0\t2\t1\n",
      "2449\t1\t0.0\t2\t1\n",
      "2450\t1\t0.0\t2\t1\n",
      "2452\t2\t0.0\t2\t2\n",
      "2453\t2\t0.0\t2\t2\n",
      "2454\t2\t0.0\t2\t2\n",
      "2460\t1\t0.0\t2\t0 0 1\n",
      "2464\t1\t0.0\t2\t1\n",
      "2475\t1\t0.0\t2\t1\n",
      "2488\t2\t0.0\t2\t2\n",
      "2493\t1\t0.0\t2\t1\n",
      "2496\t1\t0.0\t2\t1\n",
      "2502\t1\t0.0\t2\t1\n",
      "2559\t1\t0.0\t2\t1\n",
      "2570\t1\t0.0\t2\t1\n",
      "2572\t1\t0.0\t2\t0 1\n",
      "2576\t1\t0.0\t2\t1\n",
      "2578\t1\t0.0\t2\t0 1\n",
      "2582\t1\t0.0\t2\t1\n",
      "2584\t1\t0.0\t2\t0 1\n",
      "2586\t1\t0.0\t2\t1\n",
      "2590\t2\t0.0\t2\t1 1\n",
      "2593\t4\t0.0\t2\t4\n",
      "2594\t7\t0.0\t2\t7\n",
      "2595\t4\t0.0\t2\t4\n",
      "2596\t5\t0.0\t2\t4 0 1\n",
      "2597\t3\t0.0\t2\t3\n",
      "2598\t2\t0.0\t2\t2\n",
      "2602\t1\t0.0\t2\t1\n",
      "2603\t1\t0.0\t2\t1\n",
      "2606\t1\t0.0\t2\t1\n",
      "2610\t1\t0.0\t2\t0 1\n",
      "2611\t2\t0.0\t2\t2\n",
      "2619\t1\t0.0\t2\t0 0 1\n",
      "2623\t1\t0.0\t2\t0 1\n",
      "2625\t1\t0.0\t2\t1\n",
      "2630\t1\t0.0\t2\t0 1\n",
      "2632\t2\t0.0\t2\t2\n",
      "2633\t1\t0.0\t2\t1\n",
      "2634\t1\t0.0\t2\t1\n",
      "2635\t1\t0.0\t2\t1\n",
      "2637\t3\t0.0\t2\t2 1\n",
      "2638\t1\t0.0\t2\t1\n",
      "2639\t1\t0.0\t2\t0 0 1\n",
      "2641\t1\t0.0\t2\t1\n",
      "2643\t1\t0.0\t2\t1\n",
      "2644\t2\t0.0\t2\t2\n",
      "2647\t1\t0.0\t2\t1\n",
      "2658\t1\t0.0\t2\t0 1\n",
      "2665\t1\t0.0\t2\t0 1\n",
      "2667\t1\t0.0\t2\t1\n",
      "2668\t2\t0.0\t2\t2\n",
      "2670\t1\t0.0\t2\t1\n",
      "2671\t2\t0.0\t2\t2\n",
      "2673\t2\t0.0\t2\t2\n",
      "2674\t2\t0.0\t2\t1 1\n",
      "2675\t3\t0.0\t2\t3\n",
      "2676\t3\t0.0\t2\t3\n",
      "2677\t11\t0.0\t2\t11\n",
      "2678\t1\t0.0\t2\t1\n",
      "2679\t1\t0.0\t2\t0 1\n",
      "2680\t1\t0.0\t2\t1\n",
      "2681\t1\t0.0\t2\t1\n",
      "2682\t1\t0.0\t2\t0 1\n",
      "2683\t1\t0.0\t2\t1\n",
      "2689\t2\t0.0\t2\t2\n",
      "2690\t1\t0.0\t2\t1\n",
      "2691\t1\t0.0\t2\t1\n",
      "2704\t2\t0.0\t2\t2\n",
      "2714\t1\t0.0\t2\t0 1\n",
      "2716\t1\t0.0\t2\t1\n",
      "2718\t1\t0.0\t2\t1\n",
      "2749\t1\t0.0\t2\t1\n",
      "2765\t1\t0.0\t2\t1\n",
      "2771\t1\t0.0\t2\t1\n",
      "2772\t1\t0.0\t2\t1\n",
      "2776\t1\t0.0\t2\t1\n",
      "2778\t1\t0.0\t2\t1\n",
      "2793\t1\t0.0\t2\t1\n",
      "2795\t1\t0.0\t2\t1\n",
      "2796\t1\t0.0\t2\t1\n",
      "2800\t1\t0.0\t2\t1\n",
      "2802\t1\t0.0\t2\t1\n",
      "2806\t1\t0.0\t2\t1\n",
      "2808\t1\t0.0\t2\t0 1\n",
      "2811\t1\t0.0\t2\t1\n",
      "2824\t1\t0.0\t2\t1\n",
      "2920\t1\t0.0\t2\t1\n",
      "2949\t1\t0.0\t2\t1\n",
      "2955\t1\t0.0\t2\t1\n",
      "3011\t1\t0.0\t2\t1\n",
      "3022\t1\t0.0\t2\t1\n",
      "3023\t1\t0.0\t2\t1\n",
      "3074\t1\t0.0\t2\t1\n",
      "3075\t1\t0.0\t2\t1\n",
      "3076\t1\t0.0\t2\t1\n",
      "3077\t1\t0.0\t2\t1\n",
      "3092\t1\t0.0\t2\t1\n",
      "\n"
     ]
    }
   ],
   "source": [
    "# Length of the barcode is 18 base pair in Intron plasmid (double-checked with David 26/06/2018)\n",
    "cutadapt \\\n",
    "   -g CACTCCCAGGTGGCGCGCCCTAG \\\n",
    "   -a TGCAGGTCGCCTGCAGGCTTAAA \\\n",
    "   -n 5 -m18 -M18 --trimmed-only \\\n",
    "   -o 031.demux/pacbio_3passes_${SAMPLE_NAME}_cleaned_combined_empty_vectors_barcodes.fastq.gz \\\n",
    "   031.demux/pacbio_3passes_${SAMPLE_NAME}_cleaned_combined_empty_vectors.fastq.gz"
   ]
  },
  {
   "cell_type": "code",
   "execution_count": 43,
   "metadata": {},
   "outputs": [],
   "source": [
    "zcat 031.demux/pacbio_3passes_${SAMPLE_NAME}_cleaned_combined_empty_vectors_barcodes.fastq.gz \\\n",
    "   | paste - - - - \\\n",
    "   | cut -f2 \\\n",
    "   > 031.demux/pacbio_3passes_${SAMPLE_NAME}_cleaned_combined_empty_vectors_barcodes.txt"
   ]
  },
  {
   "cell_type": "code",
   "execution_count": 44,
   "metadata": {},
   "outputs": [],
   "source": [
    "# Need to remove @\n",
    "zcat 031.demux/pacbio_3passes_${SAMPLE_NAME}_cleaned_combined_empty_vectors_barcodes.fastq.gz \\\n",
    "   | paste - - - - \\\n",
    "   | awk '{ print $1,\"NEG_CTRL\",$2 }' OFS='\\t' \\\n",
    "   | sed 's/^.//' \\\n",
    "   > 031.demux/pacbio_3passes_${SAMPLE_NAME}_cleaned_combined_empty_vectors_barcodes_table.tsv"
   ]
  },
  {
   "cell_type": "code",
   "execution_count": 45,
   "metadata": {},
   "outputs": [
    {
     "name": "stdout",
     "output_type": "stream",
     "text": [
      "918 031.demux/pacbio_3passes_intron_plasmid_cleaned_combined_empty_vectors_barcodes_table.tsv\n"
     ]
    }
   ],
   "source": [
    "wc -l 031.demux/pacbio_3passes_${SAMPLE_NAME}_cleaned_combined_empty_vectors_barcodes_table.tsv"
   ]
  },
  {
   "cell_type": "markdown",
   "metadata": {},
   "source": [
    "### Separate barcode from enhancers"
   ]
  },
  {
   "cell_type": "code",
   "execution_count": 23,
   "metadata": {},
   "outputs": [],
   "source": [
    "# _5p_flanking_seq_barcode=\"CACTCCCAGGTGGCGCGCCCTAG\""
   ]
  },
  {
   "cell_type": "code",
   "execution_count": 24,
   "metadata": {},
   "outputs": [],
   "source": [
    "# echo $_3p_flanking_seq_barcode"
   ]
  },
  {
   "cell_type": "code",
   "execution_count": 25,
   "metadata": {},
   "outputs": [],
   "source": [
    "# # Extract barcodes and enhancers based on 5' flanking seq of barcode\n",
    "# cutadapt \\\n",
    "#    -a $_5p_flanking_seq_barcode --trimmed-only --minimum-length=1 \\\n",
    "#    -o 03.demux/pacbio_3passes_intron_plasmid_forward_cleaned_combined_clipped_enhancers.fastq.gz \\\n",
    "#    -r 03.demux/pacbio_3passes_intron_plasmid_forward_cleaned_combined_clipped_reporter_and_barcode.fastq.gz \\\n",
    "#    03.demux/pacbio_3passes_intron_plasmid_forward_cleaned_combined.fastq.gz\n",
    "\n",
    "# # Presence of empty reads if -m option not set (see 5pPlasmid Python notebook)"
   ]
  },
  {
   "cell_type": "code",
   "execution_count": 26,
   "metadata": {},
   "outputs": [],
   "source": [
    "# echo $((`zcat 03.demux/pacbio_3passes_intron_plasmid_forward_cleaned_combined_clipped_enhancers.fastq.gz | wc -l`/4))\n",
    "# echo $((`zcat 03.demux/pacbio_3passes_intron_plasmid_forward_cleaned_combined_clipped_reporter_and_barcode.fastq.gz | wc -l`/4))"
   ]
  },
  {
   "cell_type": "code",
   "execution_count": 27,
   "metadata": {},
   "outputs": [],
   "source": [
    "# # Adapting the output file of cutadapt to a proper fasta file that can be used to perform in the next cutadapt. \n",
    "# zcat 03.demux/pacbio_3passes_intron_plasmid_forward_cleaned_combined_clipped_reporter_and_barcode.fastq.gz \\\n",
    "#    | sed 's/ /\\t/g' | awk '{print \">\"$2\"\\t\"$1}' \\\n",
    "#    | sed 's/\\t/\\n/g' \\\n",
    "#    > 03.demux/pacbio_3passes_intron_plasmid_forward_cleaned_combined_clipped_reporter_and_barcode.fasta"
   ]
  },
  {
   "cell_type": "code",
   "execution_count": 28,
   "metadata": {},
   "outputs": [],
   "source": [
    "# # Reporter BC pairs:\n",
    "# ##  10 trimmed reads did not generate a reporter-barcode output. this probably means the adapter was at the 3’ end and nothing came after.\n",
    "# cat 03.demux/pacbio_3passes_intron_plasmid_forward_cleaned_combined_clipped_reporter_and_barcode.fasta | sed -n '1~2p'| sort -u | wc -l"
   ]
  },
  {
   "cell_type": "markdown",
   "metadata": {},
   "source": [
    "### Get barcodes"
   ]
  },
  {
   "cell_type": "code",
   "execution_count": 75,
   "metadata": {},
   "outputs": [],
   "source": [
    "# Have to trim with both 5' flanking sequence of barcode sequence only because we already trimmed away the 3' flanking sequence\n",
    "# otherwise it can happen that the barcode is shorter than expected (<17bc) and we would read through the plasmid sequence\n",
    "# 5' flanking sequence of barcode: GAACACTCGAGCCGAGCAGGCGCGCCGATC\n",
    "# 3' flanking sequence of barcode: GGACCGGGGCCCGAATTAATTCGCTGTCTG\n",
    "# At least one read has 2 times the same 5' flanking sequence: >m54094_180531_134158/4588439/ccs. We need to take this into account\n",
    "# We need to specify -n option because CUTADAPT basic rule with multiple adapter trimming is: \"the leftmost match is used for both 5’ and 3’ adapters\"\n",
    "# http://cutadapt.readthedocs.io/en/stable/guide.html#multiple-adapter-occurrences-within-a-single-read"
   ]
  },
  {
   "cell_type": "code",
   "execution_count": 29,
   "metadata": {},
   "outputs": [],
   "source": [
    "# echo $_5p_flanking_seq_barcode\n",
    "# echo $_3p_flanking_seq_barcode"
   ]
  },
  {
   "cell_type": "code",
   "execution_count": 30,
   "metadata": {},
   "outputs": [],
   "source": [
    "# # Length of the barcode is 18 base pair in Intron plasmid (double-checked with David 26/06/2018)\n",
    "# cutadapt \\\n",
    "#    -a $_3p_flanking_seq_barcode \\\n",
    "#    -n 5 -m18 -M18 --trimmed-only \\\n",
    "#    -o 03.demux/pacbio_3passes_intron_plasmid_barcodes.fasta \\\n",
    "#    03.demux/pacbio_3passes_intron_plasmid_forward_cleaned_combined_clipped_reporter_and_barcode.fasta"
   ]
  },
  {
   "cell_type": "code",
   "execution_count": 31,
   "metadata": {},
   "outputs": [],
   "source": [
    "# # How many barcodes\n",
    "# echo $((`cat 03.demux/pacbio_3passes_intron_plasmid_barcodes.fasta | wc -l`/2))\n",
    "# # How many of the BC are uniq?\n",
    "# # 35,757 unique Barcodes\n",
    "# cat 03.demux/pacbio_3passes_intron_plasmid_barcodes.fasta | sed -n '2~2p' | sort | uniq | wc -l"
   ]
  },
  {
   "cell_type": "code",
   "execution_count": 46,
   "metadata": {},
   "outputs": [],
   "source": [
    "# # Filter enhancers based on final barcodes list\n",
    "# seqtk subseq 03.demux/pacbio_3passes_intron_plasmid_forward_cleaned_combined_clipped_enhancers.fastq.gz \\\n",
    "#    <(grep \"^>\" 03.demux/pacbio_3passes_intron_plasmid_barcodes.fasta \\\n",
    "#    | sed 's/^>//') | gzip \\\n",
    "#    > 03.demux/pacbio_3passes_intron_plasmid_enhancers.fastq.gz"
   ]
  },
  {
   "cell_type": "code",
   "execution_count": 47,
   "metadata": {},
   "outputs": [],
   "source": [
    "# # How many enhancers\n",
    "# echo $((`zcat 03.demux/pacbio_3passes_intron_plasmid_enhancers.fastq.gz | wc -l`/4))"
   ]
  },
  {
   "cell_type": "markdown",
   "metadata": {},
   "source": [
    "## Mapping enhancers"
   ]
  },
  {
   "cell_type": "code",
   "execution_count": 48,
   "metadata": {},
   "outputs": [],
   "source": [
    "# mkdir 10.mapping"
   ]
  },
  {
   "cell_type": "code",
   "execution_count": 49,
   "metadata": {},
   "outputs": [],
   "source": [
    "# hg19_fa_path=\"/ddn1/vol1/staging/leuven/stg_00002/resources/human/hg19/Homo_sapiens_assembly19_sorted.fa\"\n",
    "# hg19_mmi_path=\"/ddn1/vol1/staging/leuven/stg_00002/lcb/dwmax/documents/resources/refs/hg19/Homo_sapiens_assembly19_sorted.mmi\""
   ]
  },
  {
   "cell_type": "code",
   "execution_count": 50,
   "metadata": {},
   "outputs": [],
   "source": [
    "# ls"
   ]
  },
  {
   "cell_type": "code",
   "execution_count": 51,
   "metadata": {},
   "outputs": [],
   "source": [
    "# # Number of reads\n",
    "# echo $((`zcat 03.demux/pacbio_3passes_intron_plasmid_enhancers.fastq.gz | wc -l`/4))"
   ]
  },
  {
   "cell_type": "code",
   "execution_count": 52,
   "metadata": {},
   "outputs": [],
   "source": [
    "# # Map PacBio reads with minimap\n",
    "# module load Minimap2/2.11-foss-2014a\n",
    "# module load SAMtools/1.8-foss-2014a\n",
    "# minimap2 \\\n",
    "#    -ax map-pb \\\n",
    "#    $hg19_mmi_path \\\n",
    "#    03.demux/pacbio_3passes_intron_plasmid_enhancers.fastq.gz \\\n",
    "#    | samtools view -bS > 10.mapping/pacbio_3passes_intron_plasmid_enhancers.bam"
   ]
  },
  {
   "cell_type": "code",
   "execution_count": 53,
   "metadata": {},
   "outputs": [],
   "source": [
    "# # Sort and create bam index\n",
    "# samtools sort -o 10.mapping/pacbio_3passes_intron_plasmid_enhancers.sorted.bam 10.mapping/pacbio_3passes_intron_plasmid_enhancers.bam\n",
    "# samtools index 10.mapping/pacbio_3passes_intron_plasmid_enhancers.sorted.bam"
   ]
  },
  {
   "cell_type": "code",
   "execution_count": 54,
   "metadata": {},
   "outputs": [],
   "source": [
    "# samtools view -b -q 4 -@ 2 -o 10.mapping/pacbio_3passes_intron_plasmid_enhancers.sorted.minQ4.bam 10.mapping/pacbio_3passes_intron_plasmid_enhancers.sorted.bam"
   ]
  },
  {
   "cell_type": "code",
   "execution_count": 55,
   "metadata": {},
   "outputs": [],
   "source": [
    "# # number of reads mapped after quality filtering\n",
    "# samtools view 10.mapping/pacbio_3passes_intron_plasmid_enhancers.sorted.minQ4.bam | cut -f1 | sort -u | wc -l"
   ]
  },
  {
   "cell_type": "code",
   "execution_count": 56,
   "metadata": {},
   "outputs": [],
   "source": [
    "# samtools flagstat 10.mapping/pacbio_3passes_intron_plasmid_enhancers.sorted.minQ4.bam > 10.mapping/pacbio_3passes_intron_plasmid_enhancers.sorted.minQ4.bam.flagstat"
   ]
  },
  {
   "cell_type": "code",
   "execution_count": 57,
   "metadata": {},
   "outputs": [],
   "source": [
    "# samtools index 10.mapping/pacbio_3passes_intron_plasmid_enhancers.sorted.minQ4.bam"
   ]
  },
  {
   "cell_type": "code",
   "execution_count": 58,
   "metadata": {},
   "outputs": [],
   "source": [
    "# # checking overlap with designed regions (at least 60%)\n",
    "# module load bedtools/2.27.1-foss-2014a\n",
    "# intersectBed -f 0.6 \\\n",
    "#    -a 10.mapping/pacbio_3passes_intron_plasmid_enhancers.sorted.minQ4.bam \\\n",
    "#    -b amplified_regions.bed -wo -bed > 10.mapping/pacbio_3passes_intron_plasmid_enhancers.sorted.minQ4_overlapped_with_amplified_regions.bed"
   ]
  },
  {
   "cell_type": "code",
   "execution_count": 59,
   "metadata": {},
   "outputs": [],
   "source": [
    "# # Number of the reads overlapping with designed enhancers\n",
    "# cat 10.mapping/pacbio_3passes_intron_plasmid_enhancers.sorted.minQ4_overlapped_with_amplified_regions.bed | wc -l"
   ]
  },
  {
   "cell_type": "code",
   "execution_count": 60,
   "metadata": {},
   "outputs": [],
   "source": [
    "# # Number of unqiue reads overlapping with designed enhancers\n",
    "# cat 10.mapping/pacbio_3passes_intron_plasmid_enhancers.sorted.minQ4_overlapped_with_amplified_regions.bed | awk '{print $2}' | uniq | wc -l"
   ]
  },
  {
   "cell_type": "code",
   "execution_count": 61,
   "metadata": {},
   "outputs": [],
   "source": [
    "# # Number of enhancers that are found back in the PacBio -> total of 53 designed enhancers -> 88.4% of the enhancers found back by pack bio\n",
    "# cat 10.mapping/pacbio_3passes_intron_plasmid_enhancers.sorted.minQ4_overlapped_with_amplified_regions.bed | awk '{print $16}' | uniq | paste -s -d', '\n",
    "# cat 10.mapping/pacbio_3passes_intron_plasmid_enhancers.sorted.minQ4_overlapped_with_amplified_regions.bed | awk '{print $16}' | uniq | wc -l"
   ]
  },
  {
   "cell_type": "markdown",
   "metadata": {},
   "source": [
    "## BC-Enhancer Coupling [UPDATE - March 2020]"
   ]
  },
  {
   "cell_type": "code",
   "execution_count": 62,
   "metadata": {},
   "outputs": [],
   "source": [
    "# # Read ID and barcode sequence in one line \n",
    "# # RC the BC\n",
    "# paste <( cat 03.demux/pacbio_3passes_intron_plasmid_barcodes.fasta | sed -n '1~2p'| cut -c 2-) \\\n",
    "#    <( cat 03.demux/pacbio_3passes_intron_plasmid_barcodes.fasta| sed -n '2~2p') \\\n",
    "#    > 20.coupling/pacbio_3passes_intron_plasmid_readID_barcode_table.tsv"
   ]
  },
  {
   "cell_type": "code",
   "execution_count": 63,
   "metadata": {},
   "outputs": [],
   "source": [
    "# # Make bedfile from bam \n",
    "# # Why only keeping 17K regions here?\n",
    "# bamToBed -i 10.mapping/pacbio_3passes_intron_plasmid_enhancers.sorted.minQ4.bam > 20.coupling/pacbio_3passes_intron_plasmid_enhancers.sorted.minQ4.bed"
   ]
  },
  {
   "cell_type": "code",
   "execution_count": 64,
   "metadata": {},
   "outputs": [],
   "source": [
    "# # Make readID enhancer mapping\n",
    "# cut -f4,16 10.mapping/pacbio_3passes_intron_plasmid_enhancers.sorted.minQ4_overlapped_with_amplified_regions.bed \\\n",
    "#    > 20.coupling/pacbio_3passes_intron_plasmid_readID_enhancer_table.tsv"
   ]
  },
  {
   "cell_type": "code",
   "execution_count": 65,
   "metadata": {},
   "outputs": [],
   "source": [
    "# # Combine ReadID-Barcode with ReadID-Enhancer\n",
    "# awk -v OFS='\\t' 'NR==FNR { a[$1]=$0; next } $1 in a { print a[$1], $2 }' \\\n",
    "#    20.coupling/pacbio_3passes_intron_plasmid_readID_enhancer_table.tsv \\\n",
    "#    20.coupling/pacbio_3passes_intron_plasmid_readID_barcode_table.tsv \\\n",
    "#    > 20.coupling/pacbio_3passes_intron_plasmid_readID_enhancer_barcode_table.tsv"
   ]
  },
  {
   "cell_type": "code",
   "execution_count": 66,
   "metadata": {},
   "outputs": [],
   "source": [
    "group_bc_by_enhancer() {\n",
    "   awk -F '\\t' '                                                      \n",
    "   $2==x {\n",
    "      printf \",%s\", $3\n",
    "      next\n",
    "   }\n",
    "   {\n",
    "      x=$2\n",
    "      printf \"\\n%s\\t%s\", x, $3\n",
    "   }\n",
    "   END {\n",
    "      printf \"\\n\"\n",
    "   }'\n",
    "}"
   ]
  },
  {
   "cell_type": "code",
   "execution_count": 67,
   "metadata": {},
   "outputs": [],
   "source": [
    "# [NEW 16 March 2020] Add empty plasmid barcodes\n",
    "cat \\\n",
    "   20.coupling/pacbio_3passes_${SAMPLE_NAME}_readID_enhancer_barcode_table.tsv \\\n",
    "   031.demux/pacbio_3passes_${SAMPLE_NAME}_cleaned_combined_empty_vectors_barcodes_table.tsv \\\n",
    "   > 201.coupling/pacbio_3passes_${SAMPLE_NAME}_readID_enhancer_and_negctrl_barcode_table.tsv"
   ]
  },
  {
   "cell_type": "code",
   "execution_count": 68,
   "metadata": {},
   "outputs": [
    {
     "name": "stdout",
     "output_type": "stream",
     "text": [
      "33602\n"
     ]
    }
   ],
   "source": [
    "cat 20.coupling/pacbio_3passes_${SAMPLE_NAME}_readID_enhancer_barcode_table.tsv | cut -f3 | sort | uniq | wc -l"
   ]
  },
  {
   "cell_type": "code",
   "execution_count": 69,
   "metadata": {},
   "outputs": [
    {
     "name": "stdout",
     "output_type": "stream",
     "text": [
      "33635\n"
     ]
    }
   ],
   "source": [
    "cat 201.coupling/pacbio_3passes_${SAMPLE_NAME}_readID_enhancer_and_negctrl_barcode_table.tsv | cut -f3 | sort | uniq | wc -l"
   ]
  },
  {
   "cell_type": "code",
   "execution_count": 70,
   "metadata": {},
   "outputs": [],
   "source": [
    "# Group barcodes by enhancer\n",
    "sort -k2 201.coupling/pacbio_3passes_${SAMPLE_NAME}_readID_enhancer_and_negctrl_barcode_table.tsv \\\n",
    "   | group_bc_by_enhancer \\\n",
    "   > 201.coupling/pacbio_3passes_${SAMPLE_NAME}_enhancer_and_negctrl_barcode_list.tsv"
   ]
  },
  {
   "cell_type": "code",
   "execution_count": 71,
   "metadata": {},
   "outputs": [],
   "source": [
    "# Remove all redundant barcodes\n",
    "paste \\\n",
    "   <(cut -f1 201.coupling/pacbio_3passes_${SAMPLE_NAME}_enhancer_and_negctrl_barcode_list.tsv) \\\n",
    "   <(cut -f2 201.coupling/pacbio_3passes_${SAMPLE_NAME}_enhancer_and_negctrl_barcode_list.tsv | while read line; do echo $line | tr ',' '\\n' | uniq | paste -s -d','; done) \\\n",
    "   | sed '/^\\s*$/d' > 201.coupling/pacbio_3passes_${SAMPLE_NAME}_enhancer_and_negctrl_unique_barcode_list.tsv"
   ]
  },
  {
   "cell_type": "markdown",
   "metadata": {},
   "source": [
    "### Barcode quality filtering"
   ]
  },
  {
   "cell_type": "markdown",
   "metadata": {},
   "source": [
    "#### Q30"
   ]
  },
  {
   "cell_type": "code",
   "execution_count": 72,
   "metadata": {},
   "outputs": [],
   "source": [
    "# Combine ReadID-Barcode with ReadID-Enhancer\n",
    "awk \\\n",
    "   -v OFS='\\t' 'NR==FNR { a[$1]=$0; next } $1 in a { print a[$1], $2 }' \\\n",
    "   201.coupling/pacbio_3passes_${SAMPLE_NAME}_readID_enhancer_and_negctrl_barcode_table.tsv \\\n",
    "   03.demux/pacbio_3passes_${SAMPLE_NAME}_readID_barcode_quality_table_minQ30.tsv \\\n",
    "   > 201.coupling/pacbio_3passes_${SAMPLE_NAME}_readID_enhancer_and_negctrl_barcode_minQ30_table.tsv"
   ]
  },
  {
   "cell_type": "code",
   "execution_count": 73,
   "metadata": {},
   "outputs": [],
   "source": [
    "# Group barcodes by enhancer\n",
    "sort -k2 201.coupling/pacbio_3passes_${SAMPLE_NAME}_readID_enhancer_and_negctrl_barcode_minQ30_table.tsv \\\n",
    "   | group_bc_by_enhancer \\\n",
    "   > 201.coupling/pacbio_3passes_${SAMPLE_NAME}_enhancer_and_negctrl_barcode_minQ30_list.tsv"
   ]
  },
  {
   "cell_type": "code",
   "execution_count": 74,
   "metadata": {},
   "outputs": [],
   "source": [
    "# Remove all redundant barcodes\n",
    "paste \\\n",
    "   <(cut -f1 201.coupling/pacbio_3passes_${SAMPLE_NAME}_enhancer_and_negctrl_barcode_minQ30_list.tsv) \\\n",
    "   <(cut -f2 201.coupling/pacbio_3passes_${SAMPLE_NAME}_enhancer_and_negctrl_barcode_minQ30_list.tsv | while read line; do echo $line | tr ',' '\\n' | uniq | paste -s -d','; done) \\\n",
    "   | sed '/^\\s*$/d' > 201.coupling/pacbio_3passes_${SAMPLE_NAME}_enhancer_and_negctrl_unique_barcode_minQ30_list.tsv"
   ]
  },
  {
   "cell_type": "markdown",
   "metadata": {},
   "source": [
    "#### Q60"
   ]
  },
  {
   "cell_type": "code",
   "execution_count": 75,
   "metadata": {},
   "outputs": [],
   "source": [
    "# Combine ReadID-Barcode with ReadID-Enhancer\n",
    "awk \\\n",
    "   -v OFS='\\t' 'NR==FNR { a[$1]=$0; next } $1 in a { print a[$1], $2 }' \\\n",
    "   201.coupling/pacbio_3passes_${SAMPLE_NAME}_readID_enhancer_and_negctrl_barcode_table.tsv \\\n",
    "   03.demux/pacbio_3passes_${SAMPLE_NAME}_readID_barcode_quality_table_minQ60.tsv \\\n",
    "   > 201.coupling/pacbio_3passes_${SAMPLE_NAME}_readID_enhancer_and_negctrl_barcode_minQ60_table.tsv"
   ]
  },
  {
   "cell_type": "code",
   "execution_count": 76,
   "metadata": {},
   "outputs": [],
   "source": [
    "# Group barcodes by enhancer\n",
    "sort -k2 201.coupling/pacbio_3passes_${SAMPLE_NAME}_readID_enhancer_and_negctrl_barcode_minQ60_table.tsv \\\n",
    "   | group_bc_by_enhancer \\\n",
    "   > 201.coupling/pacbio_3passes_${SAMPLE_NAME}_enhancer_and_negctrl_barcode_minQ60_list.tsv"
   ]
  },
  {
   "cell_type": "code",
   "execution_count": 77,
   "metadata": {},
   "outputs": [],
   "source": [
    "# Remove all redundant barcodes\n",
    "paste \\\n",
    "   <(cut -f1 201.coupling/pacbio_3passes_${SAMPLE_NAME}_enhancer_and_negctrl_barcode_minQ60_list.tsv) \\\n",
    "   <(cut -f2 201.coupling/pacbio_3passes_${SAMPLE_NAME}_enhancer_and_negctrl_barcode_minQ60_list.tsv | while read line; do echo $line | tr ',' '\\n' | uniq | paste -s -d','; done) \\\n",
    "   | sed '/^\\s*$/d' > 201.coupling/pacbio_3passes_${SAMPLE_NAME}_enhancer_and_negctrl_unique_barcode_minQ60_list.tsv"
   ]
  },
  {
   "cell_type": "markdown",
   "metadata": {},
   "source": [
    "### Barcode specificity filtering"
   ]
  },
  {
   "cell_type": "code",
   "execution_count": 78,
   "metadata": {},
   "outputs": [],
   "source": [
    "cat 201.coupling/pacbio_3passes_${SAMPLE_NAME}_readID_enhancer_and_negctrl_barcode_table.tsv \\\n",
    "   | sort -k3 \\\n",
    "   | uniq -f2 \\\n",
    "   | sort -k2 \\\n",
    "   | group_bc_by_enhancer \\\n",
    "   > 201.coupling/pacbio_3passes_${SAMPLE_NAME}_enhancer_and_negctrl_barcode_final_list.tsv"
   ]
  },
  {
   "cell_type": "code",
   "execution_count": 79,
   "metadata": {},
   "outputs": [],
   "source": [
    "cat 201.coupling/pacbio_3passes_${SAMPLE_NAME}_readID_enhancer_and_negctrl_barcode_minQ30_table.tsv \\\n",
    "   | sort -k3 \\\n",
    "   | uniq -f2 \\\n",
    "   | sort -k2 \\\n",
    "   | group_bc_by_enhancer \\\n",
    "   > 201.coupling/pacbio_3passes_${SAMPLE_NAME}_enhancer_barcode_and_negctrl_barcode_minQ30_final_list.tsv"
   ]
  },
  {
   "cell_type": "code",
   "execution_count": 80,
   "metadata": {},
   "outputs": [],
   "source": [
    "cat 201.coupling/pacbio_3passes_${SAMPLE_NAME}_readID_enhancer_and_negctrl_barcode_minQ60_table.tsv \\\n",
    "   | sort -k3 \\\n",
    "   | uniq -f2 \\\n",
    "   | sort -k2 \\\n",
    "   | group_bc_by_enhancer \\\n",
    "   > 201.coupling/pacbio_3passes_${SAMPLE_NAME}_readID_enhancer_and_negctrl_barcode_minQ60_final_list.tsv"
   ]
  },
  {
   "cell_type": "code",
   "execution_count": null,
   "metadata": {},
   "outputs": [],
   "source": []
  },
  {
   "cell_type": "code",
   "execution_count": null,
   "metadata": {},
   "outputs": [],
   "source": []
  }
 ],
 "metadata": {
  "kernelspec": {
   "display_name": "Bash",
   "language": "bash",
   "name": "bash"
  },
  "language_info": {
   "codemirror_mode": "shell",
   "file_extension": ".sh",
   "mimetype": "text/x-sh",
   "name": "bash"
  }
 },
 "nbformat": 4,
 "nbformat_minor": 4
}

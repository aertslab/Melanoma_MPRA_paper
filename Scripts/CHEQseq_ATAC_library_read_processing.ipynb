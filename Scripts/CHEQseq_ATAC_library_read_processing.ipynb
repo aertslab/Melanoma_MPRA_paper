{
 "cells": [
  {
   "cell_type": "markdown",
   "metadata": {},
   "source": [
    "## Processing of CHEQ-seq reads from 500 bp library"
   ]
  },
  {
   "cell_type": "code",
   "execution_count": null,
   "metadata": {},
   "outputs": [],
   "source": [
    "cd /staging/leuven/stg_00002/lcb/lcb_projects/CSE/500bp_ATAC_peak_library/counting"
   ]
  },
  {
   "cell_type": "markdown",
   "metadata": {},
   "source": [
    "### 01.fastqc"
   ]
  },
  {
   "cell_type": "code",
   "execution_count": null,
   "metadata": {},
   "outputs": [],
   "source": [
    "module load FastQC/0.11.8-Java-1.8.0_162\n",
    "cat CHEQseq_names.txt | while read line\n",
    "do\n",
    "NovaSeq6000_200123=\"/staging/leuven/stg_00002/lcb/ngs_runs/NovaSeq6000_20200123/Demultiplexed/${line%CHEQ*}*R1*\"\n",
    "NovaSeq6000_200416=\"/staging/leuven/stg_00002/lcb/ngs_runs/NovaSeq6000_20200416/Demultiplexed/${line%CHEQ*}*R1*\"\n",
    "NovaSeq_201126=\"/staging/leuven/stg_00002/lcb/ngs_runs/NovaSeq6000_20201126/Demultiplexed/${line%CHEQ*}*R1*\"\n",
    "NextSeq_20210330=\"/staging/leuven/stg_00002/lcb/ngs_runs/NextSeq2000_20210330/Demultiplexed/${line%CHEQ*}*R1*\"\n",
    "\n",
    "fastqc -t 10 ${NextSeq_20210330} -o 01.fastqc\n",
    "done"
   ]
  },
  {
   "cell_type": "markdown",
   "metadata": {},
   "source": [
    "### 02.clean_reads"
   ]
  },
  {
   "cell_type": "code",
   "execution_count": null,
   "metadata": {},
   "outputs": [],
   "source": [
    "module use /data/leuven/software/biomed/skylake_centos7/2018a/modules/all/\n",
    "module load SeqKit/0.10.2\n",
    "module load cutadapt/1.18-foss-2018a-Python-3.7.0\n",
    "start=`date +%s`\n",
    "cat CHEQseq_names.txt | while read line\n",
    "do\n",
    "NovaSeq6000_200123=\"/staging/leuven/stg_00002/lcb/ngs_runs/NovaSeq6000_20200123/Demultiplexed/${line%CHEQ*}*R1*\"\n",
    "NovaSeq6000_200416=\"/staging/leuven/stg_00002/lcb/ngs_runs/NovaSeq6000_20200416/Demultiplexed/${line%CHEQ*}*R1*\"\n",
    "NovaSeq_201126=\"/staging/leuven/stg_00002/lcb/ngs_runs/NovaSeq6000_20201126/Demultiplexed/${line%CHEQ*}*R1*\"\n",
    "NextSeq_20210330=\"/staging/leuven/stg_00002/lcb/ngs_runs/NextSeq2000_20210330/Demultiplexed/${line%CHEQ*}*R1*\"\n",
    "    # Do cutadapt trimming on R1 reads\n",
    "cutadapt -g ACTCGAGCCGAGCAGGCGCGCCGATC...GGACCGG -e 0.15 -l 17 -m 17 -j 10 --discard-untrimmed \\\n",
    "         -o 02.clean_reads/${line}_R1.fastq.gz \\\n",
    "         ${NextSeq_20210330}\n",
    "done\n",
    "end=`date +%s`\n",
    "echo $((end-start))"
   ]
  },
  {
   "cell_type": "code",
   "execution_count": null,
   "metadata": {},
   "outputs": [],
   "source": [
    "module load fastp/0.20.0-foss-2018a\n",
    "cat CHEQseq_names.txt | while read line\n",
    "do\n",
    "# Filter for Q30 reads\n",
    "fastp -i 02.clean_reads/${line}_R1.fastq.gz -l 17 -e 30 -h /dev/null/fastp.html -j /dev/null/fastp.json -w 8 -o 02.clean_reads/${line}_q30.fastq.gz\n",
    "echo -e \"Number of reads after Q30 filtering for ${line}: \" $(( $(zcat 02.clean_reads/${line}_q30.fastq.gz | wc -l) / 4 ))\n",
    "done"
   ]
  },
  {
   "cell_type": "markdown",
   "metadata": {},
   "source": [
    "### 10. Make BC count matrix"
   ]
  },
  {
   "cell_type": "code",
   "execution_count": null,
   "metadata": {},
   "outputs": [],
   "source": [
    "# Extract DNA sequences from fastq\n",
    "cat CHEQseq_names.txt | while read line\n",
    "do\n",
    "zcat 02.clean_reads/${line}_q30.fastq.gz | sed -n '2~4p' > 03.sequencing_saturation/${line}_q30.txt\n",
    "done"
   ]
  },
  {
   "cell_type": "code",
   "execution_count": null,
   "metadata": {},
   "outputs": [],
   "source": [
    "# Generate BC count matrix for each samples\n",
    "parallel \\\n",
    "\"cat 03.sequencing_saturation/{}_q30.txt | sort | uniq -c | awk -F \\\" \\\" '{print \\$2\\\"\\t\\\"\\$1}' \\\n",
    "   > 10.bc_count/{}_count.txt\" ::: $(cat CHEQseq_names.txt) 2>/dev/null\n",
    "\n",
    "# Count number of unique BC per sample\n",
    "cat CHEQseq_names.txt | while read line\n",
    "do\n",
    "echo 10.bc_count/${line}_count.txt && cat 10.bc_count/${line}_count.txt | wc -l\n",
    "done"
   ]
  },
  {
   "cell_type": "code",
   "execution_count": null,
   "metadata": {},
   "outputs": [],
   "source": [
    "# Assign BC to enhancers\n",
    "EnhBC=\"/staging/leuven/stg_00002/lcb/lcb_projects/CSE/500bp_ATAC_peak_library/enhancer_assignment/03.enhancer_bc_assignment/CSE__10dc17__CheqSeq_500_bp_LC_enhancer_barcode_coupled_cleaned_with_empty_plasmids_unique_1to1.tsv.gz\"\n",
    "parallel \\\n",
    "\"awk -F '\\t' -v OFS='\\t' 'FNR==NR{a[\\$2]=\\$1 FS \\$2;next}{ print a[\\$1],\\$2}' \\\n",
    "   <( zcat $EnhBC ) \\\n",
    "   <( cat 10.bc_count/{}_count.txt ) \\\n",
    "   | awk -F '\\t' '{if (\\$1) print \\$0;}' \\\n",
    "   > 10.bc_count/{}_count_final.txt\" ::: $(cat CHEQseq_names.txt) 2>/dev/null"
   ]
  },
  {
   "cell_type": "code",
   "execution_count": null,
   "metadata": {},
   "outputs": [],
   "source": [
    "cat CHEQseq_names.txt | while read line\n",
    "do\n",
    "file=\"10.bc_count/${line}_count_final.txt\"\n",
    "middleBC=$(($(awk '{print $1}' $file | sort | uniq -c | wc -l)/2))\n",
    "middleR=$(($(cat $file | wc -l)/2))\n",
    "echo ${line}\n",
    "echo \"Number of BC associated to an enhancer: \" $(cat 10.bc_count/${line}_count_final.txt | wc -l)\n",
    "echo \"Enhancer coverage: \" $(awk '{print $1}' $file | sort | uniq -c | wc -l)\n",
    "echo \"Median number of BC per enhancer: \" $(awk '{print $1}' $file | sort | uniq -c | awk '{print $1}' | sort -g | sed -n ${middleBC}p)\n",
    "echo \"Median number of read per BC: \" $(awk '{print $NF}' $file | sort -g | sed -n ${middleR}p)\n",
    "echo \"Number of Neg_Ctrl BC: \" $(grep 'NEG_CTRL' 10.bc_count/${line}_count_final.txt | wc -l)\n",
    "done"
   ]
  },
  {
   "cell_type": "code",
   "execution_count": null,
   "metadata": {},
   "outputs": [],
   "source": [
    "cat 10.bc_count/CSE__b53b4f__MM099_CHEQseq_500_bp_plasmid_count_final.txt | awk '{print $1}'| sort | uniq -c\n"
   ]
  },
  {
   "cell_type": "code",
   "execution_count": null,
   "metadata": {},
   "outputs": [],
   "source": [
    "cat 10.bc_count/CSE__b53b4f__MM099_CHEQseq_500_bp_plasmid_count_final.txt | awk '{print $1}'| sort | uniq -c | wc -l\n"
   ]
  },
  {
   "cell_type": "code",
   "execution_count": null,
   "metadata": {},
   "outputs": [],
   "source": []
  }
 ],
 "metadata": {
  "kernelspec": {
   "display_name": "Bash 4.2.46",
   "language": "bash",
   "name": "bash4246"
  },
  "language_info": {
   "codemirror_mode": "shell",
   "file_extension": ".sh",
   "mimetype": "text/x-sh",
   "name": "bash"
  }
 },
 "nbformat": 4,
 "nbformat_minor": 4
}

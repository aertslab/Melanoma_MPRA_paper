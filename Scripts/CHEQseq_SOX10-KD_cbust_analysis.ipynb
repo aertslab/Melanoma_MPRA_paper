{
 "cells": [
  {
   "cell_type": "markdown",
   "metadata": {},
   "source": [
    "## Cluster-Buster on SOX10-KD based library"
   ]
  },
  {
   "cell_type": "code",
   "execution_count": 7,
   "metadata": {},
   "outputs": [],
   "source": [
    "cbust_root_dir=\"/staging/leuven/stg_00002/lcb/lcb_projects/CSE/SOX10-KD_library/analysis/cbust\"\n",
    "tf_motifs_dir=\"${cbust_root_dir}/data/motifs\""
   ]
  },
  {
   "cell_type": "markdown",
   "metadata": {},
   "source": [
    "### Make fasta file of all human sequences"
   ]
  },
  {
   "cell_type": "code",
   "execution_count": 25,
   "metadata": {},
   "outputs": [],
   "source": [
    "cat /staging/leuven/stg_00002/lcb/lcb_projects/CSE/SOX10-KD_library/analysis/HOMER/data/*.noNC.fa > ${cbust_root_dir}/data/human.SOX10KD.sequences.fa\n",
    "amplified_cbust_seq_names_fasta_filename=\"${cbust_root_dir}/data/human.SOX10KD.sequences.fa\""
   ]
  },
  {
   "cell_type": "code",
   "execution_count": 26,
   "metadata": {},
   "outputs": [
    {
     "name": "stdout",
     "output_type": "stream",
     "text": [
      "6768\n"
     ]
    }
   ],
   "source": [
    "cat ${cbust_root_dir}/data/human.SOX10KD.sequences.fa | wc -l"
   ]
  },
  {
   "cell_type": "markdown",
   "metadata": {},
   "source": [
    "### Download motifs"
   ]
  },
  {
   "cell_type": "code",
   "execution_count": null,
   "metadata": {},
   "outputs": [],
   "source": [
    "cd ${tf_motifs_dir}\n",
    "\n",
    "# SOX10 dimers:\n",
    "wget -nc http://motifcollections.aertslab.org/v8/singletons/tfdimers__MD00293.cb\n",
    "\n",
    "# SOX10 super dimer:\n",
    "wget -nc http://motifcollections.aertslab.org/v8/singletons/transfac_pro__M08838.cb\n",
    "\n",
    "cat tfdimers__MD00293.cb transfac_pro__M08838.cb > SOX10_dimers.cb\n",
    "\n",
    "# MITF super motif:\n",
    "wget -nc http://motifcollections.aertslab.org/v8/singletons/homer__RTCATGTGAC_MITF.cb"
   ]
  },
  {
   "cell_type": "markdown",
   "metadata": {},
   "source": [
    "## Score sequences with Cluster-Buster"
   ]
  },
  {
   "cell_type": "markdown",
   "metadata": {},
   "source": [
    "__Create Function__"
   ]
  },
  {
   "cell_type": "code",
   "execution_count": 4,
   "metadata": {},
   "outputs": [],
   "source": [
    "# Load Cluster-Buster module.\n",
    "module load Cluster-Buster/20200507-GCCcore-6.4.0\n",
    "\n",
    "score_full_amplified_regions_with_cluster_buster () {\n",
    "    local cluster_buster_motif_filename=\"${1}\"\n",
    "    local cbust_BED_output_file=\"${2}\"\n",
    "    local cluster_threshold=\"${3}\"\n",
    "    local motif_threshold=\"${4}\"\n",
    "    \n",
    "    if [ \"${#@}\" -ne 4 ] ; then\n",
    "        printf 'Usage:  score_full_amplified_regions_with_cluster_buster \\\\\\n'\n",
    "        printf '            cluster_buster_motif_filename \\\\\\n'\n",
    "        printf '            cbust_BED_output_file \\\\\\n'\n",
    "        printf '            cluster_threshold \\\\\\n'\n",
    "        printf '            motif_threshold\\n'\n",
    "        return 1;\n",
    "    fi\n",
    "\n",
    "    printf 'Score amplified regions with \"%s\": c=%s m=%s.\\n' \\\n",
    "        \"${motif_name}\" \\\n",
    "        \"${cluster_threshold}\" \\\n",
    "        \"${motif_threshold}\"\n",
    "    \n",
    "    cbust \\\n",
    "        -c ${cluster_threshold} \\\n",
    "        -m ${motif_threshold}  \\\n",
    "        -r 1000000 \\\n",
    "        -G 1 \\\n",
    "        -f 5 \\\n",
    "        \"${cluster_buster_motif_filename}\" \\\n",
    "        \"${amplified_cbust_seq_names_fasta_filename}\" \\\n",
    "      > \"${cbust_BED_output_file}\"\n",
    "\n",
    "    printf 'Output Cluster-Buster BED file: %s \\n' \\\n",
    "        \"${cbust_BED_output_file}\"\n",
    "}"
   ]
  },
  {
   "cell_type": "code",
   "execution_count": 27,
   "metadata": {},
   "outputs": [
    {
     "name": "stdout",
     "output_type": "stream",
     "text": [
      "Score amplified regions with \"SOX10_dimers\": c=0.0 m=0.0.\n",
      "Output Cluster-Buster BED file: /staging/leuven/stg_00002/lcb/lcb_projects/CSE/SOX10-KD_library/analysis/cbust/results/SOX10_dimers.c_0.0__m_0.0.bedScore amplified regions with \"homer__RTCATGTGAC_MITF\": c=0.0 m=0.0.\n",
      "Output Cluster-Buster BED file: /staging/leuven/stg_00002/lcb/lcb_projects/CSE/SOX10-KD_library/analysis/cbust/results/homer__RTCATGTGAC_MITF.c_0.0__m_0.0.bed"
     ]
    }
   ],
   "source": [
    "# Motifs to use for running cbust (one run per .cb file)\n",
    "cluster_buster_motif_filenames=\"\n",
    "   ${tf_motifs_dir}/SOX10_dimers.cb\n",
    "   ${tf_motifs_dir}/homer__RTCATGTGAC_MITF.cb\n",
    "\"\n",
    "\n",
    "# Define thresholds used for cluster score and motif score\n",
    "cluster_score_thresholds='0.0'\n",
    "motif_score_threholds='0.0'\n",
    "\n",
    "# Run cbust custom function\n",
    "for cluster_buster_motif_filename in ${cluster_buster_motif_filenames} ; do\n",
    "    # Get motif name from Cluster-Buster filename:\n",
    "    #   - Keep basename only.\n",
    "    #   - Remove \".cb\" extension.\n",
    "    motif_name=\"${cluster_buster_motif_filename##*/}\"\n",
    "    motif_name=\"${motif_name%.cb}\"\n",
    "\n",
    "    for cluster_score_threshold in ${cluster_score_thresholds} ; do\n",
    "        for motif_score_threshold in ${motif_score_threholds} ; do\n",
    "            # Define Cluster-Buster output filename.\n",
    "            cbust_BED_output_file=\"${cbust_root_dir}/results/${motif_name}.c_${cluster_score_threshold}__m_${motif_score_threshold}.bed\"\n",
    "            \n",
    "            # Score sequences with Cluster-Buster with the current thresholds.\n",
    "            score_full_amplified_regions_with_cluster_buster \\\n",
    "                \"${cluster_buster_motif_filename}\" \\\n",
    "                \"${cbust_BED_output_file}\" \\\n",
    "                \"${cluster_score_threshold}\" \\\n",
    "                \"${motif_score_threshold}\"\n",
    "        done\n",
    "    done\n",
    "done"
   ]
  },
  {
   "cell_type": "code",
   "execution_count": null,
   "metadata": {},
   "outputs": [],
   "source": [
    "# Print number of CRMs and number of motif matches for each motif and different cluster and motif score threshold.\n",
    "awk \\\n",
    "    -F '\\t' \\\n",
    "    '\n",
    "    {\n",
    "        if ($11 == \"cluster\") {\n",
    "            cluster_counts[FILENAME] += 1; \n",
    "        }\n",
    "        \n",
    "        if ($11 == \"motif\") {\n",
    "            motif_counts[FILENAME] += 1; \n",
    "        }\n",
    "    }\n",
    "    END {\n",
    "        for (file_idx in cluster_counts) {\n",
    "            print file_idx \"\\tnumber of cluster\\t\" cluster_counts[file_idx];\n",
    "        }\n",
    "        \n",
    "        for (file_idx in motif_counts) {\n",
    "            print file_idx \"\\tnumber of motifs\\t\" motif_counts[file_idx];\n",
    "        }\n",
    "    }' \"${cbust_root_dir}/results\"/*.bed | sed \"s@${cbust_root_dir}/results/@@\" | sort -k 1,1V"
   ]
  },
  {
   "cell_type": "markdown",
   "metadata": {},
   "source": [
    "__Create file with sequence name and cluster score__"
   ]
  },
  {
   "cell_type": "code",
   "execution_count": 28,
   "metadata": {},
   "outputs": [],
   "source": [
    "for file in ${cbust_root_dir}/results/*.bed ; do\n",
    "    grep -v 'motif' $file | awk '{print $7 \"\\t\" $5}' > ${cbust_root_dir}/results/cluster_score_df/${file##*/}\n",
    "    done"
   ]
  },
  {
   "cell_type": "code",
   "execution_count": 17,
   "metadata": {},
   "outputs": [
    {
     "name": "stdout",
     "output_type": "stream",
     "text": [
      "chr1:19393640-19393830@@Human_restTopic11_346::chr1:19393640-19393830\t8.27\n",
      "chr13:54801156-54801346@@Human_restTopic11_57::chr13:54801156-54801346\t7.16\n",
      "chr15:68972395-68972585@@Human_restTopic11_1002::chr15:68972395-68972585\t7.3\n",
      "chr2:206563716-206563906@@Human_247::chr2:206563716-206563906\t7.51\n",
      "chr2:206563783-206563973@@Human_247::chr2:206563783-206563973\t7.56\n",
      "chr4:72461607-72461797@@Human_restTopic11_537::chr4:72461607-72461797\t8.11\n",
      "chr6:8814749-8814939@@Human_restTopic11_90::chr6:8814749-8814939\t23.3\n",
      "chr17:38934360-38934550@@Human_restTopic11_925::chr17:38934360-38934550\t7.11\n",
      "chr2:7151586-7151776@@Human_restTopic11_877::chr2:7151586-7151776\t7.23\n"
     ]
    }
   ],
   "source": []
  },
  {
   "cell_type": "code",
   "execution_count": null,
   "metadata": {},
   "outputs": [],
   "source": []
  }
 ],
 "metadata": {
  "kernelspec": {
   "display_name": "Bash 4.2.46 - r23i27n24",
   "language": "bash",
   "name": "rik_ssh_genius_r23i27n24_bash41"
  },
  "language_info": {
   "codemirror_mode": "shell",
   "file_extension": ".sh",
   "mimetype": "text/x-sh",
   "name": "bash"
  }
 },
 "nbformat": 4,
 "nbformat_minor": 4
}

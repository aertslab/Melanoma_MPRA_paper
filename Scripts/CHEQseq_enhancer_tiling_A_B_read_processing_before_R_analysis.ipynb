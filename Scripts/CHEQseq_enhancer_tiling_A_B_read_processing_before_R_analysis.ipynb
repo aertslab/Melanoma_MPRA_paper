{
 "cells": [
  {
   "cell_type": "markdown",
   "metadata": {},
   "source": [
    "# Process synthetic enhancers sequencing data"
   ]
  },
  {
   "cell_type": "code",
   "execution_count": null,
   "metadata": {},
   "outputs": [],
   "source": [
    "cd /staging/leuven/stg_00002/lcb/lcb_projects/CSE/counting"
   ]
  },
  {
   "cell_type": "markdown",
   "metadata": {},
   "source": [
    "## 00. Combine reads and 01. Fastqc"
   ]
  },
  {
   "cell_type": "code",
   "execution_count": null,
   "metadata": {},
   "outputs": [],
   "source": [
    "module load FastQC/0.11.8-Java-1.8.0_162\n",
    "# For group of samples\n",
    "cat 00.raw_reads/CHEQseq_synth_names.txt | while read line\n",
    "do\n",
    "# Path to the different runs\n",
    "    # Read 1 sequencing\n",
    "NextSeq500_190426=\"/staging/leuven/stg_00002/lcb/ngs_runs/NextSeq500_20190426/Demultiplexed/${line%Cheq*}*R1*\" # Zeynep and Ibrahim\n",
    "NovaSeq=\"/staging/leuven/stg_00002/lcb/ngs_runs/NovaSeq6000_20190627/Demultiplexed/${line%Cheq*}*R1*\" # Zeynep\n",
    "NextSeq500_190925=\"/staging/leuven/stg_00002/lcb/ngs_runs/NextSeq500_20190925/Demultiplexed/${line%Cheq*}*R1*\" # Tiling A & B\n",
    "NextSeq500_191010=\"/staging/leuven/stg_00002/lcb/ngs_runs/NextSeq500_20191010/Demultiplexed/${line%Cheq*}*R1*\" # Tiling A & B\n",
    "NextSeq500_191126=\"/staging/leuven/stg_00002/lcb/ngs_runs/NextSeq500_20191126/Demultiplexed/${line%Cheq*}*R1*\" # Tiling A, B & AB\n",
    "NovaSeq6000_200123=\"/staging/leuven/stg_00002/lcb/ngs_runs/NovaSeq6000_20200123/Demultiplexed/${line%Cheq*}*R1*\" # Zeynep, Ibrahim, Tiling A & B\n",
    "NovaSeq6000_210108=\"/staging/leuven/stg_00002/lcb/ngs_runs/NovaSeq6000_20210108/Demultiplexed/${line%Cheq*}*R1*\" # Tiling A & B\n",
    "\n",
    "    # Read 2 sequencing\n",
    "NextSeq500_190501=\"/staging/leuven/stg_00002/lcb/ngs_runs/NextSeq500_20190501/Demultiplexed/${line%Cheq*}*R2*\" # Zeynep and Ibrahim\n",
    "NextSeq500_190724=\"/staging/leuven/stg_00002/lcb/ngs_runs/NextSeq500_20190724/Demultiplexed/${line%Cheq*}*R2*\" # Zeynep, Tiling A & B\n",
    "\n",
    "    #Concatenate R2 reads and run fastqc\n",
    "# cat ${NextSeq500_190501} ${NextSeq500_190724} > 00.raw_reads/${line}_R2.fastq.gz\n",
    "# fastqc -t 10 00.raw_reads/${line}_R2.fastq.gz -o 01.fastqc\n",
    "\n",
    "    #Concatenate R1 reads and run fastqc\n",
    "Novaseq6000_200611=\"/staging/leuven/stg_00002/lcb/ngs_runs/NovaSeq6000_20200611/Demultiplexed/${line%Cheq*}*R1*\" # Liesbeth and Tiling A & B\n",
    "Novaseq6000_200616=\"/staging/leuven/stg_00002/lcb/ngs_runs/NovaSeq6000_20200616/Demultiplexed/${line%Cheq*}*R1*\" # Liesbeth and Tiling A & B\n",
    "Novaseq6000_200730=\"/staging/leuven/stg_00002/lcb/ngs_runs/NovaSeq6000_20200730/Demultiplexed/${line%Cheq*}*R1*\" # Tiling A & B\n",
    "Novaseq6000_201013=\"/staging/leuven/stg_00002/lcb/ngs_runs/NovaSeq6000_20201013/Demultiplexed/${line%Cheq*}*R1*\" # Liesbeth and Tiling A\n",
    "NovaSeq_201126=\"/staging/leuven/stg_00002/lcb/ngs_runs/NovaSeq6000_20201126/Demultiplexed/${line%CHEQ*}*R1*\" # Tiling A & B\n",
    "NovaSeq6000_210108=\"/staging/leuven/stg_00002/lcb/ngs_runs/NovaSeq6000_20210108/Demultiplexed/${line%Cheq*}*R1*\"\n",
    "\n",
    "cat ${Novaseq6000_200611} ${Novaseq6000_200616} ${Novaseq6000_200730} ${Novaseq6000_201013} ${NovaSeq_201126} ${NovaSeq6000_210108} > 00.raw_reads/${line}_R1.fastq.gz\n",
    "fastqc -t 10 00.raw_reads/${line}_R1.fastq.gz -o 01.fastqc\n",
    "done"
   ]
  },
  {
   "cell_type": "code",
   "execution_count": null,
   "metadata": {},
   "outputs": [],
   "source": [
    "# Total number of reads for R1 and R2 per sample\n",
    "cat 00.raw_reads/CHEQseq_synth_names.txt | while read line\n",
    "do\n",
    "echo -e \"Combined number of reads for ${line}: \" $(( $(zcat 00.raw_reads/${line}_R1.fastq.gz | wc -l) / 4 )) $(( $(zcat 00.raw_reads/${line}_R2.fastq.gz | wc -l) / 4 ))\n",
    "done"
   ]
  },
  {
   "cell_type": "markdown",
   "metadata": {},
   "source": [
    "## 02. Generate clean reads"
   ]
  },
  {
   "cell_type": "code",
   "execution_count": null,
   "metadata": {},
   "outputs": [],
   "source": [
    "module use /data/leuven/software/biomed/skylake_centos7/2018a/modules/all/\n",
    "module load SeqKit/0.10.2\n",
    "module load cutadapt/1.18-foss-2018a-Python-3.7.0\n",
    "start=`date +%s`\n",
    "cat 00.raw_reads/CHEQseq_synth_names.txt | while read line\n",
    "do\n",
    "    # Do cutadapt trimming on R2 reads and then reverse complement\n",
    "cutadapt -g GCGAATTAATTCGGGCCCCGGTCC...GATCGGCGCGCCTGC -e 0.15 -l 17 -m 17 -j 10 --discard-untrimmed \\\n",
    "         00.raw_reads/${line}_R2.fastq.gz | \\\n",
    "seqkit seq -r -p -o 02.cleaned_reads/${line}_R2.fastq.gz\n",
    "    # Do cutadapt trimming on R1 reads\n",
    "        # Adjust -e to 0.2 for the NovaSeq run because of low sequencing quality on 5 bases!\n",
    "cutadapt -g ACTCGAGCCGAGCAGGCGCGCCGATC...GGACCGG -e 0.2 -l 17 -m 17 -j 10 --discard-untrimmed \\\n",
    "         -o 02.cleaned_reads/${line}_R1.fastq.gz \\\n",
    "         00.raw_reads/${line}_R1.fastq.gz\n",
    "done\n",
    "end=`date +%s`\n",
    "echo $((end-start))"
   ]
  },
  {
   "cell_type": "code",
   "execution_count": null,
   "metadata": {},
   "outputs": [],
   "source": [
    "module load fastp/0.20.0-foss-2018a\n",
    "cat 00.raw_reads/CHEQseq_synth_names.txt | while read line\n",
    "do\n",
    "# Combine R1 and R2 then filter for Q30 reads\n",
    "zcat 02.cleaned_reads/${line}_R*.fastq.gz | \\\n",
    "fastp --stdin -e 30 -h /dev/null/fastp.html -j /dev/null/fastp.json -w 8 \\\n",
    "      -o 02.cleaned_reads/${line}_q30.fastq.gz\n",
    "done"
   ]
  },
  {
   "cell_type": "code",
   "execution_count": null,
   "metadata": {},
   "outputs": [],
   "source": [
    "# Total number of clean reads per sample\n",
    "cat 00.raw_reads/CHEQseq_synth_names.txt | while read line\n",
    "do\n",
    "echo -e \"Number of reads after Q30 filtering for ${line}: \" $(( $(zcat 02.cleaned_reads/${line}_q30.fastq.gz | wc -l) / 4 ))\n",
    "done"
   ]
  },
  {
   "cell_type": "markdown",
   "metadata": {},
   "source": [
    "## 03. Sequencing saturarion"
   ]
  },
  {
   "cell_type": "code",
   "execution_count": null,
   "metadata": {},
   "outputs": [],
   "source": [
    "# Extract DNA sequences from fastq\n",
    "cat 00.raw_reads/CHEQseq_synth_names.txt | while read line\n",
    "do\n",
    "zcat 02.cleaned_reads/${line}_q30.fastq.gz | sed -n '2~4p' > 03.sequencing_saturation/${line}_q30.txt\n",
    "done"
   ]
  },
  {
   "cell_type": "code",
   "execution_count": null,
   "metadata": {},
   "outputs": [],
   "source": [
    "# Subsample, count total and unique reads\n",
    "start=`date +%s`\n",
    "\n",
    "cat 00.raw_reads/CHEQseq_synth_names.txt | while read line\n",
    "do\n",
    "file=\"03.sequencing_saturation/${line}_q30.txt\"\n",
    "nreads=$(cat $file | wc -l)\n",
    " # Start by removing parallel instructions file\n",
    "rm 03.sequencing_saturation/parallel.txt\n",
    " # Remove any previoulsy created sat values for that file\n",
    "rm ${file%_*}_sat.txt\n",
    "    for i in $(seq 0 200000 $nreads)\n",
    "    do\n",
    "     # Print number of total and unique reads for every subsamples\n",
    "    echo \"echo $i \\$(shuf -n $(($i)) $file | sort | uniq | wc -l) >> ${file%_*}_sat.txt\" \\\n",
    "    >> 03.sequencing_saturation/parallel.txt\n",
    "    done\n",
    "cat 03.sequencing_saturation/parallel.txt | parallel -j 16\n",
    " # Put values in numerical order\n",
    "cat ${file%_*}_sat.txt | sort -g > ${file%_*}_satsort.txt && mv ${file%_*}_satsort.txt ${file%_*}_sat.txt\n",
    "done\n",
    "\n",
    "end=`date +%s`\n",
    "echo $((end-start))"
   ]
  },
  {
   "cell_type": "markdown",
   "metadata": {},
   "source": [
    "## 10. Make BC count matrix"
   ]
  },
  {
   "cell_type": "code",
   "execution_count": null,
   "metadata": {},
   "outputs": [],
   "source": [
    "# Generate BC count matrix for each samples\n",
    "parallel \\\n",
    "\"cat 03.sequencing_saturation/{}_q30.txt | sort | uniq -c | awk -F \\\" \\\" '{print \\$2\\\"\\t\\\"\\$1}' \\\n",
    "   > 10.bc_count/{}_count.txt\" ::: $(cat 00.raw_reads/CHEQseq_synth_names.txt)\n",
    "\n",
    "# Count number of unique BC per sample\n",
    "cat 00.raw_reads/CHEQseq_synth_names.txt | while read line\n",
    "do\n",
    "echo 10.bc_count/${line}_count.txt && cat 10.bc_count/${line}_count.txt | wc -l\n",
    "done"
   ]
  },
  {
   "cell_type": "code",
   "execution_count": null,
   "metadata": {},
   "outputs": [],
   "source": [
    "# Assign BC to enhancers\n",
    "    # List of BC-Enhancer files \n",
    "OLSA=\"/staging/leuven/stg_00002/lcb/dwmax/documents/aertslab/CH1/CHEQ-seq_OLS_DavidTileA/20.coupling/CH1__b87bb6__CheqSeq_OLS_David_Pool_A_enhancer-barcode_S2_enhancer_barcode_coupled_wo_empty_vectors_bc_rc.tsv.gz\"\n",
    "OLSB=\"/staging/leuven/stg_00002/lcb/dwmax/documents/aertslab/CH1/CHEQ-seq_OLS_DavidTileB/20.coupling/CH1__fb10ad__CheqSeq_OLS_David_Pool_B_enhancer-barcode_S5_enhancer_barcode_coupled_wo_empty_vectors_bc_rc.tsv.gz\"\n",
    "OLSAB=\"/staging/leuven/stg_00002/lcb/lcb_projects/CSE/OLS_AB_BC-tile_assignment/20.coupling/CSE__8987a9__CheqSeq_enhancer-barcode_pool_OLS_AB_S1_readID_barcode_enhancerA_enhancerB_table.tsv.gz\"\n",
    "OLSZey=\"/staging/leuven/stg_00002/lcb/dwmax/documents/aertslab/CH1/CHEQ-seq_OLS_Zeynep/20.coupling/CH1__5b4298__CheqSeq_OLS_Zeynep_enhancer-barcode_S4_enhancer_barcode_coupled_wo_empty_vectors_bc_rc.tsv.gz\"\n",
    "OLSIbr=\"/staging/leuven/stg_00002/lcb/dwmax/documents/aertslab/CH1/CHEQ-seq_OLS_Ibrahim/20.coupling/CH1__8395e4__CheqSeq_OLS_Ibrahim_enhancer-barcode_S3_enhancer_barcode_coupled_wo_empty_vectors_bc_rc.tsv.gz\"\n",
    "\n",
    "    # OLS A samples\n",
    "parallel \\\n",
    "\"awk -F '\\t' -v OFS='\\t' 'FNR==NR{a[\\$3]=\\$2 FS \\$3;next}{ print a[\\$1],\\$2}' \\\n",
    "   <( zcat ${OLSA} ) \\\n",
    "   <( cat 10.bc_count/{}_count.txt ) \\\n",
    "   | awk -F '\\t' '{if (\\$1) print \\$0;}' \\\n",
    "   > 10.bc_count/{}_count_final.txt\" ::: $(grep 'OLS_A' 00.raw_reads/CHEQseq_synth_names.txt)\n",
    "   \n",
    "   # OLS B samples\n",
    "parallel \\\n",
    "\"awk -F '\\t' -v OFS='\\t' 'FNR==NR{a[\\$3]=\\$2 FS \\$3;next}{ print a[\\$1],\\$2}' \\\n",
    "   <( zcat ${OLSB} ) \\\n",
    "   <( cat 10.bc_count/{}_count.txt ) \\\n",
    "   | awk -F '\\t' '{if (\\$1) print \\$0;}' \\\n",
    "   > 10.bc_count/{}_count_final.txt\" ::: $(grep 'OLS_B' 00.raw_reads/CHEQseq_synth_names.txt)   \n",
    "   \n",
    "   # OLS AB samples\n",
    "# parallel \\\n",
    "# \"awk -F '\\t' -v OFS='\\t' 'FNR==NR{a[\\$2]=\\$3\\\"__\\\"\\$4 FS \\$2;next}{ print a[\\$1],\\$2}' \\\n",
    "#    <( zcat ${OLSAB} ) \\\n",
    "#    <( cat 10.bc_count/{}_count.txt ) \\\n",
    "#    | awk -F '\\t' '{if (\\$1) print \\$0;}' \\\n",
    "#    > 10.bc_count/{}_count_final.txt\" ::: $(grep '_AB' 00.raw_reads/CHEQseq_synth_names.txt)     \n",
    "  \n",
    "   # OLS Zeynep samples\n",
    "# parallel \\\n",
    "# \"awk -F '\\t' -v OFS='\\t' 'FNR==NR{a[\\$3]=\\$2 FS \\$3;next}{ print a[\\$1],\\$2}' \\\n",
    "#    <( zcat ${OLSZey} ) \\\n",
    "#    <( cat 10.bc_count/{}_count.txt ) \\\n",
    "#    | awk -F '\\t' '{if (\\$1) print \\$0;}' \\\n",
    "#    > 10.bc_count/{}_count_final.txt\" ::: $(grep '_Zeynep' 00.raw_reads/CHEQseq_synth_names.txt)   \n",
    "   \n",
    "   # OLS Ibrahim samples\n",
    "# parallel \\\n",
    "# \"awk -F '\\t' -v OFS='\\t' 'FNR==NR{a[\\$3]=\\$2 FS \\$3;next}{ print a[\\$1],\\$2}' \\\n",
    "#    <( zcat ${OLSIbr} ) \\\n",
    "#    <( cat 10.bc_count/{}_count.txt ) \\\n",
    "#    | awk -F '\\t' '{if (\\$1) print \\$0;}' \\\n",
    "#    > 10.bc_count/{}_count_final.txt\" ::: $(grep '_Ibrahim' 00.raw_reads/CHEQseq_synth_names.txt)  "
   ]
  },
  {
   "cell_type": "code",
   "execution_count": null,
   "metadata": {},
   "outputs": [],
   "source": [
    "# Count number of BC associated to an enhancer\n",
    "cat 00.raw_reads/CHEQseq_synth_names.txt | while read line\n",
    "do\n",
    "echo -e \"${line}\\t$(cat 10.bc_count/${line}_count_final.txt | wc -l)\"\n",
    "done"
   ]
  },
  {
   "cell_type": "code",
   "execution_count": null,
   "metadata": {},
   "outputs": [],
   "source": [
    "# Coverage and Median number of BC per tile\n",
    "cat 00.raw_reads/CHEQseq_synth_names.txt | while read line\n",
    "do\n",
    "file=\"10.bc_count/${line}_count_final.txt\"\n",
    "middle=$(($(awk '{print $1}' $file | sort | uniq -c | wc -l)/2))\n",
    "echo $line\n",
    "awk '{print $1}' $file | sort | uniq -c | wc -l\n",
    "awk '{print $1}' $file | sort | uniq -c | awk '{print $1}' | sort -g | sed -n ${middle}p\n",
    "done"
   ]
  },
  {
   "cell_type": "code",
   "execution_count": null,
   "metadata": {},
   "outputs": [],
   "source": [
    "# Median number of reads per BC\n",
    "cat 00.raw_reads/CHEQseq_synth_names.txt | while read line\n",
    "do\n",
    "file=\"10.bc_count/${line}_count_final.txt\"\n",
    "middle=$(($(cat $file | wc -l)/2))\n",
    "echo ${line}\n",
    "awk '{print $NF}' $file | sort -g | sed -n ${middle}p\n",
    "done"
   ]
  },
  {
   "cell_type": "code",
   "execution_count": null,
   "metadata": {},
   "outputs": [],
   "source": [
    "zcat /staging/leuven/stg_00002/lcb/dwmax/documents/aertslab/CH1/CHEQ-seq_OLS_DavidTileA/20.coupling/CH1__b87bb6__CheqSeq_OLS_David_Pool_A_enhancer-barcode_S2_enhancer_barcode_coupled_wo_empty_vectors_bc_rc.tsv.gz | head"
   ]
  },
  {
   "cell_type": "code",
   "execution_count": null,
   "metadata": {},
   "outputs": [],
   "source": []
  }
 ],
 "metadata": {
  "kernelspec": {
   "display_name": "Bash 4.2.46",
   "language": "bash",
   "name": "bash4246"
  },
  "language_info": {
   "codemirror_mode": "shell",
   "file_extension": ".sh",
   "mimetype": "text/x-sh",
   "name": "bash"
  }
 },
 "nbformat": 4,
 "nbformat_minor": 4
}

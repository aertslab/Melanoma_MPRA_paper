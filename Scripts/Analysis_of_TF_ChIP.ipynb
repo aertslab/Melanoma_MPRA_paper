{
 "cells": [
  {
   "cell_type": "markdown",
   "id": "1235a4bd-6fda-4b48-b9c9-83776c920280",
   "metadata": {},
   "source": [
    "## ChIP-seq peak quantification for CHEQseq regions"
   ]
  },
  {
   "cell_type": "code",
   "execution_count": 1,
   "id": "031e36ba-c844-4965-a9f0-99595ebf49e8",
   "metadata": {},
   "outputs": [],
   "source": [
    "cd /staging/leuven/stg_00002/lcb/lcb_projects/CH1/H3K27Ac-ATAC_quantification"
   ]
  },
  {
   "cell_type": "markdown",
   "id": "ebd34365-bd14-4c0f-9e77-0b8fd58bccec",
   "metadata": {},
   "source": [
    "### Normalize ChIP-seq signal"
   ]
  },
  {
   "cell_type": "code",
   "execution_count": null,
   "id": "373e8f84-9764-48e1-aac8-678315a7f411",
   "metadata": {},
   "outputs": [],
   "source": [
    "module load deepTools/3.3.1-foss-2018a-Python-3.7.4\n",
    "\n",
    "# MITF\n",
    "bamCoverage -b /staging/leuven/stg_00002/lcb/lcb_projects/CH1/H3K27Ac-ATAC_quantification/MITF_CHIPseq__SRR1594290_rep1.minMQ4.sorted.bam \\\n",
    "            -o /staging/leuven/stg_00002/lcb/lcb_projects/CH1/H3K27Ac-ATAC_quantification/MITF_CHIPseq__SRR1594290_rep1.minMQ4.sorted_CPM.bw \\\n",
    "            --normalizeUsing CPM --binSize 1 -p 10\n",
    "\n",
    "# SOX10\n",
    "bamCoverage -b /staging/leuven/stg_00002/lcb/lminn/Misc/SOX10_CHIPseq__SRR1594291_rep1.minMQ4.sorted.bam \\\n",
    "            -o /staging/leuven/stg_00002/lcb/lcb_projects/CH1/H3K27Ac-ATAC_quantification/SOX10_CHIPseq__SRR1594291_rep1.minMQ4.sorted_CPM.bw \\\n",
    "            --normalizeUsing CPM --binSize 1 -p 10\n",
    "# JUNB       \n",
    "bamCoverage -b /staging/leuven/stg_00002/lcb/zkalender/Runs/NovaSeq6000_20200730/10.BAM/10.HG19/MM099_JunB.sorted.dedup.q30.bam \\\n",
    "            -o /staging/leuven/stg_00002/lcb/lcb_projects/CH1/H3K27Ac-ATAC_quantification/MM099_JunB.sorted.dedup.q30_CPM.bw \\\n",
    "            --normalizeUsing CPM --binSize 1 -p 10\n",
    "\n",
    "# JUN\n",
    "bamCoverage -b /staging/leuven/stg_00002/lcb/zkalender/Runs/NovaSeq6000_20200730/10.BAM/10.HG19/MM099_cJun.sorted.dedup.q30.bam \\\n",
    "            -o /staging/leuven/stg_00002/lcb/lcb_projects/CH1/H3K27Ac-ATAC_quantification/MM099_cJun.sorted.dedup.q30_CPM.bw \\\n",
    "            --normalizeUsing CPM --binSize 1 -p 10        "
   ]
  },
  {
   "cell_type": "markdown",
   "id": "a05663bd-1f82-409a-9898-d068f4780e6b",
   "metadata": {},
   "source": [
    "### TFs scores for large enhancers"
   ]
  },
  {
   "cell_type": "code",
   "execution_count": 4,
   "id": "a2595de9-98ef-4cc6-805c-9d1b07f0399a",
   "metadata": {},
   "outputs": [],
   "source": [
    "module load Kent_tools/20200928-linux.x86_64\n",
    "# MITF\n",
    "BED=/staging/leuven/stg_00002/lcb/lcb_projects/CH1/H3K27Ac-ATAC_quantification/H3K27Ac_regions_CHEQseq.bed\n",
    "Ac_bw=/staging/leuven/stg_00002/lcb/lcb_projects/CH1/H3K27Ac-ATAC_quantification/MITF_CHIPseq__SRR1594290_rep1.minMQ4.sorted_CPM.bw\n",
    "OUT_BED=MITF_score_long_region.bed\n",
    "\n",
    "bigWigAverageOverBed $Ac_bw $BED $OUT_BED"
   ]
  },
  {
   "cell_type": "code",
   "execution_count": 5,
   "id": "cb0660cb-782b-48bb-b2ba-1dd3cf32ca2c",
   "metadata": {},
   "outputs": [],
   "source": [
    "# SOX10\n",
    "BED=/staging/leuven/stg_00002/lcb/lcb_projects/CH1/H3K27Ac-ATAC_quantification/H3K27Ac_regions_CHEQseq.bed\n",
    "Ac_bw=/staging/leuven/stg_00002/lcb/lcb_projects/CH1/H3K27Ac-ATAC_quantification/SOX10_CHIPseq__SRR1594291_rep1.minMQ4.sorted_CPM.bw\n",
    "OUT_BED=SOX10_score_long_region.bed\n",
    "\n",
    "bigWigAverageOverBed $Ac_bw $BED $OUT_BED"
   ]
  },
  {
   "cell_type": "code",
   "execution_count": 6,
   "id": "df98d004-b0b5-439b-994f-9024abafc69f",
   "metadata": {},
   "outputs": [],
   "source": [
    "# JUNB\n",
    "BED=/staging/leuven/stg_00002/lcb/lcb_projects/CH1/H3K27Ac-ATAC_quantification/H3K27Ac_regions_CHEQseq.bed\n",
    "Ac_bw=/staging/leuven/stg_00002/lcb/lcb_projects/CH1/H3K27Ac-ATAC_quantification/MM099_JunB.sorted.dedup.q30_CPM.bw\n",
    "OUT_BED=JunB_score_long_region.bed\n",
    "\n",
    "bigWigAverageOverBed $Ac_bw $BED $OUT_BED"
   ]
  },
  {
   "cell_type": "code",
   "execution_count": 7,
   "id": "003b1101-740f-48c1-aa71-1650b8f807cc",
   "metadata": {},
   "outputs": [],
   "source": [
    "# JUN\n",
    "BED=/staging/leuven/stg_00002/lcb/lcb_projects/CH1/H3K27Ac-ATAC_quantification/H3K27Ac_regions_CHEQseq.bed\n",
    "Ac_bw=/staging/leuven/stg_00002/lcb/lcb_projects/CH1/H3K27Ac-ATAC_quantification/MM099_cJun.sorted.dedup.q30_CPM.bw\n",
    "OUT_BED=cJun_score_long_region.bed\n",
    "\n",
    "bigWigAverageOverBed $Ac_bw $BED $OUT_BED"
   ]
  },
  {
   "cell_type": "markdown",
   "id": "f0efcd58-543c-4827-861b-ef18b82a6619",
   "metadata": {},
   "source": [
    "### Heatmap TF on all differentially accessible regions"
   ]
  },
  {
   "cell_type": "code",
   "execution_count": null,
   "id": "2641329c-33e1-4f7b-98c1-38bbd37a582b",
   "metadata": {},
   "outputs": [],
   "source": [
    "module load deepTools\n",
    "cd /staging/leuven/stg_00002/lcb/lcb_projects/CH1/H3K27Ac-ATAC_quantification/carrot_plots\n",
    "computeMatrix scale-regions \\\n",
    "-R /staging/leuven/stg_00002/lcb/lcb_projects/CH1/H3K27Ac-ATAC_quantification/ChIP_H3K27ac_DESeq2_11.samples.topINVASIVE.adjp0.05log2FC1.intersectMACS2q0.05nomodel.bed \\\n",
    "/staging/leuven/stg_00002/lcb/lcb_projects/CH1/H3K27Ac-ATAC_quantification/ChIP_H3K27ac_DESeq2_11.samples.topPROLIF.adjp0.05log2FC1.intersectMACS2q0.05nomodel.bed \\\n",
    "-S /staging/leuven/stg_00002/lcb/lcb_projects/CH1/H3K27Ac-ATAC_quantification/MITF_CHIPseq__SRR1594290_rep1.minMQ4.sorted_CPM.bw \\\n",
    "/staging/leuven/stg_00002/lcb/lcb_projects/CH1/H3K27Ac-ATAC_quantification/SOX10_CHIPseq__SRR1594291_rep1.minMQ4.sorted_CPM.bw \\\n",
    "/staging/leuven/stg_00002/lcb/lcb_projects/CH1/H3K27Ac-ATAC_quantification/MM099_cJun.sorted.dedup.q30_CPM.bw \\\n",
    "/staging/leuven/stg_00002/lcb/lcb_projects/CH1/H3K27Ac-ATAC_quantification/MM099_JunB.sorted.dedup.q30_CPM.bw \\\n",
    "--samplesLabel MITF SOX10 JUN JUNB  \\\n",
    "--missingDataAsZero \\\n",
    "--sortRegions descend \\\n",
    "--sortUsing mean \\\n",
    "-p 20 \\\n",
    "-o TF_dif_regions_MEL-MES"
   ]
  },
  {
   "cell_type": "code",
   "execution_count": null,
   "id": "a1ccfa00-1034-469b-bcba-4a7be50ee4af",
   "metadata": {},
   "outputs": [],
   "source": [
    "plotHeatmap \\\n",
    "--matrixFile TF_dif_regions_MEL-MES \\\n",
    "--regionsLabel MES MEL \\\n",
    "--sortUsing mean \\\n",
    "--colorMap Oranges \\\n",
    "--dpi 800 \\\n",
    "--outFileName TF_dif_regions_MEL-MES.pdf"
   ]
  }
 ],
 "metadata": {
  "kernelspec": {
   "display_name": "Bash 4.2.46",
   "language": "bash",
   "name": "bash4246"
  },
  "language_info": {
   "codemirror_mode": "shell",
   "file_extension": ".sh",
   "mimetype": "text/x-sh",
   "name": "bash"
  }
 },
 "nbformat": 4,
 "nbformat_minor": 5
}
